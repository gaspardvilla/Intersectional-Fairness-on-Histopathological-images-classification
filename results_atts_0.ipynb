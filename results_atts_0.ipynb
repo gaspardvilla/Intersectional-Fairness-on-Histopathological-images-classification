{
 "cells": [
  {
   "cell_type": "markdown",
   "metadata": {},
   "source": [
    "# Imports and initialization of general parameters\n",
    "***"
   ]
  },
  {
   "cell_type": "code",
   "execution_count": 9,
   "metadata": {},
   "outputs": [
    {
     "name": "stdout",
     "output_type": "stream",
     "text": [
      "The autoreload extension is already loaded. To reload it, use:\n",
      "  %reload_ext autoreload\n"
     ]
    }
   ],
   "source": [
    "from helpers.pareto_fairness import compute_pareto_metrics\n",
    "from config.info import AGES, RACES, GENDERS, COMBS_BASELINE, COMBS_FOULDS, COMBS_MARTINEZ\n",
    "from visualization.subgroup_distribution import plot_dist\n",
    "from dataprocess.dataloader import load_data\n",
    "from dataprocess.dataclass import Data\n",
    "from config.get_args import get_args\n",
    "from sklearn.metrics import mean_squared_error\n",
    "import plotly.express as px\n",
    "import plotly.graph_objects as go\n",
    "import plotly.figure_factory as ff\n",
    "from lightning import seed_everything\n",
    "from plotly.subplots import make_subplots\n",
    "from helpers.init import init\n",
    "import numpy as np\n",
    "import argparse\n",
    "import pandas as pd\n",
    "import random\n",
    "import torch.nn as nn\n",
    "import torch\n",
    "import torchmetrics as tm\n",
    "import pickle\n",
    "\n",
    "loss_fct = nn.CrossEntropyLoss()\n",
    "protected_atts = ['age_', 'race_', 'gender_']\n",
    "\n",
    "\n",
    "# Auto reload part\n",
    "%load_ext autoreload\n",
    "%autoreload 2"
   ]
  },
  {
   "cell_type": "code",
   "execution_count": 45,
   "metadata": {},
   "outputs": [],
   "source": [
    "def plot_results(df_b : pd.DataFrame, df_f : pd.DataFrame, df_d : pd.DataFrame, df_m : pd.DataFrame, filename : str):\n",
    "    # Initialization\n",
    "    df_all = pd.concat([df_b, df_f, df_d, df_m])\n",
    "    task_cc = 'cancer_classification'\n",
    "    fig = make_subplots(rows = 2, cols = 1, vertical_spacing = 0.2,\n",
    "                        subplot_titles = ('Accuracy', 'MMPF_size'))\n",
    "    \n",
    "    # Traces\n",
    "    acc = px.bar(df_all[df_all.task == task_cc], x = 'cancer', y = ['Accuracy'], color = 'model',\n",
    "                color_discrete_sequence = ['rgb(170, 220, 225)', 'rgb(80, 135, 180)', 'rgb(50, 100, 170)', 'rgb(25, 35, 90)'], text_auto = '.3f')\n",
    "    # score_0 = px.bar(df_all[df_all.task == task_cc], x = 'cancer', y = ['F1-score_0'], color = 'model',\n",
    "    #             color_discrete_sequence = ['rgb(25, 35, 90)', 'rgb(80, 135, 180)'], text_auto = '.3f').update_traces(showlegend = False)\n",
    "    # score_1 = px.bar(df_all[df_all.task == task_cc], x = 'cancer', y = ['F1-score_1'], color = 'model',\n",
    "    #             color_discrete_sequence = ['rgb(25, 35, 90)', 'rgb(80, 135, 180)'], text_auto = '.3f').update_traces(showlegend = False)\n",
    "    mmpf = px.bar(df_all[df_all.task == task_cc], x = 'cancer', y = ['MMPF_size'], color = 'model',\n",
    "                color_discrete_sequence = ['rgb(170, 220, 225)', 'rgb(80, 135, 180)', 'rgb(50, 100, 170)', 'rgb(25, 35, 90)'], text_auto = '.3f').update_traces(showlegend = False)\n",
    "\n",
    "    # Update the figure\n",
    "    for t in range(len(acc['data'])): fig.add_trace(acc['data'][t], row = 1, col = 1)\n",
    "    # for t in range(len(score_0['data'])): fig.add_trace(score_0['data'][t], row = 2, col = 1)\n",
    "    # for t in range(len(score_1['data'])): fig.add_trace(score_1['data'][t], row = 3, col = 1)\n",
    "    for t in range(len(mmpf['data'])): fig.add_trace(mmpf['data'][t], row = 2, col = 1)\n",
    "    fig.update_layout(height = 600, width = 1200, \n",
    "                    template = 'none',\n",
    "                    # xaxis = {'title': 'Cancer'},\n",
    "                    yaxis = {'title': 'Values [no unit]'},\n",
    "                    # xaxis2 = {'title': 'Cancer'},\n",
    "                    yaxis2 = {'title': 'Values [no unit]'},\n",
    "                    # xaxis3 = {'title': 'Cancer'},\n",
    "                    yaxis3 = {'title': 'Values [no unit]'},\n",
    "                    # xaxis4 = {'title': 'Cancer'},\n",
    "                    yaxis4 = {'title': 'Values [no unit]'})\n",
    "    fig.update_layout(barmode = 'group', bargap = 0.3, bargroupgap = 0.1)\n",
    "    fig.write_image(filename)\n",
    "    fig.show()"
   ]
  },
  {
   "cell_type": "markdown",
   "metadata": {},
   "source": [
    "# Baseline\n",
    "***"
   ]
  },
  {
   "cell_type": "code",
   "execution_count": 11,
   "metadata": {},
   "outputs": [],
   "source": [
    "def keep_best(df100 : pd.DataFrame, df1000 : pd.DataFrame):\n",
    "    # Check the match between the cancer\n",
    "    cs = [c for c in df100.cancer.to_list() if c in df1000.cancer.to_list()]\n",
    "    df100.set_index('cancer', drop = False, inplace = True)\n",
    "    df1000.set_index('cancer', drop = False, inplace = True)\n",
    "    df = df100[df100.cancer.isin(cs)].copy()\n",
    "    df['ID'] = 100\n",
    "    \n",
    "    # Check the best MMPF_size value between df100 and df1000, and add it to a new df\n",
    "    for c in cs:\n",
    "        \n",
    "        # Compare the values \n",
    "        v1 = df100[df100.cancer == c]['MMPF_size'][0]\n",
    "        v2 = df1000[df1000.cancer == c]['MMPF_size'][0]\n",
    "        if v2 <= v1:\n",
    "            df.loc[c, 'Accuracy'] = df1000[df1000.cancer == c]['Accuracy'][0]\n",
    "            df.loc[c, 'F1-score_0'] = df1000[df1000.cancer == c]['F1-score_0'][0]\n",
    "            df.loc[c, 'F1-score_1'] = df1000[df1000.cancer == c]['F1-score_1'][0]\n",
    "            df.loc[c, 'MMPF_size'] = df1000[df1000.cancer == c]['MMPF_size'][0]\n",
    "            df.loc[c, 'ID'] = 1000\n",
    "    return df\n",
    "\n",
    "def select_best_test(df_val, df100, df1000):\n",
    "    # Copy the df\n",
    "    cs = [c for c in df100.cancer.to_list() if c in df1000.cancer.to_list()]\n",
    "    df100.set_index('cancer', drop = False, inplace = True)\n",
    "    df1000.set_index('cancer', drop = False, inplace = True)\n",
    "    df = df_val.copy()\n",
    "\n",
    "    # Select the best inside the test df depending of the df val\n",
    "    for c in cs:\n",
    "        \n",
    "        # Check which ID is the best validation MMPF value\n",
    "        if df.loc[c, 'ID'] == 100:\n",
    "            df.loc[c, 'Accuracy'] = df100[df100.cancer == c]['Accuracy'][0]\n",
    "            df.loc[c, 'F1-score_0'] = df100[df100.cancer == c]['F1-score_0'][0]\n",
    "            df.loc[c, 'F1-score_1'] = df100[df100.cancer == c]['F1-score_1'][0]\n",
    "            df.loc[c, 'MMPF_size'] = df100[df100.cancer == c]['MMPF_size'][0]\n",
    "        else:\n",
    "            df.loc[c, 'Accuracy'] = df1000[df1000.cancer == c]['Accuracy'][0]\n",
    "            df.loc[c, 'F1-score_0'] = df1000[df1000.cancer == c]['F1-score_0'][0]\n",
    "            df.loc[c, 'F1-score_1'] = df1000[df1000.cancer == c]['F1-score_1'][0]\n",
    "            df.loc[c, 'MMPF_size'] = df1000[df1000.cancer == c]['MMPF_size'][0]\n",
    "            \n",
    "    return df"
   ]
  },
  {
   "cell_type": "code",
   "execution_count": 50,
   "metadata": {},
   "outputs": [
    {
     "name": "stdout",
     "output_type": "stream",
     "text": [
      "['cancer_classification', 'kich_kirc_FS']\n",
      "['cancer_classification', 'kich_kirc_PM']\n",
      "['cancer_classification', 'kich_kirp_FS']\n",
      "['cancer_classification', 'kich_kirp_PM']\n",
      "['cancer_classification', 'kirc_kirp_FS']\n",
      "['cancer_classification', 'kirc_kirp_PM']\n",
      "['cancer_classification', 'luad_lusc_FS']\n",
      "['cancer_classification', 'luad_lusc_PM']\n",
      "['tumor_detection', 'brca']\n",
      "['tumor_detection', 'coad']\n",
      "['tumor_detection', 'kich']\n",
      "['tumor_detection', 'kirc']\n",
      "['tumor_detection', 'kirp']\n",
      "['tumor_detection', 'luad']\n",
      "['tumor_detection', 'lusc']\n",
      "['tumor_detection', 'read']\n"
     ]
    }
   ],
   "source": [
    "def check_results_baseline(task : str, \n",
    "                           cancer : str, \n",
    "                           df : pd.DataFrame,\n",
    "                           set_ : str, ID : int):\n",
    "    # Initialization\n",
    "    sub_dict = {'task' : [task], 'cancer' : [cancer]}\n",
    "    \n",
    "    # Extract the results pkl files\n",
    "    preds_path = f'results/preds/run_{ID}/add_protected_atts_0/Baseline'\n",
    "    results = pd.read_pickle(preds_path + f'/{task}/{cancer}/best_results.pkl')\n",
    "    \n",
    "    # Compute the metrics\n",
    "    # Accuracy \n",
    "    sub_dict['Accuracy'] = tm.classification.BinaryAccuracy()(torch.Tensor(results.pred), torch.Tensor(results.label)).item()\n",
    "    \n",
    "    # F1-score\n",
    "    # sub_dict['F1-score'] = tm.classification.BinaryF1Score()(torch.Tensor(results.pred), torch.Tensor(results.label)).item()\n",
    "    f1_scores = tm.classification.MulticlassF1Score(num_classes = 2, average = None)(torch.Tensor(results.pred), torch.Tensor(results.label))\n",
    "    sub_dict['F1-score_0'] = f1_scores[0].item()\n",
    "    sub_dict['F1-score_1'] = f1_scores[1].item()\n",
    "    \n",
    "    # MMPF_size\n",
    "    mmpf_metrics = compute_pareto_metrics(results, protected_atts)\n",
    "    sub_dict['MMPF_size'] = [mmpf_metrics[f'{set_}MMPF_size_set_2']]\n",
    "    \n",
    "    # Return the updated data frame\n",
    "    if df.empty: df = pd.DataFrame(data = sub_dict)\n",
    "    else: df = pd.concat([df, pd.DataFrame(data = sub_dict)])\n",
    "    return df\n",
    "\n",
    "# Initialization\n",
    "cols = ['task', 'cancer', 'Accuracy', 'F1-score_0', 'F1-score_1', 'MMPF_size']\n",
    "df_baseline = pd.DataFrame(columns = cols)\n",
    "\n",
    "# Loop on the combinations for baseline\n",
    "for comb in COMBS_BASELINE[2:]:\n",
    "    # Track\n",
    "    print(comb)\n",
    "    \n",
    "    # Extract combinations\n",
    "    task = comb[0]\n",
    "    cancer = comb[1]\n",
    "    \n",
    "    # Get the metrics - test\n",
    "    df_baseline = check_results_baseline(task, cancer, df_baseline, 'test_', 1000)\n",
    "df_baseline['model'] = 'Baseline'\n",
    "\n",
    "# Plot\n",
    "# plot_results_baseline(df_baseline, 'images/results_baseline.eps')"
   ]
  },
  {
   "cell_type": "code",
   "execution_count": 51,
   "metadata": {},
   "outputs": [
    {
     "data": {
      "text/html": [
       "<div>\n",
       "<style scoped>\n",
       "    .dataframe tbody tr th:only-of-type {\n",
       "        vertical-align: middle;\n",
       "    }\n",
       "\n",
       "    .dataframe tbody tr th {\n",
       "        vertical-align: top;\n",
       "    }\n",
       "\n",
       "    .dataframe thead th {\n",
       "        text-align: right;\n",
       "    }\n",
       "</style>\n",
       "<table border=\"1\" class=\"dataframe\">\n",
       "  <thead>\n",
       "    <tr style=\"text-align: right;\">\n",
       "      <th></th>\n",
       "      <th>task</th>\n",
       "      <th>cancer</th>\n",
       "      <th>Accuracy</th>\n",
       "      <th>F1-score_0</th>\n",
       "      <th>F1-score_1</th>\n",
       "      <th>MMPF_size</th>\n",
       "      <th>model</th>\n",
       "    </tr>\n",
       "  </thead>\n",
       "  <tbody>\n",
       "    <tr>\n",
       "      <th>0</th>\n",
       "      <td>cancer_classification</td>\n",
       "      <td>kich_kirc_FS</td>\n",
       "      <td>0.971831</td>\n",
       "      <td>0.888889</td>\n",
       "      <td>0.983871</td>\n",
       "      <td>0.467143</td>\n",
       "      <td>Baseline</td>\n",
       "    </tr>\n",
       "    <tr>\n",
       "      <th>0</th>\n",
       "      <td>cancer_classification</td>\n",
       "      <td>kich_kirc_PM</td>\n",
       "      <td>0.961661</td>\n",
       "      <td>0.899160</td>\n",
       "      <td>0.976331</td>\n",
       "      <td>0.353895</td>\n",
       "      <td>Baseline</td>\n",
       "    </tr>\n",
       "    <tr>\n",
       "      <th>0</th>\n",
       "      <td>cancer_classification</td>\n",
       "      <td>kich_kirp_FS</td>\n",
       "      <td>0.977956</td>\n",
       "      <td>0.962457</td>\n",
       "      <td>0.984397</td>\n",
       "      <td>0.676320</td>\n",
       "      <td>Baseline</td>\n",
       "    </tr>\n",
       "    <tr>\n",
       "      <th>0</th>\n",
       "      <td>cancer_classification</td>\n",
       "      <td>kich_kirp_PM</td>\n",
       "      <td>0.992288</td>\n",
       "      <td>0.986175</td>\n",
       "      <td>0.994652</td>\n",
       "      <td>0.328728</td>\n",
       "      <td>Baseline</td>\n",
       "    </tr>\n",
       "    <tr>\n",
       "      <th>0</th>\n",
       "      <td>cancer_classification</td>\n",
       "      <td>kirc_kirp_FS</td>\n",
       "      <td>0.987324</td>\n",
       "      <td>0.991509</td>\n",
       "      <td>0.975000</td>\n",
       "      <td>0.364493</td>\n",
       "      <td>Baseline</td>\n",
       "    </tr>\n",
       "    <tr>\n",
       "      <th>0</th>\n",
       "      <td>cancer_classification</td>\n",
       "      <td>kirc_kirp_PM</td>\n",
       "      <td>0.988764</td>\n",
       "      <td>0.991254</td>\n",
       "      <td>0.984293</td>\n",
       "      <td>0.387133</td>\n",
       "      <td>Baseline</td>\n",
       "    </tr>\n",
       "    <tr>\n",
       "      <th>0</th>\n",
       "      <td>cancer_classification</td>\n",
       "      <td>luad_lusc_FS</td>\n",
       "      <td>0.929032</td>\n",
       "      <td>0.933434</td>\n",
       "      <td>0.924007</td>\n",
       "      <td>0.462914</td>\n",
       "      <td>Baseline</td>\n",
       "    </tr>\n",
       "    <tr>\n",
       "      <th>0</th>\n",
       "      <td>cancer_classification</td>\n",
       "      <td>luad_lusc_PM</td>\n",
       "      <td>0.953984</td>\n",
       "      <td>0.958877</td>\n",
       "      <td>0.947771</td>\n",
       "      <td>0.493846</td>\n",
       "      <td>Baseline</td>\n",
       "    </tr>\n",
       "    <tr>\n",
       "      <th>0</th>\n",
       "      <td>tumor_detection</td>\n",
       "      <td>brca</td>\n",
       "      <td>0.996538</td>\n",
       "      <td>0.992021</td>\n",
       "      <td>0.997789</td>\n",
       "      <td>0.344031</td>\n",
       "      <td>Baseline</td>\n",
       "    </tr>\n",
       "    <tr>\n",
       "      <th>0</th>\n",
       "      <td>tumor_detection</td>\n",
       "      <td>coad</td>\n",
       "      <td>0.998106</td>\n",
       "      <td>0.990291</td>\n",
       "      <td>0.998951</td>\n",
       "      <td>0.396591</td>\n",
       "      <td>Baseline</td>\n",
       "    </tr>\n",
       "    <tr>\n",
       "      <th>0</th>\n",
       "      <td>tumor_detection</td>\n",
       "      <td>kich</td>\n",
       "      <td>1.000000</td>\n",
       "      <td>1.000000</td>\n",
       "      <td>1.000000</td>\n",
       "      <td>0.313262</td>\n",
       "      <td>Baseline</td>\n",
       "    </tr>\n",
       "    <tr>\n",
       "      <th>0</th>\n",
       "      <td>tumor_detection</td>\n",
       "      <td>kirc</td>\n",
       "      <td>0.999382</td>\n",
       "      <td>0.999098</td>\n",
       "      <td>0.999530</td>\n",
       "      <td>0.313266</td>\n",
       "      <td>Baseline</td>\n",
       "    </tr>\n",
       "    <tr>\n",
       "      <th>0</th>\n",
       "      <td>tumor_detection</td>\n",
       "      <td>kirp</td>\n",
       "      <td>0.997753</td>\n",
       "      <td>0.994413</td>\n",
       "      <td>0.998594</td>\n",
       "      <td>0.313268</td>\n",
       "      <td>Baseline</td>\n",
       "    </tr>\n",
       "    <tr>\n",
       "      <th>0</th>\n",
       "      <td>tumor_detection</td>\n",
       "      <td>luad</td>\n",
       "      <td>0.997773</td>\n",
       "      <td>0.995708</td>\n",
       "      <td>0.998496</td>\n",
       "      <td>0.353452</td>\n",
       "      <td>Baseline</td>\n",
       "    </tr>\n",
       "    <tr>\n",
       "      <th>0</th>\n",
       "      <td>tumor_detection</td>\n",
       "      <td>lusc</td>\n",
       "      <td>0.995068</td>\n",
       "      <td>0.991597</td>\n",
       "      <td>0.996510</td>\n",
       "      <td>0.344513</td>\n",
       "      <td>Baseline</td>\n",
       "    </tr>\n",
       "    <tr>\n",
       "      <th>0</th>\n",
       "      <td>tumor_detection</td>\n",
       "      <td>read</td>\n",
       "      <td>1.000000</td>\n",
       "      <td>1.000000</td>\n",
       "      <td>1.000000</td>\n",
       "      <td>0.313262</td>\n",
       "      <td>Baseline</td>\n",
       "    </tr>\n",
       "  </tbody>\n",
       "</table>\n",
       "</div>"
      ],
      "text/plain": [
       "                    task        cancer  Accuracy  F1-score_0  F1-score_1  \\\n",
       "0  cancer_classification  kich_kirc_FS  0.971831    0.888889    0.983871   \n",
       "0  cancer_classification  kich_kirc_PM  0.961661    0.899160    0.976331   \n",
       "0  cancer_classification  kich_kirp_FS  0.977956    0.962457    0.984397   \n",
       "0  cancer_classification  kich_kirp_PM  0.992288    0.986175    0.994652   \n",
       "0  cancer_classification  kirc_kirp_FS  0.987324    0.991509    0.975000   \n",
       "0  cancer_classification  kirc_kirp_PM  0.988764    0.991254    0.984293   \n",
       "0  cancer_classification  luad_lusc_FS  0.929032    0.933434    0.924007   \n",
       "0  cancer_classification  luad_lusc_PM  0.953984    0.958877    0.947771   \n",
       "0        tumor_detection          brca  0.996538    0.992021    0.997789   \n",
       "0        tumor_detection          coad  0.998106    0.990291    0.998951   \n",
       "0        tumor_detection          kich  1.000000    1.000000    1.000000   \n",
       "0        tumor_detection          kirc  0.999382    0.999098    0.999530   \n",
       "0        tumor_detection          kirp  0.997753    0.994413    0.998594   \n",
       "0        tumor_detection          luad  0.997773    0.995708    0.998496   \n",
       "0        tumor_detection          lusc  0.995068    0.991597    0.996510   \n",
       "0        tumor_detection          read  1.000000    1.000000    1.000000   \n",
       "\n",
       "   MMPF_size     model  \n",
       "0   0.467143  Baseline  \n",
       "0   0.353895  Baseline  \n",
       "0   0.676320  Baseline  \n",
       "0   0.328728  Baseline  \n",
       "0   0.364493  Baseline  \n",
       "0   0.387133  Baseline  \n",
       "0   0.462914  Baseline  \n",
       "0   0.493846  Baseline  \n",
       "0   0.344031  Baseline  \n",
       "0   0.396591  Baseline  \n",
       "0   0.313262  Baseline  \n",
       "0   0.313266  Baseline  \n",
       "0   0.313268  Baseline  \n",
       "0   0.353452  Baseline  \n",
       "0   0.344513  Baseline  \n",
       "0   0.313262  Baseline  "
      ]
     },
     "execution_count": 51,
     "metadata": {},
     "output_type": "execute_result"
    }
   ],
   "source": [
    "df_baseline"
   ]
  },
  {
   "cell_type": "markdown",
   "metadata": {},
   "source": [
    "# EDF\n",
    "***"
   ]
  },
  {
   "cell_type": "code",
   "execution_count": 13,
   "metadata": {},
   "outputs": [
    {
     "name": "stdout",
     "output_type": "stream",
     "text": [
      "['cancer_classification', 'kich_kirc_FS', 0.01, 'DF_pos']\n",
      "['cancer_classification', 'kich_kirc_PM', 0.01, 'DF_pos']\n",
      "['cancer_classification', 'kich_kirp_FS', 0.01, 'DF_pos']\n",
      "['cancer_classification', 'kich_kirp_PM', 0.01, 'DF_pos']\n",
      "['cancer_classification', 'kirc_kirp_FS', 0.01, 'DF_pos']\n",
      "['cancer_classification', 'kirc_kirp_PM', 0.01, 'DF_pos']\n",
      "['cancer_classification', 'luad_lusc_FS', 0.01, 'DF_pos']\n",
      "['cancer_classification', 'luad_lusc_PM', 0.01, 'DF_pos']\n"
     ]
    },
    {
     "name": "stderr",
     "output_type": "stream",
     "text": [
      "/tmp/ipykernel_16672/2845827234.py:13: FutureWarning: Series.__getitem__ treating keys as positions is deprecated. In a future version, integer keys will always be treated as labels (consistent with DataFrame behavior). To access a value by position, use `ser.iloc[pos]`\n",
      "  v1 = df100[df100.cancer == c]['MMPF_size'][0]\n",
      "/tmp/ipykernel_16672/2845827234.py:14: FutureWarning: Series.__getitem__ treating keys as positions is deprecated. In a future version, integer keys will always be treated as labels (consistent with DataFrame behavior). To access a value by position, use `ser.iloc[pos]`\n",
      "  v2 = df1000[df1000.cancer == c]['MMPF_size'][0]\n",
      "/tmp/ipykernel_16672/2845827234.py:16: FutureWarning: Series.__getitem__ treating keys as positions is deprecated. In a future version, integer keys will always be treated as labels (consistent with DataFrame behavior). To access a value by position, use `ser.iloc[pos]`\n",
      "  df.loc[c, 'Accuracy'] = df1000[df1000.cancer == c]['Accuracy'][0]\n",
      "/tmp/ipykernel_16672/2845827234.py:17: FutureWarning: Series.__getitem__ treating keys as positions is deprecated. In a future version, integer keys will always be treated as labels (consistent with DataFrame behavior). To access a value by position, use `ser.iloc[pos]`\n",
      "  df.loc[c, 'F1-score_0'] = df1000[df1000.cancer == c]['F1-score_0'][0]\n",
      "/tmp/ipykernel_16672/2845827234.py:18: FutureWarning: Series.__getitem__ treating keys as positions is deprecated. In a future version, integer keys will always be treated as labels (consistent with DataFrame behavior). To access a value by position, use `ser.iloc[pos]`\n",
      "  df.loc[c, 'F1-score_1'] = df1000[df1000.cancer == c]['F1-score_1'][0]\n",
      "/tmp/ipykernel_16672/2845827234.py:19: FutureWarning: Series.__getitem__ treating keys as positions is deprecated. In a future version, integer keys will always be treated as labels (consistent with DataFrame behavior). To access a value by position, use `ser.iloc[pos]`\n",
      "  df.loc[c, 'MMPF_size'] = df1000[df1000.cancer == c]['MMPF_size'][0]\n",
      "/tmp/ipykernel_16672/2845827234.py:35: FutureWarning: Series.__getitem__ treating keys as positions is deprecated. In a future version, integer keys will always be treated as labels (consistent with DataFrame behavior). To access a value by position, use `ser.iloc[pos]`\n",
      "  df.loc[c, 'Accuracy'] = df100[df100.cancer == c]['Accuracy'][0]\n",
      "/tmp/ipykernel_16672/2845827234.py:36: FutureWarning: Series.__getitem__ treating keys as positions is deprecated. In a future version, integer keys will always be treated as labels (consistent with DataFrame behavior). To access a value by position, use `ser.iloc[pos]`\n",
      "  df.loc[c, 'F1-score_0'] = df100[df100.cancer == c]['F1-score_0'][0]\n",
      "/tmp/ipykernel_16672/2845827234.py:37: FutureWarning: Series.__getitem__ treating keys as positions is deprecated. In a future version, integer keys will always be treated as labels (consistent with DataFrame behavior). To access a value by position, use `ser.iloc[pos]`\n",
      "  df.loc[c, 'F1-score_1'] = df100[df100.cancer == c]['F1-score_1'][0]\n",
      "/tmp/ipykernel_16672/2845827234.py:38: FutureWarning: Series.__getitem__ treating keys as positions is deprecated. In a future version, integer keys will always be treated as labels (consistent with DataFrame behavior). To access a value by position, use `ser.iloc[pos]`\n",
      "  df.loc[c, 'MMPF_size'] = df100[df100.cancer == c]['MMPF_size'][0]\n",
      "/tmp/ipykernel_16672/2845827234.py:40: FutureWarning: Series.__getitem__ treating keys as positions is deprecated. In a future version, integer keys will always be treated as labels (consistent with DataFrame behavior). To access a value by position, use `ser.iloc[pos]`\n",
      "  df.loc[c, 'Accuracy'] = df1000[df1000.cancer == c]['Accuracy'][0]\n",
      "/tmp/ipykernel_16672/2845827234.py:41: FutureWarning: Series.__getitem__ treating keys as positions is deprecated. In a future version, integer keys will always be treated as labels (consistent with DataFrame behavior). To access a value by position, use `ser.iloc[pos]`\n",
      "  df.loc[c, 'F1-score_0'] = df1000[df1000.cancer == c]['F1-score_0'][0]\n",
      "/tmp/ipykernel_16672/2845827234.py:42: FutureWarning: Series.__getitem__ treating keys as positions is deprecated. In a future version, integer keys will always be treated as labels (consistent with DataFrame behavior). To access a value by position, use `ser.iloc[pos]`\n",
      "  df.loc[c, 'F1-score_1'] = df1000[df1000.cancer == c]['F1-score_1'][0]\n",
      "/tmp/ipykernel_16672/2845827234.py:43: FutureWarning: Series.__getitem__ treating keys as positions is deprecated. In a future version, integer keys will always be treated as labels (consistent with DataFrame behavior). To access a value by position, use `ser.iloc[pos]`\n",
      "  df.loc[c, 'MMPF_size'] = df1000[df1000.cancer == c]['MMPF_size'][0]\n"
     ]
    }
   ],
   "source": [
    "def check_results_foulds(task : str, \n",
    "                           cancer : str, \n",
    "                           lambda_ : float,\n",
    "                           pt_method : str,\n",
    "                           df : pd.DataFrame,\n",
    "                           set_ : str, ID : int):\n",
    "    # Initialization\n",
    "    sub_dict = {'task' : [task], 'cancer' : [cancer], 'lambda_' : [lambda_], 'pt_method' : [pt_method]}\n",
    "    \n",
    "    # Extract the results pkl files\n",
    "    preds_path = f'results/preds/run_{ID}/add_protected_atts_0/Foulds'\n",
    "    results = pd.read_pickle(preds_path + f'/{task}/{cancer}/lambda_{lambda_}/{pt_method}/best_results.pkl')\n",
    "    \n",
    "    # Compute the metrics\n",
    "    # Accuracy \n",
    "    sub_dict['Accuracy'] = tm.classification.BinaryAccuracy()(torch.Tensor(results.pred), torch.Tensor(results.label)).item()\n",
    "    \n",
    "    # F1-score\n",
    "    # sub_dict['F1-score'] = tm.classification.BinaryF1Score()(torch.Tensor(results.pred), torch.Tensor(results.label)).item()\n",
    "    f1_scores = tm.classification.MulticlassF1Score(num_classes = 2, average = None)(torch.Tensor(results.pred), torch.Tensor(results.label))\n",
    "    sub_dict['F1-score_0'] = f1_scores[0].item()\n",
    "    sub_dict['F1-score_1'] = f1_scores[1].item()\n",
    "    \n",
    "    # MMPF_size\n",
    "    mmpf_metrics = compute_pareto_metrics(results, protected_atts)\n",
    "    sub_dict['MMPF_size'] = [mmpf_metrics[f'{set_}MMPF_size_set_2']]\n",
    "    \n",
    "    # Return the updated data frame\n",
    "    if df.empty: df = pd.DataFrame(data = sub_dict)\n",
    "    else: df = pd.concat([df, pd.DataFrame(data = sub_dict)])\n",
    "    return df\n",
    "\n",
    "\n",
    "def select_hyper(df_foulds):\n",
    "    # Initialization\n",
    "    df_foulds.reset_index(inplace = True, drop = True)\n",
    "    cols = ['task', 'cancer', 'Accuracy', 'F1-score_0', 'F1-score_1', 'MMPF_size']\n",
    "    df_foulds_best = pd.DataFrame(columns = cols)\n",
    "\n",
    "    # Loop on the combinations for baseline\n",
    "    for comb in COMBS_BASELINE[2:10]:\n",
    "        \n",
    "        # Extract combinations\n",
    "        task = comb[0]\n",
    "        cancer = comb[1]\n",
    "        cond = (df_foulds.task == task) & (df_foulds.cancer == cancer)\n",
    "        \n",
    "        # Get the metrics from the models with the best hyperparameters\n",
    "        # Get hyperparameters\n",
    "        best_idx = df_foulds[cond].MMPF_size.argmin()\n",
    "        sub_dict = {'task' : [task], 'cancer' : [cancer]}\n",
    "        sub_dict['Accuracy'] = df_foulds[cond].iloc[best_idx]['Accuracy']\n",
    "        sub_dict['F1-score_0'] = df_foulds[cond].iloc[best_idx]['F1-score_0']\n",
    "        sub_dict['F1-score_1'] = df_foulds[cond].iloc[best_idx]['F1-score_1']\n",
    "        sub_dict['MMPF_size'] = df_foulds[cond].iloc[best_idx]['MMPF_size']\n",
    "        \n",
    "        # Update the dataframe\n",
    "        if df_foulds_best.empty: df_foulds_best = pd.DataFrame(data = sub_dict)\n",
    "        else: df_foulds_best = pd.concat([df_foulds_best, pd.DataFrame(data = sub_dict)])\n",
    "    \n",
    "    return df_foulds_best\n",
    "\n",
    "\n",
    "# Initialization\n",
    "cols = ['task', 'cancer', 'Accuracy', 'F1-score_0', 'F1-score_1', 'MMPF_size']\n",
    "df_foulds_100 = pd.DataFrame(columns = cols)\n",
    "df_foulds_1000 = pd.DataFrame(columns = cols)\n",
    "df_foulds_100_test = pd.DataFrame(columns = cols)\n",
    "df_foulds_1000_test = pd.DataFrame(columns = cols)\n",
    "\n",
    "# Loop on the combinations for baseline\n",
    "for comb in COMBS_FOULDS[2:10]:\n",
    "    # Track\n",
    "    print(comb)\n",
    "    \n",
    "    # Extract combinations\n",
    "    task = comb[0]\n",
    "    cancer = comb[1]\n",
    "    l = comb[2]\n",
    "    pt_method = comb[3]\n",
    "    \n",
    "    # Get the metrics\n",
    "    df_foulds_100 = check_results_foulds(task, cancer, l, pt_method, df_foulds_100, 'val_', 100)\n",
    "    df_foulds_1000 = check_results_foulds(task, cancer, l, pt_method, df_foulds_1000, 'val_', 1000)\n",
    "    \n",
    "    # Get the metrics\n",
    "    df_foulds_100_test = check_results_foulds(task, cancer, l, pt_method, df_foulds_100_test, 'test_', 100)\n",
    "    df_foulds_1000_test = check_results_foulds(task, cancer, l, pt_method, df_foulds_1000_test, 'test_', 1000)\n",
    "    \n",
    "# # Select hyperparameters\n",
    "# df_foulds_100_ = select_hyper(df_foulds_100)\n",
    "# df_foulds_1000_ = select_hyper(df_foulds_1000)\n",
    "# df_foulds_100_test_ = select_hyper(df_foulds_100_test)\n",
    "# df_foulds_1000_test_ = select_hyper(df_foulds_1000_test)\n",
    "\n",
    "df_f = keep_best(df_foulds_100, df_foulds_1000)\n",
    "df_f_test = select_best_test(df_f, df_foulds_100_test, df_foulds_1000_test)\n",
    "df_f_test['model'] = 'EDF'\n",
    "# plot_results_others(df_baseline_1000_test, df_f_test, 'EDF', 'images/results_foulds.eps')"
   ]
  },
  {
   "cell_type": "code",
   "execution_count": 14,
   "metadata": {},
   "outputs": [
    {
     "data": {
      "text/html": [
       "<div>\n",
       "<style scoped>\n",
       "    .dataframe tbody tr th:only-of-type {\n",
       "        vertical-align: middle;\n",
       "    }\n",
       "\n",
       "    .dataframe tbody tr th {\n",
       "        vertical-align: top;\n",
       "    }\n",
       "\n",
       "    .dataframe thead th {\n",
       "        text-align: right;\n",
       "    }\n",
       "</style>\n",
       "<table border=\"1\" class=\"dataframe\">\n",
       "  <thead>\n",
       "    <tr style=\"text-align: right;\">\n",
       "      <th></th>\n",
       "      <th>task</th>\n",
       "      <th>cancer</th>\n",
       "      <th>lambda_</th>\n",
       "      <th>pt_method</th>\n",
       "      <th>Accuracy</th>\n",
       "      <th>F1-score_0</th>\n",
       "      <th>F1-score_1</th>\n",
       "      <th>MMPF_size</th>\n",
       "      <th>ID</th>\n",
       "      <th>model</th>\n",
       "    </tr>\n",
       "    <tr>\n",
       "      <th>cancer</th>\n",
       "      <th></th>\n",
       "      <th></th>\n",
       "      <th></th>\n",
       "      <th></th>\n",
       "      <th></th>\n",
       "      <th></th>\n",
       "      <th></th>\n",
       "      <th></th>\n",
       "      <th></th>\n",
       "      <th></th>\n",
       "    </tr>\n",
       "  </thead>\n",
       "  <tbody>\n",
       "    <tr>\n",
       "      <th>kich_kirc_FS</th>\n",
       "      <td>cancer_classification</td>\n",
       "      <td>kich_kirc_FS</td>\n",
       "      <td>0.01</td>\n",
       "      <td>DF_pos</td>\n",
       "      <td>0.978459</td>\n",
       "      <td>0.910959</td>\n",
       "      <td>0.987747</td>\n",
       "      <td>0.467388</td>\n",
       "      <td>100</td>\n",
       "      <td>EDF</td>\n",
       "    </tr>\n",
       "    <tr>\n",
       "      <th>kich_kirc_PM</th>\n",
       "      <td>cancer_classification</td>\n",
       "      <td>kich_kirc_PM</td>\n",
       "      <td>0.01</td>\n",
       "      <td>DF_pos</td>\n",
       "      <td>0.968051</td>\n",
       "      <td>0.913793</td>\n",
       "      <td>0.980392</td>\n",
       "      <td>0.364688</td>\n",
       "      <td>100</td>\n",
       "      <td>EDF</td>\n",
       "    </tr>\n",
       "    <tr>\n",
       "      <th>kich_kirp_FS</th>\n",
       "      <td>cancer_classification</td>\n",
       "      <td>kich_kirp_FS</td>\n",
       "      <td>0.01</td>\n",
       "      <td>DF_pos</td>\n",
       "      <td>0.981964</td>\n",
       "      <td>0.969072</td>\n",
       "      <td>0.987270</td>\n",
       "      <td>0.676838</td>\n",
       "      <td>100</td>\n",
       "      <td>EDF</td>\n",
       "    </tr>\n",
       "    <tr>\n",
       "      <th>kich_kirp_PM</th>\n",
       "      <td>cancer_classification</td>\n",
       "      <td>kich_kirp_PM</td>\n",
       "      <td>0.01</td>\n",
       "      <td>DF_pos</td>\n",
       "      <td>0.997429</td>\n",
       "      <td>0.995349</td>\n",
       "      <td>0.998224</td>\n",
       "      <td>0.314361</td>\n",
       "      <td>1000</td>\n",
       "      <td>EDF</td>\n",
       "    </tr>\n",
       "    <tr>\n",
       "      <th>kirc_kirp_FS</th>\n",
       "      <td>cancer_classification</td>\n",
       "      <td>kirc_kirp_FS</td>\n",
       "      <td>0.01</td>\n",
       "      <td>DF_pos</td>\n",
       "      <td>0.988028</td>\n",
       "      <td>0.991992</td>\n",
       "      <td>0.976290</td>\n",
       "      <td>0.313430</td>\n",
       "      <td>100</td>\n",
       "      <td>EDF</td>\n",
       "    </tr>\n",
       "    <tr>\n",
       "      <th>kirc_kirp_PM</th>\n",
       "      <td>cancer_classification</td>\n",
       "      <td>kirc_kirp_PM</td>\n",
       "      <td>0.01</td>\n",
       "      <td>DF_pos</td>\n",
       "      <td>0.987516</td>\n",
       "      <td>0.990329</td>\n",
       "      <td>0.982394</td>\n",
       "      <td>0.319233</td>\n",
       "      <td>1000</td>\n",
       "      <td>EDF</td>\n",
       "    </tr>\n",
       "    <tr>\n",
       "      <th>luad_lusc_FS</th>\n",
       "      <td>cancer_classification</td>\n",
       "      <td>luad_lusc_FS</td>\n",
       "      <td>0.01</td>\n",
       "      <td>DF_pos</td>\n",
       "      <td>0.929839</td>\n",
       "      <td>0.934240</td>\n",
       "      <td>0.924806</td>\n",
       "      <td>0.446301</td>\n",
       "      <td>1000</td>\n",
       "      <td>EDF</td>\n",
       "    </tr>\n",
       "    <tr>\n",
       "      <th>luad_lusc_PM</th>\n",
       "      <td>cancer_classification</td>\n",
       "      <td>luad_lusc_PM</td>\n",
       "      <td>0.01</td>\n",
       "      <td>DF_pos</td>\n",
       "      <td>0.950617</td>\n",
       "      <td>0.955823</td>\n",
       "      <td>0.944020</td>\n",
       "      <td>0.491511</td>\n",
       "      <td>1000</td>\n",
       "      <td>EDF</td>\n",
       "    </tr>\n",
       "  </tbody>\n",
       "</table>\n",
       "</div>"
      ],
      "text/plain": [
       "                               task        cancer  lambda_ pt_method  \\\n",
       "cancer                                                                 \n",
       "kich_kirc_FS  cancer_classification  kich_kirc_FS     0.01    DF_pos   \n",
       "kich_kirc_PM  cancer_classification  kich_kirc_PM     0.01    DF_pos   \n",
       "kich_kirp_FS  cancer_classification  kich_kirp_FS     0.01    DF_pos   \n",
       "kich_kirp_PM  cancer_classification  kich_kirp_PM     0.01    DF_pos   \n",
       "kirc_kirp_FS  cancer_classification  kirc_kirp_FS     0.01    DF_pos   \n",
       "kirc_kirp_PM  cancer_classification  kirc_kirp_PM     0.01    DF_pos   \n",
       "luad_lusc_FS  cancer_classification  luad_lusc_FS     0.01    DF_pos   \n",
       "luad_lusc_PM  cancer_classification  luad_lusc_PM     0.01    DF_pos   \n",
       "\n",
       "              Accuracy  F1-score_0  F1-score_1  MMPF_size    ID model  \n",
       "cancer                                                                 \n",
       "kich_kirc_FS  0.978459    0.910959    0.987747   0.467388   100   EDF  \n",
       "kich_kirc_PM  0.968051    0.913793    0.980392   0.364688   100   EDF  \n",
       "kich_kirp_FS  0.981964    0.969072    0.987270   0.676838   100   EDF  \n",
       "kich_kirp_PM  0.997429    0.995349    0.998224   0.314361  1000   EDF  \n",
       "kirc_kirp_FS  0.988028    0.991992    0.976290   0.313430   100   EDF  \n",
       "kirc_kirp_PM  0.987516    0.990329    0.982394   0.319233  1000   EDF  \n",
       "luad_lusc_FS  0.929839    0.934240    0.924806   0.446301  1000   EDF  \n",
       "luad_lusc_PM  0.950617    0.955823    0.944020   0.491511  1000   EDF  "
      ]
     },
     "execution_count": 14,
     "metadata": {},
     "output_type": "execute_result"
    }
   ],
   "source": [
    "df_f_test"
   ]
  },
  {
   "cell_type": "markdown",
   "metadata": {},
   "source": [
    "# MinimaxFair\n",
    "***"
   ]
  },
  {
   "cell_type": "code",
   "execution_count": 15,
   "metadata": {},
   "outputs": [
    {
     "name": "stdout",
     "output_type": "stream",
     "text": [
      "['cancer_classification', 'kich_kirc_FS']\n",
      "['cancer_classification', 'kich_kirc_PM']\n",
      "['cancer_classification', 'kich_kirp_FS']\n",
      "['cancer_classification', 'kich_kirp_PM']\n",
      "['cancer_classification', 'kirc_kirp_FS']\n",
      "['cancer_classification', 'kirc_kirp_PM']\n",
      "['cancer_classification', 'luad_lusc_FS']\n",
      "['cancer_classification', 'luad_lusc_PM']\n"
     ]
    },
    {
     "name": "stderr",
     "output_type": "stream",
     "text": [
      "/tmp/ipykernel_16672/2845827234.py:13: FutureWarning: Series.__getitem__ treating keys as positions is deprecated. In a future version, integer keys will always be treated as labels (consistent with DataFrame behavior). To access a value by position, use `ser.iloc[pos]`\n",
      "  v1 = df100[df100.cancer == c]['MMPF_size'][0]\n",
      "/tmp/ipykernel_16672/2845827234.py:14: FutureWarning: Series.__getitem__ treating keys as positions is deprecated. In a future version, integer keys will always be treated as labels (consistent with DataFrame behavior). To access a value by position, use `ser.iloc[pos]`\n",
      "  v2 = df1000[df1000.cancer == c]['MMPF_size'][0]\n",
      "/tmp/ipykernel_16672/2845827234.py:16: FutureWarning: Series.__getitem__ treating keys as positions is deprecated. In a future version, integer keys will always be treated as labels (consistent with DataFrame behavior). To access a value by position, use `ser.iloc[pos]`\n",
      "  df.loc[c, 'Accuracy'] = df1000[df1000.cancer == c]['Accuracy'][0]\n",
      "/tmp/ipykernel_16672/2845827234.py:17: FutureWarning: Series.__getitem__ treating keys as positions is deprecated. In a future version, integer keys will always be treated as labels (consistent with DataFrame behavior). To access a value by position, use `ser.iloc[pos]`\n",
      "  df.loc[c, 'F1-score_0'] = df1000[df1000.cancer == c]['F1-score_0'][0]\n",
      "/tmp/ipykernel_16672/2845827234.py:18: FutureWarning: Series.__getitem__ treating keys as positions is deprecated. In a future version, integer keys will always be treated as labels (consistent with DataFrame behavior). To access a value by position, use `ser.iloc[pos]`\n",
      "  df.loc[c, 'F1-score_1'] = df1000[df1000.cancer == c]['F1-score_1'][0]\n",
      "/tmp/ipykernel_16672/2845827234.py:19: FutureWarning: Series.__getitem__ treating keys as positions is deprecated. In a future version, integer keys will always be treated as labels (consistent with DataFrame behavior). To access a value by position, use `ser.iloc[pos]`\n",
      "  df.loc[c, 'MMPF_size'] = df1000[df1000.cancer == c]['MMPF_size'][0]\n",
      "/tmp/ipykernel_16672/2845827234.py:35: FutureWarning: Series.__getitem__ treating keys as positions is deprecated. In a future version, integer keys will always be treated as labels (consistent with DataFrame behavior). To access a value by position, use `ser.iloc[pos]`\n",
      "  df.loc[c, 'Accuracy'] = df100[df100.cancer == c]['Accuracy'][0]\n",
      "/tmp/ipykernel_16672/2845827234.py:36: FutureWarning: Series.__getitem__ treating keys as positions is deprecated. In a future version, integer keys will always be treated as labels (consistent with DataFrame behavior). To access a value by position, use `ser.iloc[pos]`\n",
      "  df.loc[c, 'F1-score_0'] = df100[df100.cancer == c]['F1-score_0'][0]\n",
      "/tmp/ipykernel_16672/2845827234.py:37: FutureWarning: Series.__getitem__ treating keys as positions is deprecated. In a future version, integer keys will always be treated as labels (consistent with DataFrame behavior). To access a value by position, use `ser.iloc[pos]`\n",
      "  df.loc[c, 'F1-score_1'] = df100[df100.cancer == c]['F1-score_1'][0]\n",
      "/tmp/ipykernel_16672/2845827234.py:38: FutureWarning: Series.__getitem__ treating keys as positions is deprecated. In a future version, integer keys will always be treated as labels (consistent with DataFrame behavior). To access a value by position, use `ser.iloc[pos]`\n",
      "  df.loc[c, 'MMPF_size'] = df100[df100.cancer == c]['MMPF_size'][0]\n",
      "/tmp/ipykernel_16672/2845827234.py:40: FutureWarning: Series.__getitem__ treating keys as positions is deprecated. In a future version, integer keys will always be treated as labels (consistent with DataFrame behavior). To access a value by position, use `ser.iloc[pos]`\n",
      "  df.loc[c, 'Accuracy'] = df1000[df1000.cancer == c]['Accuracy'][0]\n",
      "/tmp/ipykernel_16672/2845827234.py:41: FutureWarning: Series.__getitem__ treating keys as positions is deprecated. In a future version, integer keys will always be treated as labels (consistent with DataFrame behavior). To access a value by position, use `ser.iloc[pos]`\n",
      "  df.loc[c, 'F1-score_0'] = df1000[df1000.cancer == c]['F1-score_0'][0]\n",
      "/tmp/ipykernel_16672/2845827234.py:42: FutureWarning: Series.__getitem__ treating keys as positions is deprecated. In a future version, integer keys will always be treated as labels (consistent with DataFrame behavior). To access a value by position, use `ser.iloc[pos]`\n",
      "  df.loc[c, 'F1-score_1'] = df1000[df1000.cancer == c]['F1-score_1'][0]\n",
      "/tmp/ipykernel_16672/2845827234.py:43: FutureWarning: Series.__getitem__ treating keys as positions is deprecated. In a future version, integer keys will always be treated as labels (consistent with DataFrame behavior). To access a value by position, use `ser.iloc[pos]`\n",
      "  df.loc[c, 'MMPF_size'] = df1000[df1000.cancer == c]['MMPF_size'][0]\n"
     ]
    }
   ],
   "source": [
    "def check_results_diana(task : str, \n",
    "                           cancer : str, \n",
    "                           df : pd.DataFrame,\n",
    "                           set_ : str, ID : int):\n",
    "    # Initialization\n",
    "    sub_dict = {'task' : [task], 'cancer' : [cancer]}\n",
    "    \n",
    "    # Extract the results pkl files\n",
    "    preds_path = f'results/preds/run_{ID}/add_protected_atts_0/Diana'\n",
    "    results = pd.read_pickle(preds_path + f'/{task}/{cancer}/results.pkl')\n",
    "    \n",
    "    # Compute the metrics\n",
    "    # Accuracy \n",
    "    sub_dict['Accuracy'] = tm.classification.BinaryAccuracy()(torch.Tensor(results.pred), torch.Tensor(results.label)).item()\n",
    "    \n",
    "    # F1-score\n",
    "    # sub_dict['F1-score'] = tm.classification.BinaryF1Score()(torch.Tensor(results.pred), torch.Tensor(results.label)).item()\n",
    "    f1_scores = tm.classification.MulticlassF1Score(num_classes = 2, average = None)(torch.Tensor(results.pred), torch.Tensor(results.label))\n",
    "    sub_dict['F1-score_0'] = f1_scores[0].item()\n",
    "    sub_dict['F1-score_1'] = f1_scores[1].item()\n",
    "    \n",
    "    # MMPF_size\n",
    "    mmpf_metrics = compute_pareto_metrics(results, protected_atts)\n",
    "    sub_dict['MMPF_size'] = [mmpf_metrics[f'{set_}MMPF_size_set_2']]\n",
    "    \n",
    "    # Return the updated data frame\n",
    "    if df.empty: df = pd.DataFrame(data = sub_dict)\n",
    "    else: df = pd.concat([df, pd.DataFrame(data = sub_dict)])\n",
    "    return df\n",
    "\n",
    "# Initialization\n",
    "cols = ['task', 'cancer', 'Accuracy', 'F1-score_0', 'F1-score_1', 'MMPF_size']\n",
    "df_diana_100 = pd.DataFrame(columns = cols)\n",
    "df_diana_1000 = pd.DataFrame(columns = cols)\n",
    "df_diana_100_test = pd.DataFrame(columns = cols)\n",
    "df_diana_1000_test = pd.DataFrame(columns = cols)\n",
    "\n",
    "# Loop on the combinations for baseline\n",
    "for comb in COMBS_BASELINE[2:10]:\n",
    "    # Track\n",
    "    print(comb)\n",
    "    \n",
    "    # Extract combinations\n",
    "    task = comb[0]\n",
    "    cancer = comb[1]\n",
    "    \n",
    "    # Get the metrics\n",
    "    df_diana_100 = check_results_diana(task, cancer, df_diana_100, 'val_', 100)\n",
    "    df_diana_1000 = check_results_diana(task, cancer, df_diana_1000, 'val_', 1000)\n",
    "    \n",
    "    # Get the metrics\n",
    "    df_diana_100_test = check_results_diana(task, cancer, df_diana_100_test, 'test_', 100)\n",
    "    df_diana_1000_test = check_results_diana(task, cancer, df_diana_1000_test, 'test_', 1000)\n",
    "\n",
    "df_d = keep_best(df_diana_100, df_diana_1000)\n",
    "df_d_test = select_best_test(df_d, df_diana_100_test, df_diana_1000_test)\n",
    "df_d_test['model'] = 'MinimaxFair'\n",
    "# plot_results_others(df_baseline_1000_test, df_d_test, 'MinimaxFair', 'images/results_diana.eps')"
   ]
  },
  {
   "cell_type": "code",
   "execution_count": 30,
   "metadata": {},
   "outputs": [
    {
     "data": {
      "text/html": [
       "<div>\n",
       "<style scoped>\n",
       "    .dataframe tbody tr th:only-of-type {\n",
       "        vertical-align: middle;\n",
       "    }\n",
       "\n",
       "    .dataframe tbody tr th {\n",
       "        vertical-align: top;\n",
       "    }\n",
       "\n",
       "    .dataframe thead th {\n",
       "        text-align: right;\n",
       "    }\n",
       "</style>\n",
       "<table border=\"1\" class=\"dataframe\">\n",
       "  <thead>\n",
       "    <tr style=\"text-align: right;\">\n",
       "      <th></th>\n",
       "      <th>task</th>\n",
       "      <th>cancer</th>\n",
       "      <th>Accuracy</th>\n",
       "      <th>F1-score_0</th>\n",
       "      <th>F1-score_1</th>\n",
       "      <th>MMPF_size</th>\n",
       "      <th>ID</th>\n",
       "      <th>model</th>\n",
       "    </tr>\n",
       "    <tr>\n",
       "      <th>cancer</th>\n",
       "      <th></th>\n",
       "      <th></th>\n",
       "      <th></th>\n",
       "      <th></th>\n",
       "      <th></th>\n",
       "      <th></th>\n",
       "      <th></th>\n",
       "      <th></th>\n",
       "    </tr>\n",
       "  </thead>\n",
       "  <tbody>\n",
       "    <tr>\n",
       "      <th>kich_kirc_FS</th>\n",
       "      <td>cancer_classification</td>\n",
       "      <td>kich_kirc_FS</td>\n",
       "      <td>0.977630</td>\n",
       "      <td>0.909091</td>\n",
       "      <td>0.987246</td>\n",
       "      <td>0.467116</td>\n",
       "      <td>100</td>\n",
       "      <td>MinimaxFair</td>\n",
       "    </tr>\n",
       "    <tr>\n",
       "      <th>kich_kirc_PM</th>\n",
       "      <td>cancer_classification</td>\n",
       "      <td>kich_kirc_PM</td>\n",
       "      <td>0.961661</td>\n",
       "      <td>0.891892</td>\n",
       "      <td>0.976699</td>\n",
       "      <td>0.391527</td>\n",
       "      <td>100</td>\n",
       "      <td>MinimaxFair</td>\n",
       "    </tr>\n",
       "    <tr>\n",
       "      <th>kich_kirp_FS</th>\n",
       "      <td>cancer_classification</td>\n",
       "      <td>kich_kirp_FS</td>\n",
       "      <td>0.973948</td>\n",
       "      <td>0.954386</td>\n",
       "      <td>0.981767</td>\n",
       "      <td>0.581539</td>\n",
       "      <td>100</td>\n",
       "      <td>MinimaxFair</td>\n",
       "    </tr>\n",
       "    <tr>\n",
       "      <th>kich_kirp_PM</th>\n",
       "      <td>cancer_classification</td>\n",
       "      <td>kich_kirp_PM</td>\n",
       "      <td>0.989717</td>\n",
       "      <td>0.981481</td>\n",
       "      <td>0.992883</td>\n",
       "      <td>0.313285</td>\n",
       "      <td>100</td>\n",
       "      <td>MinimaxFair</td>\n",
       "    </tr>\n",
       "    <tr>\n",
       "      <th>kirc_kirp_FS</th>\n",
       "      <td>cancer_classification</td>\n",
       "      <td>kirc_kirp_FS</td>\n",
       "      <td>0.979577</td>\n",
       "      <td>0.986340</td>\n",
       "      <td>0.959554</td>\n",
       "      <td>0.366988</td>\n",
       "      <td>100</td>\n",
       "      <td>MinimaxFair</td>\n",
       "    </tr>\n",
       "    <tr>\n",
       "      <th>kirc_kirp_PM</th>\n",
       "      <td>cancer_classification</td>\n",
       "      <td>kirc_kirp_PM</td>\n",
       "      <td>0.968789</td>\n",
       "      <td>0.975892</td>\n",
       "      <td>0.955752</td>\n",
       "      <td>0.403128</td>\n",
       "      <td>1000</td>\n",
       "      <td>MinimaxFair</td>\n",
       "    </tr>\n",
       "    <tr>\n",
       "      <th>luad_lusc_FS</th>\n",
       "      <td>cancer_classification</td>\n",
       "      <td>luad_lusc_FS</td>\n",
       "      <td>0.926613</td>\n",
       "      <td>0.932342</td>\n",
       "      <td>0.919824</td>\n",
       "      <td>0.533090</td>\n",
       "      <td>100</td>\n",
       "      <td>MinimaxFair</td>\n",
       "    </tr>\n",
       "    <tr>\n",
       "      <th>luad_lusc_PM</th>\n",
       "      <td>cancer_classification</td>\n",
       "      <td>luad_lusc_PM</td>\n",
       "      <td>0.942761</td>\n",
       "      <td>0.948537</td>\n",
       "      <td>0.935525</td>\n",
       "      <td>0.502044</td>\n",
       "      <td>100</td>\n",
       "      <td>MinimaxFair</td>\n",
       "    </tr>\n",
       "  </tbody>\n",
       "</table>\n",
       "</div>"
      ],
      "text/plain": [
       "                               task        cancer  Accuracy  F1-score_0  \\\n",
       "cancer                                                                    \n",
       "kich_kirc_FS  cancer_classification  kich_kirc_FS  0.977630    0.909091   \n",
       "kich_kirc_PM  cancer_classification  kich_kirc_PM  0.961661    0.891892   \n",
       "kich_kirp_FS  cancer_classification  kich_kirp_FS  0.973948    0.954386   \n",
       "kich_kirp_PM  cancer_classification  kich_kirp_PM  0.989717    0.981481   \n",
       "kirc_kirp_FS  cancer_classification  kirc_kirp_FS  0.979577    0.986340   \n",
       "kirc_kirp_PM  cancer_classification  kirc_kirp_PM  0.968789    0.975892   \n",
       "luad_lusc_FS  cancer_classification  luad_lusc_FS  0.926613    0.932342   \n",
       "luad_lusc_PM  cancer_classification  luad_lusc_PM  0.942761    0.948537   \n",
       "\n",
       "              F1-score_1  MMPF_size    ID        model  \n",
       "cancer                                                  \n",
       "kich_kirc_FS    0.987246   0.467116   100  MinimaxFair  \n",
       "kich_kirc_PM    0.976699   0.391527   100  MinimaxFair  \n",
       "kich_kirp_FS    0.981767   0.581539   100  MinimaxFair  \n",
       "kich_kirp_PM    0.992883   0.313285   100  MinimaxFair  \n",
       "kirc_kirp_FS    0.959554   0.366988   100  MinimaxFair  \n",
       "kirc_kirp_PM    0.955752   0.403128  1000  MinimaxFair  \n",
       "luad_lusc_FS    0.919824   0.533090   100  MinimaxFair  \n",
       "luad_lusc_PM    0.935525   0.502044   100  MinimaxFair  "
      ]
     },
     "execution_count": 30,
     "metadata": {},
     "output_type": "execute_result"
    }
   ],
   "source": [
    "df_d_test"
   ]
  },
  {
   "cell_type": "markdown",
   "metadata": {},
   "source": [
    "# APStar\n",
    "***"
   ]
  },
  {
   "cell_type": "code",
   "execution_count": 17,
   "metadata": {},
   "outputs": [
    {
     "name": "stdout",
     "output_type": "stream",
     "text": [
      "['cancer_classification', 'kich_kirc_FS']\n",
      "['cancer_classification', 'kich_kirc_PM']\n",
      "['cancer_classification', 'kich_kirp_FS']\n",
      "['cancer_classification', 'kich_kirp_PM']\n",
      "['cancer_classification', 'kirc_kirp_FS']\n",
      "['cancer_classification', 'kirc_kirp_PM']\n",
      "['cancer_classification', 'luad_lusc_FS']\n",
      "['cancer_classification', 'luad_lusc_PM']\n"
     ]
    },
    {
     "name": "stderr",
     "output_type": "stream",
     "text": [
      "/tmp/ipykernel_16672/2845827234.py:13: FutureWarning: Series.__getitem__ treating keys as positions is deprecated. In a future version, integer keys will always be treated as labels (consistent with DataFrame behavior). To access a value by position, use `ser.iloc[pos]`\n",
      "  v1 = df100[df100.cancer == c]['MMPF_size'][0]\n",
      "/tmp/ipykernel_16672/2845827234.py:14: FutureWarning: Series.__getitem__ treating keys as positions is deprecated. In a future version, integer keys will always be treated as labels (consistent with DataFrame behavior). To access a value by position, use `ser.iloc[pos]`\n",
      "  v2 = df1000[df1000.cancer == c]['MMPF_size'][0]\n",
      "/tmp/ipykernel_16672/2845827234.py:16: FutureWarning: Series.__getitem__ treating keys as positions is deprecated. In a future version, integer keys will always be treated as labels (consistent with DataFrame behavior). To access a value by position, use `ser.iloc[pos]`\n",
      "  df.loc[c, 'Accuracy'] = df1000[df1000.cancer == c]['Accuracy'][0]\n",
      "/tmp/ipykernel_16672/2845827234.py:17: FutureWarning: Series.__getitem__ treating keys as positions is deprecated. In a future version, integer keys will always be treated as labels (consistent with DataFrame behavior). To access a value by position, use `ser.iloc[pos]`\n",
      "  df.loc[c, 'F1-score_0'] = df1000[df1000.cancer == c]['F1-score_0'][0]\n",
      "/tmp/ipykernel_16672/2845827234.py:18: FutureWarning: Series.__getitem__ treating keys as positions is deprecated. In a future version, integer keys will always be treated as labels (consistent with DataFrame behavior). To access a value by position, use `ser.iloc[pos]`\n",
      "  df.loc[c, 'F1-score_1'] = df1000[df1000.cancer == c]['F1-score_1'][0]\n",
      "/tmp/ipykernel_16672/2845827234.py:19: FutureWarning: Series.__getitem__ treating keys as positions is deprecated. In a future version, integer keys will always be treated as labels (consistent with DataFrame behavior). To access a value by position, use `ser.iloc[pos]`\n",
      "  df.loc[c, 'MMPF_size'] = df1000[df1000.cancer == c]['MMPF_size'][0]\n",
      "/tmp/ipykernel_16672/2845827234.py:35: FutureWarning: Series.__getitem__ treating keys as positions is deprecated. In a future version, integer keys will always be treated as labels (consistent with DataFrame behavior). To access a value by position, use `ser.iloc[pos]`\n",
      "  df.loc[c, 'Accuracy'] = df100[df100.cancer == c]['Accuracy'][0]\n",
      "/tmp/ipykernel_16672/2845827234.py:36: FutureWarning: Series.__getitem__ treating keys as positions is deprecated. In a future version, integer keys will always be treated as labels (consistent with DataFrame behavior). To access a value by position, use `ser.iloc[pos]`\n",
      "  df.loc[c, 'F1-score_0'] = df100[df100.cancer == c]['F1-score_0'][0]\n",
      "/tmp/ipykernel_16672/2845827234.py:37: FutureWarning: Series.__getitem__ treating keys as positions is deprecated. In a future version, integer keys will always be treated as labels (consistent with DataFrame behavior). To access a value by position, use `ser.iloc[pos]`\n",
      "  df.loc[c, 'F1-score_1'] = df100[df100.cancer == c]['F1-score_1'][0]\n",
      "/tmp/ipykernel_16672/2845827234.py:38: FutureWarning: Series.__getitem__ treating keys as positions is deprecated. In a future version, integer keys will always be treated as labels (consistent with DataFrame behavior). To access a value by position, use `ser.iloc[pos]`\n",
      "  df.loc[c, 'MMPF_size'] = df100[df100.cancer == c]['MMPF_size'][0]\n",
      "/tmp/ipykernel_16672/2845827234.py:40: FutureWarning: Series.__getitem__ treating keys as positions is deprecated. In a future version, integer keys will always be treated as labels (consistent with DataFrame behavior). To access a value by position, use `ser.iloc[pos]`\n",
      "  df.loc[c, 'Accuracy'] = df1000[df1000.cancer == c]['Accuracy'][0]\n",
      "/tmp/ipykernel_16672/2845827234.py:41: FutureWarning: Series.__getitem__ treating keys as positions is deprecated. In a future version, integer keys will always be treated as labels (consistent with DataFrame behavior). To access a value by position, use `ser.iloc[pos]`\n",
      "  df.loc[c, 'F1-score_0'] = df1000[df1000.cancer == c]['F1-score_0'][0]\n",
      "/tmp/ipykernel_16672/2845827234.py:42: FutureWarning: Series.__getitem__ treating keys as positions is deprecated. In a future version, integer keys will always be treated as labels (consistent with DataFrame behavior). To access a value by position, use `ser.iloc[pos]`\n",
      "  df.loc[c, 'F1-score_1'] = df1000[df1000.cancer == c]['F1-score_1'][0]\n",
      "/tmp/ipykernel_16672/2845827234.py:43: FutureWarning: Series.__getitem__ treating keys as positions is deprecated. In a future version, integer keys will always be treated as labels (consistent with DataFrame behavior). To access a value by position, use `ser.iloc[pos]`\n",
      "  df.loc[c, 'MMPF_size'] = df1000[df1000.cancer == c]['MMPF_size'][0]\n"
     ]
    }
   ],
   "source": [
    "def check_results_martinez(task : str, \n",
    "                           cancer : str, \n",
    "                           df : pd.DataFrame,\n",
    "                           set_ : str, ID : int):\n",
    "    # Initialization\n",
    "    sub_dict = {'task' : [task], 'cancer' : [cancer]}\n",
    "    \n",
    "    # Extract the results pkl files\n",
    "    preds_path = f'results/preds/run_{ID}/add_protected_atts_0/Martinez'\n",
    "    # if ID == 100 : results = pd.read_pickle(preds_path + f'/{task}/{cancer}/alpha_0.5/results.pkl')\n",
    "    results = pd.read_pickle(preds_path + f'/{task}/{cancer}/results.pkl')\n",
    "    \n",
    "    # Compute the metrics\n",
    "    # Accuracy \n",
    "    sub_dict['Accuracy'] = tm.classification.BinaryAccuracy()(torch.Tensor(results.pred), torch.Tensor(results.label)).item()\n",
    "    \n",
    "    # F1-score\n",
    "    # sub_dict['F1-score'] = tm.classification.BinaryF1Score()(torch.Tensor(results.pred), torch.Tensor(results.label)).item()\n",
    "    f1_scores = tm.classification.MulticlassF1Score(num_classes = 2, average = None)(torch.Tensor(results.pred), torch.Tensor(results.label))\n",
    "    sub_dict['F1-score_0'] = f1_scores[0].item()\n",
    "    sub_dict['F1-score_1'] = f1_scores[1].item()\n",
    "    \n",
    "    # MMPF_size\n",
    "    mmpf_metrics = compute_pareto_metrics(results, protected_atts)\n",
    "    sub_dict['MMPF_size'] = [mmpf_metrics[f'{set_}MMPF_size_set_2']]\n",
    "    \n",
    "    # Return the updated data frame\n",
    "    if df.empty: df = pd.DataFrame(data = sub_dict)\n",
    "    else: df = pd.concat([df, pd.DataFrame(data = sub_dict)])\n",
    "    return df\n",
    "\n",
    "# Initialization\n",
    "cols = ['task', 'cancer', 'Accuracy', 'F1-score_0', 'F1-score_1', 'MMPF_size']\n",
    "df_martinez_100 = pd.DataFrame(columns = cols)\n",
    "df_martinez_1000 = pd.DataFrame(columns = cols)\n",
    "df_martinez_100_test = pd.DataFrame(columns = cols)\n",
    "df_martinez_1000_test = pd.DataFrame(columns = cols)\n",
    "\n",
    "# Loop on the combinations for baseline\n",
    "for comb in COMBS_BASELINE[2:10]:\n",
    "    # Track\n",
    "    print(comb)\n",
    "    \n",
    "    # Extract combinations\n",
    "    task = comb[0]\n",
    "    cancer = comb[1]\n",
    "    \n",
    "    # Get the metrics\n",
    "    df_martinez_100 = check_results_martinez(task, cancer, df_martinez_100, 'val_', 100)\n",
    "    df_martinez_1000 = check_results_martinez(task, cancer, df_martinez_1000, 'val_', 1000)\n",
    "\n",
    "    # Get the metrics\n",
    "    df_martinez_100_test = check_results_martinez(task, cancer, df_martinez_100_test, 'test_', 100)\n",
    "    df_martinez_1000_test = check_results_martinez(task, cancer, df_martinez_1000_test, 'test_', 1000)\n",
    "    \n",
    "df_m = keep_best(df_martinez_100, df_martinez_1000)\n",
    "df_m_test = select_best_test(df_m, df_martinez_100_test, df_martinez_1000_test)\n",
    "df_m_test['model'] = 'APStar'\n",
    "# plot_results_others(df_baseline_1000_test, df_m_test, 'APStar', 'images/results_martinez.eps')"
   ]
  },
  {
   "cell_type": "code",
   "execution_count": 18,
   "metadata": {},
   "outputs": [
    {
     "data": {
      "text/html": [
       "<div>\n",
       "<style scoped>\n",
       "    .dataframe tbody tr th:only-of-type {\n",
       "        vertical-align: middle;\n",
       "    }\n",
       "\n",
       "    .dataframe tbody tr th {\n",
       "        vertical-align: top;\n",
       "    }\n",
       "\n",
       "    .dataframe thead th {\n",
       "        text-align: right;\n",
       "    }\n",
       "</style>\n",
       "<table border=\"1\" class=\"dataframe\">\n",
       "  <thead>\n",
       "    <tr style=\"text-align: right;\">\n",
       "      <th></th>\n",
       "      <th>task</th>\n",
       "      <th>cancer</th>\n",
       "      <th>Accuracy</th>\n",
       "      <th>F1-score_0</th>\n",
       "      <th>F1-score_1</th>\n",
       "      <th>MMPF_size</th>\n",
       "      <th>ID</th>\n",
       "      <th>model</th>\n",
       "    </tr>\n",
       "    <tr>\n",
       "      <th>cancer</th>\n",
       "      <th></th>\n",
       "      <th></th>\n",
       "      <th></th>\n",
       "      <th></th>\n",
       "      <th></th>\n",
       "      <th></th>\n",
       "      <th></th>\n",
       "      <th></th>\n",
       "    </tr>\n",
       "  </thead>\n",
       "  <tbody>\n",
       "    <tr>\n",
       "      <th>kich_kirc_FS</th>\n",
       "      <td>cancer_classification</td>\n",
       "      <td>kich_kirc_FS</td>\n",
       "      <td>0.970174</td>\n",
       "      <td>0.880000</td>\n",
       "      <td>0.982971</td>\n",
       "      <td>0.467123</td>\n",
       "      <td>100</td>\n",
       "      <td>APStar</td>\n",
       "    </tr>\n",
       "    <tr>\n",
       "      <th>kich_kirc_PM</th>\n",
       "      <td>cancer_classification</td>\n",
       "      <td>kich_kirc_PM</td>\n",
       "      <td>0.960064</td>\n",
       "      <td>0.895397</td>\n",
       "      <td>0.975321</td>\n",
       "      <td>0.313264</td>\n",
       "      <td>1000</td>\n",
       "      <td>APStar</td>\n",
       "    </tr>\n",
       "    <tr>\n",
       "      <th>kich_kirp_FS</th>\n",
       "      <td>cancer_classification</td>\n",
       "      <td>kich_kirp_FS</td>\n",
       "      <td>0.981964</td>\n",
       "      <td>0.968641</td>\n",
       "      <td>0.987342</td>\n",
       "      <td>0.584425</td>\n",
       "      <td>100</td>\n",
       "      <td>APStar</td>\n",
       "    </tr>\n",
       "    <tr>\n",
       "      <th>kich_kirp_PM</th>\n",
       "      <td>cancer_classification</td>\n",
       "      <td>kich_kirp_PM</td>\n",
       "      <td>0.989717</td>\n",
       "      <td>0.981481</td>\n",
       "      <td>0.992883</td>\n",
       "      <td>0.313262</td>\n",
       "      <td>100</td>\n",
       "      <td>APStar</td>\n",
       "    </tr>\n",
       "    <tr>\n",
       "      <th>kirc_kirp_FS</th>\n",
       "      <td>cancer_classification</td>\n",
       "      <td>kirc_kirp_FS</td>\n",
       "      <td>0.971127</td>\n",
       "      <td>0.980724</td>\n",
       "      <td>0.942496</td>\n",
       "      <td>0.352675</td>\n",
       "      <td>1000</td>\n",
       "      <td>APStar</td>\n",
       "    </tr>\n",
       "    <tr>\n",
       "      <th>kirc_kirp_PM</th>\n",
       "      <td>cancer_classification</td>\n",
       "      <td>kirc_kirp_PM</td>\n",
       "      <td>0.970037</td>\n",
       "      <td>0.976517</td>\n",
       "      <td>0.958621</td>\n",
       "      <td>0.467098</td>\n",
       "      <td>1000</td>\n",
       "      <td>APStar</td>\n",
       "    </tr>\n",
       "    <tr>\n",
       "      <th>luad_lusc_FS</th>\n",
       "      <td>cancer_classification</td>\n",
       "      <td>luad_lusc_FS</td>\n",
       "      <td>0.874194</td>\n",
       "      <td>0.886463</td>\n",
       "      <td>0.858951</td>\n",
       "      <td>0.591313</td>\n",
       "      <td>100</td>\n",
       "      <td>APStar</td>\n",
       "    </tr>\n",
       "    <tr>\n",
       "      <th>luad_lusc_PM</th>\n",
       "      <td>cancer_classification</td>\n",
       "      <td>luad_lusc_PM</td>\n",
       "      <td>0.891134</td>\n",
       "      <td>0.899273</td>\n",
       "      <td>0.881563</td>\n",
       "      <td>0.496515</td>\n",
       "      <td>1000</td>\n",
       "      <td>APStar</td>\n",
       "    </tr>\n",
       "  </tbody>\n",
       "</table>\n",
       "</div>"
      ],
      "text/plain": [
       "                               task        cancer  Accuracy  F1-score_0  \\\n",
       "cancer                                                                    \n",
       "kich_kirc_FS  cancer_classification  kich_kirc_FS  0.970174    0.880000   \n",
       "kich_kirc_PM  cancer_classification  kich_kirc_PM  0.960064    0.895397   \n",
       "kich_kirp_FS  cancer_classification  kich_kirp_FS  0.981964    0.968641   \n",
       "kich_kirp_PM  cancer_classification  kich_kirp_PM  0.989717    0.981481   \n",
       "kirc_kirp_FS  cancer_classification  kirc_kirp_FS  0.971127    0.980724   \n",
       "kirc_kirp_PM  cancer_classification  kirc_kirp_PM  0.970037    0.976517   \n",
       "luad_lusc_FS  cancer_classification  luad_lusc_FS  0.874194    0.886463   \n",
       "luad_lusc_PM  cancer_classification  luad_lusc_PM  0.891134    0.899273   \n",
       "\n",
       "              F1-score_1  MMPF_size    ID   model  \n",
       "cancer                                             \n",
       "kich_kirc_FS    0.982971   0.467123   100  APStar  \n",
       "kich_kirc_PM    0.975321   0.313264  1000  APStar  \n",
       "kich_kirp_FS    0.987342   0.584425   100  APStar  \n",
       "kich_kirp_PM    0.992883   0.313262   100  APStar  \n",
       "kirc_kirp_FS    0.942496   0.352675  1000  APStar  \n",
       "kirc_kirp_PM    0.958621   0.467098  1000  APStar  \n",
       "luad_lusc_FS    0.858951   0.591313   100  APStar  \n",
       "luad_lusc_PM    0.881563   0.496515  1000  APStar  "
      ]
     },
     "execution_count": 18,
     "metadata": {},
     "output_type": "execute_result"
    }
   ],
   "source": [
    "df_m_test"
   ]
  },
  {
   "cell_type": "markdown",
   "metadata": {},
   "source": [
    "# Plot all results \n",
    "***"
   ]
  },
  {
   "cell_type": "code",
   "execution_count": 47,
   "metadata": {},
   "outputs": [
    {
     "data": {
      "application/vnd.plotly.v1+json": {
       "config": {
        "plotlyServerURL": "https://plot.ly"
       },
       "data": [
        {
         "alignmentgroup": "True",
         "hovertemplate": "model=Baseline<br>cancer=%{x}<br>value=%{y}<extra></extra>",
         "legendgroup": "Baseline",
         "marker": {
          "color": "rgb(170, 220, 225)",
          "pattern": {
           "shape": ""
          }
         },
         "name": "Baseline",
         "offsetgroup": "Baseline",
         "orientation": "v",
         "showlegend": true,
         "textposition": "auto",
         "texttemplate": "%{y:.3f}",
         "type": "bar",
         "x": [
          "kich_kirc_FS",
          "kich_kirc_PM",
          "kich_kirp_FS",
          "kich_kirp_PM",
          "kirc_kirp_FS",
          "kirc_kirp_PM",
          "luad_lusc_FS",
          "luad_lusc_PM"
         ],
         "xaxis": "x",
         "y": [
          0.9718309640884399,
          0.9616613388061523,
          0.9779559373855591,
          0.9922879338264465,
          0.9873239398002625,
          0.9887640476226807,
          0.9290322661399841,
          0.953984260559082
         ],
         "yaxis": "y"
        },
        {
         "alignmentgroup": "True",
         "hovertemplate": "model=EDF<br>cancer=%{x}<br>value=%{y}<extra></extra>",
         "legendgroup": "EDF",
         "marker": {
          "color": "rgb(80, 135, 180)",
          "pattern": {
           "shape": ""
          }
         },
         "name": "EDF",
         "offsetgroup": "EDF",
         "orientation": "v",
         "showlegend": true,
         "textposition": "auto",
         "texttemplate": "%{y:.3f}",
         "type": "bar",
         "x": [
          "kich_kirc_FS",
          "kich_kirc_PM",
          "kich_kirp_FS",
          "kich_kirp_PM",
          "kirc_kirp_FS",
          "kirc_kirp_PM",
          "luad_lusc_FS",
          "luad_lusc_PM"
         ],
         "xaxis": "x",
         "y": [
          0.9784590005874634,
          0.9680511355400085,
          0.9819639325141907,
          0.9974293112754822,
          0.9880281686782837,
          0.9875156283378601,
          0.9298387169837952,
          0.9506173133850098
         ],
         "yaxis": "y"
        },
        {
         "alignmentgroup": "True",
         "hovertemplate": "model=MinimaxFair<br>cancer=%{x}<br>value=%{y}<extra></extra>",
         "legendgroup": "MinimaxFair",
         "marker": {
          "color": "rgb(50, 100, 170)",
          "pattern": {
           "shape": ""
          }
         },
         "name": "MinimaxFair",
         "offsetgroup": "MinimaxFair",
         "orientation": "v",
         "showlegend": true,
         "textposition": "auto",
         "texttemplate": "%{y:.3f}",
         "type": "bar",
         "x": [
          "kich_kirc_FS",
          "kich_kirc_PM",
          "kich_kirp_FS",
          "kich_kirp_PM",
          "kirc_kirp_FS",
          "kirc_kirp_PM",
          "luad_lusc_FS",
          "luad_lusc_PM"
         ],
         "xaxis": "x",
         "y": [
          0.9776304960250854,
          0.9616613388061523,
          0.9739478826522827,
          0.9897172451019287,
          0.9795774817466736,
          0.9687890410423279,
          0.926612913608551,
          0.9427609443664551
         ],
         "yaxis": "y"
        },
        {
         "alignmentgroup": "True",
         "hovertemplate": "model=APStar<br>cancer=%{x}<br>value=%{y}<extra></extra>",
         "legendgroup": "APStar",
         "marker": {
          "color": "rgb(25, 35, 90)",
          "pattern": {
           "shape": ""
          }
         },
         "name": "APStar",
         "offsetgroup": "APStar",
         "orientation": "v",
         "showlegend": true,
         "textposition": "auto",
         "texttemplate": "%{y:.3f}",
         "type": "bar",
         "x": [
          "kich_kirc_FS",
          "kich_kirc_PM",
          "kich_kirp_FS",
          "kich_kirp_PM",
          "kirc_kirp_FS",
          "kirc_kirp_PM",
          "luad_lusc_FS",
          "luad_lusc_PM"
         ],
         "xaxis": "x",
         "y": [
          0.9701740145683289,
          0.9600638747215271,
          0.9819639325141907,
          0.9897172451019287,
          0.9711267352104187,
          0.9700374603271484,
          0.874193549156189,
          0.8911335468292236
         ],
         "yaxis": "y"
        },
        {
         "alignmentgroup": "True",
         "hovertemplate": "model=Baseline<br>cancer=%{x}<br>value=%{y}<extra></extra>",
         "legendgroup": "Baseline",
         "marker": {
          "color": "rgb(170, 220, 225)",
          "pattern": {
           "shape": ""
          }
         },
         "name": "Baseline",
         "offsetgroup": "Baseline",
         "orientation": "v",
         "showlegend": false,
         "textposition": "auto",
         "texttemplate": "%{y:.3f}",
         "type": "bar",
         "x": [
          "kich_kirc_FS",
          "kich_kirc_PM",
          "kich_kirp_FS",
          "kich_kirp_PM",
          "kirc_kirp_FS",
          "kirc_kirp_PM",
          "luad_lusc_FS",
          "luad_lusc_PM"
         ],
         "xaxis": "x2",
         "y": [
          0.46714338660240173,
          0.35389474034309387,
          0.6763200759887695,
          0.3287278413772583,
          0.3644925653934479,
          0.38713338971138,
          0.4629140794277191,
          0.4938459098339081
         ],
         "yaxis": "y2"
        },
        {
         "alignmentgroup": "True",
         "hovertemplate": "model=EDF<br>cancer=%{x}<br>value=%{y}<extra></extra>",
         "legendgroup": "EDF",
         "marker": {
          "color": "rgb(80, 135, 180)",
          "pattern": {
           "shape": ""
          }
         },
         "name": "EDF",
         "offsetgroup": "EDF",
         "orientation": "v",
         "showlegend": false,
         "textposition": "auto",
         "texttemplate": "%{y:.3f}",
         "type": "bar",
         "x": [
          "kich_kirc_FS",
          "kich_kirc_PM",
          "kich_kirp_FS",
          "kich_kirp_PM",
          "kirc_kirp_FS",
          "kirc_kirp_PM",
          "luad_lusc_FS",
          "luad_lusc_PM"
         ],
         "xaxis": "x2",
         "y": [
          0.46738794445991516,
          0.36468780040740967,
          0.6768379807472229,
          0.3143611550331116,
          0.3134296238422394,
          0.3192332088947296,
          0.44630059599876404,
          0.4915105104446411
         ],
         "yaxis": "y2"
        },
        {
         "alignmentgroup": "True",
         "hovertemplate": "model=MinimaxFair<br>cancer=%{x}<br>value=%{y}<extra></extra>",
         "legendgroup": "MinimaxFair",
         "marker": {
          "color": "rgb(50, 100, 170)",
          "pattern": {
           "shape": ""
          }
         },
         "name": "MinimaxFair",
         "offsetgroup": "MinimaxFair",
         "orientation": "v",
         "showlegend": false,
         "textposition": "auto",
         "texttemplate": "%{y:.3f}",
         "type": "bar",
         "x": [
          "kich_kirc_FS",
          "kich_kirc_PM",
          "kich_kirp_FS",
          "kich_kirp_PM",
          "kirc_kirp_FS",
          "kirc_kirp_PM",
          "luad_lusc_FS",
          "luad_lusc_PM"
         ],
         "xaxis": "x2",
         "y": [
          0.46711617708206177,
          0.39152687788009644,
          0.5815385580062866,
          0.31328532099723816,
          0.36698827147483826,
          0.40312767028808594,
          0.533090353012085,
          0.5020436644554138
         ],
         "yaxis": "y2"
        },
        {
         "alignmentgroup": "True",
         "hovertemplate": "model=APStar<br>cancer=%{x}<br>value=%{y}<extra></extra>",
         "legendgroup": "APStar",
         "marker": {
          "color": "rgb(25, 35, 90)",
          "pattern": {
           "shape": ""
          }
         },
         "name": "APStar",
         "offsetgroup": "APStar",
         "orientation": "v",
         "showlegend": false,
         "textposition": "auto",
         "texttemplate": "%{y:.3f}",
         "type": "bar",
         "x": [
          "kich_kirc_FS",
          "kich_kirc_PM",
          "kich_kirp_FS",
          "kich_kirp_PM",
          "kirc_kirp_FS",
          "kirc_kirp_PM",
          "luad_lusc_FS",
          "luad_lusc_PM"
         ],
         "xaxis": "x2",
         "y": [
          0.46712324023246765,
          0.31326431035995483,
          0.5844250917434692,
          0.31326165795326233,
          0.3526747524738312,
          0.4670976996421814,
          0.5913134813308716,
          0.4965147078037262
         ],
         "yaxis": "y2"
        }
       ],
       "layout": {
        "annotations": [
         {
          "font": {
           "size": 16
          },
          "showarrow": false,
          "text": "Accuracy",
          "x": 0.5,
          "xanchor": "center",
          "xref": "paper",
          "y": 1,
          "yanchor": "bottom",
          "yref": "paper"
         },
         {
          "font": {
           "size": 16
          },
          "showarrow": false,
          "text": "MMPF_size",
          "x": 0.5,
          "xanchor": "center",
          "xref": "paper",
          "y": 0.4,
          "yanchor": "bottom",
          "yref": "paper"
         }
        ],
        "bargap": 0.3,
        "bargroupgap": 0.1,
        "barmode": "group",
        "height": 600,
        "template": {
         "data": {
          "scatter": [
           {
            "type": "scatter"
           }
          ]
         }
        },
        "width": 1200,
        "xaxis": {
         "anchor": "y",
         "domain": [
          0,
          1
         ]
        },
        "xaxis2": {
         "anchor": "y2",
         "domain": [
          0,
          1
         ]
        },
        "yaxis": {
         "anchor": "x",
         "domain": [
          0.6000000000000001,
          1
         ],
         "title": {
          "text": "Values [no unit]"
         }
        },
        "yaxis2": {
         "anchor": "x2",
         "domain": [
          0,
          0.4
         ],
         "title": {
          "text": "Values [no unit]"
         }
        },
        "yaxis3": {
         "title": {
          "text": "Values [no unit]"
         }
        },
        "yaxis4": {
         "title": {
          "text": "Values [no unit]"
         }
        }
       }
      },
      "text/html": [
       "<div>                            <div id=\"6809927e-7791-4419-86fd-9f90f6af6e96\" class=\"plotly-graph-div\" style=\"height:600px; width:1200px;\"></div>            <script type=\"text/javascript\">                require([\"plotly\"], function(Plotly) {                    window.PLOTLYENV=window.PLOTLYENV || {};                                    if (document.getElementById(\"6809927e-7791-4419-86fd-9f90f6af6e96\")) {                    Plotly.newPlot(                        \"6809927e-7791-4419-86fd-9f90f6af6e96\",                        [{\"alignmentgroup\":\"True\",\"hovertemplate\":\"model=Baseline\\u003cbr\\u003ecancer=%{x}\\u003cbr\\u003evalue=%{y}\\u003cextra\\u003e\\u003c\\u002fextra\\u003e\",\"legendgroup\":\"Baseline\",\"marker\":{\"color\":\"rgb(170, 220, 225)\",\"pattern\":{\"shape\":\"\"}},\"name\":\"Baseline\",\"offsetgroup\":\"Baseline\",\"orientation\":\"v\",\"showlegend\":true,\"textposition\":\"auto\",\"texttemplate\":\"%{y:.3f}\",\"x\":[\"kich_kirc_FS\",\"kich_kirc_PM\",\"kich_kirp_FS\",\"kich_kirp_PM\",\"kirc_kirp_FS\",\"kirc_kirp_PM\",\"luad_lusc_FS\",\"luad_lusc_PM\"],\"xaxis\":\"x\",\"y\":[0.9718309640884399,0.9616613388061523,0.9779559373855591,0.9922879338264465,0.9873239398002625,0.9887640476226807,0.9290322661399841,0.953984260559082],\"yaxis\":\"y\",\"type\":\"bar\"},{\"alignmentgroup\":\"True\",\"hovertemplate\":\"model=EDF\\u003cbr\\u003ecancer=%{x}\\u003cbr\\u003evalue=%{y}\\u003cextra\\u003e\\u003c\\u002fextra\\u003e\",\"legendgroup\":\"EDF\",\"marker\":{\"color\":\"rgb(80, 135, 180)\",\"pattern\":{\"shape\":\"\"}},\"name\":\"EDF\",\"offsetgroup\":\"EDF\",\"orientation\":\"v\",\"showlegend\":true,\"textposition\":\"auto\",\"texttemplate\":\"%{y:.3f}\",\"x\":[\"kich_kirc_FS\",\"kich_kirc_PM\",\"kich_kirp_FS\",\"kich_kirp_PM\",\"kirc_kirp_FS\",\"kirc_kirp_PM\",\"luad_lusc_FS\",\"luad_lusc_PM\"],\"xaxis\":\"x\",\"y\":[0.9784590005874634,0.9680511355400085,0.9819639325141907,0.9974293112754822,0.9880281686782837,0.9875156283378601,0.9298387169837952,0.9506173133850098],\"yaxis\":\"y\",\"type\":\"bar\"},{\"alignmentgroup\":\"True\",\"hovertemplate\":\"model=MinimaxFair\\u003cbr\\u003ecancer=%{x}\\u003cbr\\u003evalue=%{y}\\u003cextra\\u003e\\u003c\\u002fextra\\u003e\",\"legendgroup\":\"MinimaxFair\",\"marker\":{\"color\":\"rgb(50, 100, 170)\",\"pattern\":{\"shape\":\"\"}},\"name\":\"MinimaxFair\",\"offsetgroup\":\"MinimaxFair\",\"orientation\":\"v\",\"showlegend\":true,\"textposition\":\"auto\",\"texttemplate\":\"%{y:.3f}\",\"x\":[\"kich_kirc_FS\",\"kich_kirc_PM\",\"kich_kirp_FS\",\"kich_kirp_PM\",\"kirc_kirp_FS\",\"kirc_kirp_PM\",\"luad_lusc_FS\",\"luad_lusc_PM\"],\"xaxis\":\"x\",\"y\":[0.9776304960250854,0.9616613388061523,0.9739478826522827,0.9897172451019287,0.9795774817466736,0.9687890410423279,0.926612913608551,0.9427609443664551],\"yaxis\":\"y\",\"type\":\"bar\"},{\"alignmentgroup\":\"True\",\"hovertemplate\":\"model=APStar\\u003cbr\\u003ecancer=%{x}\\u003cbr\\u003evalue=%{y}\\u003cextra\\u003e\\u003c\\u002fextra\\u003e\",\"legendgroup\":\"APStar\",\"marker\":{\"color\":\"rgb(25, 35, 90)\",\"pattern\":{\"shape\":\"\"}},\"name\":\"APStar\",\"offsetgroup\":\"APStar\",\"orientation\":\"v\",\"showlegend\":true,\"textposition\":\"auto\",\"texttemplate\":\"%{y:.3f}\",\"x\":[\"kich_kirc_FS\",\"kich_kirc_PM\",\"kich_kirp_FS\",\"kich_kirp_PM\",\"kirc_kirp_FS\",\"kirc_kirp_PM\",\"luad_lusc_FS\",\"luad_lusc_PM\"],\"xaxis\":\"x\",\"y\":[0.9701740145683289,0.9600638747215271,0.9819639325141907,0.9897172451019287,0.9711267352104187,0.9700374603271484,0.874193549156189,0.8911335468292236],\"yaxis\":\"y\",\"type\":\"bar\"},{\"alignmentgroup\":\"True\",\"hovertemplate\":\"model=Baseline\\u003cbr\\u003ecancer=%{x}\\u003cbr\\u003evalue=%{y}\\u003cextra\\u003e\\u003c\\u002fextra\\u003e\",\"legendgroup\":\"Baseline\",\"marker\":{\"color\":\"rgb(170, 220, 225)\",\"pattern\":{\"shape\":\"\"}},\"name\":\"Baseline\",\"offsetgroup\":\"Baseline\",\"orientation\":\"v\",\"showlegend\":false,\"textposition\":\"auto\",\"texttemplate\":\"%{y:.3f}\",\"x\":[\"kich_kirc_FS\",\"kich_kirc_PM\",\"kich_kirp_FS\",\"kich_kirp_PM\",\"kirc_kirp_FS\",\"kirc_kirp_PM\",\"luad_lusc_FS\",\"luad_lusc_PM\"],\"xaxis\":\"x2\",\"y\":[0.46714338660240173,0.35389474034309387,0.6763200759887695,0.3287278413772583,0.3644925653934479,0.38713338971138,0.4629140794277191,0.4938459098339081],\"yaxis\":\"y2\",\"type\":\"bar\"},{\"alignmentgroup\":\"True\",\"hovertemplate\":\"model=EDF\\u003cbr\\u003ecancer=%{x}\\u003cbr\\u003evalue=%{y}\\u003cextra\\u003e\\u003c\\u002fextra\\u003e\",\"legendgroup\":\"EDF\",\"marker\":{\"color\":\"rgb(80, 135, 180)\",\"pattern\":{\"shape\":\"\"}},\"name\":\"EDF\",\"offsetgroup\":\"EDF\",\"orientation\":\"v\",\"showlegend\":false,\"textposition\":\"auto\",\"texttemplate\":\"%{y:.3f}\",\"x\":[\"kich_kirc_FS\",\"kich_kirc_PM\",\"kich_kirp_FS\",\"kich_kirp_PM\",\"kirc_kirp_FS\",\"kirc_kirp_PM\",\"luad_lusc_FS\",\"luad_lusc_PM\"],\"xaxis\":\"x2\",\"y\":[0.46738794445991516,0.36468780040740967,0.6768379807472229,0.3143611550331116,0.3134296238422394,0.3192332088947296,0.44630059599876404,0.4915105104446411],\"yaxis\":\"y2\",\"type\":\"bar\"},{\"alignmentgroup\":\"True\",\"hovertemplate\":\"model=MinimaxFair\\u003cbr\\u003ecancer=%{x}\\u003cbr\\u003evalue=%{y}\\u003cextra\\u003e\\u003c\\u002fextra\\u003e\",\"legendgroup\":\"MinimaxFair\",\"marker\":{\"color\":\"rgb(50, 100, 170)\",\"pattern\":{\"shape\":\"\"}},\"name\":\"MinimaxFair\",\"offsetgroup\":\"MinimaxFair\",\"orientation\":\"v\",\"showlegend\":false,\"textposition\":\"auto\",\"texttemplate\":\"%{y:.3f}\",\"x\":[\"kich_kirc_FS\",\"kich_kirc_PM\",\"kich_kirp_FS\",\"kich_kirp_PM\",\"kirc_kirp_FS\",\"kirc_kirp_PM\",\"luad_lusc_FS\",\"luad_lusc_PM\"],\"xaxis\":\"x2\",\"y\":[0.46711617708206177,0.39152687788009644,0.5815385580062866,0.31328532099723816,0.36698827147483826,0.40312767028808594,0.533090353012085,0.5020436644554138],\"yaxis\":\"y2\",\"type\":\"bar\"},{\"alignmentgroup\":\"True\",\"hovertemplate\":\"model=APStar\\u003cbr\\u003ecancer=%{x}\\u003cbr\\u003evalue=%{y}\\u003cextra\\u003e\\u003c\\u002fextra\\u003e\",\"legendgroup\":\"APStar\",\"marker\":{\"color\":\"rgb(25, 35, 90)\",\"pattern\":{\"shape\":\"\"}},\"name\":\"APStar\",\"offsetgroup\":\"APStar\",\"orientation\":\"v\",\"showlegend\":false,\"textposition\":\"auto\",\"texttemplate\":\"%{y:.3f}\",\"x\":[\"kich_kirc_FS\",\"kich_kirc_PM\",\"kich_kirp_FS\",\"kich_kirp_PM\",\"kirc_kirp_FS\",\"kirc_kirp_PM\",\"luad_lusc_FS\",\"luad_lusc_PM\"],\"xaxis\":\"x2\",\"y\":[0.46712324023246765,0.31326431035995483,0.5844250917434692,0.31326165795326233,0.3526747524738312,0.4670976996421814,0.5913134813308716,0.4965147078037262],\"yaxis\":\"y2\",\"type\":\"bar\"}],                        {\"template\":{\"data\":{\"scatter\":[{\"type\":\"scatter\"}]}},\"xaxis\":{\"anchor\":\"y\",\"domain\":[0.0,1.0]},\"yaxis\":{\"anchor\":\"x\",\"domain\":[0.6000000000000001,1.0],\"title\":{\"text\":\"Values [no unit]\"}},\"xaxis2\":{\"anchor\":\"y2\",\"domain\":[0.0,1.0]},\"yaxis2\":{\"anchor\":\"x2\",\"domain\":[0.0,0.4],\"title\":{\"text\":\"Values [no unit]\"}},\"annotations\":[{\"font\":{\"size\":16},\"showarrow\":false,\"text\":\"Accuracy\",\"x\":0.5,\"xanchor\":\"center\",\"xref\":\"paper\",\"y\":1.0,\"yanchor\":\"bottom\",\"yref\":\"paper\"},{\"font\":{\"size\":16},\"showarrow\":false,\"text\":\"MMPF_size\",\"x\":0.5,\"xanchor\":\"center\",\"xref\":\"paper\",\"y\":0.4,\"yanchor\":\"bottom\",\"yref\":\"paper\"}],\"yaxis3\":{\"title\":{\"text\":\"Values [no unit]\"}},\"yaxis4\":{\"title\":{\"text\":\"Values [no unit]\"}},\"height\":600,\"width\":1200,\"barmode\":\"group\",\"bargap\":0.3,\"bargroupgap\":0.1},                        {\"responsive\": true}                    ).then(function(){\n",
       "                            \n",
       "var gd = document.getElementById('6809927e-7791-4419-86fd-9f90f6af6e96');\n",
       "var x = new MutationObserver(function (mutations, observer) {{\n",
       "        var display = window.getComputedStyle(gd).display;\n",
       "        if (!display || display === 'none') {{\n",
       "            console.log([gd, 'removed!']);\n",
       "            Plotly.purge(gd);\n",
       "            observer.disconnect();\n",
       "        }}\n",
       "}});\n",
       "\n",
       "// Listen for the removal of the full notebook cells\n",
       "var notebookContainer = gd.closest('#notebook-container');\n",
       "if (notebookContainer) {{\n",
       "    x.observe(notebookContainer, {childList: true});\n",
       "}}\n",
       "\n",
       "// Listen for the clearing of the current output cell\n",
       "var outputEl = gd.closest('.output');\n",
       "if (outputEl) {{\n",
       "    x.observe(outputEl, {childList: true});\n",
       "}}\n",
       "\n",
       "                        })                };                });            </script>        </div>"
      ]
     },
     "metadata": {},
     "output_type": "display_data"
    }
   ],
   "source": [
    "plot_results(df_baseline, df_f_test, df_d_test, df_m_test, 'images/atts_0.eps')"
   ]
  },
  {
   "cell_type": "markdown",
   "metadata": {},
   "source": [
    "# In-depth analysis of kich_kirc_PM\n",
    "***"
   ]
  },
  {
   "cell_type": "code",
   "execution_count": 26,
   "metadata": {},
   "outputs": [],
   "source": [
    "def compute_density_and_metrics(results, results_all):\n",
    "    # Initialization\n",
    "    results = results.astype({'age_' : 'int32', \n",
    "                            'race_' : 'int32', \n",
    "                            'gender_' : 'int32', \n",
    "                            'pred' : 'int32', \n",
    "                            'label' : 'int32'})\n",
    "    atts = ['age_', 'race_', 'gender_']\n",
    "    subgroups = np.unique(results[atts].values, axis = 0)\n",
    "    df = pd.DataFrame(subgroups, columns = atts)\n",
    "    df['Accuracy'] = 0.0\n",
    "    df['F1-score_0'] = 0.0\n",
    "    df['F1-score_1'] = 0.0\n",
    "    df['density'] = 0\n",
    "\n",
    "    # Loop on all the subgroups\n",
    "    for idx, sg in enumerate(subgroups):\n",
    "        cond = (results.age_ == sg[0]) & (results.race_ == sg[1]) & (results.gender_ == sg[2])\n",
    "        sub_df = results[cond]\n",
    "        \n",
    "        # Accuracy\n",
    "        df.loc[idx, 'Accuracy'] = tm.classification.BinaryAccuracy()(torch.Tensor(sub_df.pred.values), torch.Tensor(sub_df.label.values)).item()\n",
    "        \n",
    "        # Compute the f1-score\n",
    "        f1_scores = tm.classification.MulticlassF1Score(num_classes = 2, average = None)(torch.Tensor(sub_df.pred.values), torch.Tensor(sub_df.label.values))\n",
    "        df.loc[idx, 'F1-score_0'] = f1_scores[0].item()\n",
    "        df.loc[idx, 'F1-score_1'] = f1_scores[1].item()\n",
    "        \n",
    "        # Density\n",
    "        df.loc[idx, 'density'] = len(sub_df)\n",
    "    \n",
    "    mmpf_metrics = compute_pareto_metrics(results_all, protected_atts)\n",
    "        \n",
    "    # Modifications of the refs \n",
    "    df['age_str'] = df.age_.astype(str)\n",
    "    df['race_str'] = df.apply(lambda row : RACES['str'][row['race_']], axis = 1)\n",
    "    df['gender_str'] = df.apply(lambda row : GENDERS['str'][row['gender_']], axis = 1)\n",
    "    return df, mmpf_metrics"
   ]
  },
  {
   "cell_type": "code",
   "execution_count": 34,
   "metadata": {},
   "outputs": [],
   "source": [
    "# Initialization\n",
    "task = 'cancer_classification'\n",
    "cancer = 'kich_kirp_FS'\n",
    "\n",
    "# Get the Baseline results \n",
    "ID_b = 1000\n",
    "preds_path = f'results/preds/run_{ID_b}/add_protected_atts_1/Baseline/{task}/{cancer}/best_results.pkl'\n",
    "results_all_b = pd.read_pickle(preds_path)\n",
    "results_b = results_all_b[results_all_b.set == 'test']\n",
    "\n",
    "# Get the Martinez results \n",
    "ID_m = 100\n",
    "preds_path = f'results/preds/run_{ID_m}/add_protected_atts_1/Martinez/{task}/{cancer}/results.pkl'\n",
    "results_all_m = pd.read_pickle(preds_path)\n",
    "results_m = results_all_m[results_all_m.set == 'test']"
   ]
  },
  {
   "cell_type": "code",
   "execution_count": 35,
   "metadata": {},
   "outputs": [],
   "source": [
    "# Get the metrics\n",
    "df_b, b = compute_density_and_metrics(results_b, results_all_b)\n",
    "df_m, m = compute_density_and_metrics(results_m, results_all_m)\n",
    "\n",
    "# Pivot tables\n",
    "d0 = pd.pivot_table(df_b[df_b.gender_ == 0][['age_str', 'race_str', 'density']], index = 'age_str', columns = 'race_str')['density']\n",
    "d1 = pd.pivot_table(df_b[df_b.gender_ == 1][['age_str', 'race_str', 'density']], index = 'age_str', columns = 'race_str')['density']\n",
    "# density = pd.pivot_table(df_b[df_b.race_ == 1][['age_str', 'gender_str', 'density']], index = 'age_str', columns = 'gender_str')\n",
    "metric = 'Accuracy'\n",
    "baseline_0 = pd.pivot_table(df_b[df_b.gender_ == 0][['age_str', 'race_str', metric]], index = 'age_str', columns = 'race_str')[metric]\n",
    "martinez_0 = pd.pivot_table(df_m[df_m.gender_ == 0][['age_str', 'race_str', metric]], index = 'age_str', columns = 'race_str')[metric]\n",
    "baseline_1 = pd.pivot_table(df_b[df_b.gender_ == 1][['age_str', 'race_str', metric]], index = 'age_str', columns = 'race_str')[metric]\n",
    "martinez_1 = pd.pivot_table(df_m[df_m.gender_ == 1][['age_str', 'race_str', metric]], index = 'age_str', columns = 'race_str')[metric]"
   ]
  },
  {
   "cell_type": "code",
   "execution_count": 48,
   "metadata": {},
   "outputs": [
    {
     "data": {
      "application/vnd.plotly.v1+json": {
       "config": {
        "plotlyServerURL": "https://plot.ly"
       },
       "data": [
        {
         "coloraxis": "coloraxis",
         "texttemplate": "%{z:.2f}",
         "type": "heatmap",
         "x": [
          "ASIAN",
          "BLACK OR AFRICAN AMERICAN",
          "WHITE"
         ],
         "xaxis": "x",
         "y": [
          "3",
          "4",
          "5",
          "6",
          "7",
          "8"
         ],
         "yaxis": "y",
         "z": [
          [
           1,
           1,
           2
          ],
          [
           null,
           2,
           5
          ],
          [
           null,
           1,
           6
          ],
          [
           null,
           1,
           5
          ],
          [
           null,
           1,
           4
          ],
          [
           null,
           null,
           2
          ]
         ]
        },
        {
         "coloraxis": "coloraxis2",
         "texttemplate": "%{z:.2f}",
         "type": "heatmap",
         "x": [
          "ASIAN",
          "BLACK OR AFRICAN AMERICAN",
          "WHITE"
         ],
         "xaxis": "x2",
         "y": [
          "3",
          "4",
          "5",
          "6",
          "7",
          "8"
         ],
         "yaxis": "y2",
         "z": [
          [
           1,
           1,
           1
          ],
          [
           null,
           1,
           1
          ],
          [
           null,
           1,
           1
          ],
          [
           null,
           1,
           1
          ],
          [
           null,
           1,
           1
          ],
          [
           null,
           null,
           0.5
          ]
         ]
        },
        {
         "coloraxis": "coloraxis2",
         "texttemplate": "%{z:.2f}",
         "type": "heatmap",
         "x": [
          "ASIAN",
          "BLACK OR AFRICAN AMERICAN",
          "WHITE"
         ],
         "xaxis": "x3",
         "y": [
          "3",
          "4",
          "5",
          "6",
          "7",
          "8"
         ],
         "yaxis": "y3",
         "z": [
          [
           1,
           1,
           1
          ],
          [
           null,
           1,
           1
          ],
          [
           null,
           1,
           1
          ],
          [
           null,
           1,
           1
          ],
          [
           null,
           1,
           1
          ],
          [
           null,
           null,
           0.5
          ]
         ]
        },
        {
         "coloraxis": "coloraxis",
         "texttemplate": "%{z:.2f}",
         "type": "heatmap",
         "x": [
          "BLACK OR AFRICAN AMERICAN",
          "WHITE"
         ],
         "xaxis": "x4",
         "y": [
          "3",
          "4",
          "5",
          "6",
          "7",
          "8"
         ],
         "yaxis": "y4",
         "z": [
          [
           null,
           2
          ],
          [
           2,
           5
          ],
          [
           2,
           15
          ],
          [
           3,
           15
          ],
          [
           1,
           11
          ],
          [
           null,
           3
          ]
         ]
        },
        {
         "coloraxis": "coloraxis2",
         "texttemplate": "%{z:.2f}",
         "type": "heatmap",
         "x": [
          "BLACK OR AFRICAN AMERICAN",
          "WHITE"
         ],
         "xaxis": "x5",
         "y": [
          "3",
          "4",
          "5",
          "6",
          "7",
          "8"
         ],
         "yaxis": "y5",
         "z": [
          [
           null,
           1
          ],
          [
           1,
           0.800000011920929
          ],
          [
           1,
           1
          ],
          [
           1,
           1
          ],
          [
           1,
           0.6363636255264282
          ],
          [
           null,
           1
          ]
         ]
        },
        {
         "coloraxis": "coloraxis2",
         "texttemplate": "%{z:.2f}",
         "type": "heatmap",
         "x": [
          "BLACK OR AFRICAN AMERICAN",
          "WHITE"
         ],
         "xaxis": "x6",
         "y": [
          "3",
          "4",
          "5",
          "6",
          "7",
          "8"
         ],
         "yaxis": "y6",
         "z": [
          [
           null,
           1
          ],
          [
           1,
           1
          ],
          [
           1,
           1
          ],
          [
           1,
           1
          ],
          [
           1,
           0.7272727489471436
          ],
          [
           null,
           1
          ]
         ]
        }
       ],
       "layout": {
        "annotations": [
         {
          "font": {
           "size": 16
          },
          "showarrow": false,
          "text": "Distribution of the data (FEMALE)",
          "x": 0.13444444444444445,
          "xanchor": "center",
          "xref": "paper",
          "y": 1,
          "yanchor": "bottom",
          "yref": "paper"
         },
         {
          "font": {
           "size": 16
          },
          "showarrow": false,
          "text": "Accuracy for Baseline (FEMALE)",
          "x": 0.51,
          "xanchor": "center",
          "xref": "paper",
          "y": 1,
          "yanchor": "bottom",
          "yref": "paper"
         },
         {
          "font": {
           "size": 16
          },
          "showarrow": false,
          "text": "Accuracy for APStar (FEMALE)",
          "x": 0.8655555555555556,
          "xanchor": "center",
          "xref": "paper",
          "y": 1,
          "yanchor": "bottom",
          "yref": "paper"
         },
         {
          "font": {
           "size": 16
          },
          "showarrow": false,
          "text": "Distribution of the data (MALE)",
          "x": 0.13444444444444445,
          "xanchor": "center",
          "xref": "paper",
          "y": 0.375,
          "yanchor": "bottom",
          "yref": "paper"
         },
         {
          "font": {
           "size": 16
          },
          "showarrow": false,
          "text": "Accuracy for Baseline (MALE)",
          "x": 0.51,
          "xanchor": "center",
          "xref": "paper",
          "y": 0.375,
          "yanchor": "bottom",
          "yref": "paper"
         },
         {
          "font": {
           "size": 16
          },
          "showarrow": false,
          "text": "Accuracy for APStar (MALE)",
          "x": 0.8655555555555556,
          "xanchor": "center",
          "xref": "paper",
          "y": 0.375,
          "yanchor": "bottom",
          "yref": "paper"
         }
        ],
        "coloraxis": {
         "colorbar": {
          "thickness": 23,
          "title": {
           "side": "right",
           "text": "Nb of data "
          },
          "x": 0.27
         },
         "colorscale": [
          [
           0,
           "rgb(3, 5, 18)"
          ],
          [
           0.09090909090909091,
           "rgb(25, 25, 51)"
          ],
          [
           0.18181818181818182,
           "rgb(44, 42, 87)"
          ],
          [
           0.2727272727272727,
           "rgb(58, 60, 125)"
          ],
          [
           0.36363636363636365,
           "rgb(62, 83, 160)"
          ],
          [
           0.45454545454545453,
           "rgb(62, 109, 178)"
          ],
          [
           0.5454545454545454,
           "rgb(72, 134, 187)"
          ],
          [
           0.6363636363636364,
           "rgb(89, 159, 196)"
          ],
          [
           0.7272727272727273,
           "rgb(114, 184, 205)"
          ],
          [
           0.8181818181818182,
           "rgb(149, 207, 216)"
          ],
          [
           0.9090909090909091,
           "rgb(192, 229, 232)"
          ],
          [
           1,
           "rgb(234, 252, 253)"
          ]
         ]
        },
        "coloraxis2": {
         "colorbar": {
          "thickness": 23,
          "title": {
           "side": "right",
           "text": "Accuracy"
          },
          "x": 1
         },
         "colorscale": [
          [
           0,
           "rgb(165,0,38)"
          ],
          [
           0.1,
           "rgb(215,48,39)"
          ],
          [
           0.2,
           "rgb(244,109,67)"
          ],
          [
           0.3,
           "rgb(253,174,97)"
          ],
          [
           0.4,
           "rgb(254,224,139)"
          ],
          [
           0.5,
           "rgb(255,255,191)"
          ],
          [
           0.6,
           "rgb(217,239,139)"
          ],
          [
           0.7,
           "rgb(166,217,106)"
          ],
          [
           0.8,
           "rgb(102,189,99)"
          ],
          [
           0.9,
           "rgb(26,152,80)"
          ],
          [
           1,
           "rgb(0,104,55)"
          ]
         ]
        },
        "height": 600,
        "template": {
         "data": {
          "scatter": [
           {
            "type": "scatter"
           }
          ]
         }
        },
        "width": 1500,
        "xaxis": {
         "anchor": "y",
         "domain": [
          0,
          0.2688888888888889
         ],
         "labelalias": {
          "BLACK OR AFRICAN AMERICAN": "BLACK"
         }
        },
        "xaxis2": {
         "anchor": "y2",
         "domain": [
          0.3755555555555556,
          0.6444444444444445
         ],
         "labelalias": {
          "BLACK OR AFRICAN AMERICAN": "BLACK"
         }
        },
        "xaxis3": {
         "anchor": "y3",
         "domain": [
          0.7311111111111112,
          1
         ],
         "labelalias": {
          "BLACK OR AFRICAN AMERICAN": "BLACK"
         }
        },
        "xaxis4": {
         "anchor": "y4",
         "domain": [
          0,
          0.2688888888888889
         ],
         "labelalias": {
          "BLACK OR AFRICAN AMERICAN": "BLACK"
         }
        },
        "xaxis5": {
         "anchor": "y5",
         "domain": [
          0.3755555555555556,
          0.6444444444444445
         ],
         "labelalias": {
          "BLACK OR AFRICAN AMERICAN": "BLACK"
         }
        },
        "xaxis6": {
         "anchor": "y6",
         "domain": [
          0.7311111111111112,
          1
         ],
         "labelalias": {
          "BLACK OR AFRICAN AMERICAN": "BLACK"
         }
        },
        "yaxis": {
         "anchor": "x",
         "domain": [
          0.625,
          1
         ],
         "tickvals": [
          3,
          4,
          5,
          6,
          7,
          8
         ],
         "title": {
          "text": "Age"
         }
        },
        "yaxis2": {
         "anchor": "x2",
         "domain": [
          0.625,
          1
         ],
         "tickvals": [
          3,
          4,
          5,
          6,
          7,
          8
         ],
         "title": {
          "text": "Age"
         }
        },
        "yaxis3": {
         "anchor": "x3",
         "domain": [
          0.625,
          1
         ],
         "tickvals": [
          3,
          4,
          5,
          6,
          7,
          8
         ],
         "title": {
          "text": "Age"
         }
        },
        "yaxis4": {
         "anchor": "x4",
         "domain": [
          0,
          0.375
         ],
         "tickvals": [
          3,
          4,
          5,
          6,
          7,
          8
         ],
         "title": {
          "text": "Age"
         }
        },
        "yaxis5": {
         "anchor": "x5",
         "domain": [
          0,
          0.375
         ],
         "tickvals": [
          3,
          4,
          5,
          6,
          7,
          8
         ],
         "title": {
          "text": "Age"
         }
        },
        "yaxis6": {
         "anchor": "x6",
         "domain": [
          0,
          0.375
         ],
         "tickvals": [
          3,
          4,
          5,
          6,
          7,
          8
         ],
         "title": {
          "text": "Age"
         }
        }
       }
      },
      "text/html": [
       "<div>                            <div id=\"ba1be4a2-d7f7-44d0-879e-900edb4bf9aa\" class=\"plotly-graph-div\" style=\"height:600px; width:1500px;\"></div>            <script type=\"text/javascript\">                require([\"plotly\"], function(Plotly) {                    window.PLOTLYENV=window.PLOTLYENV || {};                                    if (document.getElementById(\"ba1be4a2-d7f7-44d0-879e-900edb4bf9aa\")) {                    Plotly.newPlot(                        \"ba1be4a2-d7f7-44d0-879e-900edb4bf9aa\",                        [{\"coloraxis\":\"coloraxis\",\"texttemplate\":\"%{z:.2f}\",\"x\":[\"ASIAN\",\"BLACK OR AFRICAN AMERICAN\",\"WHITE\"],\"y\":[\"3\",\"4\",\"5\",\"6\",\"7\",\"8\"],\"z\":[[1.0,1.0,2.0],[null,2.0,5.0],[null,1.0,6.0],[null,1.0,5.0],[null,1.0,4.0],[null,null,2.0]],\"type\":\"heatmap\",\"xaxis\":\"x\",\"yaxis\":\"y\"},{\"coloraxis\":\"coloraxis2\",\"texttemplate\":\"%{z:.2f}\",\"x\":[\"ASIAN\",\"BLACK OR AFRICAN AMERICAN\",\"WHITE\"],\"y\":[\"3\",\"4\",\"5\",\"6\",\"7\",\"8\"],\"z\":[[1.0,1.0,1.0],[null,1.0,1.0],[null,1.0,1.0],[null,1.0,1.0],[null,1.0,1.0],[null,null,0.5]],\"type\":\"heatmap\",\"xaxis\":\"x2\",\"yaxis\":\"y2\"},{\"coloraxis\":\"coloraxis2\",\"texttemplate\":\"%{z:.2f}\",\"x\":[\"ASIAN\",\"BLACK OR AFRICAN AMERICAN\",\"WHITE\"],\"y\":[\"3\",\"4\",\"5\",\"6\",\"7\",\"8\"],\"z\":[[1.0,1.0,1.0],[null,1.0,1.0],[null,1.0,1.0],[null,1.0,1.0],[null,1.0,1.0],[null,null,0.5]],\"type\":\"heatmap\",\"xaxis\":\"x3\",\"yaxis\":\"y3\"},{\"coloraxis\":\"coloraxis\",\"texttemplate\":\"%{z:.2f}\",\"x\":[\"BLACK OR AFRICAN AMERICAN\",\"WHITE\"],\"y\":[\"3\",\"4\",\"5\",\"6\",\"7\",\"8\"],\"z\":[[null,2.0],[2.0,5.0],[2.0,15.0],[3.0,15.0],[1.0,11.0],[null,3.0]],\"type\":\"heatmap\",\"xaxis\":\"x4\",\"yaxis\":\"y4\"},{\"coloraxis\":\"coloraxis2\",\"texttemplate\":\"%{z:.2f}\",\"x\":[\"BLACK OR AFRICAN AMERICAN\",\"WHITE\"],\"y\":[\"3\",\"4\",\"5\",\"6\",\"7\",\"8\"],\"z\":[[null,1.0],[1.0,0.800000011920929],[1.0,1.0],[1.0,1.0],[1.0,0.6363636255264282],[null,1.0]],\"type\":\"heatmap\",\"xaxis\":\"x5\",\"yaxis\":\"y5\"},{\"coloraxis\":\"coloraxis2\",\"texttemplate\":\"%{z:.2f}\",\"x\":[\"BLACK OR AFRICAN AMERICAN\",\"WHITE\"],\"y\":[\"3\",\"4\",\"5\",\"6\",\"7\",\"8\"],\"z\":[[null,1.0],[1.0,1.0],[1.0,1.0],[1.0,1.0],[1.0,0.7272727489471436],[null,1.0]],\"type\":\"heatmap\",\"xaxis\":\"x6\",\"yaxis\":\"y6\"}],                        {\"template\":{\"data\":{\"scatter\":[{\"type\":\"scatter\"}]}},\"xaxis\":{\"anchor\":\"y\",\"domain\":[0.0,0.2688888888888889],\"labelalias\":{\"BLACK OR AFRICAN AMERICAN\":\"BLACK\"}},\"yaxis\":{\"anchor\":\"x\",\"domain\":[0.625,1.0],\"title\":{\"text\":\"Age\"},\"tickvals\":[3,4,5,6,7,8]},\"xaxis2\":{\"anchor\":\"y2\",\"domain\":[0.3755555555555556,0.6444444444444445],\"labelalias\":{\"BLACK OR AFRICAN AMERICAN\":\"BLACK\"}},\"yaxis2\":{\"anchor\":\"x2\",\"domain\":[0.625,1.0],\"title\":{\"text\":\"Age\"},\"tickvals\":[3,4,5,6,7,8]},\"xaxis3\":{\"anchor\":\"y3\",\"domain\":[0.7311111111111112,1.0],\"labelalias\":{\"BLACK OR AFRICAN AMERICAN\":\"BLACK\"}},\"yaxis3\":{\"anchor\":\"x3\",\"domain\":[0.625,1.0],\"title\":{\"text\":\"Age\"},\"tickvals\":[3,4,5,6,7,8]},\"xaxis4\":{\"anchor\":\"y4\",\"domain\":[0.0,0.2688888888888889],\"labelalias\":{\"BLACK OR AFRICAN AMERICAN\":\"BLACK\"}},\"yaxis4\":{\"anchor\":\"x4\",\"domain\":[0.0,0.375],\"title\":{\"text\":\"Age\"},\"tickvals\":[3,4,5,6,7,8]},\"xaxis5\":{\"anchor\":\"y5\",\"domain\":[0.3755555555555556,0.6444444444444445],\"labelalias\":{\"BLACK OR AFRICAN AMERICAN\":\"BLACK\"}},\"yaxis5\":{\"anchor\":\"x5\",\"domain\":[0.0,0.375],\"title\":{\"text\":\"Age\"},\"tickvals\":[3,4,5,6,7,8]},\"xaxis6\":{\"anchor\":\"y6\",\"domain\":[0.7311111111111112,1.0],\"labelalias\":{\"BLACK OR AFRICAN AMERICAN\":\"BLACK\"}},\"yaxis6\":{\"anchor\":\"x6\",\"domain\":[0.0,0.375],\"title\":{\"text\":\"Age\"},\"tickvals\":[3,4,5,6,7,8]},\"annotations\":[{\"font\":{\"size\":16},\"showarrow\":false,\"text\":\"Distribution of the data (FEMALE)\",\"x\":0.13444444444444445,\"xanchor\":\"center\",\"xref\":\"paper\",\"y\":1.0,\"yanchor\":\"bottom\",\"yref\":\"paper\"},{\"font\":{\"size\":16},\"showarrow\":false,\"text\":\"Accuracy for Baseline (FEMALE)\",\"x\":0.51,\"xanchor\":\"center\",\"xref\":\"paper\",\"y\":1.0,\"yanchor\":\"bottom\",\"yref\":\"paper\"},{\"font\":{\"size\":16},\"showarrow\":false,\"text\":\"Accuracy for APStar (FEMALE)\",\"x\":0.8655555555555556,\"xanchor\":\"center\",\"xref\":\"paper\",\"y\":1.0,\"yanchor\":\"bottom\",\"yref\":\"paper\"},{\"font\":{\"size\":16},\"showarrow\":false,\"text\":\"Distribution of the data (MALE)\",\"x\":0.13444444444444445,\"xanchor\":\"center\",\"xref\":\"paper\",\"y\":0.375,\"yanchor\":\"bottom\",\"yref\":\"paper\"},{\"font\":{\"size\":16},\"showarrow\":false,\"text\":\"Accuracy for Baseline (MALE)\",\"x\":0.51,\"xanchor\":\"center\",\"xref\":\"paper\",\"y\":0.375,\"yanchor\":\"bottom\",\"yref\":\"paper\"},{\"font\":{\"size\":16},\"showarrow\":false,\"text\":\"Accuracy for APStar (MALE)\",\"x\":0.8655555555555556,\"xanchor\":\"center\",\"xref\":\"paper\",\"y\":0.375,\"yanchor\":\"bottom\",\"yref\":\"paper\"}],\"coloraxis\":{\"colorbar\":{\"title\":{\"text\":\"Nb of data \",\"side\":\"right\"},\"x\":0.27,\"thickness\":23},\"colorscale\":[[0.0,\"rgb(3, 5, 18)\"],[0.09090909090909091,\"rgb(25, 25, 51)\"],[0.18181818181818182,\"rgb(44, 42, 87)\"],[0.2727272727272727,\"rgb(58, 60, 125)\"],[0.36363636363636365,\"rgb(62, 83, 160)\"],[0.45454545454545453,\"rgb(62, 109, 178)\"],[0.5454545454545454,\"rgb(72, 134, 187)\"],[0.6363636363636364,\"rgb(89, 159, 196)\"],[0.7272727272727273,\"rgb(114, 184, 205)\"],[0.8181818181818182,\"rgb(149, 207, 216)\"],[0.9090909090909091,\"rgb(192, 229, 232)\"],[1.0,\"rgb(234, 252, 253)\"]]},\"coloraxis2\":{\"colorscale\":[[0.0,\"rgb(165,0,38)\"],[0.1,\"rgb(215,48,39)\"],[0.2,\"rgb(244,109,67)\"],[0.3,\"rgb(253,174,97)\"],[0.4,\"rgb(254,224,139)\"],[0.5,\"rgb(255,255,191)\"],[0.6,\"rgb(217,239,139)\"],[0.7,\"rgb(166,217,106)\"],[0.8,\"rgb(102,189,99)\"],[0.9,\"rgb(26,152,80)\"],[1.0,\"rgb(0,104,55)\"]],\"colorbar\":{\"x\":1,\"thickness\":23,\"title\":{\"text\":\"Accuracy\",\"side\":\"right\"}}},\"height\":600,\"width\":1500},                        {\"responsive\": true}                    ).then(function(){\n",
       "                            \n",
       "var gd = document.getElementById('ba1be4a2-d7f7-44d0-879e-900edb4bf9aa');\n",
       "var x = new MutationObserver(function (mutations, observer) {{\n",
       "        var display = window.getComputedStyle(gd).display;\n",
       "        if (!display || display === 'none') {{\n",
       "            console.log([gd, 'removed!']);\n",
       "            Plotly.purge(gd);\n",
       "            observer.disconnect();\n",
       "        }}\n",
       "}});\n",
       "\n",
       "// Listen for the removal of the full notebook cells\n",
       "var notebookContainer = gd.closest('#notebook-container');\n",
       "if (notebookContainer) {{\n",
       "    x.observe(notebookContainer, {childList: true});\n",
       "}}\n",
       "\n",
       "// Listen for the clearing of the current output cell\n",
       "var outputEl = gd.closest('.output');\n",
       "if (outputEl) {{\n",
       "    x.observe(outputEl, {childList: true});\n",
       "}}\n",
       "\n",
       "                        })                };                });            </script>        </div>"
      ]
     },
     "metadata": {},
     "output_type": "display_data"
    }
   ],
   "source": [
    "# Build the subplot\n",
    "fig = make_subplots(2, 3, specs=[[{'r':0.02}, {'l':0.02}, {'l':0.02}],\n",
    "                                 [{'r':0.02}, {'l':0.02}, {'l':0.02}]], #horizontal_spacing = 0.1,\n",
    "                    subplot_titles=('Distribution of the data (FEMALE)', 'Accuracy for Baseline (FEMALE)', 'Accuracy for APStar (FEMALE)', \n",
    "                                    'Distribution of the data (MALE)', 'Accuracy for Baseline (MALE)', 'Accuracy for APStar (MALE)'))\n",
    "\n",
    "# Add the heatmaps\n",
    "fig.add_trace(go.Heatmap(x = d0.columns, \n",
    "                         y = d0.index, \n",
    "                         z = d0, \n",
    "                         coloraxis = 'coloraxis', texttemplate = '%{z:.2f}'), 1, 1)\n",
    "fig.add_trace(go.Heatmap(x = baseline_0.columns, \n",
    "                         y = baseline_0.index, \n",
    "                         z = baseline_0, \n",
    "                         coloraxis = 'coloraxis2', texttemplate = '%{z:.2f}'), 1, 2)\n",
    "fig.add_trace(go.Heatmap(x = martinez_0.columns,\n",
    "                         y = martinez_0.index, \n",
    "                         z = martinez_0, \n",
    "                         coloraxis = 'coloraxis2', texttemplate = '%{z:.2f}'), 1, 3)\n",
    "fig.add_trace(go.Heatmap(x = d1.columns, \n",
    "                         y = d1.index, \n",
    "                         z = d1, \n",
    "                         coloraxis = 'coloraxis', texttemplate = '%{z:.2f}'), 2, 1)\n",
    "fig.add_trace(go.Heatmap(x = baseline_1.columns, \n",
    "                         y = baseline_1.index, \n",
    "                         z = baseline_1, \n",
    "                         coloraxis = 'coloraxis2', texttemplate = '%{z:.2f}'), 2, 2)\n",
    "fig.add_trace(go.Heatmap(x = martinez_1.columns,\n",
    "                         y = martinez_1.index, \n",
    "                         z = martinez_1, \n",
    "                         coloraxis = 'coloraxis2', texttemplate = '%{z:.2f}'), 2, 3)\n",
    "\n",
    "# Update the figures\n",
    "fig.update_layout(height = 600, width = 1500,\n",
    "                  template = 'none',\n",
    "                  yaxis = {\"title\": 'Age'},\n",
    "                  yaxis2 = {\"title\": 'Age'},\n",
    "                  yaxis3 = {\"title\": 'Age'},\n",
    "                  yaxis4 = {\"title\": 'Age'},\n",
    "                  yaxis5 = {\"title\": 'Age'},\n",
    "                  yaxis6 = {\"title\": 'Age'},\n",
    "                  coloraxis = dict(colorscale='ice', colorbar_x=0.27, colorbar_thickness=23, \n",
    "                                   colorbar_title = 'Nb of data ', colorbar_title_side = 'right'),\n",
    "                  coloraxis2 = dict(colorscale='RdYlGn', colorbar_x=1, colorbar_thickness=23, \n",
    "                                    colorbar_title = 'Accuracy', colorbar_title_side = 'right'))\n",
    "fig.update_layout(xaxis1 = dict(labelalias={'BLACK OR AFRICAN AMERICAN' : 'BLACK'}),\n",
    "                  yaxis1 = dict(tickvals=[3, 4, 5, 6, 7, 8]),\n",
    "                  xaxis2 = dict(labelalias={'BLACK OR AFRICAN AMERICAN' : 'BLACK'}),\n",
    "                  yaxis2 = dict(tickvals=[3, 4, 5, 6, 7, 8]),\n",
    "                  xaxis3 = dict(labelalias={'BLACK OR AFRICAN AMERICAN' : 'BLACK'}),\n",
    "                  yaxis3 = dict(tickvals=[3, 4, 5, 6, 7, 8]),\n",
    "                  xaxis4 = dict(labelalias={'BLACK OR AFRICAN AMERICAN' : 'BLACK'}),\n",
    "                  yaxis4 = dict(tickvals=[3, 4, 5, 6, 7, 8]),\n",
    "                  xaxis5 = dict(labelalias={'BLACK OR AFRICAN AMERICAN' : 'BLACK'}),\n",
    "                  yaxis5 = dict(tickvals=[3, 4, 5, 6, 7, 8]),\n",
    "                  xaxis6 = dict(labelalias={'BLACK OR AFRICAN AMERICAN' : 'BLACK'}),\n",
    "                  yaxis6 = dict(tickvals=[3, 4, 5, 6, 7, 8]))\n",
    "# fig.write_image(\"images/deep_analysis.eps\")\n",
    "fig.show()"
   ]
  },
  {
   "cell_type": "code",
   "execution_count": 44,
   "metadata": {},
   "outputs": [],
   "source": [
    "fig.write_image(\"images/deep_analysis_atts_0.eps\")"
   ]
  },
  {
   "cell_type": "code",
   "execution_count": 158,
   "metadata": {},
   "outputs": [
    {
     "data": {
      "text/plain": [
       "[('density', 'ASIAN'),\n",
       " ('density', 'BLACK OR AFRICAN AMERICAN'),\n",
       " ('density', 'WHITE')]"
      ]
     },
     "execution_count": 158,
     "metadata": {},
     "output_type": "execute_result"
    }
   ],
   "source": [
    "d0.columns.to_list()"
   ]
  },
  {
   "cell_type": "code",
   "execution_count": 160,
   "metadata": {},
   "outputs": [
    {
     "data": {
      "text/html": [
       "<div>\n",
       "<style scoped>\n",
       "    .dataframe tbody tr th:only-of-type {\n",
       "        vertical-align: middle;\n",
       "    }\n",
       "\n",
       "    .dataframe tbody tr th {\n",
       "        vertical-align: top;\n",
       "    }\n",
       "\n",
       "    .dataframe thead th {\n",
       "        text-align: right;\n",
       "    }\n",
       "</style>\n",
       "<table border=\"1\" class=\"dataframe\">\n",
       "  <thead>\n",
       "    <tr style=\"text-align: right;\">\n",
       "      <th>race_str</th>\n",
       "      <th>ASIAN</th>\n",
       "      <th>BLACK OR AFRICAN AMERICAN</th>\n",
       "      <th>WHITE</th>\n",
       "    </tr>\n",
       "    <tr>\n",
       "      <th>age_str</th>\n",
       "      <th></th>\n",
       "      <th></th>\n",
       "      <th></th>\n",
       "    </tr>\n",
       "  </thead>\n",
       "  <tbody>\n",
       "    <tr>\n",
       "      <th>3</th>\n",
       "      <td>1.0</td>\n",
       "      <td>1.0</td>\n",
       "      <td>1.0</td>\n",
       "    </tr>\n",
       "    <tr>\n",
       "      <th>4</th>\n",
       "      <td>NaN</td>\n",
       "      <td>2.0</td>\n",
       "      <td>10.0</td>\n",
       "    </tr>\n",
       "    <tr>\n",
       "      <th>5</th>\n",
       "      <td>NaN</td>\n",
       "      <td>3.0</td>\n",
       "      <td>16.0</td>\n",
       "    </tr>\n",
       "    <tr>\n",
       "      <th>6</th>\n",
       "      <td>1.0</td>\n",
       "      <td>3.0</td>\n",
       "      <td>24.0</td>\n",
       "    </tr>\n",
       "    <tr>\n",
       "      <th>7</th>\n",
       "      <td>NaN</td>\n",
       "      <td>2.0</td>\n",
       "      <td>20.0</td>\n",
       "    </tr>\n",
       "    <tr>\n",
       "      <th>8</th>\n",
       "      <td>NaN</td>\n",
       "      <td>NaN</td>\n",
       "      <td>6.0</td>\n",
       "    </tr>\n",
       "  </tbody>\n",
       "</table>\n",
       "</div>"
      ],
      "text/plain": [
       "race_str  ASIAN  BLACK OR AFRICAN AMERICAN  WHITE\n",
       "age_str                                          \n",
       "3           1.0                        1.0    1.0\n",
       "4           NaN                        2.0   10.0\n",
       "5           NaN                        3.0   16.0\n",
       "6           1.0                        3.0   24.0\n",
       "7           NaN                        2.0   20.0\n",
       "8           NaN                        NaN    6.0"
      ]
     },
     "execution_count": 160,
     "metadata": {},
     "output_type": "execute_result"
    }
   ],
   "source": [
    "pd.pivot_table(df_b[df_b.gender_ == 0][['age_str', 'race_str', 'density']], index = 'age_str', columns = 'race_str')['density']"
   ]
  },
  {
   "cell_type": "code",
   "execution_count": null,
   "metadata": {},
   "outputs": [],
   "source": []
  }
 ],
 "metadata": {
  "kernelspec": {
   "display_name": "pdm",
   "language": "python",
   "name": "python3"
  },
  "language_info": {
   "codemirror_mode": {
    "name": "ipython",
    "version": 3
   },
   "file_extension": ".py",
   "mimetype": "text/x-python",
   "name": "python",
   "nbconvert_exporter": "python",
   "pygments_lexer": "ipython3",
   "version": "3.11.5"
  }
 },
 "nbformat": 4,
 "nbformat_minor": 2
}
