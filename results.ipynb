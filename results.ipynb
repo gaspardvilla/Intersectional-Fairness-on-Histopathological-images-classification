{
 "cells": [
  {
   "cell_type": "markdown",
   "metadata": {},
   "source": [
    "# Imports and initialization of general parameters\n",
    "***"
   ]
  },
  {
   "cell_type": "code",
   "execution_count": 1,
   "metadata": {},
   "outputs": [],
   "source": [
    "from helpers.pareto_fairness import compute_pareto_metrics\n",
    "from config.info import AGES, RACES, GENDERS, COMBS_BASELINE, COMBS_FOULDS, COMBS_MARTINEZ\n",
    "from visualization.subgroup_distribution import plot_dist\n",
    "from dataprocess.dataloader import load_data\n",
    "from dataprocess.dataclass import Data\n",
    "from config.get_args import get_args\n",
    "from sklearn.metrics import mean_squared_error\n",
    "import plotly.express as px\n",
    "import plotly.graph_objects as go\n",
    "import plotly.figure_factory as ff\n",
    "from lightning import seed_everything\n",
    "from plotly.subplots import make_subplots\n",
    "import numpy as np\n",
    "import argparse\n",
    "import pandas as pd\n",
    "import random\n",
    "import torch.nn as nn\n",
    "import torch\n",
    "import torchmetrics as tm\n",
    "import pickle\n",
    "\n",
    "loss_fct = nn.CrossEntropyLoss()\n",
    "protected_atts = ['age_', 'race_', 'gender_']\n",
    "\n",
    "\n",
    "# Auto reload part\n",
    "%load_ext autoreload\n",
    "%autoreload 2"
   ]
  },
  {
   "cell_type": "markdown",
   "metadata": {},
   "source": [
    "# Baseline\n",
    "***"
   ]
  },
  {
   "cell_type": "code",
   "execution_count": 2,
   "metadata": {},
   "outputs": [],
   "source": [
    "def plot_results(df : pd.DataFrame, filename : str):\n",
    "    # Initialization of the plot\n",
    "    task_cc = 'cancer_classification'\n",
    "    task_td = 'tumor_detection'\n",
    "    fig = make_subplots(rows = 2, cols = 1, vertical_spacing = 0.2,\n",
    "                        subplot_titles = ('Tumor detection tasks', 'Cancer classification tasks'))\n",
    "\n",
    "    # Traces\n",
    "    cc = px.bar(df[df.task == task_cc], x = 'cancer', y = ['Accuracy', 'F1-score', 'MMPF_size'],\n",
    "                color_discrete_sequence = ['rgb(101, 171, 200)', 'rgb(50, 100, 170)', 'rgb(21, 21, 45)'], text_auto = '.3f')\n",
    "    td = px.bar(df[df.task == task_td], x = 'cancer', y = ['Accuracy', 'F1-score', 'MMPF_size'],\n",
    "                color_discrete_sequence = ['rgb(101, 171, 200)', 'rgb(50, 100, 170)', 'rgb(21, 21, 45)'], text_auto = '.3f').update_traces(showlegend = False)\n",
    "\n",
    "    # Update the figure\n",
    "    for t in range(len(cc['data'])): fig.add_trace(cc['data'][t], row = 2, col = 1)\n",
    "    for t in range(len(td['data'])): fig.add_trace(td['data'][t], row = 1, col = 1)\n",
    "    fig.update_layout(height = 700, width = 1200, \n",
    "                    template = 'none',\n",
    "                    xaxis = {'title': 'Cancer'},\n",
    "                    yaxis = {'title': 'Values [no unit]'},\n",
    "                    xaxis2 = {'title': 'Cancer'},\n",
    "                    yaxis2 = {'title': 'Values [no unit]'})\n",
    "    fig.update_layout(barmode = 'group', bargap = 0.3, bargroupgap = 0.1)\n",
    "    fig.write_image(filename)\n",
    "    fig.show()"
   ]
  },
  {
   "cell_type": "code",
   "execution_count": 23,
   "metadata": {},
   "outputs": [],
   "source": [
    "def check_results_baseline(task : str, \n",
    "                           cancer : str, \n",
    "                           df : pd.DataFrame,\n",
    "                           set_ : str):\n",
    "    # Initialization\n",
    "    sub_dict = {'task' : [task], 'cancer' : [cancer]}\n",
    "    \n",
    "    # Extract the results pkl files\n",
    "    preds_path = 'results/preds/run_100/add_protected_atts_1/Baseline'\n",
    "    results = pd.read_pickle(preds_path + f'/{task}/{cancer}/best_results.pkl')\n",
    "    \n",
    "    # Compute the metrics\n",
    "    # Accuracy \n",
    "    sub_dict['Accuracy'] = tm.classification.BinaryAccuracy()(torch.Tensor(results.pred), torch.Tensor(results.label)).item()\n",
    "    \n",
    "    # F1-score\n",
    "    sub_dict['F1-score'] = tm.classification.BinaryF1Score()(torch.Tensor(results.pred), torch.Tensor(results.label)).item()\n",
    "    \n",
    "    # MMPF_size\n",
    "    mmpf_metrics = compute_pareto_metrics(results, loss_fct, protected_atts)\n",
    "    sub_dict['MMPF_size'] = [mmpf_metrics[f'{set_}MMPF_size_2']]\n",
    "    \n",
    "    # Return the updated data frame\n",
    "    if df.empty: df = pd.DataFrame(data = sub_dict)\n",
    "    else: df = pd.concat([df, pd.DataFrame(data = sub_dict)])\n",
    "    return df"
   ]
  },
  {
   "cell_type": "code",
   "execution_count": 24,
   "metadata": {},
   "outputs": [
    {
     "name": "stdout",
     "output_type": "stream",
     "text": [
      "['cancer_classification', 'coad_read_FS']\n",
      "['cancer_classification', 'coad_read_PM']\n",
      "['cancer_classification', 'kich_kirc_FS']\n",
      "['cancer_classification', 'kich_kirc_PM']\n",
      "['cancer_classification', 'kich_kirp_FS']\n",
      "['cancer_classification', 'kich_kirp_PM']\n",
      "['cancer_classification', 'kirc_kirp_FS']\n",
      "['cancer_classification', 'kirc_kirp_PM']\n",
      "['cancer_classification', 'luad_lusc_FS']\n",
      "['cancer_classification', 'luad_lusc_PM']\n",
      "['tumor_detection', 'brca']\n",
      "['tumor_detection', 'coad']\n",
      "['tumor_detection', 'kich']\n",
      "['tumor_detection', 'kirc']\n",
      "['tumor_detection', 'kirp']\n",
      "['tumor_detection', 'luad']\n",
      "['tumor_detection', 'lusc']\n",
      "['tumor_detection', 'read']\n"
     ]
    },
    {
     "data": {
      "text/html": [
       "<div>\n",
       "<style scoped>\n",
       "    .dataframe tbody tr th:only-of-type {\n",
       "        vertical-align: middle;\n",
       "    }\n",
       "\n",
       "    .dataframe tbody tr th {\n",
       "        vertical-align: top;\n",
       "    }\n",
       "\n",
       "    .dataframe thead th {\n",
       "        text-align: right;\n",
       "    }\n",
       "</style>\n",
       "<table border=\"1\" class=\"dataframe\">\n",
       "  <thead>\n",
       "    <tr style=\"text-align: right;\">\n",
       "      <th></th>\n",
       "      <th>task</th>\n",
       "      <th>cancer</th>\n",
       "      <th>Accuracy</th>\n",
       "      <th>F1-score</th>\n",
       "      <th>MMPF_size</th>\n",
       "    </tr>\n",
       "  </thead>\n",
       "  <tbody>\n",
       "    <tr>\n",
       "      <th>0</th>\n",
       "      <td>cancer_classification</td>\n",
       "      <td>coad_read_FS</td>\n",
       "      <td>0.812044</td>\n",
       "      <td>0.529680</td>\n",
       "      <td>0.668881</td>\n",
       "    </tr>\n",
       "    <tr>\n",
       "      <th>0</th>\n",
       "      <td>cancer_classification</td>\n",
       "      <td>coad_read_PM</td>\n",
       "      <td>0.750799</td>\n",
       "      <td>0.000000</td>\n",
       "      <td>0.662391</td>\n",
       "    </tr>\n",
       "    <tr>\n",
       "      <th>0</th>\n",
       "      <td>cancer_classification</td>\n",
       "      <td>kich_kirc_FS</td>\n",
       "      <td>0.982929</td>\n",
       "      <td>0.990281</td>\n",
       "      <td>0.338233</td>\n",
       "    </tr>\n",
       "    <tr>\n",
       "      <th>0</th>\n",
       "      <td>cancer_classification</td>\n",
       "      <td>kich_kirc_PM</td>\n",
       "      <td>0.978456</td>\n",
       "      <td>0.986928</td>\n",
       "      <td>0.418525</td>\n",
       "    </tr>\n",
       "    <tr>\n",
       "      <th>0</th>\n",
       "      <td>cancer_classification</td>\n",
       "      <td>kich_kirp_FS</td>\n",
       "      <td>0.985222</td>\n",
       "      <td>0.989130</td>\n",
       "      <td>0.379836</td>\n",
       "    </tr>\n",
       "    <tr>\n",
       "      <th>0</th>\n",
       "      <td>cancer_classification</td>\n",
       "      <td>kich_kirp_PM</td>\n",
       "      <td>0.993671</td>\n",
       "      <td>0.995434</td>\n",
       "      <td>0.313311</td>\n",
       "    </tr>\n",
       "    <tr>\n",
       "      <th>0</th>\n",
       "      <td>cancer_classification</td>\n",
       "      <td>kirc_kirp_FS</td>\n",
       "      <td>0.991235</td>\n",
       "      <td>0.979667</td>\n",
       "      <td>0.335001</td>\n",
       "    </tr>\n",
       "    <tr>\n",
       "      <th>0</th>\n",
       "      <td>cancer_classification</td>\n",
       "      <td>kirc_kirp_PM</td>\n",
       "      <td>0.985316</td>\n",
       "      <td>0.977376</td>\n",
       "      <td>0.315457</td>\n",
       "    </tr>\n",
       "    <tr>\n",
       "      <th>0</th>\n",
       "      <td>cancer_classification</td>\n",
       "      <td>luad_lusc_FS</td>\n",
       "      <td>0.921099</td>\n",
       "      <td>0.917516</td>\n",
       "      <td>0.416868</td>\n",
       "    </tr>\n",
       "    <tr>\n",
       "      <th>0</th>\n",
       "      <td>cancer_classification</td>\n",
       "      <td>luad_lusc_PM</td>\n",
       "      <td>0.948750</td>\n",
       "      <td>0.943135</td>\n",
       "      <td>0.387147</td>\n",
       "    </tr>\n",
       "    <tr>\n",
       "      <th>0</th>\n",
       "      <td>tumor_detection</td>\n",
       "      <td>brca</td>\n",
       "      <td>0.996596</td>\n",
       "      <td>0.997785</td>\n",
       "      <td>0.313262</td>\n",
       "    </tr>\n",
       "    <tr>\n",
       "      <th>0</th>\n",
       "      <td>tumor_detection</td>\n",
       "      <td>coad</td>\n",
       "      <td>0.995455</td>\n",
       "      <td>0.997468</td>\n",
       "      <td>0.390091</td>\n",
       "    </tr>\n",
       "    <tr>\n",
       "      <th>0</th>\n",
       "      <td>tumor_detection</td>\n",
       "      <td>kich</td>\n",
       "      <td>1.000000</td>\n",
       "      <td>1.000000</td>\n",
       "      <td>0.313262</td>\n",
       "    </tr>\n",
       "    <tr>\n",
       "      <th>0</th>\n",
       "      <td>tumor_detection</td>\n",
       "      <td>kirc</td>\n",
       "      <td>1.000000</td>\n",
       "      <td>1.000000</td>\n",
       "      <td>0.313264</td>\n",
       "    </tr>\n",
       "    <tr>\n",
       "      <th>0</th>\n",
       "      <td>tumor_detection</td>\n",
       "      <td>kirp</td>\n",
       "      <td>0.997118</td>\n",
       "      <td>0.998178</td>\n",
       "      <td>0.313445</td>\n",
       "    </tr>\n",
       "    <tr>\n",
       "      <th>0</th>\n",
       "      <td>tumor_detection</td>\n",
       "      <td>luad</td>\n",
       "      <td>0.994943</td>\n",
       "      <td>0.996639</td>\n",
       "      <td>0.313357</td>\n",
       "    </tr>\n",
       "    <tr>\n",
       "      <th>0</th>\n",
       "      <td>tumor_detection</td>\n",
       "      <td>lusc</td>\n",
       "      <td>0.989319</td>\n",
       "      <td>0.992523</td>\n",
       "      <td>0.353604</td>\n",
       "    </tr>\n",
       "    <tr>\n",
       "      <th>0</th>\n",
       "      <td>tumor_detection</td>\n",
       "      <td>read</td>\n",
       "      <td>1.000000</td>\n",
       "      <td>1.000000</td>\n",
       "      <td>0.313262</td>\n",
       "    </tr>\n",
       "  </tbody>\n",
       "</table>\n",
       "</div>"
      ],
      "text/plain": [
       "                    task        cancer  Accuracy  F1-score  MMPF_size\n",
       "0  cancer_classification  coad_read_FS  0.812044  0.529680   0.668881\n",
       "0  cancer_classification  coad_read_PM  0.750799  0.000000   0.662391\n",
       "0  cancer_classification  kich_kirc_FS  0.982929  0.990281   0.338233\n",
       "0  cancer_classification  kich_kirc_PM  0.978456  0.986928   0.418525\n",
       "0  cancer_classification  kich_kirp_FS  0.985222  0.989130   0.379836\n",
       "0  cancer_classification  kich_kirp_PM  0.993671  0.995434   0.313311\n",
       "0  cancer_classification  kirc_kirp_FS  0.991235  0.979667   0.335001\n",
       "0  cancer_classification  kirc_kirp_PM  0.985316  0.977376   0.315457\n",
       "0  cancer_classification  luad_lusc_FS  0.921099  0.917516   0.416868\n",
       "0  cancer_classification  luad_lusc_PM  0.948750  0.943135   0.387147\n",
       "0        tumor_detection          brca  0.996596  0.997785   0.313262\n",
       "0        tumor_detection          coad  0.995455  0.997468   0.390091\n",
       "0        tumor_detection          kich  1.000000  1.000000   0.313262\n",
       "0        tumor_detection          kirc  1.000000  1.000000   0.313264\n",
       "0        tumor_detection          kirp  0.997118  0.998178   0.313445\n",
       "0        tumor_detection          luad  0.994943  0.996639   0.313357\n",
       "0        tumor_detection          lusc  0.989319  0.992523   0.353604\n",
       "0        tumor_detection          read  1.000000  1.000000   0.313262"
      ]
     },
     "execution_count": 24,
     "metadata": {},
     "output_type": "execute_result"
    }
   ],
   "source": [
    "# Initialization\n",
    "cols = ['task', 'cancer', 'Accuracy', 'F1-score', 'MMPF_size']\n",
    "df_baseline = pd.DataFrame(columns = cols)\n",
    "\n",
    "# Loop on the combinations for baseline\n",
    "for comb in COMBS_BASELINE:\n",
    "    # Track\n",
    "    print(comb)\n",
    "    \n",
    "    # Extract combinations\n",
    "    task = comb[0]\n",
    "    cancer = comb[1]\n",
    "    \n",
    "    # Get the metrics\n",
    "    df_baseline = check_results_baseline(task, cancer, df_baseline, 'test_')\n",
    "df_baseline"
   ]
  },
  {
   "cell_type": "code",
   "execution_count": 25,
   "metadata": {},
   "outputs": [
    {
     "data": {
      "application/vnd.plotly.v1+json": {
       "config": {
        "plotlyServerURL": "https://plot.ly"
       },
       "data": [
        {
         "alignmentgroup": "True",
         "hovertemplate": "variable=Accuracy<br>cancer=%{x}<br>value=%{y}<extra></extra>",
         "legendgroup": "Accuracy",
         "marker": {
          "color": "rgb(101, 171, 200)",
          "pattern": {
           "shape": ""
          }
         },
         "name": "Accuracy",
         "offsetgroup": "Accuracy",
         "orientation": "v",
         "showlegend": true,
         "textposition": "auto",
         "texttemplate": "%{y:.3f}",
         "type": "bar",
         "x": [
          "coad_read_FS",
          "coad_read_PM",
          "kich_kirc_FS",
          "kich_kirc_PM",
          "kich_kirp_FS",
          "kich_kirp_PM",
          "kirc_kirp_FS",
          "kirc_kirp_PM",
          "luad_lusc_FS",
          "luad_lusc_PM"
         ],
         "xaxis": "x2",
         "y": [
          0.8120437860488892,
          0.7507987022399902,
          0.982928991317749,
          0.9784560203552246,
          0.9852216839790344,
          0.9936708807945251,
          0.991235077381134,
          0.98531574010849,
          0.9210993051528931,
          0.9487500190734863
         ],
         "yaxis": "y2"
        },
        {
         "alignmentgroup": "True",
         "hovertemplate": "variable=F1-score<br>cancer=%{x}<br>value=%{y}<extra></extra>",
         "legendgroup": "F1-score",
         "marker": {
          "color": "rgb(50, 100, 170)",
          "pattern": {
           "shape": ""
          }
         },
         "name": "F1-score",
         "offsetgroup": "F1-score",
         "orientation": "v",
         "showlegend": true,
         "textposition": "auto",
         "texttemplate": "%{y:.3f}",
         "type": "bar",
         "x": [
          "coad_read_FS",
          "coad_read_PM",
          "kich_kirc_FS",
          "kich_kirc_PM",
          "kich_kirp_FS",
          "kich_kirp_PM",
          "kirc_kirp_FS",
          "kirc_kirp_PM",
          "luad_lusc_FS",
          "luad_lusc_PM"
         ],
         "xaxis": "x2",
         "y": [
          0.5296803712844849,
          0,
          0.990281343460083,
          0.9869281053543091,
          0.989130437374115,
          0.9954338073730469,
          0.9796673059463501,
          0.9773755669593811,
          0.9175162315368652,
          0.9431345462799072
         ],
         "yaxis": "y2"
        },
        {
         "alignmentgroup": "True",
         "hovertemplate": "variable=MMPF_size<br>cancer=%{x}<br>value=%{y}<extra></extra>",
         "legendgroup": "MMPF_size",
         "marker": {
          "color": "rgb(21, 21, 45)",
          "pattern": {
           "shape": ""
          }
         },
         "name": "MMPF_size",
         "offsetgroup": "MMPF_size",
         "orientation": "v",
         "showlegend": true,
         "textposition": "auto",
         "texttemplate": "%{y:.3f}",
         "type": "bar",
         "x": [
          "coad_read_FS",
          "coad_read_PM",
          "kich_kirc_FS",
          "kich_kirc_PM",
          "kich_kirp_FS",
          "kich_kirp_PM",
          "kirc_kirp_FS",
          "kirc_kirp_PM",
          "luad_lusc_FS",
          "luad_lusc_PM"
         ],
         "xaxis": "x2",
         "y": [
          0.668880881741643,
          0.6623909076054891,
          0.33823286071419717,
          0.4185248880009902,
          0.3798362116018931,
          0.31331080198287964,
          0.33500092249849567,
          0.31545682858537744,
          0.41686849644843565,
          0.38714730832725763
         ],
         "yaxis": "y2"
        },
        {
         "alignmentgroup": "True",
         "hovertemplate": "variable=Accuracy<br>cancer=%{x}<br>value=%{y}<extra></extra>",
         "legendgroup": "Accuracy",
         "marker": {
          "color": "rgb(101, 171, 200)",
          "pattern": {
           "shape": ""
          }
         },
         "name": "Accuracy",
         "offsetgroup": "Accuracy",
         "orientation": "v",
         "showlegend": false,
         "textposition": "auto",
         "texttemplate": "%{y:.3f}",
         "type": "bar",
         "x": [
          "brca",
          "coad",
          "kich",
          "kirc",
          "kirp",
          "luad",
          "lusc",
          "read"
         ],
         "xaxis": "x",
         "y": [
          0.9965963363647461,
          0.9954545497894287,
          1,
          1,
          0.9971181750297546,
          0.9949430823326111,
          0.9893190860748291,
          1
         ],
         "yaxis": "y"
        },
        {
         "alignmentgroup": "True",
         "hovertemplate": "variable=F1-score<br>cancer=%{x}<br>value=%{y}<extra></extra>",
         "legendgroup": "F1-score",
         "marker": {
          "color": "rgb(50, 100, 170)",
          "pattern": {
           "shape": ""
          }
         },
         "name": "F1-score",
         "offsetgroup": "F1-score",
         "orientation": "v",
         "showlegend": false,
         "textposition": "auto",
         "texttemplate": "%{y:.3f}",
         "type": "bar",
         "x": [
          "brca",
          "coad",
          "kich",
          "kirc",
          "kirp",
          "luad",
          "lusc",
          "read"
         ],
         "xaxis": "x",
         "y": [
          0.9977846741676331,
          0.9974683523178101,
          1,
          1,
          0.9981784820556641,
          0.9966386556625366,
          0.9925233721733093,
          1
         ],
         "yaxis": "y"
        },
        {
         "alignmentgroup": "True",
         "hovertemplate": "variable=MMPF_size<br>cancer=%{x}<br>value=%{y}<extra></extra>",
         "legendgroup": "MMPF_size",
         "marker": {
          "color": "rgb(21, 21, 45)",
          "pattern": {
           "shape": ""
          }
         },
         "name": "MMPF_size",
         "offsetgroup": "MMPF_size",
         "orientation": "v",
         "showlegend": false,
         "textposition": "auto",
         "texttemplate": "%{y:.3f}",
         "type": "bar",
         "x": [
          "brca",
          "coad",
          "kich",
          "kirc",
          "kirp",
          "luad",
          "lusc",
          "read"
         ],
         "xaxis": "x",
         "y": [
          0.3132616992180164,
          0.3900905182728401,
          0.31326165795326233,
          0.3132636530832811,
          0.31344523032506305,
          0.31335659325122833,
          0.3536036830572855,
          0.31326171159744265
         ],
         "yaxis": "y"
        }
       ],
       "layout": {
        "annotations": [
         {
          "font": {
           "size": 16
          },
          "showarrow": false,
          "text": "Tumor detection tasks",
          "x": 0.5,
          "xanchor": "center",
          "xref": "paper",
          "y": 1,
          "yanchor": "bottom",
          "yref": "paper"
         },
         {
          "font": {
           "size": 16
          },
          "showarrow": false,
          "text": "Cancer classification tasks",
          "x": 0.5,
          "xanchor": "center",
          "xref": "paper",
          "y": 0.4,
          "yanchor": "bottom",
          "yref": "paper"
         }
        ],
        "bargap": 0.3,
        "bargroupgap": 0.1,
        "barmode": "group",
        "height": 700,
        "template": {
         "data": {
          "scatter": [
           {
            "type": "scatter"
           }
          ]
         }
        },
        "width": 1200,
        "xaxis": {
         "anchor": "y",
         "domain": [
          0,
          1
         ],
         "title": {
          "text": "Cancer"
         }
        },
        "xaxis2": {
         "anchor": "y2",
         "domain": [
          0,
          1
         ],
         "title": {
          "text": "Cancer"
         }
        },
        "yaxis": {
         "anchor": "x",
         "domain": [
          0.6000000000000001,
          1
         ],
         "title": {
          "text": "Values [no unit]"
         }
        },
        "yaxis2": {
         "anchor": "x2",
         "domain": [
          0,
          0.4
         ],
         "title": {
          "text": "Values [no unit]"
         }
        }
       }
      },
      "text/html": [
       "<div>                            <div id=\"f2b6a463-ab6f-47b9-993c-a5bdc1744f68\" class=\"plotly-graph-div\" style=\"height:700px; width:1200px;\"></div>            <script type=\"text/javascript\">                require([\"plotly\"], function(Plotly) {                    window.PLOTLYENV=window.PLOTLYENV || {};                                    if (document.getElementById(\"f2b6a463-ab6f-47b9-993c-a5bdc1744f68\")) {                    Plotly.newPlot(                        \"f2b6a463-ab6f-47b9-993c-a5bdc1744f68\",                        [{\"alignmentgroup\":\"True\",\"hovertemplate\":\"variable=Accuracy<br>cancer=%{x}<br>value=%{y}<extra></extra>\",\"legendgroup\":\"Accuracy\",\"marker\":{\"color\":\"rgb(101, 171, 200)\",\"pattern\":{\"shape\":\"\"}},\"name\":\"Accuracy\",\"offsetgroup\":\"Accuracy\",\"orientation\":\"v\",\"showlegend\":true,\"textposition\":\"auto\",\"texttemplate\":\"%{y:.3f}\",\"x\":[\"coad_read_FS\",\"coad_read_PM\",\"kich_kirc_FS\",\"kich_kirc_PM\",\"kich_kirp_FS\",\"kich_kirp_PM\",\"kirc_kirp_FS\",\"kirc_kirp_PM\",\"luad_lusc_FS\",\"luad_lusc_PM\"],\"xaxis\":\"x2\",\"y\":[0.8120437860488892,0.7507987022399902,0.982928991317749,0.9784560203552246,0.9852216839790344,0.9936708807945251,0.991235077381134,0.98531574010849,0.9210993051528931,0.9487500190734863],\"yaxis\":\"y2\",\"type\":\"bar\"},{\"alignmentgroup\":\"True\",\"hovertemplate\":\"variable=F1-score<br>cancer=%{x}<br>value=%{y}<extra></extra>\",\"legendgroup\":\"F1-score\",\"marker\":{\"color\":\"rgb(50, 100, 170)\",\"pattern\":{\"shape\":\"\"}},\"name\":\"F1-score\",\"offsetgroup\":\"F1-score\",\"orientation\":\"v\",\"showlegend\":true,\"textposition\":\"auto\",\"texttemplate\":\"%{y:.3f}\",\"x\":[\"coad_read_FS\",\"coad_read_PM\",\"kich_kirc_FS\",\"kich_kirc_PM\",\"kich_kirp_FS\",\"kich_kirp_PM\",\"kirc_kirp_FS\",\"kirc_kirp_PM\",\"luad_lusc_FS\",\"luad_lusc_PM\"],\"xaxis\":\"x2\",\"y\":[0.5296803712844849,0.0,0.990281343460083,0.9869281053543091,0.989130437374115,0.9954338073730469,0.9796673059463501,0.9773755669593811,0.9175162315368652,0.9431345462799072],\"yaxis\":\"y2\",\"type\":\"bar\"},{\"alignmentgroup\":\"True\",\"hovertemplate\":\"variable=MMPF_size<br>cancer=%{x}<br>value=%{y}<extra></extra>\",\"legendgroup\":\"MMPF_size\",\"marker\":{\"color\":\"rgb(21, 21, 45)\",\"pattern\":{\"shape\":\"\"}},\"name\":\"MMPF_size\",\"offsetgroup\":\"MMPF_size\",\"orientation\":\"v\",\"showlegend\":true,\"textposition\":\"auto\",\"texttemplate\":\"%{y:.3f}\",\"x\":[\"coad_read_FS\",\"coad_read_PM\",\"kich_kirc_FS\",\"kich_kirc_PM\",\"kich_kirp_FS\",\"kich_kirp_PM\",\"kirc_kirp_FS\",\"kirc_kirp_PM\",\"luad_lusc_FS\",\"luad_lusc_PM\"],\"xaxis\":\"x2\",\"y\":[0.668880881741643,0.6623909076054891,0.33823286071419717,0.4185248880009902,0.3798362116018931,0.31331080198287964,0.33500092249849567,0.31545682858537744,0.41686849644843565,0.38714730832725763],\"yaxis\":\"y2\",\"type\":\"bar\"},{\"alignmentgroup\":\"True\",\"hovertemplate\":\"variable=Accuracy<br>cancer=%{x}<br>value=%{y}<extra></extra>\",\"legendgroup\":\"Accuracy\",\"marker\":{\"color\":\"rgb(101, 171, 200)\",\"pattern\":{\"shape\":\"\"}},\"name\":\"Accuracy\",\"offsetgroup\":\"Accuracy\",\"orientation\":\"v\",\"showlegend\":false,\"textposition\":\"auto\",\"texttemplate\":\"%{y:.3f}\",\"x\":[\"brca\",\"coad\",\"kich\",\"kirc\",\"kirp\",\"luad\",\"lusc\",\"read\"],\"xaxis\":\"x\",\"y\":[0.9965963363647461,0.9954545497894287,1.0,1.0,0.9971181750297546,0.9949430823326111,0.9893190860748291,1.0],\"yaxis\":\"y\",\"type\":\"bar\"},{\"alignmentgroup\":\"True\",\"hovertemplate\":\"variable=F1-score<br>cancer=%{x}<br>value=%{y}<extra></extra>\",\"legendgroup\":\"F1-score\",\"marker\":{\"color\":\"rgb(50, 100, 170)\",\"pattern\":{\"shape\":\"\"}},\"name\":\"F1-score\",\"offsetgroup\":\"F1-score\",\"orientation\":\"v\",\"showlegend\":false,\"textposition\":\"auto\",\"texttemplate\":\"%{y:.3f}\",\"x\":[\"brca\",\"coad\",\"kich\",\"kirc\",\"kirp\",\"luad\",\"lusc\",\"read\"],\"xaxis\":\"x\",\"y\":[0.9977846741676331,0.9974683523178101,1.0,1.0,0.9981784820556641,0.9966386556625366,0.9925233721733093,1.0],\"yaxis\":\"y\",\"type\":\"bar\"},{\"alignmentgroup\":\"True\",\"hovertemplate\":\"variable=MMPF_size<br>cancer=%{x}<br>value=%{y}<extra></extra>\",\"legendgroup\":\"MMPF_size\",\"marker\":{\"color\":\"rgb(21, 21, 45)\",\"pattern\":{\"shape\":\"\"}},\"name\":\"MMPF_size\",\"offsetgroup\":\"MMPF_size\",\"orientation\":\"v\",\"showlegend\":false,\"textposition\":\"auto\",\"texttemplate\":\"%{y:.3f}\",\"x\":[\"brca\",\"coad\",\"kich\",\"kirc\",\"kirp\",\"luad\",\"lusc\",\"read\"],\"xaxis\":\"x\",\"y\":[0.3132616992180164,0.3900905182728401,0.31326165795326233,0.3132636530832811,0.31344523032506305,0.31335659325122833,0.3536036830572855,0.31326171159744265],\"yaxis\":\"y\",\"type\":\"bar\"}],                        {\"template\":{\"data\":{\"scatter\":[{\"type\":\"scatter\"}]}},\"xaxis\":{\"anchor\":\"y\",\"domain\":[0.0,1.0],\"title\":{\"text\":\"Cancer\"}},\"yaxis\":{\"anchor\":\"x\",\"domain\":[0.6000000000000001,1.0],\"title\":{\"text\":\"Values [no unit]\"}},\"xaxis2\":{\"anchor\":\"y2\",\"domain\":[0.0,1.0],\"title\":{\"text\":\"Cancer\"}},\"yaxis2\":{\"anchor\":\"x2\",\"domain\":[0.0,0.4],\"title\":{\"text\":\"Values [no unit]\"}},\"annotations\":[{\"font\":{\"size\":16},\"showarrow\":false,\"text\":\"Tumor detection tasks\",\"x\":0.5,\"xanchor\":\"center\",\"xref\":\"paper\",\"y\":1.0,\"yanchor\":\"bottom\",\"yref\":\"paper\"},{\"font\":{\"size\":16},\"showarrow\":false,\"text\":\"Cancer classification tasks\",\"x\":0.5,\"xanchor\":\"center\",\"xref\":\"paper\",\"y\":0.4,\"yanchor\":\"bottom\",\"yref\":\"paper\"}],\"height\":700,\"width\":1200,\"barmode\":\"group\",\"bargap\":0.3,\"bargroupgap\":0.1},                        {\"responsive\": true}                    ).then(function(){\n",
       "                            \n",
       "var gd = document.getElementById('f2b6a463-ab6f-47b9-993c-a5bdc1744f68');\n",
       "var x = new MutationObserver(function (mutations, observer) {{\n",
       "        var display = window.getComputedStyle(gd).display;\n",
       "        if (!display || display === 'none') {{\n",
       "            console.log([gd, 'removed!']);\n",
       "            Plotly.purge(gd);\n",
       "            observer.disconnect();\n",
       "        }}\n",
       "}});\n",
       "\n",
       "// Listen for the removal of the full notebook cells\n",
       "var notebookContainer = gd.closest('#notebook-container');\n",
       "if (notebookContainer) {{\n",
       "    x.observe(notebookContainer, {childList: true});\n",
       "}}\n",
       "\n",
       "// Listen for the clearing of the current output cell\n",
       "var outputEl = gd.closest('.output');\n",
       "if (outputEl) {{\n",
       "    x.observe(outputEl, {childList: true});\n",
       "}}\n",
       "\n",
       "                        })                };                });            </script>        </div>"
      ]
     },
     "metadata": {},
     "output_type": "display_data"
    }
   ],
   "source": [
    "plot_results(df_baseline, 'images/results_baseline.eps')"
   ]
  },
  {
   "cell_type": "markdown",
   "metadata": {},
   "source": [
    "# Foulds\n",
    "***"
   ]
  },
  {
   "cell_type": "code",
   "execution_count": 20,
   "metadata": {},
   "outputs": [],
   "source": [
    "def check_results_foulds(task : str, \n",
    "                           cancer : str, \n",
    "                           lambda_ : float,\n",
    "                           pt_method : str,\n",
    "                           df : pd.DataFrame,\n",
    "                           set_ : str):\n",
    "    # Initialization\n",
    "    sub_dict = {'task' : [task], 'cancer' : [cancer], 'lambda_' : [lambda_], 'pt_method' : [pt_method]}\n",
    "    \n",
    "    # Extract the results pkl files\n",
    "    preds_path = 'results/preds/run_100/add_protected_atts_1/Foulds'\n",
    "    results = pd.read_pickle(preds_path + f'/{task}/{cancer}/lambda_{lambda_}/{pt_method}/best_results.pkl')\n",
    "    \n",
    "    # Compute the metrics\n",
    "    # Accuracy \n",
    "    sub_dict['Accuracy'] = tm.classification.BinaryAccuracy()(torch.Tensor(results.pred), torch.Tensor(results.label)).item()\n",
    "    \n",
    "    # F1-score\n",
    "    sub_dict['F1-score'] = tm.classification.BinaryF1Score()(torch.Tensor(results.pred), torch.Tensor(results.label)).item()\n",
    "    \n",
    "    # MMPF_size\n",
    "    mmpf_metrics = compute_pareto_metrics(results, loss_fct, protected_atts)\n",
    "    sub_dict['MMPF_size'] = [mmpf_metrics[f'{set_}MMPF_size_2']]\n",
    "    \n",
    "    # Return the updated data frame\n",
    "    if df.empty: df = pd.DataFrame(data = sub_dict)\n",
    "    else: df = pd.concat([df, pd.DataFrame(data = sub_dict)])\n",
    "    return df"
   ]
  },
  {
   "cell_type": "code",
   "execution_count": 21,
   "metadata": {},
   "outputs": [
    {
     "name": "stdout",
     "output_type": "stream",
     "text": [
      "['cancer_classification', 'coad_read_FS', 0.001, 'DF_pos']\n",
      "['cancer_classification', 'coad_read_FS', 0.001, 'DF_sum']\n",
      "['cancer_classification', 'coad_read_FS', 0.001, 'DF_max']\n",
      "['cancer_classification', 'coad_read_FS', 0.005, 'DF_pos']\n",
      "['cancer_classification', 'coad_read_FS', 0.005, 'DF_sum']\n",
      "['cancer_classification', 'coad_read_FS', 0.005, 'DF_max']\n",
      "['cancer_classification', 'coad_read_FS', 0.01, 'DF_pos']\n",
      "['cancer_classification', 'coad_read_FS', 0.01, 'DF_sum']\n",
      "['cancer_classification', 'coad_read_FS', 0.01, 'DF_max']\n",
      "['cancer_classification', 'coad_read_FS', 0.05, 'DF_pos']\n",
      "['cancer_classification', 'coad_read_FS', 0.05, 'DF_sum']\n",
      "['cancer_classification', 'coad_read_FS', 0.05, 'DF_max']\n",
      "['cancer_classification', 'coad_read_FS', 0.1, 'DF_pos']\n",
      "['cancer_classification', 'coad_read_FS', 0.1, 'DF_sum']\n",
      "['cancer_classification', 'coad_read_FS', 0.1, 'DF_max']\n",
      "['cancer_classification', 'coad_read_PM', 0.001, 'DF_pos']\n",
      "['cancer_classification', 'coad_read_PM', 0.001, 'DF_sum']\n",
      "['cancer_classification', 'coad_read_PM', 0.001, 'DF_max']\n",
      "['cancer_classification', 'coad_read_PM', 0.005, 'DF_pos']\n",
      "['cancer_classification', 'coad_read_PM', 0.005, 'DF_sum']\n",
      "['cancer_classification', 'coad_read_PM', 0.005, 'DF_max']\n",
      "['cancer_classification', 'coad_read_PM', 0.01, 'DF_pos']\n",
      "['cancer_classification', 'coad_read_PM', 0.01, 'DF_sum']\n",
      "['cancer_classification', 'coad_read_PM', 0.01, 'DF_max']\n",
      "['cancer_classification', 'coad_read_PM', 0.05, 'DF_pos']\n",
      "['cancer_classification', 'coad_read_PM', 0.05, 'DF_sum']\n",
      "['cancer_classification', 'coad_read_PM', 0.05, 'DF_max']\n",
      "['cancer_classification', 'coad_read_PM', 0.1, 'DF_pos']\n",
      "['cancer_classification', 'coad_read_PM', 0.1, 'DF_sum']\n",
      "['cancer_classification', 'coad_read_PM', 0.1, 'DF_max']\n",
      "['cancer_classification', 'kich_kirc_FS', 0.001, 'DF_pos']\n",
      "['cancer_classification', 'kich_kirc_FS', 0.001, 'DF_sum']\n",
      "['cancer_classification', 'kich_kirc_FS', 0.001, 'DF_max']\n",
      "['cancer_classification', 'kich_kirc_FS', 0.005, 'DF_pos']\n",
      "['cancer_classification', 'kich_kirc_FS', 0.005, 'DF_sum']\n",
      "['cancer_classification', 'kich_kirc_FS', 0.005, 'DF_max']\n",
      "['cancer_classification', 'kich_kirc_FS', 0.01, 'DF_pos']\n",
      "['cancer_classification', 'kich_kirc_FS', 0.01, 'DF_sum']\n",
      "['cancer_classification', 'kich_kirc_FS', 0.01, 'DF_max']\n",
      "['cancer_classification', 'kich_kirc_FS', 0.05, 'DF_pos']\n",
      "['cancer_classification', 'kich_kirc_FS', 0.05, 'DF_sum']\n",
      "['cancer_classification', 'kich_kirc_FS', 0.05, 'DF_max']\n",
      "['cancer_classification', 'kich_kirc_FS', 0.1, 'DF_pos']\n",
      "['cancer_classification', 'kich_kirc_FS', 0.1, 'DF_sum']\n",
      "['cancer_classification', 'kich_kirc_FS', 0.1, 'DF_max']\n",
      "['cancer_classification', 'kich_kirc_PM', 0.001, 'DF_pos']\n",
      "['cancer_classification', 'kich_kirc_PM', 0.001, 'DF_sum']\n",
      "['cancer_classification', 'kich_kirc_PM', 0.001, 'DF_max']\n",
      "['cancer_classification', 'kich_kirc_PM', 0.005, 'DF_pos']\n",
      "['cancer_classification', 'kich_kirc_PM', 0.005, 'DF_sum']\n",
      "['cancer_classification', 'kich_kirc_PM', 0.005, 'DF_max']\n",
      "['cancer_classification', 'kich_kirc_PM', 0.01, 'DF_pos']\n",
      "['cancer_classification', 'kich_kirc_PM', 0.01, 'DF_sum']\n",
      "['cancer_classification', 'kich_kirc_PM', 0.01, 'DF_max']\n",
      "['cancer_classification', 'kich_kirc_PM', 0.05, 'DF_pos']\n",
      "['cancer_classification', 'kich_kirc_PM', 0.05, 'DF_sum']\n",
      "['cancer_classification', 'kich_kirc_PM', 0.05, 'DF_max']\n",
      "['cancer_classification', 'kich_kirc_PM', 0.1, 'DF_pos']\n",
      "['cancer_classification', 'kich_kirc_PM', 0.1, 'DF_sum']\n",
      "['cancer_classification', 'kich_kirc_PM', 0.1, 'DF_max']\n",
      "['cancer_classification', 'kich_kirp_FS', 0.001, 'DF_pos']\n",
      "['cancer_classification', 'kich_kirp_FS', 0.001, 'DF_sum']\n",
      "['cancer_classification', 'kich_kirp_FS', 0.001, 'DF_max']\n",
      "['cancer_classification', 'kich_kirp_FS', 0.005, 'DF_pos']\n",
      "['cancer_classification', 'kich_kirp_FS', 0.005, 'DF_sum']\n",
      "['cancer_classification', 'kich_kirp_FS', 0.005, 'DF_max']\n",
      "['cancer_classification', 'kich_kirp_FS', 0.01, 'DF_pos']\n",
      "['cancer_classification', 'kich_kirp_FS', 0.01, 'DF_sum']\n",
      "['cancer_classification', 'kich_kirp_FS', 0.01, 'DF_max']\n",
      "['cancer_classification', 'kich_kirp_FS', 0.05, 'DF_pos']\n",
      "['cancer_classification', 'kich_kirp_FS', 0.05, 'DF_sum']\n",
      "['cancer_classification', 'kich_kirp_FS', 0.05, 'DF_max']\n",
      "['cancer_classification', 'kich_kirp_FS', 0.1, 'DF_pos']\n",
      "['cancer_classification', 'kich_kirp_FS', 0.1, 'DF_sum']\n",
      "['cancer_classification', 'kich_kirp_FS', 0.1, 'DF_max']\n",
      "['cancer_classification', 'kich_kirp_PM', 0.001, 'DF_pos']\n",
      "['cancer_classification', 'kich_kirp_PM', 0.001, 'DF_sum']\n",
      "['cancer_classification', 'kich_kirp_PM', 0.001, 'DF_max']\n",
      "['cancer_classification', 'kich_kirp_PM', 0.005, 'DF_pos']\n",
      "['cancer_classification', 'kich_kirp_PM', 0.005, 'DF_sum']\n",
      "['cancer_classification', 'kich_kirp_PM', 0.005, 'DF_max']\n",
      "['cancer_classification', 'kich_kirp_PM', 0.01, 'DF_pos']\n",
      "['cancer_classification', 'kich_kirp_PM', 0.01, 'DF_sum']\n",
      "['cancer_classification', 'kich_kirp_PM', 0.01, 'DF_max']\n",
      "['cancer_classification', 'kich_kirp_PM', 0.05, 'DF_pos']\n",
      "['cancer_classification', 'kich_kirp_PM', 0.05, 'DF_sum']\n",
      "['cancer_classification', 'kich_kirp_PM', 0.05, 'DF_max']\n",
      "['cancer_classification', 'kich_kirp_PM', 0.1, 'DF_pos']\n",
      "['cancer_classification', 'kich_kirp_PM', 0.1, 'DF_sum']\n",
      "['cancer_classification', 'kich_kirp_PM', 0.1, 'DF_max']\n",
      "['cancer_classification', 'kirc_kirp_FS', 0.001, 'DF_pos']\n",
      "['cancer_classification', 'kirc_kirp_FS', 0.001, 'DF_sum']\n",
      "['cancer_classification', 'kirc_kirp_FS', 0.001, 'DF_max']\n",
      "['cancer_classification', 'kirc_kirp_FS', 0.005, 'DF_pos']\n",
      "['cancer_classification', 'kirc_kirp_FS', 0.005, 'DF_sum']\n",
      "['cancer_classification', 'kirc_kirp_FS', 0.005, 'DF_max']\n",
      "['cancer_classification', 'kirc_kirp_FS', 0.01, 'DF_pos']\n",
      "['cancer_classification', 'kirc_kirp_FS', 0.01, 'DF_sum']\n",
      "['cancer_classification', 'kirc_kirp_FS', 0.01, 'DF_max']\n",
      "['cancer_classification', 'kirc_kirp_FS', 0.05, 'DF_pos']\n",
      "['cancer_classification', 'kirc_kirp_FS', 0.05, 'DF_sum']\n",
      "['cancer_classification', 'kirc_kirp_FS', 0.05, 'DF_max']\n",
      "['cancer_classification', 'kirc_kirp_FS', 0.1, 'DF_pos']\n",
      "['cancer_classification', 'kirc_kirp_FS', 0.1, 'DF_sum']\n",
      "['cancer_classification', 'kirc_kirp_FS', 0.1, 'DF_max']\n",
      "['cancer_classification', 'kirc_kirp_PM', 0.001, 'DF_pos']\n",
      "['cancer_classification', 'kirc_kirp_PM', 0.001, 'DF_sum']\n",
      "['cancer_classification', 'kirc_kirp_PM', 0.001, 'DF_max']\n",
      "['cancer_classification', 'kirc_kirp_PM', 0.005, 'DF_pos']\n",
      "['cancer_classification', 'kirc_kirp_PM', 0.005, 'DF_sum']\n",
      "['cancer_classification', 'kirc_kirp_PM', 0.005, 'DF_max']\n",
      "['cancer_classification', 'kirc_kirp_PM', 0.01, 'DF_pos']\n",
      "['cancer_classification', 'kirc_kirp_PM', 0.01, 'DF_sum']\n",
      "['cancer_classification', 'kirc_kirp_PM', 0.01, 'DF_max']\n",
      "['cancer_classification', 'kirc_kirp_PM', 0.05, 'DF_pos']\n",
      "['cancer_classification', 'kirc_kirp_PM', 0.05, 'DF_sum']\n",
      "['cancer_classification', 'kirc_kirp_PM', 0.05, 'DF_max']\n",
      "['cancer_classification', 'kirc_kirp_PM', 0.1, 'DF_pos']\n",
      "['cancer_classification', 'kirc_kirp_PM', 0.1, 'DF_sum']\n",
      "['cancer_classification', 'kirc_kirp_PM', 0.1, 'DF_max']\n",
      "['cancer_classification', 'luad_lusc_FS', 0.001, 'DF_pos']\n",
      "['cancer_classification', 'luad_lusc_FS', 0.001, 'DF_sum']\n",
      "['cancer_classification', 'luad_lusc_FS', 0.001, 'DF_max']\n",
      "['cancer_classification', 'luad_lusc_FS', 0.005, 'DF_pos']\n",
      "['cancer_classification', 'luad_lusc_FS', 0.005, 'DF_sum']\n",
      "['cancer_classification', 'luad_lusc_FS', 0.005, 'DF_max']\n",
      "['cancer_classification', 'luad_lusc_FS', 0.01, 'DF_pos']\n",
      "['cancer_classification', 'luad_lusc_FS', 0.01, 'DF_sum']\n",
      "['cancer_classification', 'luad_lusc_FS', 0.01, 'DF_max']\n",
      "['cancer_classification', 'luad_lusc_FS', 0.05, 'DF_pos']\n",
      "['cancer_classification', 'luad_lusc_FS', 0.05, 'DF_sum']\n",
      "['cancer_classification', 'luad_lusc_FS', 0.05, 'DF_max']\n",
      "['cancer_classification', 'luad_lusc_FS', 0.1, 'DF_pos']\n",
      "['cancer_classification', 'luad_lusc_FS', 0.1, 'DF_sum']\n",
      "['cancer_classification', 'luad_lusc_FS', 0.1, 'DF_max']\n",
      "['cancer_classification', 'luad_lusc_PM', 0.001, 'DF_pos']\n",
      "['cancer_classification', 'luad_lusc_PM', 0.001, 'DF_sum']\n",
      "['cancer_classification', 'luad_lusc_PM', 0.001, 'DF_max']\n",
      "['cancer_classification', 'luad_lusc_PM', 0.005, 'DF_pos']\n",
      "['cancer_classification', 'luad_lusc_PM', 0.005, 'DF_sum']\n",
      "['cancer_classification', 'luad_lusc_PM', 0.005, 'DF_max']\n",
      "['cancer_classification', 'luad_lusc_PM', 0.01, 'DF_pos']\n",
      "['cancer_classification', 'luad_lusc_PM', 0.01, 'DF_sum']\n",
      "['cancer_classification', 'luad_lusc_PM', 0.01, 'DF_max']\n",
      "['cancer_classification', 'luad_lusc_PM', 0.05, 'DF_pos']\n",
      "['cancer_classification', 'luad_lusc_PM', 0.05, 'DF_sum']\n",
      "['cancer_classification', 'luad_lusc_PM', 0.05, 'DF_max']\n",
      "['cancer_classification', 'luad_lusc_PM', 0.1, 'DF_pos']\n",
      "['cancer_classification', 'luad_lusc_PM', 0.1, 'DF_sum']\n",
      "['cancer_classification', 'luad_lusc_PM', 0.1, 'DF_max']\n",
      "['tumor_detection', 'brca', 0.001, 'DF_pos']\n",
      "['tumor_detection', 'brca', 0.001, 'DF_sum']\n",
      "['tumor_detection', 'brca', 0.001, 'DF_max']\n",
      "['tumor_detection', 'brca', 0.005, 'DF_pos']\n",
      "['tumor_detection', 'brca', 0.005, 'DF_sum']\n",
      "['tumor_detection', 'brca', 0.005, 'DF_max']\n",
      "['tumor_detection', 'brca', 0.01, 'DF_pos']\n",
      "['tumor_detection', 'brca', 0.01, 'DF_sum']\n",
      "['tumor_detection', 'brca', 0.01, 'DF_max']\n",
      "['tumor_detection', 'brca', 0.05, 'DF_pos']\n",
      "['tumor_detection', 'brca', 0.05, 'DF_sum']\n",
      "['tumor_detection', 'brca', 0.05, 'DF_max']\n",
      "['tumor_detection', 'brca', 0.1, 'DF_pos']\n",
      "['tumor_detection', 'brca', 0.1, 'DF_sum']\n",
      "['tumor_detection', 'brca', 0.1, 'DF_max']\n",
      "['tumor_detection', 'coad', 0.001, 'DF_pos']\n",
      "['tumor_detection', 'coad', 0.001, 'DF_sum']\n",
      "['tumor_detection', 'coad', 0.001, 'DF_max']\n",
      "['tumor_detection', 'coad', 0.005, 'DF_pos']\n",
      "['tumor_detection', 'coad', 0.005, 'DF_sum']\n",
      "['tumor_detection', 'coad', 0.005, 'DF_max']\n",
      "['tumor_detection', 'coad', 0.01, 'DF_pos']\n",
      "['tumor_detection', 'coad', 0.01, 'DF_sum']\n",
      "['tumor_detection', 'coad', 0.01, 'DF_max']\n",
      "['tumor_detection', 'coad', 0.05, 'DF_pos']\n",
      "['tumor_detection', 'coad', 0.05, 'DF_sum']\n",
      "['tumor_detection', 'coad', 0.05, 'DF_max']\n",
      "['tumor_detection', 'coad', 0.1, 'DF_pos']\n",
      "['tumor_detection', 'coad', 0.1, 'DF_sum']\n",
      "['tumor_detection', 'coad', 0.1, 'DF_max']\n",
      "['tumor_detection', 'kich', 0.001, 'DF_pos']\n",
      "['tumor_detection', 'kich', 0.001, 'DF_sum']\n",
      "['tumor_detection', 'kich', 0.001, 'DF_max']\n",
      "['tumor_detection', 'kich', 0.005, 'DF_pos']\n",
      "['tumor_detection', 'kich', 0.005, 'DF_sum']\n",
      "['tumor_detection', 'kich', 0.005, 'DF_max']\n",
      "['tumor_detection', 'kich', 0.01, 'DF_pos']\n",
      "['tumor_detection', 'kich', 0.01, 'DF_sum']\n",
      "['tumor_detection', 'kich', 0.01, 'DF_max']\n",
      "['tumor_detection', 'kich', 0.05, 'DF_pos']\n",
      "['tumor_detection', 'kich', 0.05, 'DF_sum']\n",
      "['tumor_detection', 'kich', 0.05, 'DF_max']\n",
      "['tumor_detection', 'kich', 0.1, 'DF_pos']\n",
      "['tumor_detection', 'kich', 0.1, 'DF_sum']\n",
      "['tumor_detection', 'kich', 0.1, 'DF_max']\n",
      "['tumor_detection', 'kirc', 0.001, 'DF_pos']\n",
      "['tumor_detection', 'kirc', 0.001, 'DF_sum']\n",
      "['tumor_detection', 'kirc', 0.001, 'DF_max']\n",
      "['tumor_detection', 'kirc', 0.005, 'DF_pos']\n",
      "['tumor_detection', 'kirc', 0.005, 'DF_sum']\n",
      "['tumor_detection', 'kirc', 0.005, 'DF_max']\n",
      "['tumor_detection', 'kirc', 0.01, 'DF_pos']\n",
      "['tumor_detection', 'kirc', 0.01, 'DF_sum']\n",
      "['tumor_detection', 'kirc', 0.01, 'DF_max']\n",
      "['tumor_detection', 'kirc', 0.05, 'DF_pos']\n",
      "['tumor_detection', 'kirc', 0.05, 'DF_sum']\n",
      "['tumor_detection', 'kirc', 0.05, 'DF_max']\n",
      "['tumor_detection', 'kirc', 0.1, 'DF_pos']\n",
      "['tumor_detection', 'kirc', 0.1, 'DF_sum']\n",
      "['tumor_detection', 'kirc', 0.1, 'DF_max']\n",
      "['tumor_detection', 'kirp', 0.001, 'DF_pos']\n",
      "['tumor_detection', 'kirp', 0.001, 'DF_sum']\n",
      "['tumor_detection', 'kirp', 0.001, 'DF_max']\n",
      "['tumor_detection', 'kirp', 0.005, 'DF_pos']\n",
      "['tumor_detection', 'kirp', 0.005, 'DF_sum']\n",
      "['tumor_detection', 'kirp', 0.005, 'DF_max']\n",
      "['tumor_detection', 'kirp', 0.01, 'DF_pos']\n",
      "['tumor_detection', 'kirp', 0.01, 'DF_sum']\n",
      "['tumor_detection', 'kirp', 0.01, 'DF_max']\n",
      "['tumor_detection', 'kirp', 0.05, 'DF_pos']\n",
      "['tumor_detection', 'kirp', 0.05, 'DF_sum']\n",
      "['tumor_detection', 'kirp', 0.05, 'DF_max']\n",
      "['tumor_detection', 'kirp', 0.1, 'DF_pos']\n",
      "['tumor_detection', 'kirp', 0.1, 'DF_sum']\n",
      "['tumor_detection', 'kirp', 0.1, 'DF_max']\n",
      "['tumor_detection', 'luad', 0.001, 'DF_pos']\n",
      "['tumor_detection', 'luad', 0.001, 'DF_sum']\n",
      "['tumor_detection', 'luad', 0.001, 'DF_max']\n",
      "['tumor_detection', 'luad', 0.005, 'DF_pos']\n",
      "['tumor_detection', 'luad', 0.005, 'DF_sum']\n",
      "['tumor_detection', 'luad', 0.005, 'DF_max']\n",
      "['tumor_detection', 'luad', 0.01, 'DF_pos']\n",
      "['tumor_detection', 'luad', 0.01, 'DF_sum']\n",
      "['tumor_detection', 'luad', 0.01, 'DF_max']\n",
      "['tumor_detection', 'luad', 0.05, 'DF_pos']\n",
      "['tumor_detection', 'luad', 0.05, 'DF_sum']\n",
      "['tumor_detection', 'luad', 0.05, 'DF_max']\n",
      "['tumor_detection', 'luad', 0.1, 'DF_pos']\n",
      "['tumor_detection', 'luad', 0.1, 'DF_sum']\n",
      "['tumor_detection', 'luad', 0.1, 'DF_max']\n",
      "['tumor_detection', 'lusc', 0.001, 'DF_pos']\n",
      "['tumor_detection', 'lusc', 0.001, 'DF_sum']\n",
      "['tumor_detection', 'lusc', 0.001, 'DF_max']\n",
      "['tumor_detection', 'lusc', 0.005, 'DF_pos']\n",
      "['tumor_detection', 'lusc', 0.005, 'DF_sum']\n",
      "['tumor_detection', 'lusc', 0.005, 'DF_max']\n",
      "['tumor_detection', 'lusc', 0.01, 'DF_pos']\n",
      "['tumor_detection', 'lusc', 0.01, 'DF_sum']\n",
      "['tumor_detection', 'lusc', 0.01, 'DF_max']\n",
      "['tumor_detection', 'lusc', 0.05, 'DF_pos']\n",
      "['tumor_detection', 'lusc', 0.05, 'DF_sum']\n",
      "['tumor_detection', 'lusc', 0.05, 'DF_max']\n",
      "['tumor_detection', 'lusc', 0.1, 'DF_pos']\n",
      "['tumor_detection', 'lusc', 0.1, 'DF_sum']\n",
      "['tumor_detection', 'lusc', 0.1, 'DF_max']\n",
      "['tumor_detection', 'read', 0.001, 'DF_pos']\n",
      "['tumor_detection', 'read', 0.001, 'DF_sum']\n",
      "['tumor_detection', 'read', 0.001, 'DF_max']\n",
      "['tumor_detection', 'read', 0.005, 'DF_pos']\n",
      "['tumor_detection', 'read', 0.005, 'DF_sum']\n",
      "['tumor_detection', 'read', 0.005, 'DF_max']\n",
      "['tumor_detection', 'read', 0.01, 'DF_pos']\n",
      "['tumor_detection', 'read', 0.01, 'DF_sum']\n",
      "['tumor_detection', 'read', 0.01, 'DF_max']\n",
      "['tumor_detection', 'read', 0.05, 'DF_pos']\n",
      "['tumor_detection', 'read', 0.05, 'DF_sum']\n",
      "['tumor_detection', 'read', 0.05, 'DF_max']\n",
      "['tumor_detection', 'read', 0.1, 'DF_pos']\n",
      "['tumor_detection', 'read', 0.1, 'DF_sum']\n",
      "['tumor_detection', 'read', 0.1, 'DF_max']\n"
     ]
    }
   ],
   "source": [
    "# Initialization\n",
    "cols = ['task', 'cancer', 'Accuracy', 'F1-score', 'MMPF_size']\n",
    "df_foulds = pd.DataFrame(columns = cols)\n",
    "\n",
    "# Loop on the combinations for baseline\n",
    "for comb in COMBS_FOULDS:\n",
    "    # Track\n",
    "    print(comb)\n",
    "    \n",
    "    # Extract combinations\n",
    "    task = comb[0]\n",
    "    cancer = comb[1]\n",
    "    l = comb[2]\n",
    "    pt_method = comb[3]\n",
    "    \n",
    "    # Get the metrics\n",
    "    df_foulds = check_results_foulds(task, cancer, l, pt_method, df_foulds, 'test_')\n",
    "df_foulds.reset_index(inplace = True, drop = True)"
   ]
  },
  {
   "cell_type": "code",
   "execution_count": 22,
   "metadata": {},
   "outputs": [
    {
     "name": "stdout",
     "output_type": "stream",
     "text": [
      "['cancer_classification', 'coad_read_FS']\n",
      "['cancer_classification', 'coad_read_PM']\n",
      "['cancer_classification', 'kich_kirc_FS']\n",
      "['cancer_classification', 'kich_kirc_PM']\n",
      "['cancer_classification', 'kich_kirp_FS']\n",
      "['cancer_classification', 'kich_kirp_PM']\n",
      "['cancer_classification', 'kirc_kirp_FS']\n",
      "['cancer_classification', 'kirc_kirp_PM']\n",
      "['cancer_classification', 'luad_lusc_FS']\n",
      "['cancer_classification', 'luad_lusc_PM']\n",
      "['tumor_detection', 'brca']\n",
      "['tumor_detection', 'coad']\n",
      "['tumor_detection', 'kich']\n",
      "['tumor_detection', 'kirc']\n",
      "['tumor_detection', 'kirp']\n",
      "['tumor_detection', 'luad']\n",
      "['tumor_detection', 'lusc']\n",
      "['tumor_detection', 'read']\n"
     ]
    },
    {
     "data": {
      "application/vnd.plotly.v1+json": {
       "config": {
        "plotlyServerURL": "https://plot.ly"
       },
       "data": [
        {
         "alignmentgroup": "True",
         "hovertemplate": "variable=Accuracy<br>cancer=%{x}<br>value=%{y}<extra></extra>",
         "legendgroup": "Accuracy",
         "marker": {
          "color": "rgb(101, 171, 200)",
          "pattern": {
           "shape": ""
          }
         },
         "name": "Accuracy",
         "offsetgroup": "Accuracy",
         "orientation": "v",
         "showlegend": true,
         "textposition": "auto",
         "texttemplate": "%{y:.3f}",
         "type": "bar",
         "x": [
          "coad_read_FS",
          "coad_read_PM",
          "kich_kirc_FS",
          "kich_kirc_PM",
          "kich_kirp_FS",
          "kich_kirp_PM",
          "kirc_kirp_FS",
          "kirc_kirp_PM",
          "luad_lusc_FS",
          "luad_lusc_PM"
         ],
         "xaxis": "x2",
         "y": [
          0.80474454164505,
          0.7507987022399902,
          0.9802336096763611,
          0.9479353427886963,
          0.9556650519371033,
          0.9905063509941101,
          0.9904382228851318,
          0.9838472604751587,
          0.945035457611084,
          0.9437500238418579
         ],
         "yaxis": "y2"
        },
        {
         "alignmentgroup": "True",
         "hovertemplate": "variable=F1-score<br>cancer=%{x}<br>value=%{y}<extra></extra>",
         "legendgroup": "F1-score",
         "marker": {
          "color": "rgb(50, 100, 170)",
          "pattern": {
           "shape": ""
          }
         },
         "name": "F1-score",
         "offsetgroup": "F1-score",
         "orientation": "v",
         "showlegend": true,
         "textposition": "auto",
         "texttemplate": "%{y:.3f}",
         "type": "bar",
         "x": [
          "coad_read_FS",
          "coad_read_PM",
          "kich_kirc_FS",
          "kich_kirc_PM",
          "kich_kirp_FS",
          "kich_kirp_PM",
          "kirc_kirp_FS",
          "kirc_kirp_PM",
          "luad_lusc_FS",
          "luad_lusc_PM"
         ],
         "xaxis": "x2",
         "y": [
          0.5023255944252014,
          0,
          0.9887295365333557,
          0.9690501689910889,
          0.9664179086685181,
          0.9931350350379944,
          0.9778597950935364,
          0.97516930103302,
          0.9426987171173096,
          0.9386084675788879
         ],
         "yaxis": "y2"
        },
        {
         "alignmentgroup": "True",
         "hovertemplate": "variable=MMPF_size<br>cancer=%{x}<br>value=%{y}<extra></extra>",
         "legendgroup": "MMPF_size",
         "marker": {
          "color": "rgb(21, 21, 45)",
          "pattern": {
           "shape": ""
          }
         },
         "name": "MMPF_size",
         "offsetgroup": "MMPF_size",
         "orientation": "v",
         "showlegend": true,
         "textposition": "auto",
         "texttemplate": "%{y:.3f}",
         "type": "bar",
         "x": [
          "coad_read_FS",
          "coad_read_PM",
          "kich_kirc_FS",
          "kich_kirc_PM",
          "kich_kirp_FS",
          "kich_kirp_PM",
          "kirc_kirp_FS",
          "kirc_kirp_PM",
          "luad_lusc_FS",
          "luad_lusc_PM"
         ],
         "xaxis": "x2",
         "y": [
          0.6296709757298231,
          0.6610569026735094,
          0.3381074987351894,
          0.4031574475137811,
          0.3592885653177897,
          0.31326300364274245,
          0.3350010890027751,
          0.3137530066348888,
          0.3924254426296721,
          0.37609076127409935
         ],
         "yaxis": "y2"
        },
        {
         "alignmentgroup": "True",
         "hovertemplate": "variable=Accuracy<br>cancer=%{x}<br>value=%{y}<extra></extra>",
         "legendgroup": "Accuracy",
         "marker": {
          "color": "rgb(101, 171, 200)",
          "pattern": {
           "shape": ""
          }
         },
         "name": "Accuracy",
         "offsetgroup": "Accuracy",
         "orientation": "v",
         "showlegend": false,
         "textposition": "auto",
         "texttemplate": "%{y:.3f}",
         "type": "bar",
         "x": [
          "brca",
          "coad",
          "kich",
          "kirc",
          "kirp",
          "luad",
          "lusc",
          "read"
         ],
         "xaxis": "x",
         "y": [
          0.9952348470687866,
          0.9954545497894287,
          1,
          1,
          0.9913544654846191,
          0.9962073564529419,
          0.9919893145561218,
          1
         ],
         "yaxis": "y"
        },
        {
         "alignmentgroup": "True",
         "hovertemplate": "variable=F1-score<br>cancer=%{x}<br>value=%{y}<extra></extra>",
         "legendgroup": "F1-score",
         "marker": {
          "color": "rgb(50, 100, 170)",
          "pattern": {
           "shape": ""
          }
         },
         "name": "F1-score",
         "offsetgroup": "F1-score",
         "orientation": "v",
         "showlegend": false,
         "textposition": "auto",
         "texttemplate": "%{y:.3f}",
         "type": "bar",
         "x": [
          "brca",
          "coad",
          "kich",
          "kirc",
          "kirp",
          "luad",
          "lusc",
          "read"
         ],
         "xaxis": "x",
         "y": [
          0.996901273727417,
          0.997481107711792,
          1,
          1,
          0.9945155382156372,
          0.9974768757820129,
          0.9943714737892151,
          1
         ],
         "yaxis": "y"
        },
        {
         "alignmentgroup": "True",
         "hovertemplate": "variable=MMPF_size<br>cancer=%{x}<br>value=%{y}<extra></extra>",
         "legendgroup": "MMPF_size",
         "marker": {
          "color": "rgb(21, 21, 45)",
          "pattern": {
           "shape": ""
          }
         },
         "name": "MMPF_size",
         "offsetgroup": "MMPF_size",
         "orientation": "v",
         "showlegend": false,
         "textposition": "auto",
         "texttemplate": "%{y:.3f}",
         "type": "bar",
         "x": [
          "brca",
          "coad",
          "kich",
          "kirc",
          "kirp",
          "luad",
          "lusc",
          "read"
         ],
         "xaxis": "x",
         "y": [
          0.31326167514690983,
          0.34404600583589995,
          0.31326165795326233,
          0.31326165957884355,
          0.313261757294337,
          0.3133092010393739,
          0.31333758575575693,
          0.31326171159744265
         ],
         "yaxis": "y"
        }
       ],
       "layout": {
        "annotations": [
         {
          "font": {
           "size": 16
          },
          "showarrow": false,
          "text": "Tumor detection tasks",
          "x": 0.5,
          "xanchor": "center",
          "xref": "paper",
          "y": 1,
          "yanchor": "bottom",
          "yref": "paper"
         },
         {
          "font": {
           "size": 16
          },
          "showarrow": false,
          "text": "Cancer classification tasks",
          "x": 0.5,
          "xanchor": "center",
          "xref": "paper",
          "y": 0.4,
          "yanchor": "bottom",
          "yref": "paper"
         }
        ],
        "bargap": 0.3,
        "bargroupgap": 0.1,
        "barmode": "group",
        "height": 700,
        "template": {
         "data": {
          "scatter": [
           {
            "type": "scatter"
           }
          ]
         }
        },
        "width": 1200,
        "xaxis": {
         "anchor": "y",
         "domain": [
          0,
          1
         ],
         "title": {
          "text": "Cancer"
         }
        },
        "xaxis2": {
         "anchor": "y2",
         "domain": [
          0,
          1
         ],
         "title": {
          "text": "Cancer"
         }
        },
        "yaxis": {
         "anchor": "x",
         "domain": [
          0.6000000000000001,
          1
         ],
         "title": {
          "text": "Values [no unit]"
         }
        },
        "yaxis2": {
         "anchor": "x2",
         "domain": [
          0,
          0.4
         ],
         "title": {
          "text": "Values [no unit]"
         }
        }
       }
      },
      "text/html": [
       "<div>                            <div id=\"0072b56f-7443-49ac-afcc-b0a0075f41f3\" class=\"plotly-graph-div\" style=\"height:700px; width:1200px;\"></div>            <script type=\"text/javascript\">                require([\"plotly\"], function(Plotly) {                    window.PLOTLYENV=window.PLOTLYENV || {};                                    if (document.getElementById(\"0072b56f-7443-49ac-afcc-b0a0075f41f3\")) {                    Plotly.newPlot(                        \"0072b56f-7443-49ac-afcc-b0a0075f41f3\",                        [{\"alignmentgroup\":\"True\",\"hovertemplate\":\"variable=Accuracy<br>cancer=%{x}<br>value=%{y}<extra></extra>\",\"legendgroup\":\"Accuracy\",\"marker\":{\"color\":\"rgb(101, 171, 200)\",\"pattern\":{\"shape\":\"\"}},\"name\":\"Accuracy\",\"offsetgroup\":\"Accuracy\",\"orientation\":\"v\",\"showlegend\":true,\"textposition\":\"auto\",\"texttemplate\":\"%{y:.3f}\",\"x\":[\"coad_read_FS\",\"coad_read_PM\",\"kich_kirc_FS\",\"kich_kirc_PM\",\"kich_kirp_FS\",\"kich_kirp_PM\",\"kirc_kirp_FS\",\"kirc_kirp_PM\",\"luad_lusc_FS\",\"luad_lusc_PM\"],\"xaxis\":\"x2\",\"y\":[0.80474454164505,0.7507987022399902,0.9802336096763611,0.9479353427886963,0.9556650519371033,0.9905063509941101,0.9904382228851318,0.9838472604751587,0.945035457611084,0.9437500238418579],\"yaxis\":\"y2\",\"type\":\"bar\"},{\"alignmentgroup\":\"True\",\"hovertemplate\":\"variable=F1-score<br>cancer=%{x}<br>value=%{y}<extra></extra>\",\"legendgroup\":\"F1-score\",\"marker\":{\"color\":\"rgb(50, 100, 170)\",\"pattern\":{\"shape\":\"\"}},\"name\":\"F1-score\",\"offsetgroup\":\"F1-score\",\"orientation\":\"v\",\"showlegend\":true,\"textposition\":\"auto\",\"texttemplate\":\"%{y:.3f}\",\"x\":[\"coad_read_FS\",\"coad_read_PM\",\"kich_kirc_FS\",\"kich_kirc_PM\",\"kich_kirp_FS\",\"kich_kirp_PM\",\"kirc_kirp_FS\",\"kirc_kirp_PM\",\"luad_lusc_FS\",\"luad_lusc_PM\"],\"xaxis\":\"x2\",\"y\":[0.5023255944252014,0.0,0.9887295365333557,0.9690501689910889,0.9664179086685181,0.9931350350379944,0.9778597950935364,0.97516930103302,0.9426987171173096,0.9386084675788879],\"yaxis\":\"y2\",\"type\":\"bar\"},{\"alignmentgroup\":\"True\",\"hovertemplate\":\"variable=MMPF_size<br>cancer=%{x}<br>value=%{y}<extra></extra>\",\"legendgroup\":\"MMPF_size\",\"marker\":{\"color\":\"rgb(21, 21, 45)\",\"pattern\":{\"shape\":\"\"}},\"name\":\"MMPF_size\",\"offsetgroup\":\"MMPF_size\",\"orientation\":\"v\",\"showlegend\":true,\"textposition\":\"auto\",\"texttemplate\":\"%{y:.3f}\",\"x\":[\"coad_read_FS\",\"coad_read_PM\",\"kich_kirc_FS\",\"kich_kirc_PM\",\"kich_kirp_FS\",\"kich_kirp_PM\",\"kirc_kirp_FS\",\"kirc_kirp_PM\",\"luad_lusc_FS\",\"luad_lusc_PM\"],\"xaxis\":\"x2\",\"y\":[0.6296709757298231,0.6610569026735094,0.3381074987351894,0.4031574475137811,0.3592885653177897,0.31326300364274245,0.3350010890027751,0.3137530066348888,0.3924254426296721,0.37609076127409935],\"yaxis\":\"y2\",\"type\":\"bar\"},{\"alignmentgroup\":\"True\",\"hovertemplate\":\"variable=Accuracy<br>cancer=%{x}<br>value=%{y}<extra></extra>\",\"legendgroup\":\"Accuracy\",\"marker\":{\"color\":\"rgb(101, 171, 200)\",\"pattern\":{\"shape\":\"\"}},\"name\":\"Accuracy\",\"offsetgroup\":\"Accuracy\",\"orientation\":\"v\",\"showlegend\":false,\"textposition\":\"auto\",\"texttemplate\":\"%{y:.3f}\",\"x\":[\"brca\",\"coad\",\"kich\",\"kirc\",\"kirp\",\"luad\",\"lusc\",\"read\"],\"xaxis\":\"x\",\"y\":[0.9952348470687866,0.9954545497894287,1.0,1.0,0.9913544654846191,0.9962073564529419,0.9919893145561218,1.0],\"yaxis\":\"y\",\"type\":\"bar\"},{\"alignmentgroup\":\"True\",\"hovertemplate\":\"variable=F1-score<br>cancer=%{x}<br>value=%{y}<extra></extra>\",\"legendgroup\":\"F1-score\",\"marker\":{\"color\":\"rgb(50, 100, 170)\",\"pattern\":{\"shape\":\"\"}},\"name\":\"F1-score\",\"offsetgroup\":\"F1-score\",\"orientation\":\"v\",\"showlegend\":false,\"textposition\":\"auto\",\"texttemplate\":\"%{y:.3f}\",\"x\":[\"brca\",\"coad\",\"kich\",\"kirc\",\"kirp\",\"luad\",\"lusc\",\"read\"],\"xaxis\":\"x\",\"y\":[0.996901273727417,0.997481107711792,1.0,1.0,0.9945155382156372,0.9974768757820129,0.9943714737892151,1.0],\"yaxis\":\"y\",\"type\":\"bar\"},{\"alignmentgroup\":\"True\",\"hovertemplate\":\"variable=MMPF_size<br>cancer=%{x}<br>value=%{y}<extra></extra>\",\"legendgroup\":\"MMPF_size\",\"marker\":{\"color\":\"rgb(21, 21, 45)\",\"pattern\":{\"shape\":\"\"}},\"name\":\"MMPF_size\",\"offsetgroup\":\"MMPF_size\",\"orientation\":\"v\",\"showlegend\":false,\"textposition\":\"auto\",\"texttemplate\":\"%{y:.3f}\",\"x\":[\"brca\",\"coad\",\"kich\",\"kirc\",\"kirp\",\"luad\",\"lusc\",\"read\"],\"xaxis\":\"x\",\"y\":[0.31326167514690983,0.34404600583589995,0.31326165795326233,0.31326165957884355,0.313261757294337,0.3133092010393739,0.31333758575575693,0.31326171159744265],\"yaxis\":\"y\",\"type\":\"bar\"}],                        {\"template\":{\"data\":{\"scatter\":[{\"type\":\"scatter\"}]}},\"xaxis\":{\"anchor\":\"y\",\"domain\":[0.0,1.0],\"title\":{\"text\":\"Cancer\"}},\"yaxis\":{\"anchor\":\"x\",\"domain\":[0.6000000000000001,1.0],\"title\":{\"text\":\"Values [no unit]\"}},\"xaxis2\":{\"anchor\":\"y2\",\"domain\":[0.0,1.0],\"title\":{\"text\":\"Cancer\"}},\"yaxis2\":{\"anchor\":\"x2\",\"domain\":[0.0,0.4],\"title\":{\"text\":\"Values [no unit]\"}},\"annotations\":[{\"font\":{\"size\":16},\"showarrow\":false,\"text\":\"Tumor detection tasks\",\"x\":0.5,\"xanchor\":\"center\",\"xref\":\"paper\",\"y\":1.0,\"yanchor\":\"bottom\",\"yref\":\"paper\"},{\"font\":{\"size\":16},\"showarrow\":false,\"text\":\"Cancer classification tasks\",\"x\":0.5,\"xanchor\":\"center\",\"xref\":\"paper\",\"y\":0.4,\"yanchor\":\"bottom\",\"yref\":\"paper\"}],\"height\":700,\"width\":1200,\"barmode\":\"group\",\"bargap\":0.3,\"bargroupgap\":0.1},                        {\"responsive\": true}                    ).then(function(){\n",
       "                            \n",
       "var gd = document.getElementById('0072b56f-7443-49ac-afcc-b0a0075f41f3');\n",
       "var x = new MutationObserver(function (mutations, observer) {{\n",
       "        var display = window.getComputedStyle(gd).display;\n",
       "        if (!display || display === 'none') {{\n",
       "            console.log([gd, 'removed!']);\n",
       "            Plotly.purge(gd);\n",
       "            observer.disconnect();\n",
       "        }}\n",
       "}});\n",
       "\n",
       "// Listen for the removal of the full notebook cells\n",
       "var notebookContainer = gd.closest('#notebook-container');\n",
       "if (notebookContainer) {{\n",
       "    x.observe(notebookContainer, {childList: true});\n",
       "}}\n",
       "\n",
       "// Listen for the clearing of the current output cell\n",
       "var outputEl = gd.closest('.output');\n",
       "if (outputEl) {{\n",
       "    x.observe(outputEl, {childList: true});\n",
       "}}\n",
       "\n",
       "                        })                };                });            </script>        </div>"
      ]
     },
     "metadata": {},
     "output_type": "display_data"
    }
   ],
   "source": [
    "# Initialization\n",
    "cols = ['task', 'cancer', 'Accuracy', 'F1-score', 'MMPF_size']\n",
    "df_foulds_best = pd.DataFrame(columns = cols)\n",
    "\n",
    "# Loop on the combinations for baseline\n",
    "for comb in COMBS_BASELINE:\n",
    "    # Track\n",
    "    print(comb)\n",
    "    \n",
    "    # Extract combinations\n",
    "    task = comb[0]\n",
    "    cancer = comb[1]\n",
    "    cond = (df_foulds.task == task) & (df_foulds.cancer == cancer)\n",
    "    \n",
    "    # Get the metrics from the models with the best hyperparameters\n",
    "    # Get hyperparameters\n",
    "    best_idx = df_foulds[cond].MMPF_size.argmin()\n",
    "    sub_dict = {'task' : [task], 'cancer' : [cancer]}\n",
    "    sub_dict['Accuracy'] = df_foulds[cond].iloc[best_idx]['Accuracy']\n",
    "    sub_dict['F1-score'] = df_foulds[cond].iloc[best_idx]['F1-score']\n",
    "    sub_dict['MMPF_size'] = df_foulds[cond].iloc[best_idx]['MMPF_size']\n",
    "    \n",
    "    # Update the dataframe\n",
    "    if df_foulds_best.empty: df_foulds_best = pd.DataFrame(data = sub_dict)\n",
    "    else: df_foulds_best = pd.concat([df_foulds_best, pd.DataFrame(data = sub_dict)])\n",
    "plot_results(df_foulds_best, 'images/results_foulds.eps')"
   ]
  },
  {
   "cell_type": "code",
   "execution_count": 51,
   "metadata": {},
   "outputs": [
    {
     "name": "stdout",
     "output_type": "stream",
     "text": [
      "\\begin{tabular}{lrrrrr}\n",
      "\\toprule\n",
      "lambda_ & 0.001000 & 0.005000 & 0.010000 & 0.050000 & 0.100000 \\\\\n",
      "pt_method &  &  &  &  &  \\\\\n",
      "\\midrule\n",
      "DF_max & 0.749837 & 0.731817 & 0.779527 & 0.795815 & 0.756377 \\\\\n",
      "DF_pos & 0.785690 & 0.750942 & 0.777638 & 0.859162 & 0.695458 \\\\\n",
      "DF_sum & 0.750136 & 0.748594 & 0.732998 & 0.783693 & 0.787716 \\\\\n",
      "\\bottomrule\n",
      "\\end{tabular}\n",
      "\n"
     ]
    }
   ],
   "source": [
    "t = 'cancer_classification'\n",
    "c = 'coad_read_FS'\n",
    "reduced_df = df_foulds[(df_foulds.task == t) & (df_foulds.cancer == c)]\n",
    "table = pd.pivot_table(reduced_df, values = 'MMPF_size', index = 'pt_method', columns = ['lambda_'])\n",
    "print(table.to_latex())"
   ]
  },
  {
   "cell_type": "code",
   "execution_count": null,
   "metadata": {},
   "outputs": [],
   "source": []
  },
  {
   "cell_type": "markdown",
   "metadata": {},
   "source": [
    "# Diana \n",
    "***"
   ]
  },
  {
   "cell_type": "code",
   "execution_count": 8,
   "metadata": {},
   "outputs": [],
   "source": [
    "def check_results_diana(task : str, \n",
    "                           cancer : str, \n",
    "                           df : pd.DataFrame,\n",
    "                           set_ : str):\n",
    "    # Initialization\n",
    "    sub_dict = {'task' : [task], 'cancer' : [cancer]}\n",
    "    \n",
    "    # Extract the results pkl files\n",
    "    preds_path = 'results/preds/run_100/add_protected_atts_1/Diana'\n",
    "    results = pd.read_pickle(preds_path + f'/{task}/{cancer}/results.pkl')\n",
    "    \n",
    "    # Compute the metrics\n",
    "    # Accuracy \n",
    "    sub_dict['Accuracy'] = tm.classification.BinaryAccuracy()(torch.Tensor(results.pred), torch.Tensor(results.label)).item()\n",
    "    \n",
    "    # F1-score\n",
    "    sub_dict['F1-score'] = tm.classification.BinaryF1Score()(torch.Tensor(results.pred), torch.Tensor(results.label)).item()\n",
    "    \n",
    "    # MMPF_size\n",
    "    mmpf_metrics = compute_pareto_metrics(results, loss_fct, protected_atts)\n",
    "    sub_dict['MMPF_size'] = [mmpf_metrics[f'{set_}MMPF_size_2']]\n",
    "    \n",
    "    # Return the updated data frame\n",
    "    if df.empty: df = pd.DataFrame(data = sub_dict)\n",
    "    else: df = pd.concat([df, pd.DataFrame(data = sub_dict)])\n",
    "    return df"
   ]
  },
  {
   "cell_type": "code",
   "execution_count": 9,
   "metadata": {},
   "outputs": [
    {
     "name": "stdout",
     "output_type": "stream",
     "text": [
      "['cancer_classification', 'coad_read_FS']\n",
      "['cancer_classification', 'coad_read_PM']\n",
      "['cancer_classification', 'kich_kirc_FS']\n",
      "['cancer_classification', 'kich_kirc_PM']\n",
      "['cancer_classification', 'kich_kirp_FS']\n",
      "['cancer_classification', 'kich_kirp_PM']\n",
      "['cancer_classification', 'kirc_kirp_FS']\n",
      "['cancer_classification', 'kirc_kirp_PM']\n",
      "['cancer_classification', 'luad_lusc_FS']\n",
      "['cancer_classification', 'luad_lusc_PM']\n",
      "['tumor_detection', 'brca']\n",
      "['tumor_detection', 'coad']\n",
      "['tumor_detection', 'kich']\n",
      "['tumor_detection', 'kirc']\n",
      "['tumor_detection', 'kirp']\n",
      "['tumor_detection', 'luad']\n",
      "['tumor_detection', 'lusc']\n",
      "['tumor_detection', 'read']\n"
     ]
    },
    {
     "data": {
      "text/html": [
       "<div>\n",
       "<style scoped>\n",
       "    .dataframe tbody tr th:only-of-type {\n",
       "        vertical-align: middle;\n",
       "    }\n",
       "\n",
       "    .dataframe tbody tr th {\n",
       "        vertical-align: top;\n",
       "    }\n",
       "\n",
       "    .dataframe thead th {\n",
       "        text-align: right;\n",
       "    }\n",
       "</style>\n",
       "<table border=\"1\" class=\"dataframe\">\n",
       "  <thead>\n",
       "    <tr style=\"text-align: right;\">\n",
       "      <th></th>\n",
       "      <th>task</th>\n",
       "      <th>cancer</th>\n",
       "      <th>Accuracy</th>\n",
       "      <th>F1-score</th>\n",
       "      <th>MMPF_size</th>\n",
       "    </tr>\n",
       "  </thead>\n",
       "  <tbody>\n",
       "    <tr>\n",
       "      <th>0</th>\n",
       "      <td>cancer_classification</td>\n",
       "      <td>coad_read_FS</td>\n",
       "      <td>0.806569</td>\n",
       "      <td>0.615942</td>\n",
       "      <td>0.686846</td>\n",
       "    </tr>\n",
       "    <tr>\n",
       "      <th>0</th>\n",
       "      <td>cancer_classification</td>\n",
       "      <td>coad_read_PM</td>\n",
       "      <td>0.843450</td>\n",
       "      <td>0.647482</td>\n",
       "      <td>0.747876</td>\n",
       "    </tr>\n",
       "    <tr>\n",
       "      <th>0</th>\n",
       "      <td>cancer_classification</td>\n",
       "      <td>kich_kirc_FS</td>\n",
       "      <td>0.960467</td>\n",
       "      <td>0.977296</td>\n",
       "      <td>0.363247</td>\n",
       "    </tr>\n",
       "    <tr>\n",
       "      <th>0</th>\n",
       "      <td>cancer_classification</td>\n",
       "      <td>kich_kirc_PM</td>\n",
       "      <td>0.965889</td>\n",
       "      <td>0.979189</td>\n",
       "      <td>0.456579</td>\n",
       "    </tr>\n",
       "    <tr>\n",
       "      <th>0</th>\n",
       "      <td>cancer_classification</td>\n",
       "      <td>kich_kirp_FS</td>\n",
       "      <td>0.977832</td>\n",
       "      <td>0.983725</td>\n",
       "      <td>0.379908</td>\n",
       "    </tr>\n",
       "    <tr>\n",
       "      <th>0</th>\n",
       "      <td>cancer_classification</td>\n",
       "      <td>kich_kirp_PM</td>\n",
       "      <td>0.987342</td>\n",
       "      <td>0.990826</td>\n",
       "      <td>0.313284</td>\n",
       "    </tr>\n",
       "    <tr>\n",
       "      <th>0</th>\n",
       "      <td>cancer_classification</td>\n",
       "      <td>kirc_kirp_FS</td>\n",
       "      <td>0.988048</td>\n",
       "      <td>0.972274</td>\n",
       "      <td>0.335003</td>\n",
       "    </tr>\n",
       "    <tr>\n",
       "      <th>0</th>\n",
       "      <td>cancer_classification</td>\n",
       "      <td>kirc_kirp_PM</td>\n",
       "      <td>0.980910</td>\n",
       "      <td>0.970787</td>\n",
       "      <td>0.313269</td>\n",
       "    </tr>\n",
       "    <tr>\n",
       "      <th>0</th>\n",
       "      <td>cancer_classification</td>\n",
       "      <td>luad_lusc_FS</td>\n",
       "      <td>0.923759</td>\n",
       "      <td>0.920370</td>\n",
       "      <td>0.424460</td>\n",
       "    </tr>\n",
       "    <tr>\n",
       "      <th>0</th>\n",
       "      <td>cancer_classification</td>\n",
       "      <td>luad_lusc_PM</td>\n",
       "      <td>0.946250</td>\n",
       "      <td>0.940526</td>\n",
       "      <td>0.401339</td>\n",
       "    </tr>\n",
       "    <tr>\n",
       "      <th>0</th>\n",
       "      <td>tumor_detection</td>\n",
       "      <td>brca</td>\n",
       "      <td>0.995916</td>\n",
       "      <td>0.997347</td>\n",
       "      <td>0.325923</td>\n",
       "    </tr>\n",
       "    <tr>\n",
       "      <th>0</th>\n",
       "      <td>tumor_detection</td>\n",
       "      <td>coad</td>\n",
       "      <td>0.997727</td>\n",
       "      <td>0.998736</td>\n",
       "      <td>0.388816</td>\n",
       "    </tr>\n",
       "    <tr>\n",
       "      <th>0</th>\n",
       "      <td>tumor_detection</td>\n",
       "      <td>kich</td>\n",
       "      <td>1.000000</td>\n",
       "      <td>1.000000</td>\n",
       "      <td>0.314746</td>\n",
       "    </tr>\n",
       "    <tr>\n",
       "      <th>0</th>\n",
       "      <td>tumor_detection</td>\n",
       "      <td>kirc</td>\n",
       "      <td>0.999340</td>\n",
       "      <td>0.999490</td>\n",
       "      <td>0.313262</td>\n",
       "    </tr>\n",
       "    <tr>\n",
       "      <th>0</th>\n",
       "      <td>tumor_detection</td>\n",
       "      <td>kirp</td>\n",
       "      <td>0.985591</td>\n",
       "      <td>0.990958</td>\n",
       "      <td>0.313262</td>\n",
       "    </tr>\n",
       "    <tr>\n",
       "      <th>0</th>\n",
       "      <td>tumor_detection</td>\n",
       "      <td>luad</td>\n",
       "      <td>0.993679</td>\n",
       "      <td>0.995802</td>\n",
       "      <td>0.344515</td>\n",
       "    </tr>\n",
       "    <tr>\n",
       "      <th>0</th>\n",
       "      <td>tumor_detection</td>\n",
       "      <td>lusc</td>\n",
       "      <td>0.994660</td>\n",
       "      <td>0.996248</td>\n",
       "      <td>0.315934</td>\n",
       "    </tr>\n",
       "    <tr>\n",
       "      <th>0</th>\n",
       "      <td>tumor_detection</td>\n",
       "      <td>read</td>\n",
       "      <td>0.993789</td>\n",
       "      <td>0.996721</td>\n",
       "      <td>0.313263</td>\n",
       "    </tr>\n",
       "  </tbody>\n",
       "</table>\n",
       "</div>"
      ],
      "text/plain": [
       "                    task        cancer  Accuracy  F1-score  MMPF_size\n",
       "0  cancer_classification  coad_read_FS  0.806569  0.615942   0.686846\n",
       "0  cancer_classification  coad_read_PM  0.843450  0.647482   0.747876\n",
       "0  cancer_classification  kich_kirc_FS  0.960467  0.977296   0.363247\n",
       "0  cancer_classification  kich_kirc_PM  0.965889  0.979189   0.456579\n",
       "0  cancer_classification  kich_kirp_FS  0.977832  0.983725   0.379908\n",
       "0  cancer_classification  kich_kirp_PM  0.987342  0.990826   0.313284\n",
       "0  cancer_classification  kirc_kirp_FS  0.988048  0.972274   0.335003\n",
       "0  cancer_classification  kirc_kirp_PM  0.980910  0.970787   0.313269\n",
       "0  cancer_classification  luad_lusc_FS  0.923759  0.920370   0.424460\n",
       "0  cancer_classification  luad_lusc_PM  0.946250  0.940526   0.401339\n",
       "0        tumor_detection          brca  0.995916  0.997347   0.325923\n",
       "0        tumor_detection          coad  0.997727  0.998736   0.388816\n",
       "0        tumor_detection          kich  1.000000  1.000000   0.314746\n",
       "0        tumor_detection          kirc  0.999340  0.999490   0.313262\n",
       "0        tumor_detection          kirp  0.985591  0.990958   0.313262\n",
       "0        tumor_detection          luad  0.993679  0.995802   0.344515\n",
       "0        tumor_detection          lusc  0.994660  0.996248   0.315934\n",
       "0        tumor_detection          read  0.993789  0.996721   0.313263"
      ]
     },
     "execution_count": 9,
     "metadata": {},
     "output_type": "execute_result"
    }
   ],
   "source": [
    "# Initialization\n",
    "cols = ['task', 'cancer', 'Accuracy', 'F1-score', 'MMPF_size']\n",
    "df_diana = pd.DataFrame(columns = cols)\n",
    "\n",
    "# Loop on the combinations for baseline\n",
    "for comb in COMBS_BASELINE:\n",
    "    # Track\n",
    "    print(comb)\n",
    "    \n",
    "    # Extract combinations\n",
    "    task = comb[0]\n",
    "    cancer = comb[1]\n",
    "    \n",
    "    # Get the metrics\n",
    "    df_diana = check_results_diana(task, cancer, df_diana, 'test_')\n",
    "df_diana"
   ]
  },
  {
   "cell_type": "code",
   "execution_count": 10,
   "metadata": {},
   "outputs": [
    {
     "data": {
      "application/vnd.plotly.v1+json": {
       "config": {
        "plotlyServerURL": "https://plot.ly"
       },
       "data": [
        {
         "alignmentgroup": "True",
         "hovertemplate": "variable=Accuracy<br>cancer=%{x}<br>value=%{y}<extra></extra>",
         "legendgroup": "Accuracy",
         "marker": {
          "color": "rgb(101, 171, 200)",
          "pattern": {
           "shape": ""
          }
         },
         "name": "Accuracy",
         "offsetgroup": "Accuracy",
         "orientation": "v",
         "showlegend": true,
         "textposition": "auto",
         "texttemplate": "%{y:.3f}",
         "type": "bar",
         "x": [
          "coad_read_FS",
          "coad_read_PM",
          "kich_kirc_FS",
          "kich_kirc_PM",
          "kich_kirp_FS",
          "kich_kirp_PM",
          "kirc_kirp_FS",
          "kirc_kirp_PM",
          "luad_lusc_FS",
          "luad_lusc_PM"
         ],
         "xaxis": "x2",
         "y": [
          0.8065693378448486,
          0.8434504866600037,
          0.9604672193527222,
          0.9658886790275574,
          0.9778324961662292,
          0.9873417615890503,
          0.9880478382110596,
          0.9809104204177856,
          0.923758864402771,
          0.9462500214576721
         ],
         "yaxis": "y2"
        },
        {
         "alignmentgroup": "True",
         "hovertemplate": "variable=F1-score<br>cancer=%{x}<br>value=%{y}<extra></extra>",
         "legendgroup": "F1-score",
         "marker": {
          "color": "rgb(50, 100, 170)",
          "pattern": {
           "shape": ""
          }
         },
         "name": "F1-score",
         "offsetgroup": "F1-score",
         "orientation": "v",
         "showlegend": true,
         "textposition": "auto",
         "texttemplate": "%{y:.3f}",
         "type": "bar",
         "x": [
          "coad_read_FS",
          "coad_read_PM",
          "kich_kirc_FS",
          "kich_kirc_PM",
          "kich_kirp_FS",
          "kich_kirp_PM",
          "kirc_kirp_FS",
          "kirc_kirp_PM",
          "luad_lusc_FS",
          "luad_lusc_PM"
         ],
         "xaxis": "x2",
         "y": [
          0.6159420013427734,
          0.6474820375442505,
          0.9772961735725403,
          0.9791894555091858,
          0.9837251305580139,
          0.9908257126808167,
          0.972273588180542,
          0.9707865118980408,
          0.9203703999519348,
          0.9405255913734436
         ],
         "yaxis": "y2"
        },
        {
         "alignmentgroup": "True",
         "hovertemplate": "variable=MMPF_size<br>cancer=%{x}<br>value=%{y}<extra></extra>",
         "legendgroup": "MMPF_size",
         "marker": {
          "color": "rgb(21, 21, 45)",
          "pattern": {
           "shape": ""
          }
         },
         "name": "MMPF_size",
         "offsetgroup": "MMPF_size",
         "orientation": "v",
         "showlegend": true,
         "textposition": "auto",
         "texttemplate": "%{y:.3f}",
         "type": "bar",
         "x": [
          "coad_read_FS",
          "coad_read_PM",
          "kich_kirc_FS",
          "kich_kirc_PM",
          "kich_kirp_FS",
          "kich_kirp_PM",
          "kirc_kirp_FS",
          "kirc_kirp_PM",
          "luad_lusc_FS",
          "luad_lusc_PM"
         ],
         "xaxis": "x2",
         "y": [
          0.6868457924574614,
          0.7478755613168081,
          0.36324681267142295,
          0.45657869232328313,
          0.3799080987771352,
          0.31328413348931533,
          0.33500300153442053,
          0.31326936019791496,
          0.42445978458891526,
          0.4013390950858593
         ],
         "yaxis": "y2"
        },
        {
         "alignmentgroup": "True",
         "hovertemplate": "variable=Accuracy<br>cancer=%{x}<br>value=%{y}<extra></extra>",
         "legendgroup": "Accuracy",
         "marker": {
          "color": "rgb(101, 171, 200)",
          "pattern": {
           "shape": ""
          }
         },
         "name": "Accuracy",
         "offsetgroup": "Accuracy",
         "orientation": "v",
         "showlegend": false,
         "textposition": "auto",
         "texttemplate": "%{y:.3f}",
         "type": "bar",
         "x": [
          "brca",
          "coad",
          "kich",
          "kirc",
          "kirp",
          "luad",
          "lusc",
          "read"
         ],
         "xaxis": "x",
         "y": [
          0.9959155917167664,
          0.9977272748947144,
          1,
          0.9993403553962708,
          0.9855907559394836,
          0.993678867816925,
          0.9946595430374146,
          0.9937888383865356
         ],
         "yaxis": "y"
        },
        {
         "alignmentgroup": "True",
         "hovertemplate": "variable=F1-score<br>cancer=%{x}<br>value=%{y}<extra></extra>",
         "legendgroup": "F1-score",
         "marker": {
          "color": "rgb(50, 100, 170)",
          "pattern": {
           "shape": ""
          }
         },
         "name": "F1-score",
         "offsetgroup": "F1-score",
         "orientation": "v",
         "showlegend": false,
         "textposition": "auto",
         "texttemplate": "%{y:.3f}",
         "type": "bar",
         "x": [
          "brca",
          "coad",
          "kich",
          "kirc",
          "kirp",
          "luad",
          "lusc",
          "read"
         ],
         "xaxis": "x",
         "y": [
          0.9973474740982056,
          0.998735785484314,
          1,
          0.9994900822639465,
          0.9909583926200867,
          0.9958018660545349,
          0.9962476491928101,
          0.9967213273048401
         ],
         "yaxis": "y"
        },
        {
         "alignmentgroup": "True",
         "hovertemplate": "variable=MMPF_size<br>cancer=%{x}<br>value=%{y}<extra></extra>",
         "legendgroup": "MMPF_size",
         "marker": {
          "color": "rgb(21, 21, 45)",
          "pattern": {
           "shape": ""
          }
         },
         "name": "MMPF_size",
         "offsetgroup": "MMPF_size",
         "orientation": "v",
         "showlegend": false,
         "textposition": "auto",
         "texttemplate": "%{y:.3f}",
         "type": "bar",
         "x": [
          "brca",
          "coad",
          "kich",
          "kirc",
          "kirp",
          "luad",
          "lusc",
          "read"
         ],
         "xaxis": "x",
         "y": [
          0.32592341189201063,
          0.38881612511781544,
          0.3147457391023636,
          0.3132616785439578,
          0.31326169371604917,
          0.34451540280133486,
          0.3159344813653401,
          0.31326298117637635
         ],
         "yaxis": "y"
        }
       ],
       "layout": {
        "annotations": [
         {
          "font": {
           "size": 16
          },
          "showarrow": false,
          "text": "Tumor detection tasks",
          "x": 0.5,
          "xanchor": "center",
          "xref": "paper",
          "y": 1,
          "yanchor": "bottom",
          "yref": "paper"
         },
         {
          "font": {
           "size": 16
          },
          "showarrow": false,
          "text": "Cancer classification tasks",
          "x": 0.5,
          "xanchor": "center",
          "xref": "paper",
          "y": 0.4,
          "yanchor": "bottom",
          "yref": "paper"
         }
        ],
        "bargap": 0.3,
        "bargroupgap": 0.1,
        "barmode": "group",
        "height": 700,
        "template": {
         "data": {
          "scatter": [
           {
            "type": "scatter"
           }
          ]
         }
        },
        "width": 1200,
        "xaxis": {
         "anchor": "y",
         "domain": [
          0,
          1
         ],
         "title": {
          "text": "Cancer"
         }
        },
        "xaxis2": {
         "anchor": "y2",
         "domain": [
          0,
          1
         ],
         "title": {
          "text": "Cancer"
         }
        },
        "yaxis": {
         "anchor": "x",
         "domain": [
          0.6000000000000001,
          1
         ],
         "title": {
          "text": "Values [no unit]"
         }
        },
        "yaxis2": {
         "anchor": "x2",
         "domain": [
          0,
          0.4
         ],
         "title": {
          "text": "Values [no unit]"
         }
        }
       }
      },
      "text/html": [
       "<div>                            <div id=\"4feeac05-9749-4455-ab5b-8aeaa6d06d62\" class=\"plotly-graph-div\" style=\"height:700px; width:1200px;\"></div>            <script type=\"text/javascript\">                require([\"plotly\"], function(Plotly) {                    window.PLOTLYENV=window.PLOTLYENV || {};                                    if (document.getElementById(\"4feeac05-9749-4455-ab5b-8aeaa6d06d62\")) {                    Plotly.newPlot(                        \"4feeac05-9749-4455-ab5b-8aeaa6d06d62\",                        [{\"alignmentgroup\":\"True\",\"hovertemplate\":\"variable=Accuracy<br>cancer=%{x}<br>value=%{y}<extra></extra>\",\"legendgroup\":\"Accuracy\",\"marker\":{\"color\":\"rgb(101, 171, 200)\",\"pattern\":{\"shape\":\"\"}},\"name\":\"Accuracy\",\"offsetgroup\":\"Accuracy\",\"orientation\":\"v\",\"showlegend\":true,\"textposition\":\"auto\",\"texttemplate\":\"%{y:.3f}\",\"x\":[\"coad_read_FS\",\"coad_read_PM\",\"kich_kirc_FS\",\"kich_kirc_PM\",\"kich_kirp_FS\",\"kich_kirp_PM\",\"kirc_kirp_FS\",\"kirc_kirp_PM\",\"luad_lusc_FS\",\"luad_lusc_PM\"],\"xaxis\":\"x2\",\"y\":[0.8065693378448486,0.8434504866600037,0.9604672193527222,0.9658886790275574,0.9778324961662292,0.9873417615890503,0.9880478382110596,0.9809104204177856,0.923758864402771,0.9462500214576721],\"yaxis\":\"y2\",\"type\":\"bar\"},{\"alignmentgroup\":\"True\",\"hovertemplate\":\"variable=F1-score<br>cancer=%{x}<br>value=%{y}<extra></extra>\",\"legendgroup\":\"F1-score\",\"marker\":{\"color\":\"rgb(50, 100, 170)\",\"pattern\":{\"shape\":\"\"}},\"name\":\"F1-score\",\"offsetgroup\":\"F1-score\",\"orientation\":\"v\",\"showlegend\":true,\"textposition\":\"auto\",\"texttemplate\":\"%{y:.3f}\",\"x\":[\"coad_read_FS\",\"coad_read_PM\",\"kich_kirc_FS\",\"kich_kirc_PM\",\"kich_kirp_FS\",\"kich_kirp_PM\",\"kirc_kirp_FS\",\"kirc_kirp_PM\",\"luad_lusc_FS\",\"luad_lusc_PM\"],\"xaxis\":\"x2\",\"y\":[0.6159420013427734,0.6474820375442505,0.9772961735725403,0.9791894555091858,0.9837251305580139,0.9908257126808167,0.972273588180542,0.9707865118980408,0.9203703999519348,0.9405255913734436],\"yaxis\":\"y2\",\"type\":\"bar\"},{\"alignmentgroup\":\"True\",\"hovertemplate\":\"variable=MMPF_size<br>cancer=%{x}<br>value=%{y}<extra></extra>\",\"legendgroup\":\"MMPF_size\",\"marker\":{\"color\":\"rgb(21, 21, 45)\",\"pattern\":{\"shape\":\"\"}},\"name\":\"MMPF_size\",\"offsetgroup\":\"MMPF_size\",\"orientation\":\"v\",\"showlegend\":true,\"textposition\":\"auto\",\"texttemplate\":\"%{y:.3f}\",\"x\":[\"coad_read_FS\",\"coad_read_PM\",\"kich_kirc_FS\",\"kich_kirc_PM\",\"kich_kirp_FS\",\"kich_kirp_PM\",\"kirc_kirp_FS\",\"kirc_kirp_PM\",\"luad_lusc_FS\",\"luad_lusc_PM\"],\"xaxis\":\"x2\",\"y\":[0.6868457924574614,0.7478755613168081,0.36324681267142295,0.45657869232328313,0.3799080987771352,0.31328413348931533,0.33500300153442053,0.31326936019791496,0.42445978458891526,0.4013390950858593],\"yaxis\":\"y2\",\"type\":\"bar\"},{\"alignmentgroup\":\"True\",\"hovertemplate\":\"variable=Accuracy<br>cancer=%{x}<br>value=%{y}<extra></extra>\",\"legendgroup\":\"Accuracy\",\"marker\":{\"color\":\"rgb(101, 171, 200)\",\"pattern\":{\"shape\":\"\"}},\"name\":\"Accuracy\",\"offsetgroup\":\"Accuracy\",\"orientation\":\"v\",\"showlegend\":false,\"textposition\":\"auto\",\"texttemplate\":\"%{y:.3f}\",\"x\":[\"brca\",\"coad\",\"kich\",\"kirc\",\"kirp\",\"luad\",\"lusc\",\"read\"],\"xaxis\":\"x\",\"y\":[0.9959155917167664,0.9977272748947144,1.0,0.9993403553962708,0.9855907559394836,0.993678867816925,0.9946595430374146,0.9937888383865356],\"yaxis\":\"y\",\"type\":\"bar\"},{\"alignmentgroup\":\"True\",\"hovertemplate\":\"variable=F1-score<br>cancer=%{x}<br>value=%{y}<extra></extra>\",\"legendgroup\":\"F1-score\",\"marker\":{\"color\":\"rgb(50, 100, 170)\",\"pattern\":{\"shape\":\"\"}},\"name\":\"F1-score\",\"offsetgroup\":\"F1-score\",\"orientation\":\"v\",\"showlegend\":false,\"textposition\":\"auto\",\"texttemplate\":\"%{y:.3f}\",\"x\":[\"brca\",\"coad\",\"kich\",\"kirc\",\"kirp\",\"luad\",\"lusc\",\"read\"],\"xaxis\":\"x\",\"y\":[0.9973474740982056,0.998735785484314,1.0,0.9994900822639465,0.9909583926200867,0.9958018660545349,0.9962476491928101,0.9967213273048401],\"yaxis\":\"y\",\"type\":\"bar\"},{\"alignmentgroup\":\"True\",\"hovertemplate\":\"variable=MMPF_size<br>cancer=%{x}<br>value=%{y}<extra></extra>\",\"legendgroup\":\"MMPF_size\",\"marker\":{\"color\":\"rgb(21, 21, 45)\",\"pattern\":{\"shape\":\"\"}},\"name\":\"MMPF_size\",\"offsetgroup\":\"MMPF_size\",\"orientation\":\"v\",\"showlegend\":false,\"textposition\":\"auto\",\"texttemplate\":\"%{y:.3f}\",\"x\":[\"brca\",\"coad\",\"kich\",\"kirc\",\"kirp\",\"luad\",\"lusc\",\"read\"],\"xaxis\":\"x\",\"y\":[0.32592341189201063,0.38881612511781544,0.3147457391023636,0.3132616785439578,0.31326169371604917,0.34451540280133486,0.3159344813653401,0.31326298117637635],\"yaxis\":\"y\",\"type\":\"bar\"}],                        {\"template\":{\"data\":{\"scatter\":[{\"type\":\"scatter\"}]}},\"xaxis\":{\"anchor\":\"y\",\"domain\":[0.0,1.0],\"title\":{\"text\":\"Cancer\"}},\"yaxis\":{\"anchor\":\"x\",\"domain\":[0.6000000000000001,1.0],\"title\":{\"text\":\"Values [no unit]\"}},\"xaxis2\":{\"anchor\":\"y2\",\"domain\":[0.0,1.0],\"title\":{\"text\":\"Cancer\"}},\"yaxis2\":{\"anchor\":\"x2\",\"domain\":[0.0,0.4],\"title\":{\"text\":\"Values [no unit]\"}},\"annotations\":[{\"font\":{\"size\":16},\"showarrow\":false,\"text\":\"Tumor detection tasks\",\"x\":0.5,\"xanchor\":\"center\",\"xref\":\"paper\",\"y\":1.0,\"yanchor\":\"bottom\",\"yref\":\"paper\"},{\"font\":{\"size\":16},\"showarrow\":false,\"text\":\"Cancer classification tasks\",\"x\":0.5,\"xanchor\":\"center\",\"xref\":\"paper\",\"y\":0.4,\"yanchor\":\"bottom\",\"yref\":\"paper\"}],\"height\":700,\"width\":1200,\"barmode\":\"group\",\"bargap\":0.3,\"bargroupgap\":0.1},                        {\"responsive\": true}                    ).then(function(){\n",
       "                            \n",
       "var gd = document.getElementById('4feeac05-9749-4455-ab5b-8aeaa6d06d62');\n",
       "var x = new MutationObserver(function (mutations, observer) {{\n",
       "        var display = window.getComputedStyle(gd).display;\n",
       "        if (!display || display === 'none') {{\n",
       "            console.log([gd, 'removed!']);\n",
       "            Plotly.purge(gd);\n",
       "            observer.disconnect();\n",
       "        }}\n",
       "}});\n",
       "\n",
       "// Listen for the removal of the full notebook cells\n",
       "var notebookContainer = gd.closest('#notebook-container');\n",
       "if (notebookContainer) {{\n",
       "    x.observe(notebookContainer, {childList: true});\n",
       "}}\n",
       "\n",
       "// Listen for the clearing of the current output cell\n",
       "var outputEl = gd.closest('.output');\n",
       "if (outputEl) {{\n",
       "    x.observe(outputEl, {childList: true});\n",
       "}}\n",
       "\n",
       "                        })                };                });            </script>        </div>"
      ]
     },
     "metadata": {},
     "output_type": "display_data"
    }
   ],
   "source": [
    "plot_results(df_diana, 'images/results_diana.eps')"
   ]
  },
  {
   "cell_type": "markdown",
   "metadata": {},
   "source": [
    "# Martinez\n",
    "***"
   ]
  },
  {
   "cell_type": "code",
   "execution_count": 11,
   "metadata": {},
   "outputs": [],
   "source": [
    "def check_results_martinez(task : str, \n",
    "                           cancer : str, \n",
    "                           df : pd.DataFrame,\n",
    "                           set_ : str):\n",
    "    # Initialization\n",
    "    sub_dict = {'task' : [task], 'cancer' : [cancer]}\n",
    "    \n",
    "    # Extract the results pkl files\n",
    "    preds_path = 'results/preds/run_100/add_protected_atts_1/Martinez'\n",
    "    results = pd.read_pickle(preds_path + f'/{task}/{cancer}/alpha_0.5/results.pkl')\n",
    "    \n",
    "    # Compute the metrics\n",
    "    # Accuracy \n",
    "    sub_dict['Accuracy'] = tm.classification.BinaryAccuracy()(torch.Tensor(results.pred), torch.Tensor(results.label)).item()\n",
    "    \n",
    "    # F1-score\n",
    "    sub_dict['F1-score'] = tm.classification.BinaryF1Score()(torch.Tensor(results.pred), torch.Tensor(results.label)).item()\n",
    "    \n",
    "    # MMPF_size\n",
    "    mmpf_metrics = compute_pareto_metrics(results, loss_fct, protected_atts)\n",
    "    sub_dict['MMPF_size'] = [mmpf_metrics[f'{set_}MMPF_size_2']]\n",
    "    \n",
    "    # Return the updated data frame\n",
    "    if df.empty: df = pd.DataFrame(data = sub_dict)\n",
    "    else: df = pd.concat([df, pd.DataFrame(data = sub_dict)])\n",
    "    return df"
   ]
  },
  {
   "cell_type": "code",
   "execution_count": 16,
   "metadata": {},
   "outputs": [
    {
     "name": "stdout",
     "output_type": "stream",
     "text": [
      "['cancer_classification', 'coad_read_FS']\n",
      "['cancer_classification', 'coad_read_PM']\n",
      "['cancer_classification', 'kich_kirc_FS']\n",
      "['cancer_classification', 'kich_kirc_PM']\n",
      "['cancer_classification', 'kich_kirp_FS']\n",
      "['cancer_classification', 'kich_kirp_PM']\n",
      "['cancer_classification', 'kirc_kirp_FS']\n",
      "['cancer_classification', 'kirc_kirp_PM']\n",
      "['cancer_classification', 'luad_lusc_FS']\n",
      "['cancer_classification', 'luad_lusc_PM']\n",
      "['tumor_detection', 'brca']\n",
      "['tumor_detection', 'coad']\n",
      "['tumor_detection', 'kich']\n",
      "['tumor_detection', 'kirc']\n",
      "['tumor_detection', 'kirp']\n",
      "['tumor_detection', 'luad']\n",
      "['tumor_detection', 'lusc']\n",
      "['tumor_detection', 'read']\n"
     ]
    },
    {
     "data": {
      "text/html": [
       "<div>\n",
       "<style scoped>\n",
       "    .dataframe tbody tr th:only-of-type {\n",
       "        vertical-align: middle;\n",
       "    }\n",
       "\n",
       "    .dataframe tbody tr th {\n",
       "        vertical-align: top;\n",
       "    }\n",
       "\n",
       "    .dataframe thead th {\n",
       "        text-align: right;\n",
       "    }\n",
       "</style>\n",
       "<table border=\"1\" class=\"dataframe\">\n",
       "  <thead>\n",
       "    <tr style=\"text-align: right;\">\n",
       "      <th></th>\n",
       "      <th>task</th>\n",
       "      <th>cancer</th>\n",
       "      <th>Accuracy</th>\n",
       "      <th>F1-score</th>\n",
       "      <th>MMPF_size</th>\n",
       "    </tr>\n",
       "  </thead>\n",
       "  <tbody>\n",
       "    <tr>\n",
       "      <th>0</th>\n",
       "      <td>cancer_classification</td>\n",
       "      <td>coad_read_FS</td>\n",
       "      <td>0.722628</td>\n",
       "      <td>0.000000</td>\n",
       "      <td>0.641280</td>\n",
       "    </tr>\n",
       "    <tr>\n",
       "      <th>0</th>\n",
       "      <td>cancer_classification</td>\n",
       "      <td>coad_read_PM</td>\n",
       "      <td>0.750799</td>\n",
       "      <td>0.000000</td>\n",
       "      <td>0.668209</td>\n",
       "    </tr>\n",
       "    <tr>\n",
       "      <th>0</th>\n",
       "      <td>cancer_classification</td>\n",
       "      <td>kich_kirc_FS</td>\n",
       "      <td>0.964061</td>\n",
       "      <td>0.979466</td>\n",
       "      <td>0.363271</td>\n",
       "    </tr>\n",
       "    <tr>\n",
       "      <th>0</th>\n",
       "      <td>cancer_classification</td>\n",
       "      <td>kich_kirc_PM</td>\n",
       "      <td>0.965889</td>\n",
       "      <td>0.979098</td>\n",
       "      <td>0.415733</td>\n",
       "    </tr>\n",
       "    <tr>\n",
       "      <th>0</th>\n",
       "      <td>cancer_classification</td>\n",
       "      <td>kich_kirp_FS</td>\n",
       "      <td>0.980296</td>\n",
       "      <td>0.985455</td>\n",
       "      <td>0.313262</td>\n",
       "    </tr>\n",
       "    <tr>\n",
       "      <th>0</th>\n",
       "      <td>cancer_classification</td>\n",
       "      <td>kich_kirp_PM</td>\n",
       "      <td>0.984177</td>\n",
       "      <td>0.988506</td>\n",
       "      <td>0.313262</td>\n",
       "    </tr>\n",
       "    <tr>\n",
       "      <th>0</th>\n",
       "      <td>cancer_classification</td>\n",
       "      <td>kirc_kirp_FS</td>\n",
       "      <td>0.984861</td>\n",
       "      <td>0.965642</td>\n",
       "      <td>0.335003</td>\n",
       "    </tr>\n",
       "    <tr>\n",
       "      <th>0</th>\n",
       "      <td>cancer_classification</td>\n",
       "      <td>kirc_kirp_PM</td>\n",
       "      <td>0.988253</td>\n",
       "      <td>0.981900</td>\n",
       "      <td>0.313269</td>\n",
       "    </tr>\n",
       "    <tr>\n",
       "      <th>0</th>\n",
       "      <td>cancer_classification</td>\n",
       "      <td>luad_lusc_FS</td>\n",
       "      <td>0.890071</td>\n",
       "      <td>0.887273</td>\n",
       "      <td>0.438467</td>\n",
       "    </tr>\n",
       "    <tr>\n",
       "      <th>0</th>\n",
       "      <td>cancer_classification</td>\n",
       "      <td>luad_lusc_PM</td>\n",
       "      <td>0.916250</td>\n",
       "      <td>0.908345</td>\n",
       "      <td>0.446377</td>\n",
       "    </tr>\n",
       "    <tr>\n",
       "      <th>0</th>\n",
       "      <td>tumor_detection</td>\n",
       "      <td>brca</td>\n",
       "      <td>0.991831</td>\n",
       "      <td>0.994709</td>\n",
       "      <td>0.313262</td>\n",
       "    </tr>\n",
       "    <tr>\n",
       "      <th>0</th>\n",
       "      <td>tumor_detection</td>\n",
       "      <td>coad</td>\n",
       "      <td>0.900000</td>\n",
       "      <td>0.947368</td>\n",
       "      <td>0.467079</td>\n",
       "    </tr>\n",
       "    <tr>\n",
       "      <th>0</th>\n",
       "      <td>tumor_detection</td>\n",
       "      <td>kich</td>\n",
       "      <td>0.994624</td>\n",
       "      <td>0.996226</td>\n",
       "      <td>0.313262</td>\n",
       "    </tr>\n",
       "    <tr>\n",
       "      <th>0</th>\n",
       "      <td>tumor_detection</td>\n",
       "      <td>kirc</td>\n",
       "      <td>0.996702</td>\n",
       "      <td>0.997445</td>\n",
       "      <td>0.313262</td>\n",
       "    </tr>\n",
       "    <tr>\n",
       "      <th>0</th>\n",
       "      <td>tumor_detection</td>\n",
       "      <td>kirp</td>\n",
       "      <td>0.994236</td>\n",
       "      <td>0.996364</td>\n",
       "      <td>0.313262</td>\n",
       "    </tr>\n",
       "    <tr>\n",
       "      <th>0</th>\n",
       "      <td>tumor_detection</td>\n",
       "      <td>luad</td>\n",
       "      <td>0.993679</td>\n",
       "      <td>0.995802</td>\n",
       "      <td>0.313262</td>\n",
       "    </tr>\n",
       "    <tr>\n",
       "      <th>0</th>\n",
       "      <td>tumor_detection</td>\n",
       "      <td>lusc</td>\n",
       "      <td>0.986649</td>\n",
       "      <td>0.990672</td>\n",
       "      <td>0.337077</td>\n",
       "    </tr>\n",
       "    <tr>\n",
       "      <th>0</th>\n",
       "      <td>tumor_detection</td>\n",
       "      <td>read</td>\n",
       "      <td>1.000000</td>\n",
       "      <td>1.000000</td>\n",
       "      <td>0.313262</td>\n",
       "    </tr>\n",
       "  </tbody>\n",
       "</table>\n",
       "</div>"
      ],
      "text/plain": [
       "                    task        cancer  Accuracy  F1-score  MMPF_size\n",
       "0  cancer_classification  coad_read_FS  0.722628  0.000000   0.641280\n",
       "0  cancer_classification  coad_read_PM  0.750799  0.000000   0.668209\n",
       "0  cancer_classification  kich_kirc_FS  0.964061  0.979466   0.363271\n",
       "0  cancer_classification  kich_kirc_PM  0.965889  0.979098   0.415733\n",
       "0  cancer_classification  kich_kirp_FS  0.980296  0.985455   0.313262\n",
       "0  cancer_classification  kich_kirp_PM  0.984177  0.988506   0.313262\n",
       "0  cancer_classification  kirc_kirp_FS  0.984861  0.965642   0.335003\n",
       "0  cancer_classification  kirc_kirp_PM  0.988253  0.981900   0.313269\n",
       "0  cancer_classification  luad_lusc_FS  0.890071  0.887273   0.438467\n",
       "0  cancer_classification  luad_lusc_PM  0.916250  0.908345   0.446377\n",
       "0        tumor_detection          brca  0.991831  0.994709   0.313262\n",
       "0        tumor_detection          coad  0.900000  0.947368   0.467079\n",
       "0        tumor_detection          kich  0.994624  0.996226   0.313262\n",
       "0        tumor_detection          kirc  0.996702  0.997445   0.313262\n",
       "0        tumor_detection          kirp  0.994236  0.996364   0.313262\n",
       "0        tumor_detection          luad  0.993679  0.995802   0.313262\n",
       "0        tumor_detection          lusc  0.986649  0.990672   0.337077\n",
       "0        tumor_detection          read  1.000000  1.000000   0.313262"
      ]
     },
     "execution_count": 16,
     "metadata": {},
     "output_type": "execute_result"
    }
   ],
   "source": [
    "# Initialization\n",
    "cols = ['task', 'cancer', 'Accuracy', 'F1-score', 'MMPF_size']\n",
    "df_martinez = pd.DataFrame(columns = cols)\n",
    "\n",
    "# Loop on the combinations for baseline\n",
    "for comb in COMBS_BASELINE:\n",
    "    # Track\n",
    "    print(comb)\n",
    "    \n",
    "    # Extract combinations\n",
    "    task = comb[0]\n",
    "    cancer = comb[1]\n",
    "    \n",
    "    # Get the metrics\n",
    "    df_martinez = check_results_martinez(task, cancer, df_martinez, 'test_')\n",
    "df_martinez"
   ]
  },
  {
   "cell_type": "code",
   "execution_count": 18,
   "metadata": {},
   "outputs": [
    {
     "data": {
      "text/html": [
       "<div>\n",
       "<style scoped>\n",
       "    .dataframe tbody tr th:only-of-type {\n",
       "        vertical-align: middle;\n",
       "    }\n",
       "\n",
       "    .dataframe tbody tr th {\n",
       "        vertical-align: top;\n",
       "    }\n",
       "\n",
       "    .dataframe thead th {\n",
       "        text-align: right;\n",
       "    }\n",
       "</style>\n",
       "<table border=\"1\" class=\"dataframe\">\n",
       "  <thead>\n",
       "    <tr style=\"text-align: right;\">\n",
       "      <th></th>\n",
       "      <th>task</th>\n",
       "      <th>cancer</th>\n",
       "      <th>Accuracy</th>\n",
       "      <th>F1-score</th>\n",
       "      <th>MMPF_size</th>\n",
       "    </tr>\n",
       "  </thead>\n",
       "  <tbody>\n",
       "    <tr>\n",
       "      <th>0</th>\n",
       "      <td>cancer_classification</td>\n",
       "      <td>coad_read_FS</td>\n",
       "      <td>0.722628</td>\n",
       "      <td>0.000000</td>\n",
       "      <td>0.641280</td>\n",
       "    </tr>\n",
       "    <tr>\n",
       "      <th>0</th>\n",
       "      <td>cancer_classification</td>\n",
       "      <td>coad_read_PM</td>\n",
       "      <td>0.750799</td>\n",
       "      <td>0.000000</td>\n",
       "      <td>0.668209</td>\n",
       "    </tr>\n",
       "    <tr>\n",
       "      <th>0</th>\n",
       "      <td>cancer_classification</td>\n",
       "      <td>kich_kirc_FS</td>\n",
       "      <td>0.964061</td>\n",
       "      <td>0.979466</td>\n",
       "      <td>0.363271</td>\n",
       "    </tr>\n",
       "    <tr>\n",
       "      <th>0</th>\n",
       "      <td>cancer_classification</td>\n",
       "      <td>kich_kirc_PM</td>\n",
       "      <td>0.965889</td>\n",
       "      <td>0.979098</td>\n",
       "      <td>0.415733</td>\n",
       "    </tr>\n",
       "    <tr>\n",
       "      <th>0</th>\n",
       "      <td>cancer_classification</td>\n",
       "      <td>kich_kirp_FS</td>\n",
       "      <td>0.980296</td>\n",
       "      <td>0.985455</td>\n",
       "      <td>0.313262</td>\n",
       "    </tr>\n",
       "    <tr>\n",
       "      <th>0</th>\n",
       "      <td>cancer_classification</td>\n",
       "      <td>kich_kirp_PM</td>\n",
       "      <td>0.984177</td>\n",
       "      <td>0.988506</td>\n",
       "      <td>0.313262</td>\n",
       "    </tr>\n",
       "    <tr>\n",
       "      <th>0</th>\n",
       "      <td>cancer_classification</td>\n",
       "      <td>kirc_kirp_FS</td>\n",
       "      <td>0.984861</td>\n",
       "      <td>0.965642</td>\n",
       "      <td>0.335003</td>\n",
       "    </tr>\n",
       "    <tr>\n",
       "      <th>0</th>\n",
       "      <td>cancer_classification</td>\n",
       "      <td>kirc_kirp_PM</td>\n",
       "      <td>0.988253</td>\n",
       "      <td>0.981900</td>\n",
       "      <td>0.313269</td>\n",
       "    </tr>\n",
       "    <tr>\n",
       "      <th>0</th>\n",
       "      <td>cancer_classification</td>\n",
       "      <td>luad_lusc_FS</td>\n",
       "      <td>0.890071</td>\n",
       "      <td>0.887273</td>\n",
       "      <td>0.438467</td>\n",
       "    </tr>\n",
       "    <tr>\n",
       "      <th>0</th>\n",
       "      <td>cancer_classification</td>\n",
       "      <td>luad_lusc_PM</td>\n",
       "      <td>0.916250</td>\n",
       "      <td>0.908345</td>\n",
       "      <td>0.446377</td>\n",
       "    </tr>\n",
       "    <tr>\n",
       "      <th>0</th>\n",
       "      <td>tumor_detection</td>\n",
       "      <td>brca</td>\n",
       "      <td>0.991831</td>\n",
       "      <td>0.994709</td>\n",
       "      <td>0.313262</td>\n",
       "    </tr>\n",
       "    <tr>\n",
       "      <th>0</th>\n",
       "      <td>tumor_detection</td>\n",
       "      <td>coad</td>\n",
       "      <td>0.900000</td>\n",
       "      <td>0.947368</td>\n",
       "      <td>0.467079</td>\n",
       "    </tr>\n",
       "    <tr>\n",
       "      <th>0</th>\n",
       "      <td>tumor_detection</td>\n",
       "      <td>kich</td>\n",
       "      <td>0.994624</td>\n",
       "      <td>0.996226</td>\n",
       "      <td>0.313262</td>\n",
       "    </tr>\n",
       "    <tr>\n",
       "      <th>0</th>\n",
       "      <td>tumor_detection</td>\n",
       "      <td>kirc</td>\n",
       "      <td>0.996702</td>\n",
       "      <td>0.997445</td>\n",
       "      <td>0.313262</td>\n",
       "    </tr>\n",
       "    <tr>\n",
       "      <th>0</th>\n",
       "      <td>tumor_detection</td>\n",
       "      <td>kirp</td>\n",
       "      <td>0.994236</td>\n",
       "      <td>0.996364</td>\n",
       "      <td>0.313262</td>\n",
       "    </tr>\n",
       "    <tr>\n",
       "      <th>0</th>\n",
       "      <td>tumor_detection</td>\n",
       "      <td>luad</td>\n",
       "      <td>0.993679</td>\n",
       "      <td>0.995802</td>\n",
       "      <td>0.313262</td>\n",
       "    </tr>\n",
       "    <tr>\n",
       "      <th>0</th>\n",
       "      <td>tumor_detection</td>\n",
       "      <td>lusc</td>\n",
       "      <td>0.986649</td>\n",
       "      <td>0.990672</td>\n",
       "      <td>0.337077</td>\n",
       "    </tr>\n",
       "    <tr>\n",
       "      <th>0</th>\n",
       "      <td>tumor_detection</td>\n",
       "      <td>read</td>\n",
       "      <td>1.000000</td>\n",
       "      <td>1.000000</td>\n",
       "      <td>0.313262</td>\n",
       "    </tr>\n",
       "  </tbody>\n",
       "</table>\n",
       "</div>"
      ],
      "text/plain": [
       "                    task        cancer  Accuracy  F1-score  MMPF_size\n",
       "0  cancer_classification  coad_read_FS  0.722628  0.000000   0.641280\n",
       "0  cancer_classification  coad_read_PM  0.750799  0.000000   0.668209\n",
       "0  cancer_classification  kich_kirc_FS  0.964061  0.979466   0.363271\n",
       "0  cancer_classification  kich_kirc_PM  0.965889  0.979098   0.415733\n",
       "0  cancer_classification  kich_kirp_FS  0.980296  0.985455   0.313262\n",
       "0  cancer_classification  kich_kirp_PM  0.984177  0.988506   0.313262\n",
       "0  cancer_classification  kirc_kirp_FS  0.984861  0.965642   0.335003\n",
       "0  cancer_classification  kirc_kirp_PM  0.988253  0.981900   0.313269\n",
       "0  cancer_classification  luad_lusc_FS  0.890071  0.887273   0.438467\n",
       "0  cancer_classification  luad_lusc_PM  0.916250  0.908345   0.446377\n",
       "0        tumor_detection          brca  0.991831  0.994709   0.313262\n",
       "0        tumor_detection          coad  0.900000  0.947368   0.467079\n",
       "0        tumor_detection          kich  0.994624  0.996226   0.313262\n",
       "0        tumor_detection          kirc  0.996702  0.997445   0.313262\n",
       "0        tumor_detection          kirp  0.994236  0.996364   0.313262\n",
       "0        tumor_detection          luad  0.993679  0.995802   0.313262\n",
       "0        tumor_detection          lusc  0.986649  0.990672   0.337077\n",
       "0        tumor_detection          read  1.000000  1.000000   0.313262"
      ]
     },
     "execution_count": 18,
     "metadata": {},
     "output_type": "execute_result"
    }
   ],
   "source": [
    "df_martinez"
   ]
  },
  {
   "cell_type": "code",
   "execution_count": 17,
   "metadata": {},
   "outputs": [
    {
     "data": {
      "application/vnd.plotly.v1+json": {
       "config": {
        "plotlyServerURL": "https://plot.ly"
       },
       "data": [
        {
         "alignmentgroup": "True",
         "hovertemplate": "variable=Accuracy<br>cancer=%{x}<br>value=%{y}<extra></extra>",
         "legendgroup": "Accuracy",
         "marker": {
          "color": "rgb(101, 171, 200)",
          "pattern": {
           "shape": ""
          }
         },
         "name": "Accuracy",
         "offsetgroup": "Accuracy",
         "orientation": "v",
         "showlegend": true,
         "textposition": "auto",
         "texttemplate": "%{y:.3f}",
         "type": "bar",
         "x": [
          "coad_read_FS",
          "coad_read_PM",
          "kich_kirc_FS",
          "kich_kirc_PM",
          "kich_kirp_FS",
          "kich_kirp_PM",
          "kirc_kirp_FS",
          "kirc_kirp_PM",
          "luad_lusc_FS",
          "luad_lusc_PM"
         ],
         "xaxis": "x2",
         "y": [
          0.7226277589797974,
          0.7507987022399902,
          0.9640610814094543,
          0.9658886790275574,
          0.9802955389022827,
          0.9841772317886353,
          0.9848605394363403,
          0.988252580165863,
          0.890070915222168,
          0.9162499904632568
         ],
         "yaxis": "y2"
        },
        {
         "alignmentgroup": "True",
         "hovertemplate": "variable=F1-score<br>cancer=%{x}<br>value=%{y}<extra></extra>",
         "legendgroup": "F1-score",
         "marker": {
          "color": "rgb(50, 100, 170)",
          "pattern": {
           "shape": ""
          }
         },
         "name": "F1-score",
         "offsetgroup": "F1-score",
         "orientation": "v",
         "showlegend": true,
         "textposition": "auto",
         "texttemplate": "%{y:.3f}",
         "type": "bar",
         "x": [
          "coad_read_FS",
          "coad_read_PM",
          "kich_kirc_FS",
          "kich_kirc_PM",
          "kich_kirp_FS",
          "kich_kirp_PM",
          "kirc_kirp_FS",
          "kirc_kirp_PM",
          "luad_lusc_FS",
          "luad_lusc_PM"
         ],
         "xaxis": "x2",
         "y": [
          0,
          0,
          0.9794661402702332,
          0.9790979027748108,
          0.9854545593261719,
          0.9885057210922241,
          0.965641975402832,
          0.9819004535675049,
          0.8872727155685425,
          0.9083447456359863
         ],
         "yaxis": "y2"
        },
        {
         "alignmentgroup": "True",
         "hovertemplate": "variable=MMPF_size<br>cancer=%{x}<br>value=%{y}<extra></extra>",
         "legendgroup": "MMPF_size",
         "marker": {
          "color": "rgb(21, 21, 45)",
          "pattern": {
           "shape": ""
          }
         },
         "name": "MMPF_size",
         "offsetgroup": "MMPF_size",
         "orientation": "v",
         "showlegend": true,
         "textposition": "auto",
         "texttemplate": "%{y:.3f}",
         "type": "bar",
         "x": [
          "coad_read_FS",
          "coad_read_PM",
          "kich_kirc_FS",
          "kich_kirc_PM",
          "kich_kirp_FS",
          "kich_kirp_PM",
          "kirc_kirp_FS",
          "kirc_kirp_PM",
          "luad_lusc_FS",
          "luad_lusc_PM"
         ],
         "xaxis": "x2",
         "y": [
          0.6412795186042786,
          0.6682090361913046,
          0.36327059268951417,
          0.41573299702845123,
          0.31326173345247904,
          0.3132616969255301,
          0.3350028784378715,
          0.3132688480394858,
          0.43846710692060753,
          0.446377445012331
         ],
         "yaxis": "y2"
        },
        {
         "alignmentgroup": "True",
         "hovertemplate": "variable=Accuracy<br>cancer=%{x}<br>value=%{y}<extra></extra>",
         "legendgroup": "Accuracy",
         "marker": {
          "color": "rgb(101, 171, 200)",
          "pattern": {
           "shape": ""
          }
         },
         "name": "Accuracy",
         "offsetgroup": "Accuracy",
         "orientation": "v",
         "showlegend": false,
         "textposition": "auto",
         "texttemplate": "%{y:.3f}",
         "type": "bar",
         "x": [
          "brca",
          "coad",
          "kich",
          "kirc",
          "kirp",
          "luad",
          "lusc",
          "read"
         ],
         "xaxis": "x",
         "y": [
          0.9918311834335327,
          0.8999999761581421,
          0.9946236610412598,
          0.9967018365859985,
          0.9942362904548645,
          0.993678867816925,
          0.9866488575935364,
          1
         ],
         "yaxis": "y"
        },
        {
         "alignmentgroup": "True",
         "hovertemplate": "variable=F1-score<br>cancer=%{x}<br>value=%{y}<extra></extra>",
         "legendgroup": "F1-score",
         "marker": {
          "color": "rgb(50, 100, 170)",
          "pattern": {
           "shape": ""
          }
         },
         "name": "F1-score",
         "offsetgroup": "F1-score",
         "orientation": "v",
         "showlegend": false,
         "textposition": "auto",
         "texttemplate": "%{y:.3f}",
         "type": "bar",
         "x": [
          "brca",
          "coad",
          "kich",
          "kirc",
          "kirp",
          "luad",
          "lusc",
          "read"
         ],
         "xaxis": "x",
         "y": [
          0.9947090148925781,
          0.9473684430122375,
          0.99622642993927,
          0.9974450469017029,
          0.996363639831543,
          0.9958018660545349,
          0.9906716346740723,
          1
         ],
         "yaxis": "y"
        },
        {
         "alignmentgroup": "True",
         "hovertemplate": "variable=MMPF_size<br>cancer=%{x}<br>value=%{y}<extra></extra>",
         "legendgroup": "MMPF_size",
         "marker": {
          "color": "rgb(21, 21, 45)",
          "pattern": {
           "shape": ""
          }
         },
         "name": "MMPF_size",
         "offsetgroup": "MMPF_size",
         "orientation": "v",
         "showlegend": false,
         "textposition": "auto",
         "texttemplate": "%{y:.3f}",
         "type": "bar",
         "x": [
          "brca",
          "coad",
          "kich",
          "kirc",
          "kirp",
          "luad",
          "lusc",
          "read"
         ],
         "xaxis": "x",
         "y": [
          0.31326166139199185,
          0.46707940789369434,
          0.31326165795326233,
          0.31326165795326233,
          0.3132616917292277,
          0.3132624039426446,
          0.3370771926073801,
          0.31326165795326233
         ],
         "yaxis": "y"
        }
       ],
       "layout": {
        "annotations": [
         {
          "font": {
           "size": 16
          },
          "showarrow": false,
          "text": "Tumor detection tasks",
          "x": 0.5,
          "xanchor": "center",
          "xref": "paper",
          "y": 1,
          "yanchor": "bottom",
          "yref": "paper"
         },
         {
          "font": {
           "size": 16
          },
          "showarrow": false,
          "text": "Cancer classification tasks",
          "x": 0.5,
          "xanchor": "center",
          "xref": "paper",
          "y": 0.4,
          "yanchor": "bottom",
          "yref": "paper"
         }
        ],
        "bargap": 0.3,
        "bargroupgap": 0.1,
        "barmode": "group",
        "height": 700,
        "template": {
         "data": {
          "scatter": [
           {
            "type": "scatter"
           }
          ]
         }
        },
        "width": 1200,
        "xaxis": {
         "anchor": "y",
         "domain": [
          0,
          1
         ],
         "title": {
          "text": "Cancer"
         }
        },
        "xaxis2": {
         "anchor": "y2",
         "domain": [
          0,
          1
         ],
         "title": {
          "text": "Cancer"
         }
        },
        "yaxis": {
         "anchor": "x",
         "domain": [
          0.6000000000000001,
          1
         ],
         "title": {
          "text": "Values [no unit]"
         }
        },
        "yaxis2": {
         "anchor": "x2",
         "domain": [
          0,
          0.4
         ],
         "title": {
          "text": "Values [no unit]"
         }
        }
       }
      },
      "text/html": [
       "<div>                            <div id=\"1dadd462-1f5b-4ab5-ad55-fa0f685f9f41\" class=\"plotly-graph-div\" style=\"height:700px; width:1200px;\"></div>            <script type=\"text/javascript\">                require([\"plotly\"], function(Plotly) {                    window.PLOTLYENV=window.PLOTLYENV || {};                                    if (document.getElementById(\"1dadd462-1f5b-4ab5-ad55-fa0f685f9f41\")) {                    Plotly.newPlot(                        \"1dadd462-1f5b-4ab5-ad55-fa0f685f9f41\",                        [{\"alignmentgroup\":\"True\",\"hovertemplate\":\"variable=Accuracy<br>cancer=%{x}<br>value=%{y}<extra></extra>\",\"legendgroup\":\"Accuracy\",\"marker\":{\"color\":\"rgb(101, 171, 200)\",\"pattern\":{\"shape\":\"\"}},\"name\":\"Accuracy\",\"offsetgroup\":\"Accuracy\",\"orientation\":\"v\",\"showlegend\":true,\"textposition\":\"auto\",\"texttemplate\":\"%{y:.3f}\",\"x\":[\"coad_read_FS\",\"coad_read_PM\",\"kich_kirc_FS\",\"kich_kirc_PM\",\"kich_kirp_FS\",\"kich_kirp_PM\",\"kirc_kirp_FS\",\"kirc_kirp_PM\",\"luad_lusc_FS\",\"luad_lusc_PM\"],\"xaxis\":\"x2\",\"y\":[0.7226277589797974,0.7507987022399902,0.9640610814094543,0.9658886790275574,0.9802955389022827,0.9841772317886353,0.9848605394363403,0.988252580165863,0.890070915222168,0.9162499904632568],\"yaxis\":\"y2\",\"type\":\"bar\"},{\"alignmentgroup\":\"True\",\"hovertemplate\":\"variable=F1-score<br>cancer=%{x}<br>value=%{y}<extra></extra>\",\"legendgroup\":\"F1-score\",\"marker\":{\"color\":\"rgb(50, 100, 170)\",\"pattern\":{\"shape\":\"\"}},\"name\":\"F1-score\",\"offsetgroup\":\"F1-score\",\"orientation\":\"v\",\"showlegend\":true,\"textposition\":\"auto\",\"texttemplate\":\"%{y:.3f}\",\"x\":[\"coad_read_FS\",\"coad_read_PM\",\"kich_kirc_FS\",\"kich_kirc_PM\",\"kich_kirp_FS\",\"kich_kirp_PM\",\"kirc_kirp_FS\",\"kirc_kirp_PM\",\"luad_lusc_FS\",\"luad_lusc_PM\"],\"xaxis\":\"x2\",\"y\":[0.0,0.0,0.9794661402702332,0.9790979027748108,0.9854545593261719,0.9885057210922241,0.965641975402832,0.9819004535675049,0.8872727155685425,0.9083447456359863],\"yaxis\":\"y2\",\"type\":\"bar\"},{\"alignmentgroup\":\"True\",\"hovertemplate\":\"variable=MMPF_size<br>cancer=%{x}<br>value=%{y}<extra></extra>\",\"legendgroup\":\"MMPF_size\",\"marker\":{\"color\":\"rgb(21, 21, 45)\",\"pattern\":{\"shape\":\"\"}},\"name\":\"MMPF_size\",\"offsetgroup\":\"MMPF_size\",\"orientation\":\"v\",\"showlegend\":true,\"textposition\":\"auto\",\"texttemplate\":\"%{y:.3f}\",\"x\":[\"coad_read_FS\",\"coad_read_PM\",\"kich_kirc_FS\",\"kich_kirc_PM\",\"kich_kirp_FS\",\"kich_kirp_PM\",\"kirc_kirp_FS\",\"kirc_kirp_PM\",\"luad_lusc_FS\",\"luad_lusc_PM\"],\"xaxis\":\"x2\",\"y\":[0.6412795186042786,0.6682090361913046,0.36327059268951417,0.41573299702845123,0.31326173345247904,0.3132616969255301,0.3350028784378715,0.3132688480394858,0.43846710692060753,0.446377445012331],\"yaxis\":\"y2\",\"type\":\"bar\"},{\"alignmentgroup\":\"True\",\"hovertemplate\":\"variable=Accuracy<br>cancer=%{x}<br>value=%{y}<extra></extra>\",\"legendgroup\":\"Accuracy\",\"marker\":{\"color\":\"rgb(101, 171, 200)\",\"pattern\":{\"shape\":\"\"}},\"name\":\"Accuracy\",\"offsetgroup\":\"Accuracy\",\"orientation\":\"v\",\"showlegend\":false,\"textposition\":\"auto\",\"texttemplate\":\"%{y:.3f}\",\"x\":[\"brca\",\"coad\",\"kich\",\"kirc\",\"kirp\",\"luad\",\"lusc\",\"read\"],\"xaxis\":\"x\",\"y\":[0.9918311834335327,0.8999999761581421,0.9946236610412598,0.9967018365859985,0.9942362904548645,0.993678867816925,0.9866488575935364,1.0],\"yaxis\":\"y\",\"type\":\"bar\"},{\"alignmentgroup\":\"True\",\"hovertemplate\":\"variable=F1-score<br>cancer=%{x}<br>value=%{y}<extra></extra>\",\"legendgroup\":\"F1-score\",\"marker\":{\"color\":\"rgb(50, 100, 170)\",\"pattern\":{\"shape\":\"\"}},\"name\":\"F1-score\",\"offsetgroup\":\"F1-score\",\"orientation\":\"v\",\"showlegend\":false,\"textposition\":\"auto\",\"texttemplate\":\"%{y:.3f}\",\"x\":[\"brca\",\"coad\",\"kich\",\"kirc\",\"kirp\",\"luad\",\"lusc\",\"read\"],\"xaxis\":\"x\",\"y\":[0.9947090148925781,0.9473684430122375,0.99622642993927,0.9974450469017029,0.996363639831543,0.9958018660545349,0.9906716346740723,1.0],\"yaxis\":\"y\",\"type\":\"bar\"},{\"alignmentgroup\":\"True\",\"hovertemplate\":\"variable=MMPF_size<br>cancer=%{x}<br>value=%{y}<extra></extra>\",\"legendgroup\":\"MMPF_size\",\"marker\":{\"color\":\"rgb(21, 21, 45)\",\"pattern\":{\"shape\":\"\"}},\"name\":\"MMPF_size\",\"offsetgroup\":\"MMPF_size\",\"orientation\":\"v\",\"showlegend\":false,\"textposition\":\"auto\",\"texttemplate\":\"%{y:.3f}\",\"x\":[\"brca\",\"coad\",\"kich\",\"kirc\",\"kirp\",\"luad\",\"lusc\",\"read\"],\"xaxis\":\"x\",\"y\":[0.31326166139199185,0.46707940789369434,0.31326165795326233,0.31326165795326233,0.3132616917292277,0.3132624039426446,0.3370771926073801,0.31326165795326233],\"yaxis\":\"y\",\"type\":\"bar\"}],                        {\"template\":{\"data\":{\"scatter\":[{\"type\":\"scatter\"}]}},\"xaxis\":{\"anchor\":\"y\",\"domain\":[0.0,1.0],\"title\":{\"text\":\"Cancer\"}},\"yaxis\":{\"anchor\":\"x\",\"domain\":[0.6000000000000001,1.0],\"title\":{\"text\":\"Values [no unit]\"}},\"xaxis2\":{\"anchor\":\"y2\",\"domain\":[0.0,1.0],\"title\":{\"text\":\"Cancer\"}},\"yaxis2\":{\"anchor\":\"x2\",\"domain\":[0.0,0.4],\"title\":{\"text\":\"Values [no unit]\"}},\"annotations\":[{\"font\":{\"size\":16},\"showarrow\":false,\"text\":\"Tumor detection tasks\",\"x\":0.5,\"xanchor\":\"center\",\"xref\":\"paper\",\"y\":1.0,\"yanchor\":\"bottom\",\"yref\":\"paper\"},{\"font\":{\"size\":16},\"showarrow\":false,\"text\":\"Cancer classification tasks\",\"x\":0.5,\"xanchor\":\"center\",\"xref\":\"paper\",\"y\":0.4,\"yanchor\":\"bottom\",\"yref\":\"paper\"}],\"height\":700,\"width\":1200,\"barmode\":\"group\",\"bargap\":0.3,\"bargroupgap\":0.1},                        {\"responsive\": true}                    ).then(function(){\n",
       "                            \n",
       "var gd = document.getElementById('1dadd462-1f5b-4ab5-ad55-fa0f685f9f41');\n",
       "var x = new MutationObserver(function (mutations, observer) {{\n",
       "        var display = window.getComputedStyle(gd).display;\n",
       "        if (!display || display === 'none') {{\n",
       "            console.log([gd, 'removed!']);\n",
       "            Plotly.purge(gd);\n",
       "            observer.disconnect();\n",
       "        }}\n",
       "}});\n",
       "\n",
       "// Listen for the removal of the full notebook cells\n",
       "var notebookContainer = gd.closest('#notebook-container');\n",
       "if (notebookContainer) {{\n",
       "    x.observe(notebookContainer, {childList: true});\n",
       "}}\n",
       "\n",
       "// Listen for the clearing of the current output cell\n",
       "var outputEl = gd.closest('.output');\n",
       "if (outputEl) {{\n",
       "    x.observe(outputEl, {childList: true});\n",
       "}}\n",
       "\n",
       "                        })                };                });            </script>        </div>"
      ]
     },
     "metadata": {},
     "output_type": "display_data"
    }
   ],
   "source": [
    "plot_results(df_martinez, 'images/results_martinez.eps')"
   ]
  },
  {
   "cell_type": "code",
   "execution_count": null,
   "metadata": {},
   "outputs": [],
   "source": []
  }
 ],
 "metadata": {
  "kernelspec": {
   "display_name": "pdm",
   "language": "python",
   "name": "python3"
  },
  "language_info": {
   "codemirror_mode": {
    "name": "ipython",
    "version": 3
   },
   "file_extension": ".py",
   "mimetype": "text/x-python",
   "name": "python",
   "nbconvert_exporter": "python",
   "pygments_lexer": "ipython3",
   "version": "3.1.0"
  }
 },
 "nbformat": 4,
 "nbformat_minor": 2
}
