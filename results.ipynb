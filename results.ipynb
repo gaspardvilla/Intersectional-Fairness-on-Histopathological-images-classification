{
 "cells": [
  {
   "cell_type": "markdown",
   "metadata": {},
   "source": [
    "# Imports and initialization of general parameters\n",
    "***"
   ]
  },
  {
   "cell_type": "code",
   "execution_count": 1,
   "metadata": {},
   "outputs": [],
   "source": [
    "from helpers.pareto_fairness import compute_pareto_metrics\n",
    "from config.info import AGES, RACES, GENDERS, COMBS_BASELINE, COMBS_FOULDS, COMBS_MARTINEZ\n",
    "from visualization.subgroup_distribution import plot_dist\n",
    "from dataprocess.dataloader import load_data\n",
    "from dataprocess.dataclass import Data\n",
    "from config.get_args import get_args\n",
    "from sklearn.metrics import mean_squared_error\n",
    "import plotly.express as px\n",
    "import plotly.graph_objects as go\n",
    "import plotly.figure_factory as ff\n",
    "from lightning import seed_everything\n",
    "from plotly.subplots import make_subplots\n",
    "import numpy as np\n",
    "import argparse\n",
    "import pandas as pd\n",
    "import random\n",
    "import torch.nn as nn\n",
    "import torch\n",
    "import torchmetrics as tm\n",
    "import pickle\n",
    "\n",
    "loss_fct = nn.CrossEntropyLoss()\n",
    "protected_atts = ['age_', 'race_', 'gender_']\n",
    "\n",
    "\n",
    "# Auto reload part\n",
    "%load_ext autoreload\n",
    "%autoreload 2"
   ]
  },
  {
   "cell_type": "markdown",
   "metadata": {},
   "source": [
    "# Baseline\n",
    "***"
   ]
  },
  {
   "cell_type": "code",
   "execution_count": 122,
   "metadata": {},
   "outputs": [],
   "source": [
    "def keep_best(df100 : pd.DataFrame, df1000 : pd.DataFrame):\n",
    "    # Check the match between the cancer\n",
    "    cs = [c for c in df100.cancer.to_list() if c in df1000.cancer.to_list()]\n",
    "    df100.set_index('cancer', drop = False, inplace = True)\n",
    "    df1000.set_index('cancer', drop = False, inplace = True)\n",
    "    df = df100[df100.cancer.isin(cs)].copy()\n",
    "    df['ID'] = 100\n",
    "    \n",
    "    # Check the best MMPF_size value between df100 and df1000, and add it to a new df\n",
    "    for c in cs:\n",
    "        \n",
    "        # Compare the values \n",
    "        v1 = df100[df100.cancer == c]['MMPF_size'][0]\n",
    "        v2 = df1000[df1000.cancer == c]['MMPF_size'][0]\n",
    "        if v2 <= v1:\n",
    "            df.loc[c, 'Accuracy'] = df1000[df1000.cancer == c]['Accuracy'][0]\n",
    "            df.loc[c, 'F1-score'] = df1000[df1000.cancer == c]['F1-score'][0]\n",
    "            df.loc[c, 'MMPF_size'] = df1000[df1000.cancer == c]['MMPF_size'][0]\n",
    "            df.loc[c, 'ID'] = 1000\n",
    "    return df\n",
    "\n",
    "def select_best_test(df_val, df100, df1000):\n",
    "    # Copy the df\n",
    "    cs = [c for c in df100.cancer.to_list() if c in df1000.cancer.to_list()]\n",
    "    df100.set_index('cancer', drop = False, inplace = True)\n",
    "    df1000.set_index('cancer', drop = False, inplace = True)\n",
    "    df = df_val.copy()\n",
    "\n",
    "    # Select the best inside the test df depending of the df val\n",
    "    for c in cs:\n",
    "        \n",
    "        # Check which ID is the best validation MMPF value\n",
    "        if df.loc[c, 'ID'] == 100:\n",
    "            df.loc[c, 'Accuracy'] = df100[df100.cancer == c]['Accuracy'][0]\n",
    "            df.loc[c, 'F1-score'] = df100[df100.cancer == c]['F1-score'][0]\n",
    "            df.loc[c, 'MMPF_size'] = df100[df100.cancer == c]['MMPF_size'][0]\n",
    "        else:\n",
    "            df.loc[c, 'Accuracy'] = df1000[df1000.cancer == c]['Accuracy'][0]\n",
    "            df.loc[c, 'F1-score'] = df1000[df1000.cancer == c]['F1-score'][0]\n",
    "            df.loc[c, 'MMPF_size'] = df1000[df1000.cancer == c]['MMPF_size'][0]\n",
    "            \n",
    "    return df"
   ]
  },
  {
   "cell_type": "code",
   "execution_count": null,
   "metadata": {},
   "outputs": [],
   "source": []
  },
  {
   "cell_type": "code",
   "execution_count": 44,
   "metadata": {},
   "outputs": [],
   "source": [
    "def plot_results_baseline(df : pd.DataFrame, filename : str):\n",
    "    # Initialization of the plot\n",
    "    task_cc = 'cancer_classification'\n",
    "    task_td = 'tumor_detection'\n",
    "    fig = make_subplots(rows = 2, cols = 1, vertical_spacing = 0.2,\n",
    "                        subplot_titles = ('Tumor detection tasks', 'Cancer classification tasks'))\n",
    "\n",
    "    # Traces\n",
    "    cc = px.bar(df[df.task == task_cc], x = 'cancer', y = ['Accuracy', 'F1-score', 'MMPF_size'],\n",
    "                color_discrete_sequence = ['rgb(101, 171, 200)', 'rgb(50, 100, 170)', 'rgb(21, 21, 45)'], text_auto = '.3f')\n",
    "    td = px.bar(df[df.task == task_td], x = 'cancer', y = ['Accuracy', 'F1-score', 'MMPF_size'],\n",
    "                color_discrete_sequence = ['rgb(101, 171, 200)', 'rgb(50, 100, 170)', 'rgb(21, 21, 45)'], text_auto = '.3f').update_traces(showlegend = False)\n",
    "\n",
    "    # Update the figure\n",
    "    for t in range(len(cc['data'])): fig.add_trace(cc['data'][t], row = 2, col = 1)\n",
    "    for t in range(len(td['data'])): fig.add_trace(td['data'][t], row = 1, col = 1)\n",
    "    fig.update_layout(height = 700, width = 1200, \n",
    "                    template = 'none',\n",
    "                    xaxis = {'title': 'Cancer'},\n",
    "                    yaxis = {'title': 'Values [no unit]'},\n",
    "                    xaxis2 = {'title': 'Cancer'},\n",
    "                    yaxis2 = {'title': 'Values [no unit]'})\n",
    "    fig.update_layout(barmode = 'group', bargap = 0.3, bargroupgap = 0.1)\n",
    "    fig.write_image(filename)\n",
    "    fig.show()\n",
    "    \n",
    "def plot_results_others(df : pd.DataFrame, filename : str):\n",
    "    # Initialization of the plot\n",
    "    task_cc = 'cancer_classification'\n",
    "\n",
    "    # Traces\n",
    "    fig = px.bar(df[df.task == task_cc], x = 'cancer', y = ['Accuracy', 'F1-score', 'MMPF_size'],\n",
    "                color_discrete_sequence = ['rgb(101, 171, 200)', 'rgb(50, 100, 170)', 'rgb(21, 21, 45)'], text_auto = '.3f')\n",
    "\n",
    "    # Update the figure\n",
    "    # for t in range(len(cc['data'])): fig.add_trace(cc['data'][t], row = 1, col = 1)\n",
    "    fig.update_layout(height = 400, width = 1200, \n",
    "                      title = 'Cancer classification tasks',\n",
    "                    template = 'none',\n",
    "                    xaxis = {'title': 'Cancer'},\n",
    "                    yaxis = {'title': 'Values [no unit]'})\n",
    "    fig.update_layout(barmode = 'group', bargap = 0.3, bargroupgap = 0.1)\n",
    "    fig.write_image(filename)\n",
    "    fig.show()"
   ]
  },
  {
   "cell_type": "code",
   "execution_count": 144,
   "metadata": {},
   "outputs": [
    {
     "name": "stdout",
     "output_type": "stream",
     "text": [
      "['cancer_classification', 'kich_kirc_FS']\n",
      "['cancer_classification', 'kich_kirc_PM']\n",
      "['cancer_classification', 'kich_kirp_FS']\n",
      "['cancer_classification', 'kich_kirp_PM']\n",
      "['cancer_classification', 'kirc_kirp_FS']\n",
      "['cancer_classification', 'kirc_kirp_PM']\n",
      "['cancer_classification', 'luad_lusc_FS']\n",
      "['cancer_classification', 'luad_lusc_PM']\n",
      "['tumor_detection', 'brca']\n",
      "['tumor_detection', 'coad']\n",
      "['tumor_detection', 'kich']\n",
      "['tumor_detection', 'kirc']\n",
      "['tumor_detection', 'kirp']\n",
      "['tumor_detection', 'luad']\n",
      "['tumor_detection', 'lusc']\n",
      "['tumor_detection', 'read']\n"
     ]
    },
    {
     "name": "stderr",
     "output_type": "stream",
     "text": [
      "/tmp/ipykernel_25352/1239156414.py:13: FutureWarning:\n",
      "\n",
      "Series.__getitem__ treating keys as positions is deprecated. In a future version, integer keys will always be treated as labels (consistent with DataFrame behavior). To access a value by position, use `ser.iloc[pos]`\n",
      "\n",
      "/tmp/ipykernel_25352/1239156414.py:14: FutureWarning:\n",
      "\n",
      "Series.__getitem__ treating keys as positions is deprecated. In a future version, integer keys will always be treated as labels (consistent with DataFrame behavior). To access a value by position, use `ser.iloc[pos]`\n",
      "\n",
      "/tmp/ipykernel_25352/1239156414.py:16: FutureWarning:\n",
      "\n",
      "Series.__getitem__ treating keys as positions is deprecated. In a future version, integer keys will always be treated as labels (consistent with DataFrame behavior). To access a value by position, use `ser.iloc[pos]`\n",
      "\n",
      "/tmp/ipykernel_25352/1239156414.py:17: FutureWarning:\n",
      "\n",
      "Series.__getitem__ treating keys as positions is deprecated. In a future version, integer keys will always be treated as labels (consistent with DataFrame behavior). To access a value by position, use `ser.iloc[pos]`\n",
      "\n",
      "/tmp/ipykernel_25352/1239156414.py:18: FutureWarning:\n",
      "\n",
      "Series.__getitem__ treating keys as positions is deprecated. In a future version, integer keys will always be treated as labels (consistent with DataFrame behavior). To access a value by position, use `ser.iloc[pos]`\n",
      "\n",
      "/tmp/ipykernel_25352/1239156414.py:34: FutureWarning:\n",
      "\n",
      "Series.__getitem__ treating keys as positions is deprecated. In a future version, integer keys will always be treated as labels (consistent with DataFrame behavior). To access a value by position, use `ser.iloc[pos]`\n",
      "\n",
      "/tmp/ipykernel_25352/1239156414.py:35: FutureWarning:\n",
      "\n",
      "Series.__getitem__ treating keys as positions is deprecated. In a future version, integer keys will always be treated as labels (consistent with DataFrame behavior). To access a value by position, use `ser.iloc[pos]`\n",
      "\n",
      "/tmp/ipykernel_25352/1239156414.py:36: FutureWarning:\n",
      "\n",
      "Series.__getitem__ treating keys as positions is deprecated. In a future version, integer keys will always be treated as labels (consistent with DataFrame behavior). To access a value by position, use `ser.iloc[pos]`\n",
      "\n",
      "/tmp/ipykernel_25352/1239156414.py:38: FutureWarning:\n",
      "\n",
      "Series.__getitem__ treating keys as positions is deprecated. In a future version, integer keys will always be treated as labels (consistent with DataFrame behavior). To access a value by position, use `ser.iloc[pos]`\n",
      "\n",
      "/tmp/ipykernel_25352/1239156414.py:39: FutureWarning:\n",
      "\n",
      "Series.__getitem__ treating keys as positions is deprecated. In a future version, integer keys will always be treated as labels (consistent with DataFrame behavior). To access a value by position, use `ser.iloc[pos]`\n",
      "\n",
      "/tmp/ipykernel_25352/1239156414.py:40: FutureWarning:\n",
      "\n",
      "Series.__getitem__ treating keys as positions is deprecated. In a future version, integer keys will always be treated as labels (consistent with DataFrame behavior). To access a value by position, use `ser.iloc[pos]`\n",
      "\n"
     ]
    },
    {
     "data": {
      "application/vnd.plotly.v1+json": {
       "config": {
        "plotlyServerURL": "https://plot.ly"
       },
       "data": [
        {
         "alignmentgroup": "True",
         "hovertemplate": "variable=Accuracy<br>cancer=%{x}<br>value=%{y}<extra></extra>",
         "legendgroup": "Accuracy",
         "marker": {
          "color": "rgb(101, 171, 200)",
          "pattern": {
           "shape": ""
          }
         },
         "name": "Accuracy",
         "offsetgroup": "Accuracy",
         "orientation": "v",
         "showlegend": true,
         "textposition": "auto",
         "texttemplate": "%{y:.3f}",
         "type": "bar",
         "x": [
          "kich_kirc_FS",
          "kich_kirc_PM",
          "kich_kirp_FS",
          "kich_kirp_PM",
          "kirc_kirp_FS",
          "kirc_kirp_PM",
          "luad_lusc_FS",
          "luad_lusc_PM"
         ],
         "xaxis": "x2",
         "y": [
          0.982928991317749,
          0.9694793820381165,
          0.9852216839790344,
          0.9905063509941101,
          0.9936255216598511,
          0.9941262602806091,
          0.945035457611084,
          0.9549999833106995
         ],
         "yaxis": "y2"
        },
        {
         "alignmentgroup": "True",
         "hovertemplate": "variable=F1-score<br>cancer=%{x}<br>value=%{y}<extra></extra>",
         "legendgroup": "F1-score",
         "marker": {
          "color": "rgb(50, 100, 170)",
          "pattern": {
           "shape": ""
          }
         },
         "name": "F1-score",
         "offsetgroup": "F1-score",
         "orientation": "v",
         "showlegend": true,
         "textposition": "auto",
         "texttemplate": "%{y:.3f}",
         "type": "bar",
         "x": [
          "kich_kirc_FS",
          "kich_kirc_PM",
          "kich_kirp_FS",
          "kich_kirp_PM",
          "kirc_kirp_FS",
          "kirc_kirp_PM",
          "luad_lusc_FS",
          "luad_lusc_PM"
         ],
         "xaxis": "x2",
         "y": [
          0.9902713894844055,
          0.9812154769897461,
          0.9890109896659851,
          0.9931662678718567,
          0.9855595827102661,
          0.9909090995788574,
          0.9420560598373413,
          0.9505494236946106
         ],
         "yaxis": "y2"
        },
        {
         "alignmentgroup": "True",
         "hovertemplate": "variable=MMPF_size<br>cancer=%{x}<br>value=%{y}<extra></extra>",
         "legendgroup": "MMPF_size",
         "marker": {
          "color": "rgb(21, 21, 45)",
          "pattern": {
           "shape": ""
          }
         },
         "name": "MMPF_size",
         "offsetgroup": "MMPF_size",
         "orientation": "v",
         "showlegend": true,
         "textposition": "auto",
         "texttemplate": "%{y:.3f}",
         "type": "bar",
         "x": [
          "kich_kirc_FS",
          "kich_kirc_PM",
          "kich_kirp_FS",
          "kich_kirp_PM",
          "kirc_kirp_FS",
          "kirc_kirp_PM",
          "luad_lusc_FS",
          "luad_lusc_PM"
         ],
         "xaxis": "x2",
         "y": [
          0.6550947427749634,
          0.6890233755111694,
          0.9662163853645325,
          0.7174286842346191,
          0.6268959641456604,
          0.7191141843795776,
          0.8391929864883423,
          0.8090630173683167
         ],
         "yaxis": "y2"
        },
        {
         "alignmentgroup": "True",
         "hovertemplate": "variable=Accuracy<br>cancer=%{x}<br>value=%{y}<extra></extra>",
         "legendgroup": "Accuracy",
         "marker": {
          "color": "rgb(101, 171, 200)",
          "pattern": {
           "shape": ""
          }
         },
         "name": "Accuracy",
         "offsetgroup": "Accuracy",
         "orientation": "v",
         "showlegend": false,
         "textposition": "auto",
         "texttemplate": "%{y:.3f}",
         "type": "bar",
         "x": [
          "brca",
          "coad",
          "kich",
          "kirc",
          "kirp",
          "luad",
          "lusc",
          "read"
         ],
         "xaxis": "x",
         "y": [
          0.9965963363647461,
          0.9954545497894287,
          1,
          0.9993403553962708,
          1,
          0.9949430823326111,
          0.9893190860748291,
          1
         ],
         "yaxis": "y"
        },
        {
         "alignmentgroup": "True",
         "hovertemplate": "variable=F1-score<br>cancer=%{x}<br>value=%{y}<extra></extra>",
         "legendgroup": "F1-score",
         "marker": {
          "color": "rgb(50, 100, 170)",
          "pattern": {
           "shape": ""
          }
         },
         "name": "F1-score",
         "offsetgroup": "F1-score",
         "orientation": "v",
         "showlegend": false,
         "textposition": "auto",
         "texttemplate": "%{y:.3f}",
         "type": "bar",
         "x": [
          "brca",
          "coad",
          "kich",
          "kirc",
          "kirp",
          "luad",
          "lusc",
          "read"
         ],
         "xaxis": "x",
         "y": [
          0.9977846741676331,
          0.9974683523178101,
          1,
          0.9994900822639465,
          1,
          0.9966386556625366,
          0.9925233721733093,
          1
         ],
         "yaxis": "y"
        },
        {
         "alignmentgroup": "True",
         "hovertemplate": "variable=MMPF_size<br>cancer=%{x}<br>value=%{y}<extra></extra>",
         "legendgroup": "MMPF_size",
         "marker": {
          "color": "rgb(21, 21, 45)",
          "pattern": {
           "shape": ""
          }
         },
         "name": "MMPF_size",
         "offsetgroup": "MMPF_size",
         "orientation": "v",
         "showlegend": false,
         "textposition": "auto",
         "texttemplate": "%{y:.3f}",
         "type": "bar",
         "x": [
          "brca",
          "coad",
          "kich",
          "kirc",
          "kirp",
          "luad",
          "lusc",
          "read"
         ],
         "xaxis": "x",
         "y": [
          0.6265233159065247,
          0.7174323797225952,
          0.6265426278114319,
          0.6265233159065247,
          0.626524031162262,
          0.6265233755111694,
          0.7317864298820496,
          0.31326165795326233
         ],
         "yaxis": "y"
        }
       ],
       "layout": {
        "annotations": [
         {
          "font": {
           "size": 16
          },
          "showarrow": false,
          "text": "Tumor detection tasks",
          "x": 0.5,
          "xanchor": "center",
          "xref": "paper",
          "y": 1,
          "yanchor": "bottom",
          "yref": "paper"
         },
         {
          "font": {
           "size": 16
          },
          "showarrow": false,
          "text": "Cancer classification tasks",
          "x": 0.5,
          "xanchor": "center",
          "xref": "paper",
          "y": 0.4,
          "yanchor": "bottom",
          "yref": "paper"
         }
        ],
        "bargap": 0.3,
        "bargroupgap": 0.1,
        "barmode": "group",
        "height": 700,
        "template": {
         "data": {
          "scatter": [
           {
            "type": "scatter"
           }
          ]
         }
        },
        "width": 1200,
        "xaxis": {
         "anchor": "y",
         "domain": [
          0,
          1
         ],
         "title": {
          "text": "Cancer"
         }
        },
        "xaxis2": {
         "anchor": "y2",
         "domain": [
          0,
          1
         ],
         "title": {
          "text": "Cancer"
         }
        },
        "yaxis": {
         "anchor": "x",
         "domain": [
          0.6000000000000001,
          1
         ],
         "title": {
          "text": "Values [no unit]"
         }
        },
        "yaxis2": {
         "anchor": "x2",
         "domain": [
          0,
          0.4
         ],
         "title": {
          "text": "Values [no unit]"
         }
        }
       }
      },
      "text/html": [
       "<div>                            <div id=\"66716331-62f4-466e-971a-daf6090a3495\" class=\"plotly-graph-div\" style=\"height:700px; width:1200px;\"></div>            <script type=\"text/javascript\">                require([\"plotly\"], function(Plotly) {                    window.PLOTLYENV=window.PLOTLYENV || {};                                    if (document.getElementById(\"66716331-62f4-466e-971a-daf6090a3495\")) {                    Plotly.newPlot(                        \"66716331-62f4-466e-971a-daf6090a3495\",                        [{\"alignmentgroup\":\"True\",\"hovertemplate\":\"variable=Accuracy\\u003cbr\\u003ecancer=%{x}\\u003cbr\\u003evalue=%{y}\\u003cextra\\u003e\\u003c\\u002fextra\\u003e\",\"legendgroup\":\"Accuracy\",\"marker\":{\"color\":\"rgb(101, 171, 200)\",\"pattern\":{\"shape\":\"\"}},\"name\":\"Accuracy\",\"offsetgroup\":\"Accuracy\",\"orientation\":\"v\",\"showlegend\":true,\"textposition\":\"auto\",\"texttemplate\":\"%{y:.3f}\",\"x\":[\"kich_kirc_FS\",\"kich_kirc_PM\",\"kich_kirp_FS\",\"kich_kirp_PM\",\"kirc_kirp_FS\",\"kirc_kirp_PM\",\"luad_lusc_FS\",\"luad_lusc_PM\"],\"xaxis\":\"x2\",\"y\":[0.982928991317749,0.9694793820381165,0.9852216839790344,0.9905063509941101,0.9936255216598511,0.9941262602806091,0.945035457611084,0.9549999833106995],\"yaxis\":\"y2\",\"type\":\"bar\"},{\"alignmentgroup\":\"True\",\"hovertemplate\":\"variable=F1-score\\u003cbr\\u003ecancer=%{x}\\u003cbr\\u003evalue=%{y}\\u003cextra\\u003e\\u003c\\u002fextra\\u003e\",\"legendgroup\":\"F1-score\",\"marker\":{\"color\":\"rgb(50, 100, 170)\",\"pattern\":{\"shape\":\"\"}},\"name\":\"F1-score\",\"offsetgroup\":\"F1-score\",\"orientation\":\"v\",\"showlegend\":true,\"textposition\":\"auto\",\"texttemplate\":\"%{y:.3f}\",\"x\":[\"kich_kirc_FS\",\"kich_kirc_PM\",\"kich_kirp_FS\",\"kich_kirp_PM\",\"kirc_kirp_FS\",\"kirc_kirp_PM\",\"luad_lusc_FS\",\"luad_lusc_PM\"],\"xaxis\":\"x2\",\"y\":[0.9902713894844055,0.9812154769897461,0.9890109896659851,0.9931662678718567,0.9855595827102661,0.9909090995788574,0.9420560598373413,0.9505494236946106],\"yaxis\":\"y2\",\"type\":\"bar\"},{\"alignmentgroup\":\"True\",\"hovertemplate\":\"variable=MMPF_size\\u003cbr\\u003ecancer=%{x}\\u003cbr\\u003evalue=%{y}\\u003cextra\\u003e\\u003c\\u002fextra\\u003e\",\"legendgroup\":\"MMPF_size\",\"marker\":{\"color\":\"rgb(21, 21, 45)\",\"pattern\":{\"shape\":\"\"}},\"name\":\"MMPF_size\",\"offsetgroup\":\"MMPF_size\",\"orientation\":\"v\",\"showlegend\":true,\"textposition\":\"auto\",\"texttemplate\":\"%{y:.3f}\",\"x\":[\"kich_kirc_FS\",\"kich_kirc_PM\",\"kich_kirp_FS\",\"kich_kirp_PM\",\"kirc_kirp_FS\",\"kirc_kirp_PM\",\"luad_lusc_FS\",\"luad_lusc_PM\"],\"xaxis\":\"x2\",\"y\":[0.6550947427749634,0.6890233755111694,0.9662163853645325,0.7174286842346191,0.6268959641456604,0.7191141843795776,0.8391929864883423,0.8090630173683167],\"yaxis\":\"y2\",\"type\":\"bar\"},{\"alignmentgroup\":\"True\",\"hovertemplate\":\"variable=Accuracy\\u003cbr\\u003ecancer=%{x}\\u003cbr\\u003evalue=%{y}\\u003cextra\\u003e\\u003c\\u002fextra\\u003e\",\"legendgroup\":\"Accuracy\",\"marker\":{\"color\":\"rgb(101, 171, 200)\",\"pattern\":{\"shape\":\"\"}},\"name\":\"Accuracy\",\"offsetgroup\":\"Accuracy\",\"orientation\":\"v\",\"showlegend\":false,\"textposition\":\"auto\",\"texttemplate\":\"%{y:.3f}\",\"x\":[\"brca\",\"coad\",\"kich\",\"kirc\",\"kirp\",\"luad\",\"lusc\",\"read\"],\"xaxis\":\"x\",\"y\":[0.9965963363647461,0.9954545497894287,1.0,0.9993403553962708,1.0,0.9949430823326111,0.9893190860748291,1.0],\"yaxis\":\"y\",\"type\":\"bar\"},{\"alignmentgroup\":\"True\",\"hovertemplate\":\"variable=F1-score\\u003cbr\\u003ecancer=%{x}\\u003cbr\\u003evalue=%{y}\\u003cextra\\u003e\\u003c\\u002fextra\\u003e\",\"legendgroup\":\"F1-score\",\"marker\":{\"color\":\"rgb(50, 100, 170)\",\"pattern\":{\"shape\":\"\"}},\"name\":\"F1-score\",\"offsetgroup\":\"F1-score\",\"orientation\":\"v\",\"showlegend\":false,\"textposition\":\"auto\",\"texttemplate\":\"%{y:.3f}\",\"x\":[\"brca\",\"coad\",\"kich\",\"kirc\",\"kirp\",\"luad\",\"lusc\",\"read\"],\"xaxis\":\"x\",\"y\":[0.9977846741676331,0.9974683523178101,1.0,0.9994900822639465,1.0,0.9966386556625366,0.9925233721733093,1.0],\"yaxis\":\"y\",\"type\":\"bar\"},{\"alignmentgroup\":\"True\",\"hovertemplate\":\"variable=MMPF_size\\u003cbr\\u003ecancer=%{x}\\u003cbr\\u003evalue=%{y}\\u003cextra\\u003e\\u003c\\u002fextra\\u003e\",\"legendgroup\":\"MMPF_size\",\"marker\":{\"color\":\"rgb(21, 21, 45)\",\"pattern\":{\"shape\":\"\"}},\"name\":\"MMPF_size\",\"offsetgroup\":\"MMPF_size\",\"orientation\":\"v\",\"showlegend\":false,\"textposition\":\"auto\",\"texttemplate\":\"%{y:.3f}\",\"x\":[\"brca\",\"coad\",\"kich\",\"kirc\",\"kirp\",\"luad\",\"lusc\",\"read\"],\"xaxis\":\"x\",\"y\":[0.6265233159065247,0.7174323797225952,0.6265426278114319,0.6265233159065247,0.626524031162262,0.6265233755111694,0.7317864298820496,0.31326165795326233],\"yaxis\":\"y\",\"type\":\"bar\"}],                        {\"template\":{\"data\":{\"scatter\":[{\"type\":\"scatter\"}]}},\"xaxis\":{\"anchor\":\"y\",\"domain\":[0.0,1.0],\"title\":{\"text\":\"Cancer\"}},\"yaxis\":{\"anchor\":\"x\",\"domain\":[0.6000000000000001,1.0],\"title\":{\"text\":\"Values [no unit]\"}},\"xaxis2\":{\"anchor\":\"y2\",\"domain\":[0.0,1.0],\"title\":{\"text\":\"Cancer\"}},\"yaxis2\":{\"anchor\":\"x2\",\"domain\":[0.0,0.4],\"title\":{\"text\":\"Values [no unit]\"}},\"annotations\":[{\"font\":{\"size\":16},\"showarrow\":false,\"text\":\"Tumor detection tasks\",\"x\":0.5,\"xanchor\":\"center\",\"xref\":\"paper\",\"y\":1.0,\"yanchor\":\"bottom\",\"yref\":\"paper\"},{\"font\":{\"size\":16},\"showarrow\":false,\"text\":\"Cancer classification tasks\",\"x\":0.5,\"xanchor\":\"center\",\"xref\":\"paper\",\"y\":0.4,\"yanchor\":\"bottom\",\"yref\":\"paper\"}],\"height\":700,\"width\":1200,\"barmode\":\"group\",\"bargap\":0.3,\"bargroupgap\":0.1},                        {\"responsive\": true}                    ).then(function(){\n",
       "                            \n",
       "var gd = document.getElementById('66716331-62f4-466e-971a-daf6090a3495');\n",
       "var x = new MutationObserver(function (mutations, observer) {{\n",
       "        var display = window.getComputedStyle(gd).display;\n",
       "        if (!display || display === 'none') {{\n",
       "            console.log([gd, 'removed!']);\n",
       "            Plotly.purge(gd);\n",
       "            observer.disconnect();\n",
       "        }}\n",
       "}});\n",
       "\n",
       "// Listen for the removal of the full notebook cells\n",
       "var notebookContainer = gd.closest('#notebook-container');\n",
       "if (notebookContainer) {{\n",
       "    x.observe(notebookContainer, {childList: true});\n",
       "}}\n",
       "\n",
       "// Listen for the clearing of the current output cell\n",
       "var outputEl = gd.closest('.output');\n",
       "if (outputEl) {{\n",
       "    x.observe(outputEl, {childList: true});\n",
       "}}\n",
       "\n",
       "                        })                };                });            </script>        </div>"
      ]
     },
     "metadata": {},
     "output_type": "display_data"
    }
   ],
   "source": [
    "def check_results_baseline(task : str, \n",
    "                           cancer : str, \n",
    "                           df : pd.DataFrame,\n",
    "                           set_ : str, ID : int):\n",
    "    # Initialization\n",
    "    sub_dict = {'task' : [task], 'cancer' : [cancer]}\n",
    "    \n",
    "    # Extract the results pkl files\n",
    "    preds_path = f'results/preds/run_{ID}/add_protected_atts_1/Baseline'\n",
    "    results = pd.read_pickle(preds_path + f'/{task}/{cancer}/results.pkl')\n",
    "    \n",
    "    # Compute the metrics\n",
    "    # Accuracy \n",
    "    sub_dict['Accuracy'] = tm.classification.BinaryAccuracy()(torch.Tensor(results.pred), torch.Tensor(results.label)).item()\n",
    "    \n",
    "    # F1-score\n",
    "    sub_dict['F1-score'] = tm.classification.BinaryF1Score()(torch.Tensor(results.pred), torch.Tensor(results.label)).item()\n",
    "    \n",
    "    # MMPF_size\n",
    "    mmpf_metrics = compute_pareto_metrics(results, protected_atts)\n",
    "    sub_dict['MMPF_size'] = [mmpf_metrics[f'{set_}MMPF_size_2']]\n",
    "    \n",
    "    # Return the updated data frame\n",
    "    if df.empty: df = pd.DataFrame(data = sub_dict)\n",
    "    else: df = pd.concat([df, pd.DataFrame(data = sub_dict)])\n",
    "    return df\n",
    "\n",
    "# Initialization\n",
    "cols = ['task', 'cancer', 'Accuracy', 'F1-score', 'MMPF_size']\n",
    "df_baseline_100 = pd.DataFrame(columns = cols)\n",
    "df_baseline_1000 = pd.DataFrame(columns = cols)\n",
    "df_baseline_100_test = pd.DataFrame(columns = cols)\n",
    "df_baseline_1000_test = pd.DataFrame(columns = cols)\n",
    "\n",
    "# Loop on the combinations for baseline\n",
    "for comb in COMBS_BASELINE[2:]:\n",
    "    # Track\n",
    "    print(comb)\n",
    "    \n",
    "    # Extract combinations\n",
    "    task = comb[0]\n",
    "    cancer = comb[1]\n",
    "    \n",
    "    # Get the metrics - validation\n",
    "    df_baseline_100 = check_results_baseline(task, cancer, df_baseline_100, 'val_', 100)\n",
    "    df_baseline_1000 = check_results_baseline(task, cancer, df_baseline_1000, 'val_', 1000)\n",
    "    \n",
    "    # Get the metrics - test\n",
    "    df_baseline_100_test = check_results_baseline(task, cancer, df_baseline_100_test, 'test_', 100)\n",
    "    df_baseline_1000_test = check_results_baseline(task, cancer, df_baseline_1000_test, 'test_', 1000)\n",
    "\n",
    "# Plot\n",
    "df_b = keep_best(df_baseline_100, df_baseline_1000)\n",
    "df_b_test = select_best_test(df_b, df_baseline_100_test, df_baseline_1000_test)\n",
    "plot_results_baseline(df_b_test, 'images/results_baseline.eps')"
   ]
  },
  {
   "cell_type": "markdown",
   "metadata": {},
   "source": [
    "# Foulds\n",
    "***"
   ]
  },
  {
   "cell_type": "code",
   "execution_count": 145,
   "metadata": {},
   "outputs": [
    {
     "name": "stdout",
     "output_type": "stream",
     "text": [
      "['cancer_classification', 'kich_kirc_FS', 0.01, 'DF_pos']\n",
      "['cancer_classification', 'kich_kirc_FS', 0.01, 'DF_sum']\n",
      "['cancer_classification', 'kich_kirc_FS', 0.01, 'DF_max']\n",
      "['cancer_classification', 'kich_kirc_PM', 0.01, 'DF_pos']\n",
      "['cancer_classification', 'kich_kirc_PM', 0.01, 'DF_sum']\n",
      "['cancer_classification', 'kich_kirc_PM', 0.01, 'DF_max']\n",
      "['cancer_classification', 'kich_kirp_FS', 0.01, 'DF_pos']\n",
      "['cancer_classification', 'kich_kirp_FS', 0.01, 'DF_sum']\n",
      "['cancer_classification', 'kich_kirp_FS', 0.01, 'DF_max']\n",
      "['cancer_classification', 'kich_kirp_PM', 0.01, 'DF_pos']\n",
      "['cancer_classification', 'kich_kirp_PM', 0.01, 'DF_sum']\n",
      "['cancer_classification', 'kich_kirp_PM', 0.01, 'DF_max']\n",
      "['cancer_classification', 'kirc_kirp_FS', 0.01, 'DF_pos']\n",
      "['cancer_classification', 'kirc_kirp_FS', 0.01, 'DF_sum']\n",
      "['cancer_classification', 'kirc_kirp_FS', 0.01, 'DF_max']\n",
      "['cancer_classification', 'kirc_kirp_PM', 0.01, 'DF_pos']\n",
      "['cancer_classification', 'kirc_kirp_PM', 0.01, 'DF_sum']\n",
      "['cancer_classification', 'kirc_kirp_PM', 0.01, 'DF_max']\n",
      "['cancer_classification', 'luad_lusc_FS', 0.01, 'DF_pos']\n",
      "['cancer_classification', 'luad_lusc_FS', 0.01, 'DF_sum']\n",
      "['cancer_classification', 'luad_lusc_FS', 0.01, 'DF_max']\n",
      "['cancer_classification', 'luad_lusc_PM', 0.01, 'DF_pos']\n",
      "['cancer_classification', 'luad_lusc_PM', 0.01, 'DF_sum']\n",
      "['cancer_classification', 'luad_lusc_PM', 0.01, 'DF_max']\n",
      "['cancer_classification', 'kich_kirc_FS']\n",
      "['cancer_classification', 'kich_kirc_PM']\n",
      "['cancer_classification', 'kich_kirp_FS']\n",
      "['cancer_classification', 'kich_kirp_PM']\n",
      "['cancer_classification', 'kirc_kirp_FS']\n",
      "['cancer_classification', 'kirc_kirp_PM']\n",
      "['cancer_classification', 'luad_lusc_FS']\n",
      "['cancer_classification', 'luad_lusc_PM']\n",
      "['cancer_classification', 'kich_kirc_FS']\n",
      "['cancer_classification', 'kich_kirc_PM']\n",
      "['cancer_classification', 'kich_kirp_FS']\n",
      "['cancer_classification', 'kich_kirp_PM']\n",
      "['cancer_classification', 'kirc_kirp_FS']\n",
      "['cancer_classification', 'kirc_kirp_PM']\n",
      "['cancer_classification', 'luad_lusc_FS']\n",
      "['cancer_classification', 'luad_lusc_PM']\n",
      "['cancer_classification', 'kich_kirc_FS']\n",
      "['cancer_classification', 'kich_kirc_PM']\n",
      "['cancer_classification', 'kich_kirp_FS']\n",
      "['cancer_classification', 'kich_kirp_PM']\n",
      "['cancer_classification', 'kirc_kirp_FS']\n",
      "['cancer_classification', 'kirc_kirp_PM']\n",
      "['cancer_classification', 'luad_lusc_FS']\n",
      "['cancer_classification', 'luad_lusc_PM']\n",
      "['cancer_classification', 'kich_kirc_FS']\n",
      "['cancer_classification', 'kich_kirc_PM']\n",
      "['cancer_classification', 'kich_kirp_FS']\n",
      "['cancer_classification', 'kich_kirp_PM']\n",
      "['cancer_classification', 'kirc_kirp_FS']\n",
      "['cancer_classification', 'kirc_kirp_PM']\n",
      "['cancer_classification', 'luad_lusc_FS']\n",
      "['cancer_classification', 'luad_lusc_PM']\n"
     ]
    },
    {
     "name": "stderr",
     "output_type": "stream",
     "text": [
      "/tmp/ipykernel_25352/1239156414.py:13: FutureWarning:\n",
      "\n",
      "Series.__getitem__ treating keys as positions is deprecated. In a future version, integer keys will always be treated as labels (consistent with DataFrame behavior). To access a value by position, use `ser.iloc[pos]`\n",
      "\n",
      "/tmp/ipykernel_25352/1239156414.py:14: FutureWarning:\n",
      "\n",
      "Series.__getitem__ treating keys as positions is deprecated. In a future version, integer keys will always be treated as labels (consistent with DataFrame behavior). To access a value by position, use `ser.iloc[pos]`\n",
      "\n",
      "/tmp/ipykernel_25352/1239156414.py:16: FutureWarning:\n",
      "\n",
      "Series.__getitem__ treating keys as positions is deprecated. In a future version, integer keys will always be treated as labels (consistent with DataFrame behavior). To access a value by position, use `ser.iloc[pos]`\n",
      "\n",
      "/tmp/ipykernel_25352/1239156414.py:17: FutureWarning:\n",
      "\n",
      "Series.__getitem__ treating keys as positions is deprecated. In a future version, integer keys will always be treated as labels (consistent with DataFrame behavior). To access a value by position, use `ser.iloc[pos]`\n",
      "\n",
      "/tmp/ipykernel_25352/1239156414.py:18: FutureWarning:\n",
      "\n",
      "Series.__getitem__ treating keys as positions is deprecated. In a future version, integer keys will always be treated as labels (consistent with DataFrame behavior). To access a value by position, use `ser.iloc[pos]`\n",
      "\n",
      "/tmp/ipykernel_25352/1239156414.py:34: FutureWarning:\n",
      "\n",
      "Series.__getitem__ treating keys as positions is deprecated. In a future version, integer keys will always be treated as labels (consistent with DataFrame behavior). To access a value by position, use `ser.iloc[pos]`\n",
      "\n",
      "/tmp/ipykernel_25352/1239156414.py:35: FutureWarning:\n",
      "\n",
      "Series.__getitem__ treating keys as positions is deprecated. In a future version, integer keys will always be treated as labels (consistent with DataFrame behavior). To access a value by position, use `ser.iloc[pos]`\n",
      "\n",
      "/tmp/ipykernel_25352/1239156414.py:36: FutureWarning:\n",
      "\n",
      "Series.__getitem__ treating keys as positions is deprecated. In a future version, integer keys will always be treated as labels (consistent with DataFrame behavior). To access a value by position, use `ser.iloc[pos]`\n",
      "\n",
      "/tmp/ipykernel_25352/1239156414.py:38: FutureWarning:\n",
      "\n",
      "Series.__getitem__ treating keys as positions is deprecated. In a future version, integer keys will always be treated as labels (consistent with DataFrame behavior). To access a value by position, use `ser.iloc[pos]`\n",
      "\n",
      "/tmp/ipykernel_25352/1239156414.py:39: FutureWarning:\n",
      "\n",
      "Series.__getitem__ treating keys as positions is deprecated. In a future version, integer keys will always be treated as labels (consistent with DataFrame behavior). To access a value by position, use `ser.iloc[pos]`\n",
      "\n",
      "/tmp/ipykernel_25352/1239156414.py:40: FutureWarning:\n",
      "\n",
      "Series.__getitem__ treating keys as positions is deprecated. In a future version, integer keys will always be treated as labels (consistent with DataFrame behavior). To access a value by position, use `ser.iloc[pos]`\n",
      "\n"
     ]
    },
    {
     "data": {
      "application/vnd.plotly.v1+json": {
       "config": {
        "plotlyServerURL": "https://plot.ly"
       },
       "data": [
        {
         "alignmentgroup": "True",
         "hovertemplate": "variable=Accuracy<br>cancer=%{x}<br>value=%{y}<extra></extra>",
         "legendgroup": "Accuracy",
         "marker": {
          "color": "rgb(101, 171, 200)",
          "pattern": {
           "shape": ""
          }
         },
         "name": "Accuracy",
         "offsetgroup": "Accuracy",
         "orientation": "v",
         "showlegend": true,
         "textposition": "auto",
         "texttemplate": "%{y:.3f}",
         "type": "bar",
         "x": [
          "kich_kirc_FS",
          "kich_kirc_PM",
          "kich_kirp_FS",
          "kich_kirp_PM",
          "kirc_kirp_FS",
          "kirc_kirp_PM",
          "luad_lusc_FS",
          "luad_lusc_PM"
         ],
         "xaxis": "x",
         "y": [
          0.982928991317749,
          0.9766606688499451,
          0.9876847267150879,
          0.9873417615890503,
          0.9920318722724915,
          0.9926578402519226,
          0.9406028389930725,
          0.949999988079071
         ],
         "yaxis": "y"
        },
        {
         "alignmentgroup": "True",
         "hovertemplate": "variable=F1-score<br>cancer=%{x}<br>value=%{y}<extra></extra>",
         "legendgroup": "F1-score",
         "marker": {
          "color": "rgb(50, 100, 170)",
          "pattern": {
           "shape": ""
          }
         },
         "name": "F1-score",
         "offsetgroup": "F1-score",
         "orientation": "v",
         "showlegend": true,
         "textposition": "auto",
         "texttemplate": "%{y:.3f}",
         "type": "bar",
         "x": [
          "kich_kirc_FS",
          "kich_kirc_PM",
          "kich_kirp_FS",
          "kich_kirp_PM",
          "kirc_kirp_FS",
          "kirc_kirp_PM",
          "luad_lusc_FS",
          "luad_lusc_PM"
         ],
         "xaxis": "x",
         "y": [
          0.9903209209442139,
          0.985792338848114,
          0.9908257126808167,
          0.9909090995788574,
          0.9820144176483154,
          0.9886105060577393,
          0.937905490398407,
          0.945652186870575
         ],
         "yaxis": "y"
        },
        {
         "alignmentgroup": "True",
         "hovertemplate": "variable=MMPF_size<br>cancer=%{x}<br>value=%{y}<extra></extra>",
         "legendgroup": "MMPF_size",
         "marker": {
          "color": "rgb(21, 21, 45)",
          "pattern": {
           "shape": ""
          }
         },
         "name": "MMPF_size",
         "offsetgroup": "MMPF_size",
         "orientation": "v",
         "showlegend": true,
         "textposition": "auto",
         "texttemplate": "%{y:.3f}",
         "type": "bar",
         "x": [
          "kich_kirc_FS",
          "kich_kirc_PM",
          "kich_kirp_FS",
          "kich_kirp_PM",
          "kirc_kirp_FS",
          "kirc_kirp_PM",
          "luad_lusc_FS",
          "luad_lusc_PM"
         ],
         "xaxis": "x",
         "y": [
          0.6550947427749634,
          0.8979518413543701,
          0.7196175456047058,
          0.7173917293548584,
          0.655348002910614,
          0.7301655411720276,
          0.7622698545455933,
          0.8090630173683167
         ],
         "yaxis": "y"
        }
       ],
       "layout": {
        "bargap": 0.3,
        "bargroupgap": 0.1,
        "barmode": "group",
        "height": 400,
        "legend": {
         "title": {
          "text": "variable"
         },
         "tracegroupgap": 0
        },
        "margin": {
         "t": 60
        },
        "template": {
         "data": {
          "scatter": [
           {
            "type": "scatter"
           }
          ]
         }
        },
        "title": {
         "text": "Cancer classification tasks"
        },
        "width": 1200,
        "xaxis": {
         "anchor": "y",
         "domain": [
          0,
          1
         ],
         "title": {
          "text": "Cancer"
         }
        },
        "yaxis": {
         "anchor": "x",
         "domain": [
          0,
          1
         ],
         "title": {
          "text": "Values [no unit]"
         }
        }
       }
      },
      "text/html": [
       "<div>                            <div id=\"0539ca7b-db51-4991-8625-53523f631073\" class=\"plotly-graph-div\" style=\"height:400px; width:1200px;\"></div>            <script type=\"text/javascript\">                require([\"plotly\"], function(Plotly) {                    window.PLOTLYENV=window.PLOTLYENV || {};                                    if (document.getElementById(\"0539ca7b-db51-4991-8625-53523f631073\")) {                    Plotly.newPlot(                        \"0539ca7b-db51-4991-8625-53523f631073\",                        [{\"alignmentgroup\":\"True\",\"hovertemplate\":\"variable=Accuracy\\u003cbr\\u003ecancer=%{x}\\u003cbr\\u003evalue=%{y}\\u003cextra\\u003e\\u003c\\u002fextra\\u003e\",\"legendgroup\":\"Accuracy\",\"marker\":{\"color\":\"rgb(101, 171, 200)\",\"pattern\":{\"shape\":\"\"}},\"name\":\"Accuracy\",\"offsetgroup\":\"Accuracy\",\"orientation\":\"v\",\"showlegend\":true,\"textposition\":\"auto\",\"texttemplate\":\"%{y:.3f}\",\"x\":[\"kich_kirc_FS\",\"kich_kirc_PM\",\"kich_kirp_FS\",\"kich_kirp_PM\",\"kirc_kirp_FS\",\"kirc_kirp_PM\",\"luad_lusc_FS\",\"luad_lusc_PM\"],\"xaxis\":\"x\",\"y\":[0.982928991317749,0.9766606688499451,0.9876847267150879,0.9873417615890503,0.9920318722724915,0.9926578402519226,0.9406028389930725,0.949999988079071],\"yaxis\":\"y\",\"type\":\"bar\"},{\"alignmentgroup\":\"True\",\"hovertemplate\":\"variable=F1-score\\u003cbr\\u003ecancer=%{x}\\u003cbr\\u003evalue=%{y}\\u003cextra\\u003e\\u003c\\u002fextra\\u003e\",\"legendgroup\":\"F1-score\",\"marker\":{\"color\":\"rgb(50, 100, 170)\",\"pattern\":{\"shape\":\"\"}},\"name\":\"F1-score\",\"offsetgroup\":\"F1-score\",\"orientation\":\"v\",\"showlegend\":true,\"textposition\":\"auto\",\"texttemplate\":\"%{y:.3f}\",\"x\":[\"kich_kirc_FS\",\"kich_kirc_PM\",\"kich_kirp_FS\",\"kich_kirp_PM\",\"kirc_kirp_FS\",\"kirc_kirp_PM\",\"luad_lusc_FS\",\"luad_lusc_PM\"],\"xaxis\":\"x\",\"y\":[0.9903209209442139,0.985792338848114,0.9908257126808167,0.9909090995788574,0.9820144176483154,0.9886105060577393,0.937905490398407,0.945652186870575],\"yaxis\":\"y\",\"type\":\"bar\"},{\"alignmentgroup\":\"True\",\"hovertemplate\":\"variable=MMPF_size\\u003cbr\\u003ecancer=%{x}\\u003cbr\\u003evalue=%{y}\\u003cextra\\u003e\\u003c\\u002fextra\\u003e\",\"legendgroup\":\"MMPF_size\",\"marker\":{\"color\":\"rgb(21, 21, 45)\",\"pattern\":{\"shape\":\"\"}},\"name\":\"MMPF_size\",\"offsetgroup\":\"MMPF_size\",\"orientation\":\"v\",\"showlegend\":true,\"textposition\":\"auto\",\"texttemplate\":\"%{y:.3f}\",\"x\":[\"kich_kirc_FS\",\"kich_kirc_PM\",\"kich_kirp_FS\",\"kich_kirp_PM\",\"kirc_kirp_FS\",\"kirc_kirp_PM\",\"luad_lusc_FS\",\"luad_lusc_PM\"],\"xaxis\":\"x\",\"y\":[0.6550947427749634,0.8979518413543701,0.7196175456047058,0.7173917293548584,0.655348002910614,0.7301655411720276,0.7622698545455933,0.8090630173683167],\"yaxis\":\"y\",\"type\":\"bar\"}],                        {\"template\":{\"data\":{\"scatter\":[{\"type\":\"scatter\"}]}},\"xaxis\":{\"anchor\":\"y\",\"domain\":[0.0,1.0],\"title\":{\"text\":\"Cancer\"}},\"yaxis\":{\"anchor\":\"x\",\"domain\":[0.0,1.0],\"title\":{\"text\":\"Values [no unit]\"}},\"legend\":{\"title\":{\"text\":\"variable\"},\"tracegroupgap\":0},\"margin\":{\"t\":60},\"barmode\":\"group\",\"height\":400,\"width\":1200,\"title\":{\"text\":\"Cancer classification tasks\"},\"bargap\":0.3,\"bargroupgap\":0.1},                        {\"responsive\": true}                    ).then(function(){\n",
       "                            \n",
       "var gd = document.getElementById('0539ca7b-db51-4991-8625-53523f631073');\n",
       "var x = new MutationObserver(function (mutations, observer) {{\n",
       "        var display = window.getComputedStyle(gd).display;\n",
       "        if (!display || display === 'none') {{\n",
       "            console.log([gd, 'removed!']);\n",
       "            Plotly.purge(gd);\n",
       "            observer.disconnect();\n",
       "        }}\n",
       "}});\n",
       "\n",
       "// Listen for the removal of the full notebook cells\n",
       "var notebookContainer = gd.closest('#notebook-container');\n",
       "if (notebookContainer) {{\n",
       "    x.observe(notebookContainer, {childList: true});\n",
       "}}\n",
       "\n",
       "// Listen for the clearing of the current output cell\n",
       "var outputEl = gd.closest('.output');\n",
       "if (outputEl) {{\n",
       "    x.observe(outputEl, {childList: true});\n",
       "}}\n",
       "\n",
       "                        })                };                });            </script>        </div>"
      ]
     },
     "metadata": {},
     "output_type": "display_data"
    }
   ],
   "source": [
    "def check_results_foulds(task : str, \n",
    "                           cancer : str, \n",
    "                           lambda_ : float,\n",
    "                           pt_method : str,\n",
    "                           df : pd.DataFrame,\n",
    "                           set_ : str, ID : int):\n",
    "    # Initialization\n",
    "    sub_dict = {'task' : [task], 'cancer' : [cancer], 'lambda_' : [lambda_], 'pt_method' : [pt_method]}\n",
    "    \n",
    "    # Extract the results pkl files\n",
    "    preds_path = f'results/preds/run_{ID}/add_protected_atts_1/Foulds'\n",
    "    results = pd.read_pickle(preds_path + f'/{task}/{cancer}/lambda_{lambda_}/{pt_method}/results.pkl')\n",
    "    \n",
    "    # Compute the metrics\n",
    "    # Accuracy \n",
    "    sub_dict['Accuracy'] = tm.classification.BinaryAccuracy()(torch.Tensor(results.pred), torch.Tensor(results.label)).item()\n",
    "    \n",
    "    # F1-score\n",
    "    sub_dict['F1-score'] = tm.classification.BinaryF1Score()(torch.Tensor(results.pred), torch.Tensor(results.label)).item()\n",
    "    \n",
    "    # MMPF_size\n",
    "    mmpf_metrics = compute_pareto_metrics(results, protected_atts)\n",
    "    sub_dict['MMPF_size'] = [mmpf_metrics[f'{set_}MMPF_size_2']]\n",
    "    \n",
    "    # Return the updated data frame\n",
    "    if df.empty: df = pd.DataFrame(data = sub_dict)\n",
    "    else: df = pd.concat([df, pd.DataFrame(data = sub_dict)])\n",
    "    return df\n",
    "\n",
    "\n",
    "def select_hyper(df_foulds):\n",
    "    # Initialization\n",
    "    df_foulds.reset_index(inplace = True, drop = True)\n",
    "    cols = ['task', 'cancer', 'Accuracy', 'F1-score', 'MMPF_size']\n",
    "    df_foulds_best = pd.DataFrame(columns = cols)\n",
    "\n",
    "    # Loop on the combinations for baseline\n",
    "    for comb in COMBS_BASELINE[2:10]:\n",
    "        # Track\n",
    "        print(comb)\n",
    "        \n",
    "        # Extract combinations\n",
    "        task = comb[0]\n",
    "        cancer = comb[1]\n",
    "        cond = (df_foulds.task == task) & (df_foulds.cancer == cancer)\n",
    "        \n",
    "        # Get the metrics from the models with the best hyperparameters\n",
    "        # Get hyperparameters\n",
    "        best_idx = df_foulds[cond].MMPF_size.argmin()\n",
    "        sub_dict = {'task' : [task], 'cancer' : [cancer]}\n",
    "        sub_dict['Accuracy'] = df_foulds[cond].iloc[best_idx]['Accuracy']\n",
    "        sub_dict['F1-score'] = df_foulds[cond].iloc[best_idx]['F1-score']\n",
    "        sub_dict['MMPF_size'] = df_foulds[cond].iloc[best_idx]['MMPF_size']\n",
    "        \n",
    "        # Update the dataframe\n",
    "        if df_foulds_best.empty: df_foulds_best = pd.DataFrame(data = sub_dict)\n",
    "        else: df_foulds_best = pd.concat([df_foulds_best, pd.DataFrame(data = sub_dict)])\n",
    "    \n",
    "    return df_foulds_best\n",
    "\n",
    "\n",
    "# Initialization\n",
    "cols = ['task', 'cancer', 'Accuracy', 'F1-score', 'MMPF_size']\n",
    "df_foulds_100 = pd.DataFrame(columns = cols)\n",
    "df_foulds_1000 = pd.DataFrame(columns = cols)\n",
    "df_foulds_100_test = pd.DataFrame(columns = cols)\n",
    "df_foulds_1000_test = pd.DataFrame(columns = cols)\n",
    "\n",
    "# Loop on the combinations for baseline\n",
    "for comb in COMBS_FOULDS[6:30]:\n",
    "    # Track\n",
    "    print(comb)\n",
    "    \n",
    "    # Extract combinations\n",
    "    task = comb[0]\n",
    "    cancer = comb[1]\n",
    "    l = comb[2]\n",
    "    pt_method = comb[3]\n",
    "    \n",
    "    # Get the metrics\n",
    "    df_foulds_100 = check_results_foulds(task, cancer, l, pt_method, df_foulds_100, 'val_', 100)\n",
    "    df_foulds_1000 = check_results_foulds(task, cancer, l, pt_method, df_foulds_1000, 'val_', 1000)\n",
    "    \n",
    "    # Get the metrics\n",
    "    df_foulds_100_test = check_results_foulds(task, cancer, l, pt_method, df_foulds_100_test, 'test_', 100)\n",
    "    df_foulds_1000_test = check_results_foulds(task, cancer, l, pt_method, df_foulds_1000_test, 'test_', 1000)\n",
    "    \n",
    "# Select hyperparameters\n",
    "df_foulds_100 = select_hyper(df_foulds_100)\n",
    "df_foulds_1000 = select_hyper(df_foulds_1000)\n",
    "df_foulds_100_test = select_hyper(df_foulds_100_test)\n",
    "df_foulds_1000_test = select_hyper(df_foulds_1000_test)\n",
    "\n",
    "df_f = keep_best(df_foulds_100, df_foulds_1000)\n",
    "df_f_test = select_best_test(df_f, df_foulds_100_test, df_foulds_1000_test)\n",
    "plot_results_others(df_f_test, 'images/results_foulds.eps')"
   ]
  },
  {
   "cell_type": "code",
   "execution_count": 51,
   "metadata": {},
   "outputs": [
    {
     "name": "stdout",
     "output_type": "stream",
     "text": [
      "\\begin{tabular}{lrrrrr}\n",
      "\\toprule\n",
      "lambda_ & 0.001000 & 0.005000 & 0.010000 & 0.050000 & 0.100000 \\\\\n",
      "pt_method &  &  &  &  &  \\\\\n",
      "\\midrule\n",
      "DF_max & 0.749837 & 0.731817 & 0.779527 & 0.795815 & 0.756377 \\\\\n",
      "DF_pos & 0.785690 & 0.750942 & 0.777638 & 0.859162 & 0.695458 \\\\\n",
      "DF_sum & 0.750136 & 0.748594 & 0.732998 & 0.783693 & 0.787716 \\\\\n",
      "\\bottomrule\n",
      "\\end{tabular}\n",
      "\n"
     ]
    }
   ],
   "source": [
    "# FOR THE TABLES IN THE REPORT\n",
    "t = 'cancer_classification'\n",
    "c = 'coad_read_FS'\n",
    "reduced_df = df_foulds[(df_foulds.task == t) & (df_foulds.cancer == c)]\n",
    "table = pd.pivot_table(reduced_df, values = 'MMPF_size', index = 'pt_method', columns = ['lambda_'])\n",
    "print(table.to_latex())"
   ]
  },
  {
   "cell_type": "code",
   "execution_count": null,
   "metadata": {},
   "outputs": [],
   "source": []
  },
  {
   "cell_type": "markdown",
   "metadata": {},
   "source": [
    "# Diana \n",
    "***"
   ]
  },
  {
   "cell_type": "code",
   "execution_count": 138,
   "metadata": {},
   "outputs": [
    {
     "name": "stdout",
     "output_type": "stream",
     "text": [
      "['cancer_classification', 'kich_kirc_FS']\n",
      "['cancer_classification', 'kich_kirc_PM']\n",
      "['cancer_classification', 'kich_kirp_FS']\n",
      "['cancer_classification', 'kich_kirp_PM']\n",
      "['cancer_classification', 'kirc_kirp_FS']\n",
      "['cancer_classification', 'kirc_kirp_PM']\n",
      "['cancer_classification', 'luad_lusc_FS']\n",
      "['cancer_classification', 'luad_lusc_PM']\n"
     ]
    },
    {
     "name": "stderr",
     "output_type": "stream",
     "text": [
      "/tmp/ipykernel_25352/1239156414.py:13: FutureWarning:\n",
      "\n",
      "Series.__getitem__ treating keys as positions is deprecated. In a future version, integer keys will always be treated as labels (consistent with DataFrame behavior). To access a value by position, use `ser.iloc[pos]`\n",
      "\n",
      "/tmp/ipykernel_25352/1239156414.py:14: FutureWarning:\n",
      "\n",
      "Series.__getitem__ treating keys as positions is deprecated. In a future version, integer keys will always be treated as labels (consistent with DataFrame behavior). To access a value by position, use `ser.iloc[pos]`\n",
      "\n",
      "/tmp/ipykernel_25352/1239156414.py:16: FutureWarning:\n",
      "\n",
      "Series.__getitem__ treating keys as positions is deprecated. In a future version, integer keys will always be treated as labels (consistent with DataFrame behavior). To access a value by position, use `ser.iloc[pos]`\n",
      "\n",
      "/tmp/ipykernel_25352/1239156414.py:17: FutureWarning:\n",
      "\n",
      "Series.__getitem__ treating keys as positions is deprecated. In a future version, integer keys will always be treated as labels (consistent with DataFrame behavior). To access a value by position, use `ser.iloc[pos]`\n",
      "\n",
      "/tmp/ipykernel_25352/1239156414.py:18: FutureWarning:\n",
      "\n",
      "Series.__getitem__ treating keys as positions is deprecated. In a future version, integer keys will always be treated as labels (consistent with DataFrame behavior). To access a value by position, use `ser.iloc[pos]`\n",
      "\n",
      "/tmp/ipykernel_25352/1239156414.py:34: FutureWarning:\n",
      "\n",
      "Series.__getitem__ treating keys as positions is deprecated. In a future version, integer keys will always be treated as labels (consistent with DataFrame behavior). To access a value by position, use `ser.iloc[pos]`\n",
      "\n",
      "/tmp/ipykernel_25352/1239156414.py:35: FutureWarning:\n",
      "\n",
      "Series.__getitem__ treating keys as positions is deprecated. In a future version, integer keys will always be treated as labels (consistent with DataFrame behavior). To access a value by position, use `ser.iloc[pos]`\n",
      "\n",
      "/tmp/ipykernel_25352/1239156414.py:36: FutureWarning:\n",
      "\n",
      "Series.__getitem__ treating keys as positions is deprecated. In a future version, integer keys will always be treated as labels (consistent with DataFrame behavior). To access a value by position, use `ser.iloc[pos]`\n",
      "\n",
      "/tmp/ipykernel_25352/1239156414.py:38: FutureWarning:\n",
      "\n",
      "Series.__getitem__ treating keys as positions is deprecated. In a future version, integer keys will always be treated as labels (consistent with DataFrame behavior). To access a value by position, use `ser.iloc[pos]`\n",
      "\n",
      "/tmp/ipykernel_25352/1239156414.py:39: FutureWarning:\n",
      "\n",
      "Series.__getitem__ treating keys as positions is deprecated. In a future version, integer keys will always be treated as labels (consistent with DataFrame behavior). To access a value by position, use `ser.iloc[pos]`\n",
      "\n",
      "/tmp/ipykernel_25352/1239156414.py:40: FutureWarning:\n",
      "\n",
      "Series.__getitem__ treating keys as positions is deprecated. In a future version, integer keys will always be treated as labels (consistent with DataFrame behavior). To access a value by position, use `ser.iloc[pos]`\n",
      "\n"
     ]
    },
    {
     "data": {
      "application/vnd.plotly.v1+json": {
       "config": {
        "plotlyServerURL": "https://plot.ly"
       },
       "data": [
        {
         "alignmentgroup": "True",
         "hovertemplate": "variable=Accuracy<br>cancer=%{x}<br>value=%{y}<extra></extra>",
         "legendgroup": "Accuracy",
         "marker": {
          "color": "rgb(101, 171, 200)",
          "pattern": {
           "shape": ""
          }
         },
         "name": "Accuracy",
         "offsetgroup": "Accuracy",
         "orientation": "v",
         "showlegend": true,
         "textposition": "auto",
         "texttemplate": "%{y:.3f}",
         "type": "bar",
         "x": [
          "kich_kirc_FS",
          "kich_kirc_PM",
          "kich_kirp_FS",
          "kich_kirp_PM",
          "kirc_kirp_FS",
          "kirc_kirp_PM",
          "luad_lusc_FS",
          "luad_lusc_PM"
         ],
         "xaxis": "x",
         "y": [
          0.9604672193527222,
          0.9658886790275574,
          0.9285714030265808,
          0.9810126423835754,
          0.9880478382110596,
          0.9867841601371765,
          0.9193262457847595,
          0.9462500214576721
         ],
         "yaxis": "y"
        },
        {
         "alignmentgroup": "True",
         "hovertemplate": "variable=F1-score<br>cancer=%{x}<br>value=%{y}<extra></extra>",
         "legendgroup": "F1-score",
         "marker": {
          "color": "rgb(50, 100, 170)",
          "pattern": {
           "shape": ""
          }
         },
         "name": "F1-score",
         "offsetgroup": "F1-score",
         "orientation": "v",
         "showlegend": true,
         "textposition": "auto",
         "texttemplate": "%{y:.3f}",
         "type": "bar",
         "x": [
          "kich_kirc_FS",
          "kich_kirc_PM",
          "kich_kirp_FS",
          "kich_kirp_PM",
          "kirc_kirp_FS",
          "kirc_kirp_PM",
          "luad_lusc_FS",
          "luad_lusc_PM"
         ],
         "xaxis": "x",
         "y": [
          0.9772961735725403,
          0.9791894555091858,
          0.9445506930351257,
          0.9863013625144958,
          0.972273588180542,
          0.9794988632202148,
          0.9124158024787903,
          0.9405255913734436
         ],
         "yaxis": "y"
        },
        {
         "alignmentgroup": "True",
         "hovertemplate": "variable=MMPF_size<br>cancer=%{x}<br>value=%{y}<extra></extra>",
         "legendgroup": "MMPF_size",
         "marker": {
          "color": "rgb(21, 21, 45)",
          "pattern": {
           "shape": ""
          }
         },
         "name": "MMPF_size",
         "offsetgroup": "MMPF_size",
         "orientation": "v",
         "showlegend": true,
         "textposition": "auto",
         "texttemplate": "%{y:.3f}",
         "type": "bar",
         "x": [
          "kich_kirc_FS",
          "kich_kirc_PM",
          "kich_kirp_FS",
          "kich_kirp_PM",
          "kirc_kirp_FS",
          "kirc_kirp_PM",
          "luad_lusc_FS",
          "luad_lusc_PM"
         ],
         "xaxis": "x",
         "y": [
          0.6836662292480469,
          0.9693804383277893,
          0.7174414992332458,
          0.743829071521759,
          0.7098566293716431,
          0.7969294190406799,
          0.7886472940444946,
          0.8090630173683167
         ],
         "yaxis": "y"
        }
       ],
       "layout": {
        "bargap": 0.3,
        "bargroupgap": 0.1,
        "barmode": "group",
        "height": 400,
        "legend": {
         "title": {
          "text": "variable"
         },
         "tracegroupgap": 0
        },
        "margin": {
         "t": 60
        },
        "template": {
         "data": {
          "scatter": [
           {
            "type": "scatter"
           }
          ]
         }
        },
        "title": {
         "text": "Cancer classification tasks"
        },
        "width": 1200,
        "xaxis": {
         "anchor": "y",
         "domain": [
          0,
          1
         ],
         "title": {
          "text": "Cancer"
         }
        },
        "yaxis": {
         "anchor": "x",
         "domain": [
          0,
          1
         ],
         "title": {
          "text": "Values [no unit]"
         }
        }
       }
      },
      "text/html": [
       "<div>                            <div id=\"eea548a3-624b-484d-a3ff-94a46943171b\" class=\"plotly-graph-div\" style=\"height:400px; width:1200px;\"></div>            <script type=\"text/javascript\">                require([\"plotly\"], function(Plotly) {                    window.PLOTLYENV=window.PLOTLYENV || {};                                    if (document.getElementById(\"eea548a3-624b-484d-a3ff-94a46943171b\")) {                    Plotly.newPlot(                        \"eea548a3-624b-484d-a3ff-94a46943171b\",                        [{\"alignmentgroup\":\"True\",\"hovertemplate\":\"variable=Accuracy\\u003cbr\\u003ecancer=%{x}\\u003cbr\\u003evalue=%{y}\\u003cextra\\u003e\\u003c\\u002fextra\\u003e\",\"legendgroup\":\"Accuracy\",\"marker\":{\"color\":\"rgb(101, 171, 200)\",\"pattern\":{\"shape\":\"\"}},\"name\":\"Accuracy\",\"offsetgroup\":\"Accuracy\",\"orientation\":\"v\",\"showlegend\":true,\"textposition\":\"auto\",\"texttemplate\":\"%{y:.3f}\",\"x\":[\"kich_kirc_FS\",\"kich_kirc_PM\",\"kich_kirp_FS\",\"kich_kirp_PM\",\"kirc_kirp_FS\",\"kirc_kirp_PM\",\"luad_lusc_FS\",\"luad_lusc_PM\"],\"xaxis\":\"x\",\"y\":[0.9604672193527222,0.9658886790275574,0.9285714030265808,0.9810126423835754,0.9880478382110596,0.9867841601371765,0.9193262457847595,0.9462500214576721],\"yaxis\":\"y\",\"type\":\"bar\"},{\"alignmentgroup\":\"True\",\"hovertemplate\":\"variable=F1-score\\u003cbr\\u003ecancer=%{x}\\u003cbr\\u003evalue=%{y}\\u003cextra\\u003e\\u003c\\u002fextra\\u003e\",\"legendgroup\":\"F1-score\",\"marker\":{\"color\":\"rgb(50, 100, 170)\",\"pattern\":{\"shape\":\"\"}},\"name\":\"F1-score\",\"offsetgroup\":\"F1-score\",\"orientation\":\"v\",\"showlegend\":true,\"textposition\":\"auto\",\"texttemplate\":\"%{y:.3f}\",\"x\":[\"kich_kirc_FS\",\"kich_kirc_PM\",\"kich_kirp_FS\",\"kich_kirp_PM\",\"kirc_kirp_FS\",\"kirc_kirp_PM\",\"luad_lusc_FS\",\"luad_lusc_PM\"],\"xaxis\":\"x\",\"y\":[0.9772961735725403,0.9791894555091858,0.9445506930351257,0.9863013625144958,0.972273588180542,0.9794988632202148,0.9124158024787903,0.9405255913734436],\"yaxis\":\"y\",\"type\":\"bar\"},{\"alignmentgroup\":\"True\",\"hovertemplate\":\"variable=MMPF_size\\u003cbr\\u003ecancer=%{x}\\u003cbr\\u003evalue=%{y}\\u003cextra\\u003e\\u003c\\u002fextra\\u003e\",\"legendgroup\":\"MMPF_size\",\"marker\":{\"color\":\"rgb(21, 21, 45)\",\"pattern\":{\"shape\":\"\"}},\"name\":\"MMPF_size\",\"offsetgroup\":\"MMPF_size\",\"orientation\":\"v\",\"showlegend\":true,\"textposition\":\"auto\",\"texttemplate\":\"%{y:.3f}\",\"x\":[\"kich_kirc_FS\",\"kich_kirc_PM\",\"kich_kirp_FS\",\"kich_kirp_PM\",\"kirc_kirp_FS\",\"kirc_kirp_PM\",\"luad_lusc_FS\",\"luad_lusc_PM\"],\"xaxis\":\"x\",\"y\":[0.6836662292480469,0.9693804383277893,0.7174414992332458,0.743829071521759,0.7098566293716431,0.7969294190406799,0.7886472940444946,0.8090630173683167],\"yaxis\":\"y\",\"type\":\"bar\"}],                        {\"template\":{\"data\":{\"scatter\":[{\"type\":\"scatter\"}]}},\"xaxis\":{\"anchor\":\"y\",\"domain\":[0.0,1.0],\"title\":{\"text\":\"Cancer\"}},\"yaxis\":{\"anchor\":\"x\",\"domain\":[0.0,1.0],\"title\":{\"text\":\"Values [no unit]\"}},\"legend\":{\"title\":{\"text\":\"variable\"},\"tracegroupgap\":0},\"margin\":{\"t\":60},\"barmode\":\"group\",\"height\":400,\"width\":1200,\"title\":{\"text\":\"Cancer classification tasks\"},\"bargap\":0.3,\"bargroupgap\":0.1},                        {\"responsive\": true}                    ).then(function(){\n",
       "                            \n",
       "var gd = document.getElementById('eea548a3-624b-484d-a3ff-94a46943171b');\n",
       "var x = new MutationObserver(function (mutations, observer) {{\n",
       "        var display = window.getComputedStyle(gd).display;\n",
       "        if (!display || display === 'none') {{\n",
       "            console.log([gd, 'removed!']);\n",
       "            Plotly.purge(gd);\n",
       "            observer.disconnect();\n",
       "        }}\n",
       "}});\n",
       "\n",
       "// Listen for the removal of the full notebook cells\n",
       "var notebookContainer = gd.closest('#notebook-container');\n",
       "if (notebookContainer) {{\n",
       "    x.observe(notebookContainer, {childList: true});\n",
       "}}\n",
       "\n",
       "// Listen for the clearing of the current output cell\n",
       "var outputEl = gd.closest('.output');\n",
       "if (outputEl) {{\n",
       "    x.observe(outputEl, {childList: true});\n",
       "}}\n",
       "\n",
       "                        })                };                });            </script>        </div>"
      ]
     },
     "metadata": {},
     "output_type": "display_data"
    }
   ],
   "source": [
    "def check_results_diana(task : str, \n",
    "                           cancer : str, \n",
    "                           df : pd.DataFrame,\n",
    "                           set_ : str, ID : int):\n",
    "    # Initialization\n",
    "    sub_dict = {'task' : [task], 'cancer' : [cancer]}\n",
    "    \n",
    "    # Extract the results pkl files\n",
    "    preds_path = f'results/preds/run_{ID}/add_protected_atts_1/Diana'\n",
    "    results = pd.read_pickle(preds_path + f'/{task}/{cancer}/results.pkl')\n",
    "    \n",
    "    # Compute the metrics\n",
    "    # Accuracy \n",
    "    sub_dict['Accuracy'] = tm.classification.BinaryAccuracy()(torch.Tensor(results.pred), torch.Tensor(results.label)).item()\n",
    "    \n",
    "    # F1-score\n",
    "    sub_dict['F1-score'] = tm.classification.BinaryF1Score()(torch.Tensor(results.pred), torch.Tensor(results.label)).item()\n",
    "    \n",
    "    # MMPF_size\n",
    "    mmpf_metrics = compute_pareto_metrics(results, protected_atts)\n",
    "    sub_dict['MMPF_size'] = [mmpf_metrics[f'{set_}MMPF_size_2']]\n",
    "    \n",
    "    # Return the updated data frame\n",
    "    if df.empty: df = pd.DataFrame(data = sub_dict)\n",
    "    else: df = pd.concat([df, pd.DataFrame(data = sub_dict)])\n",
    "    return df\n",
    "\n",
    "# Initialization\n",
    "cols = ['task', 'cancer', 'Accuracy', 'F1-score', 'MMPF_size']\n",
    "df_diana_100 = pd.DataFrame(columns = cols)\n",
    "df_diana_1000 = pd.DataFrame(columns = cols)\n",
    "df_diana_100_test = pd.DataFrame(columns = cols)\n",
    "df_diana_1000_test = pd.DataFrame(columns = cols)\n",
    "\n",
    "# Loop on the combinations for baseline\n",
    "for comb in COMBS_BASELINE[2:10]:\n",
    "    # Track\n",
    "    print(comb)\n",
    "    \n",
    "    # Extract combinations\n",
    "    task = comb[0]\n",
    "    cancer = comb[1]\n",
    "    \n",
    "    # Get the metrics\n",
    "    df_diana_100 = check_results_diana(task, cancer, df_diana_100, 'val_', 100)\n",
    "    df_diana_1000 = check_results_diana(task, cancer, df_diana_1000, 'val_', 1000)\n",
    "    \n",
    "    # Get the metrics\n",
    "    df_diana_100_test = check_results_diana(task, cancer, df_diana_100_test, 'test_', 100)\n",
    "    df_diana_1000_test = check_results_diana(task, cancer, df_diana_1000_test, 'test_', 1000)\n",
    "\n",
    "df_d = keep_best(df_diana_100, df_diana_1000)\n",
    "df_d_test = select_best_test(df_d, df_diana_100_test, df_diana_1000_test)\n",
    "plot_results_others(df_d_test, 'images/results_diana.eps')"
   ]
  },
  {
   "cell_type": "markdown",
   "metadata": {},
   "source": [
    "# Martinez\n",
    "***"
   ]
  },
  {
   "cell_type": "code",
   "execution_count": 139,
   "metadata": {},
   "outputs": [
    {
     "name": "stdout",
     "output_type": "stream",
     "text": [
      "['cancer_classification', 'kich_kirc_FS']\n",
      "['cancer_classification', 'kich_kirc_PM']\n",
      "['cancer_classification', 'kich_kirp_FS']\n",
      "['cancer_classification', 'kich_kirp_PM']\n",
      "['cancer_classification', 'kirc_kirp_FS']\n",
      "['cancer_classification', 'kirc_kirp_PM']\n",
      "['cancer_classification', 'luad_lusc_FS']\n",
      "['cancer_classification', 'luad_lusc_PM']\n"
     ]
    },
    {
     "name": "stderr",
     "output_type": "stream",
     "text": [
      "/tmp/ipykernel_25352/1239156414.py:13: FutureWarning:\n",
      "\n",
      "Series.__getitem__ treating keys as positions is deprecated. In a future version, integer keys will always be treated as labels (consistent with DataFrame behavior). To access a value by position, use `ser.iloc[pos]`\n",
      "\n",
      "/tmp/ipykernel_25352/1239156414.py:14: FutureWarning:\n",
      "\n",
      "Series.__getitem__ treating keys as positions is deprecated. In a future version, integer keys will always be treated as labels (consistent with DataFrame behavior). To access a value by position, use `ser.iloc[pos]`\n",
      "\n",
      "/tmp/ipykernel_25352/1239156414.py:16: FutureWarning:\n",
      "\n",
      "Series.__getitem__ treating keys as positions is deprecated. In a future version, integer keys will always be treated as labels (consistent with DataFrame behavior). To access a value by position, use `ser.iloc[pos]`\n",
      "\n",
      "/tmp/ipykernel_25352/1239156414.py:17: FutureWarning:\n",
      "\n",
      "Series.__getitem__ treating keys as positions is deprecated. In a future version, integer keys will always be treated as labels (consistent with DataFrame behavior). To access a value by position, use `ser.iloc[pos]`\n",
      "\n",
      "/tmp/ipykernel_25352/1239156414.py:18: FutureWarning:\n",
      "\n",
      "Series.__getitem__ treating keys as positions is deprecated. In a future version, integer keys will always be treated as labels (consistent with DataFrame behavior). To access a value by position, use `ser.iloc[pos]`\n",
      "\n",
      "/tmp/ipykernel_25352/1239156414.py:34: FutureWarning:\n",
      "\n",
      "Series.__getitem__ treating keys as positions is deprecated. In a future version, integer keys will always be treated as labels (consistent with DataFrame behavior). To access a value by position, use `ser.iloc[pos]`\n",
      "\n",
      "/tmp/ipykernel_25352/1239156414.py:35: FutureWarning:\n",
      "\n",
      "Series.__getitem__ treating keys as positions is deprecated. In a future version, integer keys will always be treated as labels (consistent with DataFrame behavior). To access a value by position, use `ser.iloc[pos]`\n",
      "\n",
      "/tmp/ipykernel_25352/1239156414.py:36: FutureWarning:\n",
      "\n",
      "Series.__getitem__ treating keys as positions is deprecated. In a future version, integer keys will always be treated as labels (consistent with DataFrame behavior). To access a value by position, use `ser.iloc[pos]`\n",
      "\n",
      "/tmp/ipykernel_25352/1239156414.py:38: FutureWarning:\n",
      "\n",
      "Series.__getitem__ treating keys as positions is deprecated. In a future version, integer keys will always be treated as labels (consistent with DataFrame behavior). To access a value by position, use `ser.iloc[pos]`\n",
      "\n",
      "/tmp/ipykernel_25352/1239156414.py:39: FutureWarning:\n",
      "\n",
      "Series.__getitem__ treating keys as positions is deprecated. In a future version, integer keys will always be treated as labels (consistent with DataFrame behavior). To access a value by position, use `ser.iloc[pos]`\n",
      "\n",
      "/tmp/ipykernel_25352/1239156414.py:40: FutureWarning:\n",
      "\n",
      "Series.__getitem__ treating keys as positions is deprecated. In a future version, integer keys will always be treated as labels (consistent with DataFrame behavior). To access a value by position, use `ser.iloc[pos]`\n",
      "\n"
     ]
    },
    {
     "data": {
      "application/vnd.plotly.v1+json": {
       "config": {
        "plotlyServerURL": "https://plot.ly"
       },
       "data": [
        {
         "alignmentgroup": "True",
         "hovertemplate": "variable=Accuracy<br>cancer=%{x}<br>value=%{y}<extra></extra>",
         "legendgroup": "Accuracy",
         "marker": {
          "color": "rgb(101, 171, 200)",
          "pattern": {
           "shape": ""
          }
         },
         "name": "Accuracy",
         "offsetgroup": "Accuracy",
         "orientation": "v",
         "showlegend": true,
         "textposition": "auto",
         "texttemplate": "%{y:.3f}",
         "type": "bar",
         "x": [
          "kich_kirc_FS",
          "kich_kirc_PM",
          "kich_kirp_FS",
          "kich_kirp_PM",
          "kirc_kirp_FS",
          "kirc_kirp_PM",
          "luad_lusc_FS",
          "luad_lusc_PM"
         ],
         "xaxis": "x",
         "y": [
          0.9640610814094543,
          0.9533213376998901,
          0.9605911374092102,
          0.9873417615890503,
          0.9752988219261169,
          0.9735682606697083,
          0.890070915222168,
          0.9162499904632568
         ],
         "yaxis": "y"
        },
        {
         "alignmentgroup": "True",
         "hovertemplate": "variable=F1-score<br>cancer=%{x}<br>value=%{y}<extra></extra>",
         "legendgroup": "F1-score",
         "marker": {
          "color": "rgb(50, 100, 170)",
          "pattern": {
           "shape": ""
          }
         },
         "name": "F1-score",
         "offsetgroup": "F1-score",
         "orientation": "v",
         "showlegend": true,
         "textposition": "auto",
         "texttemplate": "%{y:.3f}",
         "type": "bar",
         "x": [
          "kich_kirc_FS",
          "kich_kirc_PM",
          "kich_kirp_FS",
          "kich_kirp_PM",
          "kirc_kirp_FS",
          "kirc_kirp_PM",
          "luad_lusc_FS",
          "luad_lusc_PM"
         ],
         "xaxis": "x",
         "y": [
          0.9794661402702332,
          0.9709821343421936,
          0.9704797267913818,
          0.9908257126808167,
          0.9445438385009766,
          0.9599999785423279,
          0.8872727155685425,
          0.9083447456359863
         ],
         "yaxis": "y"
        },
        {
         "alignmentgroup": "True",
         "hovertemplate": "variable=MMPF_size<br>cancer=%{x}<br>value=%{y}<extra></extra>",
         "legendgroup": "MMPF_size",
         "marker": {
          "color": "rgb(21, 21, 45)",
          "pattern": {
           "shape": ""
          }
         },
         "name": "MMPF_size",
         "offsetgroup": "MMPF_size",
         "orientation": "v",
         "showlegend": true,
         "textposition": "auto",
         "texttemplate": "%{y:.3f}",
         "type": "bar",
         "x": [
          "kich_kirc_FS",
          "kich_kirc_PM",
          "kich_kirp_FS",
          "kich_kirp_PM",
          "kirc_kirp_FS",
          "kirc_kirp_PM",
          "luad_lusc_FS",
          "luad_lusc_PM"
         ],
         "xaxis": "x",
         "y": [
          0.6836662292480469,
          0.689024031162262,
          0.9674299359321594,
          0.7198194861412048,
          0.7008458971977234,
          0.7174721360206604,
          0.9930391311645508,
          0.8804915547370911
         ],
         "yaxis": "y"
        }
       ],
       "layout": {
        "bargap": 0.3,
        "bargroupgap": 0.1,
        "barmode": "group",
        "height": 400,
        "legend": {
         "title": {
          "text": "variable"
         },
         "tracegroupgap": 0
        },
        "margin": {
         "t": 60
        },
        "template": {
         "data": {
          "scatter": [
           {
            "type": "scatter"
           }
          ]
         }
        },
        "title": {
         "text": "Cancer classification tasks"
        },
        "width": 1200,
        "xaxis": {
         "anchor": "y",
         "domain": [
          0,
          1
         ],
         "title": {
          "text": "Cancer"
         }
        },
        "yaxis": {
         "anchor": "x",
         "domain": [
          0,
          1
         ],
         "title": {
          "text": "Values [no unit]"
         }
        }
       }
      },
      "text/html": [
       "<div>                            <div id=\"308ddd13-fd7c-457b-8e43-229ab513296e\" class=\"plotly-graph-div\" style=\"height:400px; width:1200px;\"></div>            <script type=\"text/javascript\">                require([\"plotly\"], function(Plotly) {                    window.PLOTLYENV=window.PLOTLYENV || {};                                    if (document.getElementById(\"308ddd13-fd7c-457b-8e43-229ab513296e\")) {                    Plotly.newPlot(                        \"308ddd13-fd7c-457b-8e43-229ab513296e\",                        [{\"alignmentgroup\":\"True\",\"hovertemplate\":\"variable=Accuracy\\u003cbr\\u003ecancer=%{x}\\u003cbr\\u003evalue=%{y}\\u003cextra\\u003e\\u003c\\u002fextra\\u003e\",\"legendgroup\":\"Accuracy\",\"marker\":{\"color\":\"rgb(101, 171, 200)\",\"pattern\":{\"shape\":\"\"}},\"name\":\"Accuracy\",\"offsetgroup\":\"Accuracy\",\"orientation\":\"v\",\"showlegend\":true,\"textposition\":\"auto\",\"texttemplate\":\"%{y:.3f}\",\"x\":[\"kich_kirc_FS\",\"kich_kirc_PM\",\"kich_kirp_FS\",\"kich_kirp_PM\",\"kirc_kirp_FS\",\"kirc_kirp_PM\",\"luad_lusc_FS\",\"luad_lusc_PM\"],\"xaxis\":\"x\",\"y\":[0.9640610814094543,0.9533213376998901,0.9605911374092102,0.9873417615890503,0.9752988219261169,0.9735682606697083,0.890070915222168,0.9162499904632568],\"yaxis\":\"y\",\"type\":\"bar\"},{\"alignmentgroup\":\"True\",\"hovertemplate\":\"variable=F1-score\\u003cbr\\u003ecancer=%{x}\\u003cbr\\u003evalue=%{y}\\u003cextra\\u003e\\u003c\\u002fextra\\u003e\",\"legendgroup\":\"F1-score\",\"marker\":{\"color\":\"rgb(50, 100, 170)\",\"pattern\":{\"shape\":\"\"}},\"name\":\"F1-score\",\"offsetgroup\":\"F1-score\",\"orientation\":\"v\",\"showlegend\":true,\"textposition\":\"auto\",\"texttemplate\":\"%{y:.3f}\",\"x\":[\"kich_kirc_FS\",\"kich_kirc_PM\",\"kich_kirp_FS\",\"kich_kirp_PM\",\"kirc_kirp_FS\",\"kirc_kirp_PM\",\"luad_lusc_FS\",\"luad_lusc_PM\"],\"xaxis\":\"x\",\"y\":[0.9794661402702332,0.9709821343421936,0.9704797267913818,0.9908257126808167,0.9445438385009766,0.9599999785423279,0.8872727155685425,0.9083447456359863],\"yaxis\":\"y\",\"type\":\"bar\"},{\"alignmentgroup\":\"True\",\"hovertemplate\":\"variable=MMPF_size\\u003cbr\\u003ecancer=%{x}\\u003cbr\\u003evalue=%{y}\\u003cextra\\u003e\\u003c\\u002fextra\\u003e\",\"legendgroup\":\"MMPF_size\",\"marker\":{\"color\":\"rgb(21, 21, 45)\",\"pattern\":{\"shape\":\"\"}},\"name\":\"MMPF_size\",\"offsetgroup\":\"MMPF_size\",\"orientation\":\"v\",\"showlegend\":true,\"textposition\":\"auto\",\"texttemplate\":\"%{y:.3f}\",\"x\":[\"kich_kirc_FS\",\"kich_kirc_PM\",\"kich_kirp_FS\",\"kich_kirp_PM\",\"kirc_kirp_FS\",\"kirc_kirp_PM\",\"luad_lusc_FS\",\"luad_lusc_PM\"],\"xaxis\":\"x\",\"y\":[0.6836662292480469,0.689024031162262,0.9674299359321594,0.7198194861412048,0.7008458971977234,0.7174721360206604,0.9930391311645508,0.8804915547370911],\"yaxis\":\"y\",\"type\":\"bar\"}],                        {\"template\":{\"data\":{\"scatter\":[{\"type\":\"scatter\"}]}},\"xaxis\":{\"anchor\":\"y\",\"domain\":[0.0,1.0],\"title\":{\"text\":\"Cancer\"}},\"yaxis\":{\"anchor\":\"x\",\"domain\":[0.0,1.0],\"title\":{\"text\":\"Values [no unit]\"}},\"legend\":{\"title\":{\"text\":\"variable\"},\"tracegroupgap\":0},\"margin\":{\"t\":60},\"barmode\":\"group\",\"height\":400,\"width\":1200,\"title\":{\"text\":\"Cancer classification tasks\"},\"bargap\":0.3,\"bargroupgap\":0.1},                        {\"responsive\": true}                    ).then(function(){\n",
       "                            \n",
       "var gd = document.getElementById('308ddd13-fd7c-457b-8e43-229ab513296e');\n",
       "var x = new MutationObserver(function (mutations, observer) {{\n",
       "        var display = window.getComputedStyle(gd).display;\n",
       "        if (!display || display === 'none') {{\n",
       "            console.log([gd, 'removed!']);\n",
       "            Plotly.purge(gd);\n",
       "            observer.disconnect();\n",
       "        }}\n",
       "}});\n",
       "\n",
       "// Listen for the removal of the full notebook cells\n",
       "var notebookContainer = gd.closest('#notebook-container');\n",
       "if (notebookContainer) {{\n",
       "    x.observe(notebookContainer, {childList: true});\n",
       "}}\n",
       "\n",
       "// Listen for the clearing of the current output cell\n",
       "var outputEl = gd.closest('.output');\n",
       "if (outputEl) {{\n",
       "    x.observe(outputEl, {childList: true});\n",
       "}}\n",
       "\n",
       "                        })                };                });            </script>        </div>"
      ]
     },
     "metadata": {},
     "output_type": "display_data"
    }
   ],
   "source": [
    "def check_results_martinez(task : str, \n",
    "                           cancer : str, \n",
    "                           df : pd.DataFrame,\n",
    "                           set_ : str, ID : int):\n",
    "    # Initialization\n",
    "    sub_dict = {'task' : [task], 'cancer' : [cancer]}\n",
    "    \n",
    "    # Extract the results pkl files\n",
    "    preds_path = f'results/preds/run_{ID}/add_protected_atts_1/Martinez'\n",
    "    if ID == 100 : results = pd.read_pickle(preds_path + f'/{task}/{cancer}/alpha_0.5/results.pkl')\n",
    "    else: results = pd.read_pickle(preds_path + f'/{task}/{cancer}/results.pkl')\n",
    "    \n",
    "    # Compute the metrics\n",
    "    # Accuracy \n",
    "    sub_dict['Accuracy'] = tm.classification.BinaryAccuracy()(torch.Tensor(results.pred), torch.Tensor(results.label)).item()\n",
    "    \n",
    "    # F1-score\n",
    "    sub_dict['F1-score'] = tm.classification.BinaryF1Score()(torch.Tensor(results.pred), torch.Tensor(results.label)).item()\n",
    "    \n",
    "    # MMPF_size\n",
    "    mmpf_metrics = compute_pareto_metrics(results, protected_atts)\n",
    "    sub_dict['MMPF_size'] = [mmpf_metrics[f'{set_}MMPF_size_2']]\n",
    "    \n",
    "    # Return the updated data frame\n",
    "    if df.empty: df = pd.DataFrame(data = sub_dict)\n",
    "    else: df = pd.concat([df, pd.DataFrame(data = sub_dict)])\n",
    "    return df\n",
    "\n",
    "# Initialization\n",
    "cols = ['task', 'cancer', 'Accuracy', 'F1-score', 'MMPF_size']\n",
    "df_martinez_100 = pd.DataFrame(columns = cols)\n",
    "df_martinez_1000 = pd.DataFrame(columns = cols)\n",
    "df_martinez_100_test = pd.DataFrame(columns = cols)\n",
    "df_martinez_1000_test = pd.DataFrame(columns = cols)\n",
    "\n",
    "# Loop on the combinations for baseline\n",
    "for comb in COMBS_BASELINE[2:10]:\n",
    "    # Track\n",
    "    print(comb)\n",
    "    \n",
    "    # Extract combinations\n",
    "    task = comb[0]\n",
    "    cancer = comb[1]\n",
    "    \n",
    "    # Get the metrics\n",
    "    df_martinez_100 = check_results_martinez(task, cancer, df_martinez_100, 'val_', 100)\n",
    "    df_martinez_1000 = check_results_martinez(task, cancer, df_martinez_1000, 'val_', 1000)\n",
    "\n",
    "    # Get the metrics\n",
    "    df_martinez_100_test = check_results_martinez(task, cancer, df_martinez_100_test, 'test_', 100)\n",
    "    df_martinez_1000_test = check_results_martinez(task, cancer, df_martinez_1000_test, 'test_', 1000)\n",
    "    \n",
    "df_m = keep_best(df_martinez_100, df_martinez_1000)\n",
    "df_m_test = select_best_test(df_m, df_martinez_100_test, df_martinez_1000_test)\n",
    "plot_results_others(df_m_test, 'images/results_martinez.eps')"
   ]
  },
  {
   "cell_type": "code",
   "execution_count": null,
   "metadata": {},
   "outputs": [],
   "source": []
  }
 ],
 "metadata": {
  "kernelspec": {
   "display_name": "pdm",
   "language": "python",
   "name": "python3"
  },
  "language_info": {
   "codemirror_mode": {
    "name": "ipython",
    "version": 3
   },
   "file_extension": ".py",
   "mimetype": "text/x-python",
   "name": "python",
   "nbconvert_exporter": "python",
   "pygments_lexer": "ipython3",
   "version": "3.11.5"
  }
 },
 "nbformat": 4,
 "nbformat_minor": 2
}
