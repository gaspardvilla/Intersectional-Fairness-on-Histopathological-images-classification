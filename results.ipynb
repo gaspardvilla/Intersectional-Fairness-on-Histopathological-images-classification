{
 "cells": [
  {
   "cell_type": "markdown",
   "metadata": {},
   "source": [
    "# Imports and initialization of general parameters\n",
    "***"
   ]
  },
  {
   "cell_type": "code",
   "execution_count": 2,
   "metadata": {},
   "outputs": [],
   "source": [
    "from helpers.pareto_fairness import compute_pareto_metrics\n",
    "from config.info import AGES, RACES, GENDERS, COMBS_BASELINE\n",
    "from visualization.subgroup_distribution import plot_dist\n",
    "from dataprocess.dataloader import load_data\n",
    "from dataprocess.dataclass import Data\n",
    "from config.get_args import get_args\n",
    "from sklearn.metrics import mean_squared_error\n",
    "import plotly.express as px\n",
    "import plotly.graph_objects as go\n",
    "import plotly.figure_factory as ff\n",
    "from lightning import seed_everything\n",
    "from plotly.subplots import make_subplots\n",
    "import numpy as np\n",
    "import argparse\n",
    "import pandas as pd\n",
    "import random\n",
    "import torch.nn as nn\n",
    "import pickle\n",
    "\n",
    "loss_fct = nn.CrossEntropyLoss()\n",
    "\n",
    "\n",
    "# Auto reload part\n",
    "%load_ext autoreload\n",
    "%autoreload 2"
   ]
  },
  {
   "cell_type": "markdown",
   "metadata": {},
   "source": [
    "# Load the data and the response\n",
    "***"
   ]
  },
  {
   "cell_type": "code",
   "execution_count": null,
   "metadata": {},
   "outputs": [],
   "source": []
  }
 ],
 "metadata": {
  "kernelspec": {
   "display_name": "pdm",
   "language": "python",
   "name": "python3"
  },
  "language_info": {
   "codemirror_mode": {
    "name": "ipython",
    "version": 3
   },
   "file_extension": ".py",
   "mimetype": "text/x-python",
   "name": "python",
   "nbconvert_exporter": "python",
   "pygments_lexer": "ipython3",
   "version": "3.11.5"
  }
 },
 "nbformat": 4,
 "nbformat_minor": 2
}
