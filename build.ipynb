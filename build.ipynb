{
 "cells": [
  {
   "cell_type": "markdown",
   "metadata": {},
   "source": [
    "# Imports and initialization of general parameters\n",
    "***"
   ]
  },
  {
   "cell_type": "code",
   "execution_count": null,
   "metadata": {},
   "outputs": [],
   "source": [
    "from config.info import AGES, RACES, GENDERS, COMBS_BASELINE\n",
    "from visualization.subgroup_distribution import plot_dist\n",
    "from dataprocess.dataloader import load_data\n",
    "from dataprocess.dataclass import Data\n",
    "from config.get_args import get_args\n",
    "import numpy as np\n",
    "import argparse\n",
    "import pandas as pd\n",
    "\n",
    "\n",
    "# Auto reload part\n",
    "%load_ext autoreload\n",
    "%autoreload 2"
   ]
  },
  {
   "cell_type": "markdown",
   "metadata": {},
   "source": [
    "# Load the desired data set\n",
    "***"
   ]
  },
  {
   "cell_type": "code",
   "execution_count": null,
   "metadata": {},
   "outputs": [],
   "source": [
    "def get_ref(task, cancer):\n",
    "    # args\n",
    "    args = argparse.Namespace()\n",
    "    args.task = task\n",
    "    args.cancer = cancer\n",
    "    args = get_args(args = args)\n",
    "    \n",
    "    # Load the ref\n",
    "    _, _, _, ref = load_data(**vars(args))\n",
    "    return ref"
   ]
  },
  {
   "cell_type": "code",
   "execution_count": null,
   "metadata": {},
   "outputs": [],
   "source": [
    "# Build the data frame\n",
    "cols = ['task', 'cancer', \n",
    "        'label', 'age_', \n",
    "        'race_', 'gender_', \n",
    "        'subj', 'siteID']\n",
    "df = pd.DataFrame(columns = cols)\n",
    "\n",
    "for comb in COMBS_BASELINE:\n",
    "    # Track\n",
    "    print(comb)\n",
    "    \n",
    "    # Extract combinations\n",
    "    task = comb[0]\n",
    "    cancer = comb[1]\n",
    "    \n",
    "    # Get the references \n",
    "    ref = get_ref(task, cancer)\n",
    "    ref['task'] = task\n",
    "    ref['cancer'] = cancer\n",
    "    \n",
    "    # Update the main dataframe\n",
    "    df = pd.concat([df, ref[cols]])"
   ]
  }
 ],
 "metadata": {
  "kernelspec": {
   "display_name": "pdm",
   "language": "python",
   "name": "python3"
  },
  "language_info": {
   "codemirror_mode": {
    "name": "ipython",
    "version": 3
   },
   "file_extension": ".py",
   "mimetype": "text/x-python",
   "name": "python",
   "nbconvert_exporter": "python",
   "pygments_lexer": "ipython3",
   "version": "3.11.5"
  }
 },
 "nbformat": 4,
 "nbformat_minor": 2
}
