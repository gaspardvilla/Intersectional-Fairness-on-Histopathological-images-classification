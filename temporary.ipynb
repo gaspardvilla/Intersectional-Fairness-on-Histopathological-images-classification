{
 "cells": [
  {
   "cell_type": "markdown",
   "metadata": {},
   "source": [
    "# Imports and initialization of general parameters\n",
    "***"
   ]
  },
  {
   "cell_type": "code",
   "execution_count": null,
   "metadata": {},
   "outputs": [],
   "source": [
    "from config.info import AGES, RACES, GENDERS, COMBS_BASELINE, COMBS_FOULDS, COMBS_MARTINEZ\n",
    "from config.get_args import get_args\n",
    "from lightning import seed_everything\n",
    "from helpers.save_predictions import save_predictions\n",
    "from helpers.init import init\n",
    "from lightning import seed_everything\n",
    "import argparse\n",
    "import torch.nn as nn\n",
    "import numpy as np\n",
    "import torch\n",
    "\n",
    "loss_fct = nn.CrossEntropyLoss()\n",
    "protected_atts = ['age_', 'race_', 'gender_']\n",
    "\n",
    "\n",
    "# Auto reload part\n",
    "%load_ext autoreload\n",
    "%autoreload 2"
   ]
  },
  {
   "cell_type": "markdown",
   "metadata": {},
   "source": [
    "# Baseline\n",
    "***"
   ]
  },
  {
   "cell_type": "code",
   "execution_count": null,
   "metadata": {},
   "outputs": [],
   "source": [
    "def baseline(job_id : int, \n",
    "             ID : int, add_atts : int):\n",
    "    # args\n",
    "    args = argparse.Namespace()\n",
    "    args.model = 'Baseline' \n",
    "    args.ID = ID\n",
    "    args.add_protected_attributes = add_atts\n",
    "    args.allow_wandb = False\n",
    "    args.job_id = job_id\n",
    "    args = get_args(args = args)\n",
    "    args.fc_latent_size = [20, 20]\n",
    "    \n",
    "    # Load the data, the model, wandb and the trainer\n",
    "    seed_everything(args.seed)\n",
    "    data, model, _, _ = init(**vars(args))\n",
    "    \n",
    "    # Extract the path for the best model ckpts\n",
    "    ckpt_path = args.ckpt_path.split('/')[:-1]\n",
    "    ckpt_path = '/'.join(ckpt_path)+'/'+'best_model.ckpt'\n",
    "    print(ckpt_path)\n",
    "    \n",
    "    # Save the predictions for the best model\n",
    "    save_predictions(args, data, model, \n",
    "                     wandb = None, \n",
    "                     manual_ckpt = ckpt_path)\n",
    "    \n",
    "for job_id in range(len(COMBS_BASELINE))[2:]:\n",
    "    # Track\n",
    "    print(COMBS_BASELINE[job_id])\n",
    "    \n",
    "    # Get the references \n",
    "    ref = baseline(job_id, ID = 1000, add_atts = 0)"
   ]
  },
  {
   "cell_type": "code",
   "execution_count": null,
   "metadata": {},
   "outputs": [],
   "source": [
    "def foulds(job_id : int,\n",
    "             ID : int, add_atts : int):\n",
    "    # args\n",
    "    args = argparse.Namespace()\n",
    "    args.model = 'Foulds' \n",
    "    args.ID = ID\n",
    "    args.add_protected_attributes = add_atts\n",
    "    args.allow_wandb = False\n",
    "    args.job_id = job_id\n",
    "    args = get_args(args = args)\n",
    "    args.fc_latent_size = [20, 20]\n",
    "\n",
    "    # Load the data, the model, wandb and the trainer\n",
    "    seed_everything(args.seed)\n",
    "    data, model, _, _ = init(**vars(args))\n",
    "    \n",
    "    # Extract the path for the best model ckpts\n",
    "    ckpt_path = args.ckpt_path.split('/')[:-1]\n",
    "    ckpt_path = '/'.join(ckpt_path)+'/'+'best_model.ckpt'\n",
    "    print(ckpt_path)\n",
    "    \n",
    "    # Save the predictions for the best model\n",
    "    save_predictions(args, data, model, \n",
    "                     wandb = None, \n",
    "                     manual_ckpt = ckpt_path)\n",
    "\n",
    "for job_id in range(len(COMBS_FOULDS))[6:30]:\n",
    "    # Track\n",
    "    print(COMBS_FOULDS[job_id])\n",
    "    \n",
    "    # Get the references \n",
    "    ref = foulds(job_id, ID = 1000, add_atts = 0)"
   ]
  },
  {
   "cell_type": "code",
   "execution_count": null,
   "metadata": {},
   "outputs": [],
   "source": []
  }
 ],
 "metadata": {
  "kernelspec": {
   "display_name": "pdm",
   "language": "python",
   "name": "python3"
  },
  "language_info": {
   "codemirror_mode": {
    "name": "ipython",
    "version": 3
   },
   "file_extension": ".py",
   "mimetype": "text/x-python",
   "name": "python",
   "nbconvert_exporter": "python",
   "pygments_lexer": "ipython3",
   "version": "3.11.5"
  }
 },
 "nbformat": 4,
 "nbformat_minor": 2
}
