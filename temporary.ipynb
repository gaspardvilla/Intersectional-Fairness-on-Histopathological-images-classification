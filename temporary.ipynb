{
 "cells": [
  {
   "cell_type": "markdown",
   "metadata": {},
   "source": [
    "# Imports and initialization of general parameters\n",
    "***"
   ]
  },
  {
   "cell_type": "code",
   "execution_count": 1,
   "metadata": {},
   "outputs": [],
   "source": [
    "from config.info import AGES, RACES, GENDERS, COMBS_BASELINE, COMBS_FOULDS, COMBS_MARTINEZ\n",
    "from config.get_args import get_args\n",
    "from lightning import seed_everything\n",
    "from helpers.save_predictions import save_predictions\n",
    "from helpers.init import init\n",
    "from lightning import seed_everything\n",
    "import argparse\n",
    "import torch.nn as nn\n",
    "import numpy as np\n",
    "import torch\n",
    "\n",
    "loss_fct = nn.CrossEntropyLoss()\n",
    "protected_atts = ['age_', 'race_', 'gender_']\n",
    "\n",
    "\n",
    "# Auto reload part\n",
    "%load_ext autoreload\n",
    "%autoreload 2"
   ]
  },
  {
   "cell_type": "markdown",
   "metadata": {},
   "source": [
    "# Baseline\n",
    "***"
   ]
  },
  {
   "cell_type": "code",
   "execution_count": 9,
   "metadata": {},
   "outputs": [
    {
     "name": "stderr",
     "output_type": "stream",
     "text": [
      "Global seed set to 194825\n"
     ]
    },
    {
     "name": "stdout",
     "output_type": "stream",
     "text": [
      "['tumor_detection', 'brca']\n",
      "[ --------------- GENERAL --------------- ]\n",
      "File name : tumor_detection_brca.csv\n",
      "Total nb of data : 1733\n",
      "Nb of features : 771\n",
      "Split ratio : 0.2\n",
      "Validation set : 1\n",
      "\n",
      "Train set size : 1056\n",
      "Validation set size : 340\n",
      "Test set size : 337\n",
      "\n"
     ]
    },
    {
     "name": "stderr",
     "output_type": "stream",
     "text": [
      "/home/gav061/.conda/envs/pdm/lib/python3.11/site-packages/lightning/fabric/plugins/environments/slurm.py:168: PossibleUserWarning: The `srun` command is available on your system but is not used. HINT: If your intention is to run Lightning on SLURM, prepend your python command with `srun` like so: srun python /home/gav061/.conda/envs/pdm/lib/python3.11/site-pac ...\n",
      "  rank_zero_warn(\n",
      "GPU available: False, used: False\n",
      "TPU available: False, using: 0 TPU cores\n",
      "IPU available: False, using: 0 IPUs\n",
      "HPU available: False, using: 0 HPUs\n"
     ]
    },
    {
     "name": "stdout",
     "output_type": "stream",
     "text": [
      "results/ckpt/run_1000/add_protected_atts_1/Baseline/tumor_detection/brca/best_model.ckpt\n",
      "results/preds/run_1000/add_protected_atts_1/Baseline/tumor_detection/brca/best_results.pkl\n"
     ]
    },
    {
     "name": "stderr",
     "output_type": "stream",
     "text": [
      "Global seed set to 194825\n",
      "/home/gav061/.conda/envs/pdm/lib/python3.11/site-packages/lightning/fabric/plugins/environments/slurm.py:168: PossibleUserWarning: The `srun` command is available on your system but is not used. HINT: If your intention is to run Lightning on SLURM, prepend your python command with `srun` like so: srun python /home/gav061/.conda/envs/pdm/lib/python3.11/site-pac ...\n",
      "  rank_zero_warn(\n",
      "GPU available: False, used: False\n",
      "TPU available: False, using: 0 TPU cores\n",
      "IPU available: False, using: 0 IPUs\n",
      "HPU available: False, using: 0 HPUs\n"
     ]
    },
    {
     "name": "stdout",
     "output_type": "stream",
     "text": [
      "[ --------------- GENERAL --------------- ]\n",
      "File name : tumor_detection_brca.csv\n",
      "Total nb of data : 1733\n",
      "Nb of features : 768\n",
      "Split ratio : 0.2\n",
      "Validation set : 1\n",
      "\n",
      "Train set size : 1056\n",
      "Validation set size : 340\n",
      "Test set size : 337\n",
      "\n",
      "results/ckpt/run_1000/add_protected_atts_0/Baseline/tumor_detection/brca/best_model.ckpt\n",
      "results/preds/run_1000/add_protected_atts_0/Baseline/tumor_detection/brca/best_results.pkl\n"
     ]
    },
    {
     "name": "stderr",
     "output_type": "stream",
     "text": [
      "Global seed set to 194825\n"
     ]
    },
    {
     "name": "stdout",
     "output_type": "stream",
     "text": [
      "['tumor_detection', 'coad']\n"
     ]
    },
    {
     "name": "stderr",
     "output_type": "stream",
     "text": [
      "/home/gav061/.conda/envs/pdm/lib/python3.11/site-packages/lightning/fabric/plugins/environments/slurm.py:168: PossibleUserWarning: The `srun` command is available on your system but is not used. HINT: If your intention is to run Lightning on SLURM, prepend your python command with `srun` like so: srun python /home/gav061/.conda/envs/pdm/lib/python3.11/site-pac ...\n",
      "  rank_zero_warn(\n",
      "GPU available: False, used: False\n",
      "TPU available: False, using: 0 TPU cores\n",
      "IPU available: False, using: 0 IPUs\n",
      "HPU available: False, using: 0 HPUs\n"
     ]
    },
    {
     "name": "stdout",
     "output_type": "stream",
     "text": [
      "[ --------------- GENERAL --------------- ]\n",
      "File name : tumor_detection_coad.csv\n",
      "Total nb of data : 528\n",
      "Nb of features : 771\n",
      "Split ratio : 0.2\n",
      "Validation set : 1\n",
      "\n",
      "Train set size : 328\n",
      "Validation set size : 104\n",
      "Test set size : 96\n",
      "\n",
      "results/ckpt/run_1000/add_protected_atts_1/Baseline/tumor_detection/coad/best_model.ckpt\n",
      "results/preds/run_1000/add_protected_atts_1/Baseline/tumor_detection/coad/best_results.pkl\n"
     ]
    },
    {
     "name": "stderr",
     "output_type": "stream",
     "text": [
      "Global seed set to 194825\n"
     ]
    },
    {
     "name": "stdout",
     "output_type": "stream",
     "text": [
      "[ --------------- GENERAL --------------- ]\n",
      "File name : tumor_detection_coad.csv\n",
      "Total nb of data : 528\n",
      "Nb of features : 768\n",
      "Split ratio : 0.2\n",
      "Validation set : 1\n",
      "\n",
      "Train set size : 328\n",
      "Validation set size : 104\n",
      "Test set size : 96\n",
      "\n"
     ]
    },
    {
     "name": "stderr",
     "output_type": "stream",
     "text": [
      "/home/gav061/.conda/envs/pdm/lib/python3.11/site-packages/lightning/fabric/plugins/environments/slurm.py:168: PossibleUserWarning: The `srun` command is available on your system but is not used. HINT: If your intention is to run Lightning on SLURM, prepend your python command with `srun` like so: srun python /home/gav061/.conda/envs/pdm/lib/python3.11/site-pac ...\n",
      "  rank_zero_warn(\n",
      "GPU available: False, used: False\n",
      "TPU available: False, using: 0 TPU cores\n",
      "IPU available: False, using: 0 IPUs\n",
      "HPU available: False, using: 0 HPUs\n"
     ]
    },
    {
     "name": "stdout",
     "output_type": "stream",
     "text": [
      "results/ckpt/run_1000/add_protected_atts_0/Baseline/tumor_detection/coad/best_model.ckpt\n",
      "results/preds/run_1000/add_protected_atts_0/Baseline/tumor_detection/coad/best_results.pkl\n"
     ]
    },
    {
     "name": "stderr",
     "output_type": "stream",
     "text": [
      "Global seed set to 194825\n"
     ]
    },
    {
     "name": "stdout",
     "output_type": "stream",
     "text": [
      "['tumor_detection', 'kich']\n"
     ]
    },
    {
     "name": "stderr",
     "output_type": "stream",
     "text": [
      "/home/gav061/.conda/envs/pdm/lib/python3.11/site-packages/lightning/fabric/plugins/environments/slurm.py:168: PossibleUserWarning: The `srun` command is available on your system but is not used. HINT: If your intention is to run Lightning on SLURM, prepend your python command with `srun` like so: srun python /home/gav061/.conda/envs/pdm/lib/python3.11/site-pac ...\n",
      "  rank_zero_warn(\n",
      "GPU available: False, used: False\n",
      "TPU available: False, using: 0 TPU cores\n",
      "IPU available: False, using: 0 IPUs\n",
      "HPU available: False, using: 0 HPUs\n"
     ]
    },
    {
     "name": "stdout",
     "output_type": "stream",
     "text": [
      "[ --------------- GENERAL --------------- ]\n",
      "File name : tumor_detection_kich.csv\n",
      "Total nb of data : 201\n",
      "Nb of features : 771\n",
      "Split ratio : 0.2\n",
      "Validation set : 1\n",
      "\n",
      "Train set size : 131\n",
      "Validation set size : 39\n",
      "Test set size : 31\n",
      "\n",
      "results/ckpt/run_1000/add_protected_atts_1/Baseline/tumor_detection/kich/best_model.ckpt\n",
      "results/preds/run_1000/add_protected_atts_1/Baseline/tumor_detection/kich/best_results.pkl\n"
     ]
    },
    {
     "name": "stderr",
     "output_type": "stream",
     "text": [
      "Global seed set to 194825\n",
      "/home/gav061/.conda/envs/pdm/lib/python3.11/site-packages/lightning/fabric/plugins/environments/slurm.py:168: PossibleUserWarning: The `srun` command is available on your system but is not used. HINT: If your intention is to run Lightning on SLURM, prepend your python command with `srun` like so: srun python /home/gav061/.conda/envs/pdm/lib/python3.11/site-pac ...\n",
      "  rank_zero_warn(\n",
      "GPU available: False, used: False\n",
      "TPU available: False, using: 0 TPU cores\n",
      "IPU available: False, using: 0 IPUs\n",
      "HPU available: False, using: 0 HPUs\n"
     ]
    },
    {
     "name": "stdout",
     "output_type": "stream",
     "text": [
      "[ --------------- GENERAL --------------- ]\n",
      "File name : tumor_detection_kich.csv\n",
      "Total nb of data : 201\n",
      "Nb of features : 768\n",
      "Split ratio : 0.2\n",
      "Validation set : 1\n",
      "\n",
      "Train set size : 131\n",
      "Validation set size : 39\n",
      "Test set size : 31\n",
      "\n",
      "results/ckpt/run_1000/add_protected_atts_0/Baseline/tumor_detection/kich/best_model.ckpt\n",
      "results/preds/run_1000/add_protected_atts_0/Baseline/tumor_detection/kich/best_results.pkl\n"
     ]
    },
    {
     "name": "stderr",
     "output_type": "stream",
     "text": [
      "Global seed set to 194825\n"
     ]
    },
    {
     "name": "stdout",
     "output_type": "stream",
     "text": [
      "['tumor_detection', 'kirc']\n"
     ]
    },
    {
     "name": "stderr",
     "output_type": "stream",
     "text": [
      "/home/gav061/.conda/envs/pdm/lib/python3.11/site-packages/lightning/fabric/plugins/environments/slurm.py:168: PossibleUserWarning: The `srun` command is available on your system but is not used. HINT: If your intention is to run Lightning on SLURM, prepend your python command with `srun` like so: srun python /home/gav061/.conda/envs/pdm/lib/python3.11/site-pac ...\n",
      "  rank_zero_warn(\n",
      "GPU available: False, used: False\n",
      "TPU available: False, using: 0 TPU cores\n",
      "IPU available: False, using: 0 IPUs\n",
      "HPU available: False, using: 0 HPUs\n"
     ]
    },
    {
     "name": "stdout",
     "output_type": "stream",
     "text": [
      "[ --------------- GENERAL --------------- ]\n",
      "File name : tumor_detection_kirc.csv\n",
      "Total nb of data : 1619\n",
      "Nb of features : 771\n",
      "Split ratio : 0.2\n",
      "Validation set : 1\n",
      "\n",
      "Train set size : 993\n",
      "Validation set size : 317\n",
      "Test set size : 309\n",
      "\n",
      "results/ckpt/run_1000/add_protected_atts_1/Baseline/tumor_detection/kirc/best_model.ckpt\n",
      "results/preds/run_1000/add_protected_atts_1/Baseline/tumor_detection/kirc/best_results.pkl\n"
     ]
    },
    {
     "name": "stderr",
     "output_type": "stream",
     "text": [
      "Global seed set to 194825\n"
     ]
    },
    {
     "name": "stdout",
     "output_type": "stream",
     "text": [
      "[ --------------- GENERAL --------------- ]\n",
      "File name : tumor_detection_kirc.csv\n",
      "Total nb of data : 1619\n",
      "Nb of features : 768\n",
      "Split ratio : 0.2\n",
      "Validation set : 1\n",
      "\n",
      "Train set size : 993\n",
      "Validation set size : 317\n",
      "Test set size : 309\n",
      "\n"
     ]
    },
    {
     "name": "stderr",
     "output_type": "stream",
     "text": [
      "/home/gav061/.conda/envs/pdm/lib/python3.11/site-packages/lightning/fabric/plugins/environments/slurm.py:168: PossibleUserWarning: The `srun` command is available on your system but is not used. HINT: If your intention is to run Lightning on SLURM, prepend your python command with `srun` like so: srun python /home/gav061/.conda/envs/pdm/lib/python3.11/site-pac ...\n",
      "  rank_zero_warn(\n",
      "GPU available: False, used: False\n",
      "TPU available: False, using: 0 TPU cores\n",
      "IPU available: False, using: 0 IPUs\n",
      "HPU available: False, using: 0 HPUs\n"
     ]
    },
    {
     "name": "stdout",
     "output_type": "stream",
     "text": [
      "results/ckpt/run_1000/add_protected_atts_0/Baseline/tumor_detection/kirc/best_model.ckpt\n",
      "results/preds/run_1000/add_protected_atts_0/Baseline/tumor_detection/kirc/best_results.pkl\n"
     ]
    },
    {
     "name": "stderr",
     "output_type": "stream",
     "text": [
      "Global seed set to 194825\n"
     ]
    },
    {
     "name": "stdout",
     "output_type": "stream",
     "text": [
      "['tumor_detection', 'kirp']\n",
      "[ --------------- GENERAL --------------- ]\n",
      "File name : tumor_detection_kirp.csv\n",
      "Total nb of data : 445\n",
      "Nb of features : 771\n",
      "Split ratio : 0.2\n",
      "Validation set : 1\n",
      "\n",
      "Train set size : 282\n",
      "Validation set size : 84\n",
      "Test set size : 79\n",
      "\n"
     ]
    },
    {
     "name": "stderr",
     "output_type": "stream",
     "text": [
      "/home/gav061/.conda/envs/pdm/lib/python3.11/site-packages/lightning/fabric/plugins/environments/slurm.py:168: PossibleUserWarning: The `srun` command is available on your system but is not used. HINT: If your intention is to run Lightning on SLURM, prepend your python command with `srun` like so: srun python /home/gav061/.conda/envs/pdm/lib/python3.11/site-pac ...\n",
      "  rank_zero_warn(\n",
      "GPU available: False, used: False\n",
      "TPU available: False, using: 0 TPU cores\n",
      "IPU available: False, using: 0 IPUs\n",
      "HPU available: False, using: 0 HPUs\n"
     ]
    },
    {
     "name": "stdout",
     "output_type": "stream",
     "text": [
      "results/ckpt/run_1000/add_protected_atts_1/Baseline/tumor_detection/kirp/best_model.ckpt\n",
      "results/preds/run_1000/add_protected_atts_1/Baseline/tumor_detection/kirp/best_results.pkl\n"
     ]
    },
    {
     "name": "stderr",
     "output_type": "stream",
     "text": [
      "Global seed set to 194825\n",
      "/home/gav061/.conda/envs/pdm/lib/python3.11/site-packages/lightning/fabric/plugins/environments/slurm.py:168: PossibleUserWarning: The `srun` command is available on your system but is not used. HINT: If your intention is to run Lightning on SLURM, prepend your python command with `srun` like so: srun python /home/gav061/.conda/envs/pdm/lib/python3.11/site-pac ...\n",
      "  rank_zero_warn(\n",
      "GPU available: False, used: False\n",
      "TPU available: False, using: 0 TPU cores\n",
      "IPU available: False, using: 0 IPUs\n",
      "HPU available: False, using: 0 HPUs\n"
     ]
    },
    {
     "name": "stdout",
     "output_type": "stream",
     "text": [
      "[ --------------- GENERAL --------------- ]\n",
      "File name : tumor_detection_kirp.csv\n",
      "Total nb of data : 445\n",
      "Nb of features : 768\n",
      "Split ratio : 0.2\n",
      "Validation set : 1\n",
      "\n",
      "Train set size : 282\n",
      "Validation set size : 84\n",
      "Test set size : 79\n",
      "\n",
      "results/ckpt/run_1000/add_protected_atts_0/Baseline/tumor_detection/kirp/best_model.ckpt\n",
      "results/preds/run_1000/add_protected_atts_0/Baseline/tumor_detection/kirp/best_results.pkl\n"
     ]
    },
    {
     "name": "stderr",
     "output_type": "stream",
     "text": [
      "Global seed set to 194825\n"
     ]
    },
    {
     "name": "stdout",
     "output_type": "stream",
     "text": [
      "['tumor_detection', 'luad']\n",
      "[ --------------- GENERAL --------------- ]\n",
      "File name : tumor_detection_luad.csv\n",
      "Total nb of data : 898\n",
      "Nb of features : 771\n",
      "Split ratio : 0.2\n",
      "Validation set : 1\n",
      "\n",
      "Train set size : 554\n",
      "Validation set size : 177\n",
      "Test set size : 167\n",
      "\n"
     ]
    },
    {
     "name": "stderr",
     "output_type": "stream",
     "text": [
      "/home/gav061/.conda/envs/pdm/lib/python3.11/site-packages/lightning/fabric/plugins/environments/slurm.py:168: PossibleUserWarning: The `srun` command is available on your system but is not used. HINT: If your intention is to run Lightning on SLURM, prepend your python command with `srun` like so: srun python /home/gav061/.conda/envs/pdm/lib/python3.11/site-pac ...\n",
      "  rank_zero_warn(\n",
      "GPU available: False, used: False\n",
      "TPU available: False, using: 0 TPU cores\n",
      "IPU available: False, using: 0 IPUs\n",
      "HPU available: False, using: 0 HPUs\n"
     ]
    },
    {
     "name": "stdout",
     "output_type": "stream",
     "text": [
      "results/ckpt/run_1000/add_protected_atts_1/Baseline/tumor_detection/luad/best_model.ckpt\n",
      "results/preds/run_1000/add_protected_atts_1/Baseline/tumor_detection/luad/best_results.pkl\n"
     ]
    },
    {
     "name": "stderr",
     "output_type": "stream",
     "text": [
      "Global seed set to 194825\n",
      "/home/gav061/.conda/envs/pdm/lib/python3.11/site-packages/lightning/fabric/plugins/environments/slurm.py:168: PossibleUserWarning: The `srun` command is available on your system but is not used. HINT: If your intention is to run Lightning on SLURM, prepend your python command with `srun` like so: srun python /home/gav061/.conda/envs/pdm/lib/python3.11/site-pac ...\n",
      "  rank_zero_warn(\n",
      "GPU available: False, used: False\n",
      "TPU available: False, using: 0 TPU cores\n",
      "IPU available: False, using: 0 IPUs\n",
      "HPU available: False, using: 0 HPUs\n"
     ]
    },
    {
     "name": "stdout",
     "output_type": "stream",
     "text": [
      "[ --------------- GENERAL --------------- ]\n",
      "File name : tumor_detection_luad.csv\n",
      "Total nb of data : 898\n",
      "Nb of features : 768\n",
      "Split ratio : 0.2\n",
      "Validation set : 1\n",
      "\n",
      "Train set size : 554\n",
      "Validation set size : 177\n",
      "Test set size : 167\n",
      "\n",
      "results/ckpt/run_1000/add_protected_atts_0/Baseline/tumor_detection/luad/best_model.ckpt\n",
      "results/preds/run_1000/add_protected_atts_0/Baseline/tumor_detection/luad/best_results.pkl\n"
     ]
    },
    {
     "name": "stderr",
     "output_type": "stream",
     "text": [
      "Global seed set to 194825\n"
     ]
    },
    {
     "name": "stdout",
     "output_type": "stream",
     "text": [
      "['tumor_detection', 'lusc']\n"
     ]
    },
    {
     "name": "stderr",
     "output_type": "stream",
     "text": [
      "/home/gav061/.conda/envs/pdm/lib/python3.11/site-packages/lightning/fabric/plugins/environments/slurm.py:168: PossibleUserWarning: The `srun` command is available on your system but is not used. HINT: If your intention is to run Lightning on SLURM, prepend your python command with `srun` like so: srun python /home/gav061/.conda/envs/pdm/lib/python3.11/site-pac ...\n",
      "  rank_zero_warn(\n",
      "GPU available: False, used: False\n",
      "TPU available: False, using: 0 TPU cores\n",
      "IPU available: False, using: 0 IPUs\n",
      "HPU available: False, using: 0 HPUs\n"
     ]
    },
    {
     "name": "stdout",
     "output_type": "stream",
     "text": [
      "[ --------------- GENERAL --------------- ]\n",
      "File name : tumor_detection_lusc.csv\n",
      "Total nb of data : 811\n",
      "Nb of features : 771\n",
      "Split ratio : 0.2\n",
      "Validation set : 1\n",
      "\n",
      "Train set size : 493\n",
      "Validation set size : 160\n",
      "Test set size : 158\n",
      "\n",
      "results/ckpt/run_1000/add_protected_atts_1/Baseline/tumor_detection/lusc/best_model.ckpt\n",
      "results/preds/run_1000/add_protected_atts_1/Baseline/tumor_detection/lusc/best_results.pkl\n"
     ]
    },
    {
     "name": "stderr",
     "output_type": "stream",
     "text": [
      "Global seed set to 194825\n",
      "/home/gav061/.conda/envs/pdm/lib/python3.11/site-packages/lightning/fabric/plugins/environments/slurm.py:168: PossibleUserWarning: The `srun` command is available on your system but is not used. HINT: If your intention is to run Lightning on SLURM, prepend your python command with `srun` like so: srun python /home/gav061/.conda/envs/pdm/lib/python3.11/site-pac ...\n",
      "  rank_zero_warn(\n",
      "GPU available: False, used: False\n",
      "TPU available: False, using: 0 TPU cores\n",
      "IPU available: False, using: 0 IPUs\n",
      "HPU available: False, using: 0 HPUs\n"
     ]
    },
    {
     "name": "stdout",
     "output_type": "stream",
     "text": [
      "[ --------------- GENERAL --------------- ]\n",
      "File name : tumor_detection_lusc.csv\n",
      "Total nb of data : 811\n",
      "Nb of features : 768\n",
      "Split ratio : 0.2\n",
      "Validation set : 1\n",
      "\n",
      "Train set size : 493\n",
      "Validation set size : 160\n",
      "Test set size : 158\n",
      "\n",
      "results/ckpt/run_1000/add_protected_atts_0/Baseline/tumor_detection/lusc/best_model.ckpt\n",
      "results/preds/run_1000/add_protected_atts_0/Baseline/tumor_detection/lusc/best_results.pkl\n"
     ]
    },
    {
     "name": "stderr",
     "output_type": "stream",
     "text": [
      "Global seed set to 194825\n"
     ]
    },
    {
     "name": "stdout",
     "output_type": "stream",
     "text": [
      "['tumor_detection', 'read']\n",
      "[ --------------- GENERAL --------------- ]\n",
      "File name : tumor_detection_read.csv\n",
      "Total nb of data : 172\n",
      "Nb of features : 771\n",
      "Split ratio : 0.2\n",
      "Validation set : 1\n",
      "\n",
      "Train set size : 110\n",
      "Validation set size : 37\n",
      "Test set size : 25\n",
      "\n"
     ]
    },
    {
     "name": "stderr",
     "output_type": "stream",
     "text": [
      "/home/gav061/.conda/envs/pdm/lib/python3.11/site-packages/lightning/fabric/plugins/environments/slurm.py:168: PossibleUserWarning: The `srun` command is available on your system but is not used. HINT: If your intention is to run Lightning on SLURM, prepend your python command with `srun` like so: srun python /home/gav061/.conda/envs/pdm/lib/python3.11/site-pac ...\n",
      "  rank_zero_warn(\n",
      "GPU available: False, used: False\n",
      "TPU available: False, using: 0 TPU cores\n",
      "IPU available: False, using: 0 IPUs\n",
      "HPU available: False, using: 0 HPUs\n"
     ]
    },
    {
     "name": "stdout",
     "output_type": "stream",
     "text": [
      "results/ckpt/run_1000/add_protected_atts_1/Baseline/tumor_detection/read/best_model.ckpt\n",
      "results/preds/run_1000/add_protected_atts_1/Baseline/tumor_detection/read/best_results.pkl\n"
     ]
    },
    {
     "name": "stderr",
     "output_type": "stream",
     "text": [
      "Global seed set to 194825\n",
      "/home/gav061/.conda/envs/pdm/lib/python3.11/site-packages/lightning/fabric/plugins/environments/slurm.py:168: PossibleUserWarning: The `srun` command is available on your system but is not used. HINT: If your intention is to run Lightning on SLURM, prepend your python command with `srun` like so: srun python /home/gav061/.conda/envs/pdm/lib/python3.11/site-pac ...\n",
      "  rank_zero_warn(\n",
      "GPU available: False, used: False\n",
      "TPU available: False, using: 0 TPU cores\n",
      "IPU available: False, using: 0 IPUs\n",
      "HPU available: False, using: 0 HPUs\n"
     ]
    },
    {
     "name": "stdout",
     "output_type": "stream",
     "text": [
      "[ --------------- GENERAL --------------- ]\n",
      "File name : tumor_detection_read.csv\n",
      "Total nb of data : 172\n",
      "Nb of features : 768\n",
      "Split ratio : 0.2\n",
      "Validation set : 1\n",
      "\n",
      "Train set size : 110\n",
      "Validation set size : 37\n",
      "Test set size : 25\n",
      "\n",
      "results/ckpt/run_1000/add_protected_atts_0/Baseline/tumor_detection/read/best_model.ckpt\n",
      "results/preds/run_1000/add_protected_atts_0/Baseline/tumor_detection/read/best_results.pkl\n"
     ]
    }
   ],
   "source": [
    "def baseline(job_id : int, \n",
    "             ID : int, add_atts : int):\n",
    "    # args\n",
    "    args = argparse.Namespace()\n",
    "    args.model = 'Baseline' \n",
    "    args.ID = ID\n",
    "    args.add_protected_attributes = add_atts\n",
    "    args.allow_wandb = False\n",
    "    args.job_id = job_id\n",
    "    args = get_args(args = args)\n",
    "    args.fc_latent_size = [20, 20]\n",
    "    \n",
    "    # Load the data, the model, wandb and the trainer\n",
    "    seed_everything(args.seed)\n",
    "    data, model, _, _ = init(**vars(args))\n",
    "    \n",
    "    # Extract the path for the best model ckpts\n",
    "    ckpt_path = args.ckpt_path.split('/')[:-1]\n",
    "    ckpt_path = '/'.join(ckpt_path)+'/'+'best_model.ckpt'\n",
    "    print(ckpt_path)\n",
    "    \n",
    "    # Save the predictions for the best model\n",
    "    save_predictions(args, data, model, \n",
    "                     wandb = None, \n",
    "                     manual_ckpt = ckpt_path)\n",
    "    \n",
    "for job_id in range(len(COMBS_BASELINE))[10:]:\n",
    "    # Track\n",
    "    print(COMBS_BASELINE[job_id])\n",
    "    \n",
    "    # Get the references \n",
    "    ref = baseline(job_id, ID = 1000, add_atts = 1)\n",
    "    ref = baseline(job_id, ID = 1000, add_atts = 0)"
   ]
  },
  {
   "cell_type": "code",
   "execution_count": 8,
   "metadata": {},
   "outputs": [
    {
     "name": "stderr",
     "output_type": "stream",
     "text": [
      "Global seed set to 194825\n"
     ]
    },
    {
     "name": "stdout",
     "output_type": "stream",
     "text": [
      "['cancer_classification', 'kich_kirc_FS', 0.01, 'DF_pos']\n",
      "[ --------------- GENERAL --------------- ]\n",
      "File name : cancer_classification_kich_kirc_FS.csv\n",
      "Total nb of data : 1207\n",
      "Nb of features : 771\n",
      "Split ratio : 0.2\n",
      "Validation set : 1\n",
      "\n",
      "Train set size : 741\n",
      "Validation set size : 240\n",
      "Test set size : 226\n",
      "\n"
     ]
    },
    {
     "name": "stderr",
     "output_type": "stream",
     "text": [
      "/home/gav061/.conda/envs/pdm/lib/python3.11/site-packages/lightning/fabric/plugins/environments/slurm.py:168: PossibleUserWarning: The `srun` command is available on your system but is not used. HINT: If your intention is to run Lightning on SLURM, prepend your python command with `srun` like so: srun python /home/gav061/.conda/envs/pdm/lib/python3.11/site-pac ...\n",
      "  rank_zero_warn(\n",
      "GPU available: False, used: False\n",
      "TPU available: False, using: 0 TPU cores\n",
      "IPU available: False, using: 0 IPUs\n",
      "HPU available: False, using: 0 HPUs\n"
     ]
    },
    {
     "name": "stdout",
     "output_type": "stream",
     "text": [
      "results/ckpt/run_1000/add_protected_atts_1/Foulds/cancer_classification/kich_kirc_FS/lambda_0.01/DF_pos/best_model.ckpt\n",
      "results/preds/run_1000/add_protected_atts_1/Foulds/cancer_classification/kich_kirc_FS/lambda_0.01/DF_pos/best_results.pkl\n"
     ]
    },
    {
     "name": "stderr",
     "output_type": "stream",
     "text": [
      "Global seed set to 194825\n",
      "/home/gav061/.conda/envs/pdm/lib/python3.11/site-packages/lightning/fabric/plugins/environments/slurm.py:168: PossibleUserWarning: The `srun` command is available on your system but is not used. HINT: If your intention is to run Lightning on SLURM, prepend your python command with `srun` like so: srun python /home/gav061/.conda/envs/pdm/lib/python3.11/site-pac ...\n",
      "  rank_zero_warn(\n",
      "GPU available: False, used: False\n",
      "TPU available: False, using: 0 TPU cores\n",
      "IPU available: False, using: 0 IPUs\n",
      "HPU available: False, using: 0 HPUs\n"
     ]
    },
    {
     "name": "stdout",
     "output_type": "stream",
     "text": [
      "[ --------------- GENERAL --------------- ]\n",
      "File name : cancer_classification_kich_kirc_FS.csv\n",
      "Total nb of data : 1207\n",
      "Nb of features : 768\n",
      "Split ratio : 0.2\n",
      "Validation set : 1\n",
      "\n",
      "Train set size : 741\n",
      "Validation set size : 240\n",
      "Test set size : 226\n",
      "\n",
      "results/ckpt/run_1000/add_protected_atts_0/Foulds/cancer_classification/kich_kirc_FS/lambda_0.01/DF_pos/best_model.ckpt\n",
      "results/preds/run_1000/add_protected_atts_0/Foulds/cancer_classification/kich_kirc_FS/lambda_0.01/DF_pos/best_results.pkl\n"
     ]
    },
    {
     "name": "stderr",
     "output_type": "stream",
     "text": [
      "Global seed set to 194825\n",
      "/home/gav061/.conda/envs/pdm/lib/python3.11/site-packages/lightning/fabric/plugins/environments/slurm.py:168: PossibleUserWarning: The `srun` command is available on your system but is not used. HINT: If your intention is to run Lightning on SLURM, prepend your python command with `srun` like so: srun python /home/gav061/.conda/envs/pdm/lib/python3.11/site-pac ...\n",
      "  rank_zero_warn(\n",
      "GPU available: False, used: False\n",
      "TPU available: False, using: 0 TPU cores\n",
      "IPU available: False, using: 0 IPUs\n",
      "HPU available: False, using: 0 HPUs\n"
     ]
    },
    {
     "name": "stdout",
     "output_type": "stream",
     "text": [
      "[ --------------- GENERAL --------------- ]\n",
      "File name : cancer_classification_kich_kirc_FS.csv\n",
      "Total nb of data : 1207\n",
      "Nb of features : 771\n",
      "Split ratio : 0.2\n",
      "Validation set : 1\n",
      "\n",
      "Train set size : 741\n",
      "Validation set size : 240\n",
      "Test set size : 226\n",
      "\n",
      "results/ckpt/run_100/add_protected_atts_1/Foulds/cancer_classification/kich_kirc_FS/lambda_0.01/DF_pos/best_model.ckpt\n",
      "results/preds/run_100/add_protected_atts_1/Foulds/cancer_classification/kich_kirc_FS/lambda_0.01/DF_pos/best_results.pkl\n"
     ]
    },
    {
     "name": "stderr",
     "output_type": "stream",
     "text": [
      "Global seed set to 194825\n",
      "/home/gav061/.conda/envs/pdm/lib/python3.11/site-packages/lightning/fabric/plugins/environments/slurm.py:168: PossibleUserWarning: The `srun` command is available on your system but is not used. HINT: If your intention is to run Lightning on SLURM, prepend your python command with `srun` like so: srun python /home/gav061/.conda/envs/pdm/lib/python3.11/site-pac ...\n",
      "  rank_zero_warn(\n",
      "GPU available: False, used: False\n"
     ]
    },
    {
     "name": "stdout",
     "output_type": "stream",
     "text": [
      "[ --------------- GENERAL --------------- ]\n",
      "File name : cancer_classification_kich_kirc_FS.csv\n",
      "Total nb of data : 1207\n",
      "Nb of features : 768\n",
      "Split ratio : 0.2\n",
      "Validation set : 1\n",
      "\n",
      "Train set size : 741\n",
      "Validation set size : 240\n",
      "Test set size : 226\n",
      "\n"
     ]
    },
    {
     "name": "stderr",
     "output_type": "stream",
     "text": [
      "TPU available: False, using: 0 TPU cores\n",
      "IPU available: False, using: 0 IPUs\n",
      "HPU available: False, using: 0 HPUs\n"
     ]
    },
    {
     "name": "stdout",
     "output_type": "stream",
     "text": [
      "results/ckpt/run_100/add_protected_atts_0/Foulds/cancer_classification/kich_kirc_FS/lambda_0.01/DF_pos/best_model.ckpt\n",
      "results/preds/run_100/add_protected_atts_0/Foulds/cancer_classification/kich_kirc_FS/lambda_0.01/DF_pos/best_results.pkl\n"
     ]
    },
    {
     "name": "stderr",
     "output_type": "stream",
     "text": [
      "Global seed set to 194825\n"
     ]
    },
    {
     "name": "stdout",
     "output_type": "stream",
     "text": [
      "['cancer_classification', 'kich_kirc_PM', 0.01, 'DF_pos']\n"
     ]
    },
    {
     "name": "stderr",
     "output_type": "stream",
     "text": [
      "/home/gav061/.conda/envs/pdm/lib/python3.11/site-packages/lightning/fabric/plugins/environments/slurm.py:168: PossibleUserWarning: The `srun` command is available on your system but is not used. HINT: If your intention is to run Lightning on SLURM, prepend your python command with `srun` like so: srun python /home/gav061/.conda/envs/pdm/lib/python3.11/site-pac ...\n",
      "  rank_zero_warn(\n",
      "GPU available: False, used: False\n",
      "TPU available: False, using: 0 TPU cores\n",
      "IPU available: False, using: 0 IPUs\n",
      "HPU available: False, using: 0 HPUs\n"
     ]
    },
    {
     "name": "stdout",
     "output_type": "stream",
     "text": [
      "[ --------------- GENERAL --------------- ]\n",
      "File name : cancer_classification_kich_kirc_PM.csv\n",
      "Total nb of data : 626\n",
      "Nb of features : 771\n",
      "Split ratio : 0.2\n",
      "Validation set : 1\n",
      "\n",
      "Train set size : 398\n",
      "Validation set size : 116\n",
      "Test set size : 112\n",
      "\n",
      "results/ckpt/run_1000/add_protected_atts_1/Foulds/cancer_classification/kich_kirc_PM/lambda_0.01/DF_pos/best_model.ckpt\n",
      "results/preds/run_1000/add_protected_atts_1/Foulds/cancer_classification/kich_kirc_PM/lambda_0.01/DF_pos/best_results.pkl\n"
     ]
    },
    {
     "name": "stderr",
     "output_type": "stream",
     "text": [
      "Global seed set to 194825\n",
      "/home/gav061/.conda/envs/pdm/lib/python3.11/site-packages/lightning/fabric/plugins/environments/slurm.py:168: PossibleUserWarning: The `srun` command is available on your system but is not used. HINT: If your intention is to run Lightning on SLURM, prepend your python command with `srun` like so: srun python /home/gav061/.conda/envs/pdm/lib/python3.11/site-pac ...\n",
      "  rank_zero_warn(\n",
      "GPU available: False, used: False\n",
      "TPU available: False, using: 0 TPU cores\n",
      "IPU available: False, using: 0 IPUs\n",
      "HPU available: False, using: 0 HPUs\n"
     ]
    },
    {
     "name": "stdout",
     "output_type": "stream",
     "text": [
      "[ --------------- GENERAL --------------- ]\n",
      "File name : cancer_classification_kich_kirc_PM.csv\n",
      "Total nb of data : 626\n",
      "Nb of features : 768\n",
      "Split ratio : 0.2\n",
      "Validation set : 1\n",
      "\n",
      "Train set size : 398\n",
      "Validation set size : 116\n",
      "Test set size : 112\n",
      "\n",
      "results/ckpt/run_1000/add_protected_atts_0/Foulds/cancer_classification/kich_kirc_PM/lambda_0.01/DF_pos/best_model.ckpt\n",
      "results/preds/run_1000/add_protected_atts_0/Foulds/cancer_classification/kich_kirc_PM/lambda_0.01/DF_pos/best_results.pkl\n"
     ]
    },
    {
     "name": "stderr",
     "output_type": "stream",
     "text": [
      "Global seed set to 194825\n",
      "/home/gav061/.conda/envs/pdm/lib/python3.11/site-packages/lightning/fabric/plugins/environments/slurm.py:168: PossibleUserWarning: The `srun` command is available on your system but is not used. HINT: If your intention is to run Lightning on SLURM, prepend your python command with `srun` like so: srun python /home/gav061/.conda/envs/pdm/lib/python3.11/site-pac ...\n",
      "  rank_zero_warn(\n",
      "GPU available: False, used: False\n",
      "TPU available: False, using: 0 TPU cores\n",
      "IPU available: False, using: 0 IPUs\n",
      "HPU available: False, using: 0 HPUs\n"
     ]
    },
    {
     "name": "stdout",
     "output_type": "stream",
     "text": [
      "[ --------------- GENERAL --------------- ]\n",
      "File name : cancer_classification_kich_kirc_PM.csv\n",
      "Total nb of data : 626\n",
      "Nb of features : 771\n",
      "Split ratio : 0.2\n",
      "Validation set : 1\n",
      "\n",
      "Train set size : 398\n",
      "Validation set size : 116\n",
      "Test set size : 112\n",
      "\n",
      "results/ckpt/run_100/add_protected_atts_1/Foulds/cancer_classification/kich_kirc_PM/lambda_0.01/DF_pos/best_model.ckpt\n",
      "results/preds/run_100/add_protected_atts_1/Foulds/cancer_classification/kich_kirc_PM/lambda_0.01/DF_pos/best_results.pkl\n"
     ]
    },
    {
     "name": "stderr",
     "output_type": "stream",
     "text": [
      "Global seed set to 194825\n",
      "/home/gav061/.conda/envs/pdm/lib/python3.11/site-packages/lightning/fabric/plugins/environments/slurm.py:168: PossibleUserWarning: The `srun` command is available on your system but is not used. HINT: If your intention is to run Lightning on SLURM, prepend your python command with `srun` like so: srun python /home/gav061/.conda/envs/pdm/lib/python3.11/site-pac ...\n",
      "  rank_zero_warn(\n",
      "GPU available: False, used: False\n",
      "TPU available: False, using: 0 TPU cores\n",
      "IPU available: False, using: 0 IPUs\n",
      "HPU available: False, using: 0 HPUs\n"
     ]
    },
    {
     "name": "stdout",
     "output_type": "stream",
     "text": [
      "[ --------------- GENERAL --------------- ]\n",
      "File name : cancer_classification_kich_kirc_PM.csv\n",
      "Total nb of data : 626\n",
      "Nb of features : 768\n",
      "Split ratio : 0.2\n",
      "Validation set : 1\n",
      "\n",
      "Train set size : 398\n",
      "Validation set size : 116\n",
      "Test set size : 112\n",
      "\n",
      "results/ckpt/run_100/add_protected_atts_0/Foulds/cancer_classification/kich_kirc_PM/lambda_0.01/DF_pos/best_model.ckpt\n",
      "results/preds/run_100/add_protected_atts_0/Foulds/cancer_classification/kich_kirc_PM/lambda_0.01/DF_pos/best_results.pkl\n"
     ]
    },
    {
     "name": "stderr",
     "output_type": "stream",
     "text": [
      "Global seed set to 194825\n"
     ]
    },
    {
     "name": "stdout",
     "output_type": "stream",
     "text": [
      "['cancer_classification', 'kich_kirp_FS', 0.01, 'DF_pos']\n"
     ]
    },
    {
     "name": "stderr",
     "output_type": "stream",
     "text": [
      "/home/gav061/.conda/envs/pdm/lib/python3.11/site-packages/lightning/fabric/plugins/environments/slurm.py:168: PossibleUserWarning: The `srun` command is available on your system but is not used. HINT: If your intention is to run Lightning on SLURM, prepend your python command with `srun` like so: srun python /home/gav061/.conda/envs/pdm/lib/python3.11/site-pac ...\n",
      "  rank_zero_warn(\n",
      "GPU available: False, used: False\n",
      "TPU available: False, using: 0 TPU cores\n",
      "IPU available: False, using: 0 IPUs\n",
      "HPU available: False, using: 0 HPUs\n"
     ]
    },
    {
     "name": "stdout",
     "output_type": "stream",
     "text": [
      "[ --------------- GENERAL --------------- ]\n",
      "File name : cancer_classification_kich_kirp_FS.csv\n",
      "Total nb of data : 499\n",
      "Nb of features : 771\n",
      "Split ratio : 0.2\n",
      "Validation set : 1\n",
      "\n",
      "Train set size : 310\n",
      "Validation set size : 99\n",
      "Test set size : 90\n",
      "\n",
      "results/ckpt/run_1000/add_protected_atts_1/Foulds/cancer_classification/kich_kirp_FS/lambda_0.01/DF_pos/best_model.ckpt\n",
      "results/preds/run_1000/add_protected_atts_1/Foulds/cancer_classification/kich_kirp_FS/lambda_0.01/DF_pos/best_results.pkl\n"
     ]
    },
    {
     "name": "stderr",
     "output_type": "stream",
     "text": [
      "Global seed set to 194825\n",
      "/home/gav061/.conda/envs/pdm/lib/python3.11/site-packages/lightning/fabric/plugins/environments/slurm.py:168: PossibleUserWarning: The `srun` command is available on your system but is not used. HINT: If your intention is to run Lightning on SLURM, prepend your python command with `srun` like so: srun python /home/gav061/.conda/envs/pdm/lib/python3.11/site-pac ...\n",
      "  rank_zero_warn(\n",
      "GPU available: False, used: False\n",
      "TPU available: False, using: 0 TPU cores\n",
      "IPU available: False, using: 0 IPUs\n",
      "HPU available: False, using: 0 HPUs\n"
     ]
    },
    {
     "name": "stdout",
     "output_type": "stream",
     "text": [
      "[ --------------- GENERAL --------------- ]\n",
      "File name : cancer_classification_kich_kirp_FS.csv\n",
      "Total nb of data : 499\n",
      "Nb of features : 768\n",
      "Split ratio : 0.2\n",
      "Validation set : 1\n",
      "\n",
      "Train set size : 310\n",
      "Validation set size : 99\n",
      "Test set size : 90\n",
      "\n",
      "results/ckpt/run_1000/add_protected_atts_0/Foulds/cancer_classification/kich_kirp_FS/lambda_0.01/DF_pos/best_model.ckpt\n",
      "results/preds/run_1000/add_protected_atts_0/Foulds/cancer_classification/kich_kirp_FS/lambda_0.01/DF_pos/best_results.pkl\n"
     ]
    },
    {
     "name": "stderr",
     "output_type": "stream",
     "text": [
      "Global seed set to 194825\n",
      "/home/gav061/.conda/envs/pdm/lib/python3.11/site-packages/lightning/fabric/plugins/environments/slurm.py:168: PossibleUserWarning: The `srun` command is available on your system but is not used. HINT: If your intention is to run Lightning on SLURM, prepend your python command with `srun` like so: srun python /home/gav061/.conda/envs/pdm/lib/python3.11/site-pac ...\n",
      "  rank_zero_warn(\n",
      "GPU available: False, used: False\n",
      "TPU available: False, using: 0 TPU cores\n",
      "IPU available: False, using: 0 IPUs\n",
      "HPU available: False, using: 0 HPUs\n"
     ]
    },
    {
     "name": "stdout",
     "output_type": "stream",
     "text": [
      "[ --------------- GENERAL --------------- ]\n",
      "File name : cancer_classification_kich_kirp_FS.csv\n",
      "Total nb of data : 499\n",
      "Nb of features : 771\n",
      "Split ratio : 0.2\n",
      "Validation set : 1\n",
      "\n",
      "Train set size : 310\n",
      "Validation set size : 99\n",
      "Test set size : 90\n",
      "\n",
      "results/ckpt/run_100/add_protected_atts_1/Foulds/cancer_classification/kich_kirp_FS/lambda_0.01/DF_pos/best_model.ckpt\n",
      "results/preds/run_100/add_protected_atts_1/Foulds/cancer_classification/kich_kirp_FS/lambda_0.01/DF_pos/best_results.pkl\n"
     ]
    },
    {
     "name": "stderr",
     "output_type": "stream",
     "text": [
      "Global seed set to 194825\n",
      "/home/gav061/.conda/envs/pdm/lib/python3.11/site-packages/lightning/fabric/plugins/environments/slurm.py:168: PossibleUserWarning: The `srun` command is available on your system but is not used. HINT: If your intention is to run Lightning on SLURM, prepend your python command with `srun` like so: srun python /home/gav061/.conda/envs/pdm/lib/python3.11/site-pac ...\n",
      "  rank_zero_warn(\n",
      "GPU available: False, used: False\n",
      "TPU available: False, using: 0 TPU cores\n",
      "IPU available: False, using: 0 IPUs\n",
      "HPU available: False, using: 0 HPUs\n"
     ]
    },
    {
     "name": "stdout",
     "output_type": "stream",
     "text": [
      "[ --------------- GENERAL --------------- ]\n",
      "File name : cancer_classification_kich_kirp_FS.csv\n",
      "Total nb of data : 499\n",
      "Nb of features : 768\n",
      "Split ratio : 0.2\n",
      "Validation set : 1\n",
      "\n",
      "Train set size : 310\n",
      "Validation set size : 99\n",
      "Test set size : 90\n",
      "\n",
      "results/ckpt/run_100/add_protected_atts_0/Foulds/cancer_classification/kich_kirp_FS/lambda_0.01/DF_pos/best_model.ckpt\n",
      "results/preds/run_100/add_protected_atts_0/Foulds/cancer_classification/kich_kirp_FS/lambda_0.01/DF_pos/best_results.pkl\n"
     ]
    },
    {
     "name": "stderr",
     "output_type": "stream",
     "text": [
      "Global seed set to 194825\n"
     ]
    },
    {
     "name": "stdout",
     "output_type": "stream",
     "text": [
      "['cancer_classification', 'kich_kirp_PM', 0.01, 'DF_pos']\n"
     ]
    },
    {
     "name": "stderr",
     "output_type": "stream",
     "text": [
      "/home/gav061/.conda/envs/pdm/lib/python3.11/site-packages/lightning/fabric/plugins/environments/slurm.py:168: PossibleUserWarning: The `srun` command is available on your system but is not used. HINT: If your intention is to run Lightning on SLURM, prepend your python command with `srun` like so: srun python /home/gav061/.conda/envs/pdm/lib/python3.11/site-pac ...\n",
      "  rank_zero_warn(\n",
      "GPU available: False, used: False\n",
      "TPU available: False, using: 0 TPU cores\n",
      "IPU available: False, using: 0 IPUs\n",
      "HPU available: False, using: 0 HPUs\n"
     ]
    },
    {
     "name": "stdout",
     "output_type": "stream",
     "text": [
      "[ --------------- GENERAL --------------- ]\n",
      "File name : cancer_classification_kich_kirp_PM.csv\n",
      "Total nb of data : 389\n",
      "Nb of features : 771\n",
      "Split ratio : 0.2\n",
      "Validation set : 1\n",
      "\n",
      "Train set size : 250\n",
      "Validation set size : 74\n",
      "Test set size : 65\n",
      "\n",
      "results/ckpt/run_1000/add_protected_atts_1/Foulds/cancer_classification/kich_kirp_PM/lambda_0.01/DF_pos/best_model.ckpt\n",
      "results/preds/run_1000/add_protected_atts_1/Foulds/cancer_classification/kich_kirp_PM/lambda_0.01/DF_pos/best_results.pkl\n"
     ]
    },
    {
     "name": "stderr",
     "output_type": "stream",
     "text": [
      "Global seed set to 194825\n",
      "/home/gav061/.conda/envs/pdm/lib/python3.11/site-packages/lightning/fabric/plugins/environments/slurm.py:168: PossibleUserWarning: The `srun` command is available on your system but is not used. HINT: If your intention is to run Lightning on SLURM, prepend your python command with `srun` like so: srun python /home/gav061/.conda/envs/pdm/lib/python3.11/site-pac ...\n",
      "  rank_zero_warn(\n",
      "GPU available: False, used: False\n",
      "TPU available: False, using: 0 TPU cores\n",
      "IPU available: False, using: 0 IPUs\n",
      "HPU available: False, using: 0 HPUs\n"
     ]
    },
    {
     "name": "stdout",
     "output_type": "stream",
     "text": [
      "[ --------------- GENERAL --------------- ]\n",
      "File name : cancer_classification_kich_kirp_PM.csv\n",
      "Total nb of data : 389\n",
      "Nb of features : 768\n",
      "Split ratio : 0.2\n",
      "Validation set : 1\n",
      "\n",
      "Train set size : 250\n",
      "Validation set size : 74\n",
      "Test set size : 65\n",
      "\n",
      "results/ckpt/run_1000/add_protected_atts_0/Foulds/cancer_classification/kich_kirp_PM/lambda_0.01/DF_pos/best_model.ckpt\n",
      "results/preds/run_1000/add_protected_atts_0/Foulds/cancer_classification/kich_kirp_PM/lambda_0.01/DF_pos/best_results.pkl\n"
     ]
    },
    {
     "name": "stderr",
     "output_type": "stream",
     "text": [
      "Global seed set to 194825\n",
      "/home/gav061/.conda/envs/pdm/lib/python3.11/site-packages/lightning/fabric/plugins/environments/slurm.py:168: PossibleUserWarning: The `srun` command is available on your system but is not used. HINT: If your intention is to run Lightning on SLURM, prepend your python command with `srun` like so: srun python /home/gav061/.conda/envs/pdm/lib/python3.11/site-pac ...\n",
      "  rank_zero_warn(\n",
      "GPU available: False, used: False\n",
      "TPU available: False, using: 0 TPU cores\n",
      "IPU available: False, using: 0 IPUs\n",
      "HPU available: False, using: 0 HPUs\n"
     ]
    },
    {
     "name": "stdout",
     "output_type": "stream",
     "text": [
      "[ --------------- GENERAL --------------- ]\n",
      "File name : cancer_classification_kich_kirp_PM.csv\n",
      "Total nb of data : 389\n",
      "Nb of features : 771\n",
      "Split ratio : 0.2\n",
      "Validation set : 1\n",
      "\n",
      "Train set size : 250\n",
      "Validation set size : 74\n",
      "Test set size : 65\n",
      "\n",
      "results/ckpt/run_100/add_protected_atts_1/Foulds/cancer_classification/kich_kirp_PM/lambda_0.01/DF_pos/best_model.ckpt\n",
      "results/preds/run_100/add_protected_atts_1/Foulds/cancer_classification/kich_kirp_PM/lambda_0.01/DF_pos/best_results.pkl\n"
     ]
    },
    {
     "name": "stderr",
     "output_type": "stream",
     "text": [
      "Global seed set to 194825\n",
      "/home/gav061/.conda/envs/pdm/lib/python3.11/site-packages/lightning/fabric/plugins/environments/slurm.py:168: PossibleUserWarning: The `srun` command is available on your system but is not used. HINT: If your intention is to run Lightning on SLURM, prepend your python command with `srun` like so: srun python /home/gav061/.conda/envs/pdm/lib/python3.11/site-pac ...\n",
      "  rank_zero_warn(\n",
      "GPU available: False, used: False\n",
      "TPU available: False, using: 0 TPU cores\n",
      "IPU available: False, using: 0 IPUs\n",
      "HPU available: False, using: 0 HPUs\n"
     ]
    },
    {
     "name": "stdout",
     "output_type": "stream",
     "text": [
      "[ --------------- GENERAL --------------- ]\n",
      "File name : cancer_classification_kich_kirp_PM.csv\n",
      "Total nb of data : 389\n",
      "Nb of features : 768\n",
      "Split ratio : 0.2\n",
      "Validation set : 1\n",
      "\n",
      "Train set size : 250\n",
      "Validation set size : 74\n",
      "Test set size : 65\n",
      "\n",
      "results/ckpt/run_100/add_protected_atts_0/Foulds/cancer_classification/kich_kirp_PM/lambda_0.01/DF_pos/best_model.ckpt\n",
      "results/preds/run_100/add_protected_atts_0/Foulds/cancer_classification/kich_kirp_PM/lambda_0.01/DF_pos/best_results.pkl\n"
     ]
    },
    {
     "name": "stderr",
     "output_type": "stream",
     "text": [
      "Global seed set to 194825\n"
     ]
    },
    {
     "name": "stdout",
     "output_type": "stream",
     "text": [
      "['cancer_classification', 'kirc_kirp_FS', 0.01, 'DF_pos']\n"
     ]
    },
    {
     "name": "stderr",
     "output_type": "stream",
     "text": [
      "/home/gav061/.conda/envs/pdm/lib/python3.11/site-packages/lightning/fabric/plugins/environments/slurm.py:168: PossibleUserWarning: The `srun` command is available on your system but is not used. HINT: If your intention is to run Lightning on SLURM, prepend your python command with `srun` like so: srun python /home/gav061/.conda/envs/pdm/lib/python3.11/site-pac ...\n",
      "  rank_zero_warn(\n",
      "GPU available: False, used: False\n",
      "TPU available: False, using: 0 TPU cores\n",
      "IPU available: False, using: 0 IPUs\n",
      "HPU available: False, using: 0 HPUs\n"
     ]
    },
    {
     "name": "stdout",
     "output_type": "stream",
     "text": [
      "[ --------------- GENERAL --------------- ]\n",
      "File name : cancer_classification_kirc_kirp_FS.csv\n",
      "Total nb of data : 1420\n",
      "Nb of features : 771\n",
      "Split ratio : 0.2\n",
      "Validation set : 1\n",
      "\n",
      "Train set size : 873\n",
      "Validation set size : 279\n",
      "Test set size : 268\n",
      "\n",
      "results/ckpt/run_1000/add_protected_atts_1/Foulds/cancer_classification/kirc_kirp_FS/lambda_0.01/DF_pos/best_model.ckpt\n",
      "results/preds/run_1000/add_protected_atts_1/Foulds/cancer_classification/kirc_kirp_FS/lambda_0.01/DF_pos/best_results.pkl\n"
     ]
    },
    {
     "name": "stderr",
     "output_type": "stream",
     "text": [
      "Global seed set to 194825\n",
      "/home/gav061/.conda/envs/pdm/lib/python3.11/site-packages/lightning/fabric/plugins/environments/slurm.py:168: PossibleUserWarning: The `srun` command is available on your system but is not used. HINT: If your intention is to run Lightning on SLURM, prepend your python command with `srun` like so: srun python /home/gav061/.conda/envs/pdm/lib/python3.11/site-pac ...\n",
      "  rank_zero_warn(\n",
      "GPU available: False, used: False\n",
      "TPU available: False, using: 0 TPU cores\n",
      "IPU available: False, using: 0 IPUs\n",
      "HPU available: False, using: 0 HPUs\n"
     ]
    },
    {
     "name": "stdout",
     "output_type": "stream",
     "text": [
      "[ --------------- GENERAL --------------- ]\n",
      "File name : cancer_classification_kirc_kirp_FS.csv\n",
      "Total nb of data : 1420\n",
      "Nb of features : 768\n",
      "Split ratio : 0.2\n",
      "Validation set : 1\n",
      "\n",
      "Train set size : 873\n",
      "Validation set size : 279\n",
      "Test set size : 268\n",
      "\n",
      "results/ckpt/run_1000/add_protected_atts_0/Foulds/cancer_classification/kirc_kirp_FS/lambda_0.01/DF_pos/best_model.ckpt\n",
      "results/preds/run_1000/add_protected_atts_0/Foulds/cancer_classification/kirc_kirp_FS/lambda_0.01/DF_pos/best_results.pkl\n"
     ]
    },
    {
     "name": "stderr",
     "output_type": "stream",
     "text": [
      "Global seed set to 194825\n",
      "/home/gav061/.conda/envs/pdm/lib/python3.11/site-packages/lightning/fabric/plugins/environments/slurm.py:168: PossibleUserWarning: The `srun` command is available on your system but is not used. HINT: If your intention is to run Lightning on SLURM, prepend your python command with `srun` like so: srun python /home/gav061/.conda/envs/pdm/lib/python3.11/site-pac ...\n",
      "  rank_zero_warn(\n",
      "GPU available: False, used: False\n",
      "TPU available: False, using: 0 TPU cores\n",
      "IPU available: False, using: 0 IPUs\n",
      "HPU available: False, using: 0 HPUs\n"
     ]
    },
    {
     "name": "stdout",
     "output_type": "stream",
     "text": [
      "[ --------------- GENERAL --------------- ]\n",
      "File name : cancer_classification_kirc_kirp_FS.csv\n",
      "Total nb of data : 1420\n",
      "Nb of features : 771\n",
      "Split ratio : 0.2\n",
      "Validation set : 1\n",
      "\n",
      "Train set size : 873\n",
      "Validation set size : 279\n",
      "Test set size : 268\n",
      "\n",
      "results/ckpt/run_100/add_protected_atts_1/Foulds/cancer_classification/kirc_kirp_FS/lambda_0.01/DF_pos/best_model.ckpt\n",
      "results/preds/run_100/add_protected_atts_1/Foulds/cancer_classification/kirc_kirp_FS/lambda_0.01/DF_pos/best_results.pkl\n"
     ]
    },
    {
     "name": "stderr",
     "output_type": "stream",
     "text": [
      "Global seed set to 194825\n",
      "/home/gav061/.conda/envs/pdm/lib/python3.11/site-packages/lightning/fabric/plugins/environments/slurm.py:168: PossibleUserWarning: The `srun` command is available on your system but is not used. HINT: If your intention is to run Lightning on SLURM, prepend your python command with `srun` like so: srun python /home/gav061/.conda/envs/pdm/lib/python3.11/site-pac ...\n",
      "  rank_zero_warn(\n",
      "GPU available: False, used: False\n",
      "TPU available: False, using: 0 TPU cores\n",
      "IPU available: False, using: 0 IPUs\n",
      "HPU available: False, using: 0 HPUs\n"
     ]
    },
    {
     "name": "stdout",
     "output_type": "stream",
     "text": [
      "[ --------------- GENERAL --------------- ]\n",
      "File name : cancer_classification_kirc_kirp_FS.csv\n",
      "Total nb of data : 1420\n",
      "Nb of features : 768\n",
      "Split ratio : 0.2\n",
      "Validation set : 1\n",
      "\n",
      "Train set size : 873\n",
      "Validation set size : 279\n",
      "Test set size : 268\n",
      "\n",
      "results/ckpt/run_100/add_protected_atts_0/Foulds/cancer_classification/kirc_kirp_FS/lambda_0.01/DF_pos/best_model.ckpt\n",
      "results/preds/run_100/add_protected_atts_0/Foulds/cancer_classification/kirc_kirp_FS/lambda_0.01/DF_pos/best_results.pkl\n"
     ]
    },
    {
     "name": "stderr",
     "output_type": "stream",
     "text": [
      "Global seed set to 194825\n"
     ]
    },
    {
     "name": "stdout",
     "output_type": "stream",
     "text": [
      "['cancer_classification', 'kirc_kirp_PM', 0.01, 'DF_pos']\n"
     ]
    },
    {
     "name": "stderr",
     "output_type": "stream",
     "text": [
      "/home/gav061/.conda/envs/pdm/lib/python3.11/site-packages/lightning/fabric/plugins/environments/slurm.py:168: PossibleUserWarning: The `srun` command is available on your system but is not used. HINT: If your intention is to run Lightning on SLURM, prepend your python command with `srun` like so: srun python /home/gav061/.conda/envs/pdm/lib/python3.11/site-pac ...\n",
      "  rank_zero_warn(\n",
      "GPU available: False, used: False\n",
      "TPU available: False, using: 0 TPU cores\n",
      "IPU available: False, using: 0 IPUs\n",
      "HPU available: False, using: 0 HPUs\n"
     ]
    },
    {
     "name": "stdout",
     "output_type": "stream",
     "text": [
      "[ --------------- GENERAL --------------- ]\n",
      "File name : cancer_classification_kirc_kirp_PM.csv\n",
      "Total nb of data : 801\n",
      "Nb of features : 771\n",
      "Split ratio : 0.2\n",
      "Validation set : 1\n",
      "\n",
      "Train set size : 506\n",
      "Validation set size : 150\n",
      "Test set size : 145\n",
      "\n",
      "results/ckpt/run_1000/add_protected_atts_1/Foulds/cancer_classification/kirc_kirp_PM/lambda_0.01/DF_pos/best_model.ckpt\n",
      "results/preds/run_1000/add_protected_atts_1/Foulds/cancer_classification/kirc_kirp_PM/lambda_0.01/DF_pos/best_results.pkl\n"
     ]
    },
    {
     "name": "stderr",
     "output_type": "stream",
     "text": [
      "Global seed set to 194825\n",
      "/home/gav061/.conda/envs/pdm/lib/python3.11/site-packages/lightning/fabric/plugins/environments/slurm.py:168: PossibleUserWarning: The `srun` command is available on your system but is not used. HINT: If your intention is to run Lightning on SLURM, prepend your python command with `srun` like so: srun python /home/gav061/.conda/envs/pdm/lib/python3.11/site-pac ...\n",
      "  rank_zero_warn(\n",
      "GPU available: False, used: False\n",
      "TPU available: False, using: 0 TPU cores\n",
      "IPU available: False, using: 0 IPUs\n",
      "HPU available: False, using: 0 HPUs\n"
     ]
    },
    {
     "name": "stdout",
     "output_type": "stream",
     "text": [
      "[ --------------- GENERAL --------------- ]\n",
      "File name : cancer_classification_kirc_kirp_PM.csv\n",
      "Total nb of data : 801\n",
      "Nb of features : 768\n",
      "Split ratio : 0.2\n",
      "Validation set : 1\n",
      "\n",
      "Train set size : 506\n",
      "Validation set size : 150\n",
      "Test set size : 145\n",
      "\n",
      "results/ckpt/run_1000/add_protected_atts_0/Foulds/cancer_classification/kirc_kirp_PM/lambda_0.01/DF_pos/best_model.ckpt\n",
      "results/preds/run_1000/add_protected_atts_0/Foulds/cancer_classification/kirc_kirp_PM/lambda_0.01/DF_pos/best_results.pkl\n"
     ]
    },
    {
     "name": "stderr",
     "output_type": "stream",
     "text": [
      "Global seed set to 194825\n",
      "/home/gav061/.conda/envs/pdm/lib/python3.11/site-packages/lightning/fabric/plugins/environments/slurm.py:168: PossibleUserWarning: The `srun` command is available on your system but is not used. HINT: If your intention is to run Lightning on SLURM, prepend your python command with `srun` like so: srun python /home/gav061/.conda/envs/pdm/lib/python3.11/site-pac ...\n",
      "  rank_zero_warn(\n",
      "GPU available: False, used: False\n",
      "TPU available: False, using: 0 TPU cores\n",
      "IPU available: False, using: 0 IPUs\n",
      "HPU available: False, using: 0 HPUs\n"
     ]
    },
    {
     "name": "stdout",
     "output_type": "stream",
     "text": [
      "[ --------------- GENERAL --------------- ]\n",
      "File name : cancer_classification_kirc_kirp_PM.csv\n",
      "Total nb of data : 801\n",
      "Nb of features : 771\n",
      "Split ratio : 0.2\n",
      "Validation set : 1\n",
      "\n",
      "Train set size : 506\n",
      "Validation set size : 150\n",
      "Test set size : 145\n",
      "\n",
      "results/ckpt/run_100/add_protected_atts_1/Foulds/cancer_classification/kirc_kirp_PM/lambda_0.01/DF_pos/best_model.ckpt\n",
      "results/preds/run_100/add_protected_atts_1/Foulds/cancer_classification/kirc_kirp_PM/lambda_0.01/DF_pos/best_results.pkl\n"
     ]
    },
    {
     "name": "stderr",
     "output_type": "stream",
     "text": [
      "Global seed set to 194825\n",
      "/home/gav061/.conda/envs/pdm/lib/python3.11/site-packages/lightning/fabric/plugins/environments/slurm.py:168: PossibleUserWarning: The `srun` command is available on your system but is not used. HINT: If your intention is to run Lightning on SLURM, prepend your python command with `srun` like so: srun python /home/gav061/.conda/envs/pdm/lib/python3.11/site-pac ...\n",
      "  rank_zero_warn(\n",
      "GPU available: False, used: False\n",
      "TPU available: False, using: 0 TPU cores\n",
      "IPU available: False, using: 0 IPUs\n",
      "HPU available: False, using: 0 HPUs\n"
     ]
    },
    {
     "name": "stdout",
     "output_type": "stream",
     "text": [
      "[ --------------- GENERAL --------------- ]\n",
      "File name : cancer_classification_kirc_kirp_PM.csv\n",
      "Total nb of data : 801\n",
      "Nb of features : 768\n",
      "Split ratio : 0.2\n",
      "Validation set : 1\n",
      "\n",
      "Train set size : 506\n",
      "Validation set size : 150\n",
      "Test set size : 145\n",
      "\n",
      "results/ckpt/run_100/add_protected_atts_0/Foulds/cancer_classification/kirc_kirp_PM/lambda_0.01/DF_pos/best_model.ckpt\n",
      "results/preds/run_100/add_protected_atts_0/Foulds/cancer_classification/kirc_kirp_PM/lambda_0.01/DF_pos/best_results.pkl\n"
     ]
    },
    {
     "name": "stderr",
     "output_type": "stream",
     "text": [
      "Global seed set to 194825\n"
     ]
    },
    {
     "name": "stdout",
     "output_type": "stream",
     "text": [
      "['cancer_classification', 'luad_lusc_FS', 0.01, 'DF_pos']\n"
     ]
    },
    {
     "name": "stderr",
     "output_type": "stream",
     "text": [
      "/home/gav061/.conda/envs/pdm/lib/python3.11/site-packages/lightning/fabric/plugins/environments/slurm.py:168: PossibleUserWarning: The `srun` command is available on your system but is not used. HINT: If your intention is to run Lightning on SLURM, prepend your python command with `srun` like so: srun python /home/gav061/.conda/envs/pdm/lib/python3.11/site-pac ...\n",
      "  rank_zero_warn(\n",
      "GPU available: False, used: False\n",
      "TPU available: False, using: 0 TPU cores\n",
      "IPU available: False, using: 0 IPUs\n",
      "HPU available: False, using: 0 HPUs\n"
     ]
    },
    {
     "name": "stdout",
     "output_type": "stream",
     "text": [
      "[ --------------- GENERAL --------------- ]\n",
      "File name : cancer_classification_luad_lusc_FS.csv\n",
      "Total nb of data : 1240\n",
      "Nb of features : 771\n",
      "Split ratio : 0.2\n",
      "Validation set : 1\n",
      "\n",
      "Train set size : 756\n",
      "Validation set size : 246\n",
      "Test set size : 238\n",
      "\n",
      "results/ckpt/run_1000/add_protected_atts_1/Foulds/cancer_classification/luad_lusc_FS/lambda_0.01/DF_pos/best_model.ckpt\n",
      "results/preds/run_1000/add_protected_atts_1/Foulds/cancer_classification/luad_lusc_FS/lambda_0.01/DF_pos/best_results.pkl\n"
     ]
    },
    {
     "name": "stderr",
     "output_type": "stream",
     "text": [
      "Global seed set to 194825\n",
      "/home/gav061/.conda/envs/pdm/lib/python3.11/site-packages/lightning/fabric/plugins/environments/slurm.py:168: PossibleUserWarning: The `srun` command is available on your system but is not used. HINT: If your intention is to run Lightning on SLURM, prepend your python command with `srun` like so: srun python /home/gav061/.conda/envs/pdm/lib/python3.11/site-pac ...\n",
      "  rank_zero_warn(\n",
      "GPU available: False, used: False\n",
      "TPU available: False, using: 0 TPU cores\n",
      "IPU available: False, using: 0 IPUs\n",
      "HPU available: False, using: 0 HPUs\n"
     ]
    },
    {
     "name": "stdout",
     "output_type": "stream",
     "text": [
      "[ --------------- GENERAL --------------- ]\n",
      "File name : cancer_classification_luad_lusc_FS.csv\n",
      "Total nb of data : 1240\n",
      "Nb of features : 768\n",
      "Split ratio : 0.2\n",
      "Validation set : 1\n",
      "\n",
      "Train set size : 756\n",
      "Validation set size : 246\n",
      "Test set size : 238\n",
      "\n",
      "results/ckpt/run_1000/add_protected_atts_0/Foulds/cancer_classification/luad_lusc_FS/lambda_0.01/DF_pos/best_model.ckpt\n",
      "results/preds/run_1000/add_protected_atts_0/Foulds/cancer_classification/luad_lusc_FS/lambda_0.01/DF_pos/best_results.pkl\n"
     ]
    },
    {
     "name": "stderr",
     "output_type": "stream",
     "text": [
      "Global seed set to 194825\n",
      "/home/gav061/.conda/envs/pdm/lib/python3.11/site-packages/lightning/fabric/plugins/environments/slurm.py:168: PossibleUserWarning: The `srun` command is available on your system but is not used. HINT: If your intention is to run Lightning on SLURM, prepend your python command with `srun` like so: srun python /home/gav061/.conda/envs/pdm/lib/python3.11/site-pac ...\n",
      "  rank_zero_warn(\n",
      "GPU available: False, used: False\n",
      "TPU available: False, using: 0 TPU cores\n",
      "IPU available: False, using: 0 IPUs\n",
      "HPU available: False, using: 0 HPUs\n"
     ]
    },
    {
     "name": "stdout",
     "output_type": "stream",
     "text": [
      "[ --------------- GENERAL --------------- ]\n",
      "File name : cancer_classification_luad_lusc_FS.csv\n",
      "Total nb of data : 1240\n",
      "Nb of features : 771\n",
      "Split ratio : 0.2\n",
      "Validation set : 1\n",
      "\n",
      "Train set size : 756\n",
      "Validation set size : 246\n",
      "Test set size : 238\n",
      "\n",
      "results/ckpt/run_100/add_protected_atts_1/Foulds/cancer_classification/luad_lusc_FS/lambda_0.01/DF_pos/best_model.ckpt\n",
      "results/preds/run_100/add_protected_atts_1/Foulds/cancer_classification/luad_lusc_FS/lambda_0.01/DF_pos/best_results.pkl\n"
     ]
    },
    {
     "name": "stderr",
     "output_type": "stream",
     "text": [
      "Global seed set to 194825\n",
      "/home/gav061/.conda/envs/pdm/lib/python3.11/site-packages/lightning/fabric/plugins/environments/slurm.py:168: PossibleUserWarning: The `srun` command is available on your system but is not used. HINT: If your intention is to run Lightning on SLURM, prepend your python command with `srun` like so: srun python /home/gav061/.conda/envs/pdm/lib/python3.11/site-pac ...\n",
      "  rank_zero_warn(\n",
      "GPU available: False, used: False\n",
      "TPU available: False, using: 0 TPU cores\n",
      "IPU available: False, using: 0 IPUs\n",
      "HPU available: False, using: 0 HPUs\n"
     ]
    },
    {
     "name": "stdout",
     "output_type": "stream",
     "text": [
      "[ --------------- GENERAL --------------- ]\n",
      "File name : cancer_classification_luad_lusc_FS.csv\n",
      "Total nb of data : 1240\n",
      "Nb of features : 768\n",
      "Split ratio : 0.2\n",
      "Validation set : 1\n",
      "\n",
      "Train set size : 756\n",
      "Validation set size : 246\n",
      "Test set size : 238\n",
      "\n",
      "results/ckpt/run_100/add_protected_atts_0/Foulds/cancer_classification/luad_lusc_FS/lambda_0.01/DF_pos/best_model.ckpt\n",
      "results/preds/run_100/add_protected_atts_0/Foulds/cancer_classification/luad_lusc_FS/lambda_0.01/DF_pos/best_results.pkl\n"
     ]
    },
    {
     "name": "stderr",
     "output_type": "stream",
     "text": [
      "Global seed set to 194825\n"
     ]
    },
    {
     "name": "stdout",
     "output_type": "stream",
     "text": [
      "['cancer_classification', 'luad_lusc_PM', 0.01, 'DF_pos']\n"
     ]
    },
    {
     "name": "stderr",
     "output_type": "stream",
     "text": [
      "/home/gav061/.conda/envs/pdm/lib/python3.11/site-packages/lightning/fabric/plugins/environments/slurm.py:168: PossibleUserWarning: The `srun` command is available on your system but is not used. HINT: If your intention is to run Lightning on SLURM, prepend your python command with `srun` like so: srun python /home/gav061/.conda/envs/pdm/lib/python3.11/site-pac ...\n",
      "  rank_zero_warn(\n",
      "GPU available: False, used: False\n",
      "TPU available: False, using: 0 TPU cores\n",
      "IPU available: False, using: 0 IPUs\n",
      "HPU available: False, using: 0 HPUs\n"
     ]
    },
    {
     "name": "stdout",
     "output_type": "stream",
     "text": [
      "[ --------------- GENERAL --------------- ]\n",
      "File name : cancer_classification_luad_lusc_PM.csv\n",
      "Total nb of data : 891\n",
      "Nb of features : 771\n",
      "Split ratio : 0.2\n",
      "Validation set : 1\n",
      "\n",
      "Train set size : 560\n",
      "Validation set size : 168\n",
      "Test set size : 163\n",
      "\n",
      "results/ckpt/run_1000/add_protected_atts_1/Foulds/cancer_classification/luad_lusc_PM/lambda_0.01/DF_pos/best_model.ckpt\n",
      "results/preds/run_1000/add_protected_atts_1/Foulds/cancer_classification/luad_lusc_PM/lambda_0.01/DF_pos/best_results.pkl\n"
     ]
    },
    {
     "name": "stderr",
     "output_type": "stream",
     "text": [
      "Global seed set to 194825\n",
      "/home/gav061/.conda/envs/pdm/lib/python3.11/site-packages/lightning/fabric/plugins/environments/slurm.py:168: PossibleUserWarning: The `srun` command is available on your system but is not used. HINT: If your intention is to run Lightning on SLURM, prepend your python command with `srun` like so: srun python /home/gav061/.conda/envs/pdm/lib/python3.11/site-pac ...\n",
      "  rank_zero_warn(\n",
      "GPU available: False, used: False\n",
      "TPU available: False, using: 0 TPU cores\n",
      "IPU available: False, using: 0 IPUs\n",
      "HPU available: False, using: 0 HPUs\n"
     ]
    },
    {
     "name": "stdout",
     "output_type": "stream",
     "text": [
      "[ --------------- GENERAL --------------- ]\n",
      "File name : cancer_classification_luad_lusc_PM.csv\n",
      "Total nb of data : 891\n",
      "Nb of features : 768\n",
      "Split ratio : 0.2\n",
      "Validation set : 1\n",
      "\n",
      "Train set size : 560\n",
      "Validation set size : 168\n",
      "Test set size : 163\n",
      "\n",
      "results/ckpt/run_1000/add_protected_atts_0/Foulds/cancer_classification/luad_lusc_PM/lambda_0.01/DF_pos/best_model.ckpt\n",
      "results/preds/run_1000/add_protected_atts_0/Foulds/cancer_classification/luad_lusc_PM/lambda_0.01/DF_pos/best_results.pkl\n"
     ]
    },
    {
     "name": "stderr",
     "output_type": "stream",
     "text": [
      "Global seed set to 194825\n"
     ]
    },
    {
     "name": "stdout",
     "output_type": "stream",
     "text": [
      "[ --------------- GENERAL --------------- ]\n",
      "File name : cancer_classification_luad_lusc_PM.csv\n",
      "Total nb of data : 891\n",
      "Nb of features : 771\n",
      "Split ratio : 0.2\n",
      "Validation set : 1\n",
      "\n",
      "Train set size : 560\n",
      "Validation set size : 168\n",
      "Test set size : 163\n",
      "\n"
     ]
    },
    {
     "name": "stderr",
     "output_type": "stream",
     "text": [
      "/home/gav061/.conda/envs/pdm/lib/python3.11/site-packages/lightning/fabric/plugins/environments/slurm.py:168: PossibleUserWarning: The `srun` command is available on your system but is not used. HINT: If your intention is to run Lightning on SLURM, prepend your python command with `srun` like so: srun python /home/gav061/.conda/envs/pdm/lib/python3.11/site-pac ...\n",
      "  rank_zero_warn(\n",
      "GPU available: False, used: False\n",
      "TPU available: False, using: 0 TPU cores\n",
      "IPU available: False, using: 0 IPUs\n",
      "HPU available: False, using: 0 HPUs\n"
     ]
    },
    {
     "name": "stdout",
     "output_type": "stream",
     "text": [
      "results/ckpt/run_100/add_protected_atts_1/Foulds/cancer_classification/luad_lusc_PM/lambda_0.01/DF_pos/best_model.ckpt\n",
      "results/preds/run_100/add_protected_atts_1/Foulds/cancer_classification/luad_lusc_PM/lambda_0.01/DF_pos/best_results.pkl\n"
     ]
    },
    {
     "name": "stderr",
     "output_type": "stream",
     "text": [
      "Global seed set to 194825\n",
      "/home/gav061/.conda/envs/pdm/lib/python3.11/site-packages/lightning/fabric/plugins/environments/slurm.py:168: PossibleUserWarning: The `srun` command is available on your system but is not used. HINT: If your intention is to run Lightning on SLURM, prepend your python command with `srun` like so: srun python /home/gav061/.conda/envs/pdm/lib/python3.11/site-pac ...\n",
      "  rank_zero_warn(\n",
      "GPU available: False, used: False\n",
      "TPU available: False, using: 0 TPU cores\n",
      "IPU available: False, using: 0 IPUs\n",
      "HPU available: False, using: 0 HPUs\n"
     ]
    },
    {
     "name": "stdout",
     "output_type": "stream",
     "text": [
      "[ --------------- GENERAL --------------- ]\n",
      "File name : cancer_classification_luad_lusc_PM.csv\n",
      "Total nb of data : 891\n",
      "Nb of features : 768\n",
      "Split ratio : 0.2\n",
      "Validation set : 1\n",
      "\n",
      "Train set size : 560\n",
      "Validation set size : 168\n",
      "Test set size : 163\n",
      "\n",
      "results/ckpt/run_100/add_protected_atts_0/Foulds/cancer_classification/luad_lusc_PM/lambda_0.01/DF_pos/best_model.ckpt\n",
      "results/preds/run_100/add_protected_atts_0/Foulds/cancer_classification/luad_lusc_PM/lambda_0.01/DF_pos/best_results.pkl\n"
     ]
    }
   ],
   "source": [
    "def foulds(job_id : int,\n",
    "             ID : int, add_atts : int):\n",
    "    # args\n",
    "    args = argparse.Namespace()\n",
    "    args.model = 'Foulds' \n",
    "    if ID == 100: args.weighting_loss = 0\n",
    "    args.ID = ID\n",
    "    args.add_protected_attributes = add_atts\n",
    "    args.allow_wandb = False\n",
    "    args.job_id = job_id\n",
    "    args = get_args(args = args)\n",
    "    args.fc_latent_size = [20, 20]\n",
    "\n",
    "    # Load the data, the model, wandb and the trainer\n",
    "    seed_everything(args.seed)\n",
    "    data, model, _, _ = init(**vars(args))\n",
    "    \n",
    "    # Extract the path for the best model ckpts\n",
    "    ckpt_path = args.ckpt_path.split('/')[:-1]\n",
    "    ckpt_path = '/'.join(ckpt_path)+'/'+'best_model.ckpt'\n",
    "    print(ckpt_path)\n",
    "    \n",
    "    # Save the predictions for the best model\n",
    "    save_predictions(args, data, model, \n",
    "                     wandb = None, \n",
    "                     manual_ckpt = ckpt_path)\n",
    "\n",
    "for job_id in range(len(COMBS_FOULDS))[2:10]:\n",
    "    # Track\n",
    "    print(COMBS_FOULDS[job_id])\n",
    "    \n",
    "    # Get the references \n",
    "    ref = foulds(job_id, ID = 1000, add_atts = 1)\n",
    "    ref = foulds(job_id, ID = 1000, add_atts = 0)\n",
    "    ref = foulds(job_id, ID = 100, add_atts = 1)\n",
    "    ref = foulds(job_id, ID = 100, add_atts = 0)"
   ]
  },
  {
   "cell_type": "code",
   "execution_count": null,
   "metadata": {},
   "outputs": [],
   "source": []
  }
 ],
 "metadata": {
  "kernelspec": {
   "display_name": "pdm",
   "language": "python",
   "name": "python3"
  },
  "language_info": {
   "codemirror_mode": {
    "name": "ipython",
    "version": 3
   },
   "file_extension": ".py",
   "mimetype": "text/x-python",
   "name": "python",
   "nbconvert_exporter": "python",
   "pygments_lexer": "ipython3",
   "version": "3.11.5"
  }
 },
 "nbformat": 4,
 "nbformat_minor": 2
}
